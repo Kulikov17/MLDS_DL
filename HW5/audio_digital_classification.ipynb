{
  "nbformat": 4,
  "nbformat_minor": 0,
  "metadata": {
    "colab": {
      "provenance": [],
      "gpuType": "T4",
      "authorship_tag": "ABX9TyN8yoIoWm5/JlruiOWTSdtr",
      "include_colab_link": true
    },
    "kernelspec": {
      "name": "python3",
      "display_name": "Python 3"
    },
    "language_info": {
      "name": "python"
    },
    "accelerator": "GPU"
  },
  "cells": [
    {
      "cell_type": "markdown",
      "metadata": {
        "id": "view-in-github",
        "colab_type": "text"
      },
      "source": [
        "<a href=\"https://colab.research.google.com/github/Kulikov17/MLDS_DL/blob/main/HW5/audio_digital_classification.ipynb\" target=\"_parent\"><img src=\"https://colab.research.google.com/assets/colab-badge.svg\" alt=\"Open In Colab\"/></a>"
      ]
    },
    {
      "cell_type": "markdown",
      "source": [
        "Скачаем датасет из kaggle"
      ],
      "metadata": {
        "id": "a2GuJHPJsfb5"
      }
    },
    {
      "cell_type": "code",
      "source": [
        "!mkdir ~/.kaggle\n",
        "!mv kaggle.json ~/.kaggle/\n",
        "!chmod 600 ~/.kaggle/kaggle.json"
      ],
      "metadata": {
        "colab": {
          "base_uri": "https://localhost:8080/"
        },
        "id": "gl5w6sWptWYG",
        "outputId": "ad901934-ca31-4731-a8f3-777738f04b53"
      },
      "execution_count": 2,
      "outputs": [
        {
          "output_type": "stream",
          "name": "stdout",
          "text": [
            "mkdir: cannot create directory ‘/root/.kaggle’: File exists\n"
          ]
        }
      ]
    },
    {
      "cell_type": "code",
      "execution_count": 3,
      "metadata": {
        "id": "y7ek8mwXsAep",
        "colab": {
          "base_uri": "https://localhost:8080/"
        },
        "outputId": "8e07b4f6-ea43-4cc3-fa21-cbb545cf1fde"
      },
      "outputs": [
        {
          "output_type": "stream",
          "name": "stdout",
          "text": [
            "Downloading mlds-asr-competition-on-toloka-labelling.zip to /content\n",
            " 92% 297M/323M [00:02<00:00, 99.5MB/s]\n",
            "100% 323M/323M [00:02<00:00, 119MB/s] \n"
          ]
        }
      ],
      "source": [
        "! kaggle competitions download -c mlds-asr-competition-on-toloka-labelling"
      ]
    },
    {
      "cell_type": "code",
      "source": [
        "# !unzip mlds-asr-competition-on-toloka-labelling.zip"
      ],
      "metadata": {
        "id": "k2gv33PCqe5r"
      },
      "execution_count": null,
      "outputs": []
    },
    {
      "cell_type": "code",
      "source": [
        "import torch\n",
        "import torch.nn.functional as F\n",
        "import torchaudio\n",
        "from torch import nn\n",
        "from torch import optim\n",
        "from torch.utils.data import Dataset, DataLoader\n",
        "\n",
        "import numpy as np\n",
        "import pathlib\n",
        "from tqdm import tqdm\n",
        "from matplotlib import pyplot as plt\n",
        "from IPython import display\n",
        "\n",
        "RANDOM_SEED = 42"
      ],
      "metadata": {
        "id": "IEA6TcEH041s"
      },
      "execution_count": 1,
      "outputs": []
    },
    {
      "cell_type": "code",
      "source": [
        "device = torch.device(\"cuda\" if torch.cuda.is_available() else \"cpu\")\n",
        "print(device)"
      ],
      "metadata": {
        "colab": {
          "base_uri": "https://localhost:8080/"
        },
        "id": "nAeE0fBZAYR1",
        "outputId": "033158da-ad2b-4dcc-dcc9-a0786c7dbb10"
      },
      "execution_count": 2,
      "outputs": [
        {
          "output_type": "stream",
          "name": "stdout",
          "text": [
            "cuda\n"
          ]
        }
      ]
    },
    {
      "cell_type": "markdown",
      "source": [
        "Посмотрим запись из скаченного датасета"
      ],
      "metadata": {
        "id": "X2jlhoJP1zO7"
      }
    },
    {
      "cell_type": "code",
      "source": [
        "wav, sr = torchaudio.load('test/test/file0.mp3', format=\"mp3\")"
      ],
      "metadata": {
        "id": "OdnnR3EW034f"
      },
      "execution_count": 3,
      "outputs": []
    },
    {
      "cell_type": "code",
      "source": [
        "wav"
      ],
      "metadata": {
        "colab": {
          "base_uri": "https://localhost:8080/"
        },
        "id": "0ENL-9ln1rQl",
        "outputId": "cb1ea84d-8847-4cf7-ccf1-e7286e0967d0"
      },
      "execution_count": 8,
      "outputs": [
        {
          "output_type": "execute_result",
          "data": {
            "text/plain": [
              "tensor([[ 0.0001,  0.0002,  0.0002,  ..., -0.0002, -0.0002, -0.0001]])"
            ]
          },
          "metadata": {},
          "execution_count": 8
        }
      ]
    },
    {
      "cell_type": "code",
      "source": [
        "wav.dtype"
      ],
      "metadata": {
        "colab": {
          "base_uri": "https://localhost:8080/"
        },
        "id": "Naczq6n21sM4",
        "outputId": "3cef83bc-3242-450f-ba32-344c4ec959df"
      },
      "execution_count": 9,
      "outputs": [
        {
          "output_type": "execute_result",
          "data": {
            "text/plain": [
              "torch.float32"
            ]
          },
          "metadata": {},
          "execution_count": 9
        }
      ]
    },
    {
      "cell_type": "code",
      "source": [
        "wav.shape"
      ],
      "metadata": {
        "colab": {
          "base_uri": "https://localhost:8080/"
        },
        "id": "3hG89huq1xJX",
        "outputId": "eb63495c-3dcc-4f3b-b307-c52e1dc7d02a"
      },
      "execution_count": 10,
      "outputs": [
        {
          "output_type": "execute_result",
          "data": {
            "text/plain": [
              "torch.Size([1, 34819])"
            ]
          },
          "metadata": {},
          "execution_count": 10
        }
      ]
    },
    {
      "cell_type": "code",
      "source": [
        "sr"
      ],
      "metadata": {
        "colab": {
          "base_uri": "https://localhost:8080/"
        },
        "id": "et5d_Xrm1cqA",
        "outputId": "a7ae2d8f-bbd0-4502-f890-ee1eae070925"
      },
      "execution_count": 36,
      "outputs": [
        {
          "output_type": "execute_result",
          "data": {
            "text/plain": [
              "48000"
            ]
          },
          "metadata": {},
          "execution_count": 36
        }
      ]
    },
    {
      "cell_type": "code",
      "source": [
        "def visualize_audio(wav: torch.Tensor, sr: int = 48000):\n",
        "    # Average all channels\n",
        "    if wav.dim() == 2:\n",
        "        # Any to mono audio convertion\n",
        "        wav = wav.mean(dim=0)\n",
        "\n",
        "    plt.figure(figsize=(20, 5))\n",
        "    plt.plot(wav, alpha=.7, c='green')\n",
        "    plt.grid()\n",
        "    plt.xlabel('Time', size=20)\n",
        "    plt.ylabel('Amplitude', size=20)\n",
        "    plt.show()\n",
        "\n",
        "    display.display(display.Audio(wav, rate=sr))"
      ],
      "metadata": {
        "id": "hK_5ZTKN1dt1"
      },
      "execution_count": 4,
      "outputs": []
    },
    {
      "cell_type": "code",
      "source": [
        "visualize_audio(wav)"
      ],
      "metadata": {
        "colab": {
          "base_uri": "https://localhost:8080/",
          "height": 359
        },
        "id": "Pe3F9GVJ1kkF",
        "outputId": "2b330de5-2d1b-429c-e7d5-96451ef44797"
      },
      "execution_count": 5,
      "outputs": [
        {
          "output_type": "display_data",
          "data": {
            "text/plain": [
              "<Figure size 2000x500 with 1 Axes>"
            ],
            "image/png": "[encoded data removed]"
          },
          "metadata": {}
        },
        {
          "output_type": "display_data",
          "data": {
            "text/plain": [
              "<IPython.lib.display.Audio object>"
            ],
            "text/html": [
              "\n",
              "                <audio  controls=\"controls\" >\n",
              "                    <source src=\"data:audio/wav;base64,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\" type=\"audio/wav\" />\n",
              "                    Your browser does not support the audio element.\n",
              "                </audio>\n",
              "              "
            ]
          },
          "metadata": {}
        }
      ]
    },
    {
      "cell_type": "code",
      "source": [
        "class TolokaDataset(Dataset):\n",
        "    def __init__(self, path_to_data: str):\n",
        "        self.paths = []\n",
        "\n",
        "        for i in range(10):\n",
        "          filenames = pathlib.Path(f'{path_to_data}0{i}')\n",
        "          files = list(filenames.rglob('*.mp3'))\n",
        "          self.paths.extend(files)\n",
        "\n",
        "    def __getitem__(self, index: int):\n",
        "        path_to_wav = self.paths[index].as_posix()\n",
        "\n",
        "        # Load mp3\n",
        "        wav, sr = torchaudio.load(path_to_wav, format=\"mp3\")\n",
        "\n",
        "        label = int(path_to_wav.split('/')[-2])\n",
        "\n",
        "        return wav, sr, label\n",
        "\n",
        "    def __len__(self):\n",
        "        return len(self.paths)"
      ],
      "metadata": {
        "id": "VpZzj7ID0t3W"
      },
      "execution_count": 6,
      "outputs": []
    },
    {
      "cell_type": "code",
      "source": [
        "path_to_dataset = './datasetNumbers/datasetNumbers/'"
      ],
      "metadata": {
        "id": "kRbbKoF370kY"
      },
      "execution_count": 7,
      "outputs": []
    },
    {
      "cell_type": "code",
      "source": [
        "dataset = TolokaDataset(path_to_dataset)"
      ],
      "metadata": {
        "id": "o1n8cKtw7qM_"
      },
      "execution_count": 8,
      "outputs": []
    },
    {
      "cell_type": "code",
      "source": [
        "waveform, sample_rate, label = dataset[0]"
      ],
      "metadata": {
        "id": "43p33fEC8EvY"
      },
      "execution_count": 9,
      "outputs": []
    },
    {
      "cell_type": "code",
      "source": [
        "print(\"Shape of waveform: {}\".format(waveform.size()))\n",
        "print(\"Sample rate of waveform: {}\".format(sample_rate))\n",
        "\n",
        "plt.plot(waveform.t().numpy());"
      ],
      "metadata": {
        "colab": {
          "base_uri": "https://localhost:8080/",
          "height": 466
        },
        "id": "93sVWcJc9OGZ",
        "outputId": "26e16bad-181b-4146-945c-7f2cacdc7dba"
      },
      "execution_count": 10,
      "outputs": [
        {
          "output_type": "stream",
          "name": "stdout",
          "text": [
            "Shape of waveform: torch.Size([1, 78480])\n",
            "Sample rate of waveform: 48000\n"
          ]
        },
        {
          "output_type": "display_data",
          "data": {
            "text/plain": [
              "<Figure size 640x480 with 1 Axes>"
            ],
            "image/png": "[encoded data removed]"
          },
          "metadata": {}
        }
      ]
    },
    {
      "cell_type": "code",
      "source": [
        "labels = sorted(list(set(datapoint[2] for datapoint in dataset)))\n",
        "labels"
      ],
      "metadata": {
        "colab": {
          "base_uri": "https://localhost:8080/"
        },
        "id": "5e_6Slxe9czw",
        "outputId": "f1b60783-4b36-4fc8-9638-396c149bd8b5"
      },
      "execution_count": 11,
      "outputs": [
        {
          "output_type": "execute_result",
          "data": {
            "text/plain": [
              "[0, 1, 2, 3, 4, 5, 6, 7, 8, 9]"
            ]
          },
          "metadata": {},
          "execution_count": 11
        }
      ]
    },
    {
      "cell_type": "markdown",
      "source": [
        "Что касается формы сигнала, мы субдискретизируем звук для более быстрой обработки, не теряя при этом слишком большой мощности классификации.\n",
        "\n",
        "Нам не нужно применять здесь другие преобразования. Однако для некоторых наборов данных обычно приходится уменьшать количество каналов (скажем, со стерео на моно), либо беря среднее значение по измерению канала, либо просто сохраняя только один из каналов. Поскольку данный датасет использует один канал для звука, здесь это не требуется."
      ],
      "metadata": {
        "id": "vTE8hqVk-Y1q"
      }
    },
    {
      "cell_type": "code",
      "source": [
        "new_sample_rate = 8000\n",
        "transform = torchaudio.transforms.Resample(orig_freq=sample_rate, new_freq=new_sample_rate)\n",
        "transformed = transform(waveform)\n",
        "\n",
        "display.Audio(transformed.numpy(), rate=new_sample_rate)"
      ],
      "metadata": {
        "colab": {
          "base_uri": "https://localhost:8080/",
          "height": 75
        },
        "id": "fYjD3nVq94mI",
        "outputId": "58d402aa-d3dd-417b-efd4-9d5f2e519a6d"
      },
      "execution_count": 12,
      "outputs": [
        {
          "output_type": "execute_result",
          "data": {
            "text/plain": [
              "<IPython.lib.display.Audio object>"
            ],
            "text/html": [
              "\n",
              "                <audio  controls=\"controls\" >\n",
              "                    <source src=\"data:audio/wav;base64,UklGRlRmAABXQVZFZm10IBAAAAABAAEAQB8AAIA+AAACABAAZGF0YTBmAADy/xUAUwA1ANP/9/8vAP//YP9//9H/4/9n//r/4v/B//n/PQD7/+j/IACW/5X/rP9Q/xH/I/8a/9H+4f4B/5v+8P6t/kn+lf6a/rP+hf7C/pT+vP5z/qH+H//X/uD+7P5A/wD/bP7m/u3+f/5E/uz+6v7X/jv/O/99/0D/u//v/ysA7P/C/3IAy//P/2kA1//x/5oAtwCWAC0BwAAaAREB/wAdAbIAkQDXADUBZgHjAKsA7wCmAKkApQCsACoA8/9oAGgAHACF/0EA/v+s/wYABQAwAEgA+QBrAPj/YAB4/2b/iP+d/xn/mv8cAIv/rv/p/1z/IQCD/0r/dP9B/6H/S/9W/6j/wf/P/67/UQD+/4r/3P8MAC4AbwCOANEA6QDoACsB8wDAAMUAbAGIASwBkAH7AbIBrAEoASYBKgG6ATwB+gA6AQMB8gCbADQBZQDu/04AlADYAMQAtABnAawAtwCLAC0AMQDy/+j/IwCMAOEAtADLAF4AegD6ACMBlgA5ATQBlABHAIwAqABpAMMAuABFAWgBPwH5ABQBawHWAPgAkAANAPwApgCEABAAQwAlAQEBSAGCAeQBzwH1AL4ALwGLAewAgAGmAUcBygCRAMMAFQH/AEcAhf9xACkA2f92AIIAqABVABEAxf/9/ycA5f8sANP/tv+p/x3/c/9Z/6f///8e/4L/HACt/wAAqv84/7n/QAAGAPP/3P/M/5T/1P+k//X+Hf9I/4//M/+2/uj+Uf+M/k3+R/5S/vX+9f71/vT+zv5I/1P/n/9S/xT/zv/D/wMAYf9e/1f/R/8PALj/sv8WAOf/2P/T/9//rP85ADAAtwBbADcADwD+/0cAzP93/9r/bf/F/9r/av8w/3T/yP7R/h//dv91/7n/yf9C/6L/h/8V/1D/Bf+i/7P/CP88/xf/Lf62/jv+zv1r/oH+A/53/sf+xP57/pX+Xf6y/r3+Gf/j/t3++P62/mH+dP5T/sj+I/96/v/+z/46/nX+3/3i/fP9C/6O/tT+1P74/gT/Hf+D/oD/F/+u/l//Pv8o/2T/2P7z/uX+qP6j/uD+3/5x/3H/P//y/mv+Pv6A/oX+Cv8j/4H/m/9f/9n+zf4m/+X+JP8s/3//YP8W//n+6f6s/iP/Pf8S/8T+4v7U/qL+Fv7I/UH+Fv4n/i/+6P3g/Vf++v3w/UL+YP6Y/gT/2P6R/rH+k/6B/mv+gf5v/nz+Cf+s/if/xP4Z/9/+B/89/2//M/+M/3v/nP9n/1z/lP+I//X/KQDV/xsA/f8BAEcAFwAHAAwAqACYADQAJQAEAOb/vP8gAD8AGgAcAGMAHQAHAOT/LAAWACgAMgAAABkAcwCmAKkAWQBwABcAr//B/zcAtv8AAD0Aw/+r/9f/pv/4/8D/nP+k/2r/vf+Y/3b/n//i//T/yv9PAN//Ov+i/7r/5/85ADUAWgB4AIsA+wDtAKQAsQAJATUB8ABIAY4BMwE5AewA2QDSABgB5AB0AHAAawCJAEkA6wAHAKP/5/8YAHUAVgBDAPIAQACAADcA6P8SAOX/qf/0/zgAgACTAGcAKAA1AMwACAGUAAEBbgD3/+z/KABFACYALQB8AAABJgFBAfIA2QAHAcAAFwGBAFAAIwG6ALQAeQC5AD8BGAFcAXABzAG0AS4BFwFiAYkB6wCkAZQBHwH/AMUA3ADvAJ0ADgBs/2cAEADd/2gAiwB4ADIA5P/F//r/HwALAEoA/v/G/6H/MP+e/2//pP/h/w3/if8LAJP/5f/E/1P/h/8iACcAFADj/9f/mf/R/9f/Jf8Q/yP/Rv8c/7f+0/5P/4D+Uv5Z/nD+z/7K/tL+Df/l/kf/VP9y/0P/Gf+d/5f/CgB+/1P/bP9u/yYA2P/K//3/+f/v//H/+//0/2gAOADVAIkAZwDq//7/gAAPAK7/BAB3/+z/8v9+/2n/j//3/uH+Fv9i/0//ov+z/0b/q/+J/z//YP8S/8f/nP8F/yr/4f4//r3+Rv4N/n/+mv4S/rD+r/7J/r3+3v6A/uz+8P4a/+v+/v4l/5D+MP5P/lj+j/7O/mL++/6R/h/+Qv7l/Qj+zv0E/ob+0f7d/hr/Af8F/7j+uP9B/6H+Mf8g/xH/Vf/+/jz/BP+0/sb+ff6P/l//Lf9N/wD/U/4K/jz+Pv7Z/gL/rP+P/xD/pv5e/qb+s/4L/9/+0f+y/13/BP8T/7H+U/9j/0L/3f7x/vf+ov4G/pz9KP7d/TL+2/2y/bv9Sv7e/eT9Dv5K/m/++f7y/tv+K//p/sj+l/5W/o3+hP4x/5L+I/91/r7+hv6r/gv/jf/8/nn/OP9j/zD/Vv+D/zv/4f+Q/6X/3/+e/5r/2f8nAPL/0/88ACYAof8rAHz/O/8g/7P/BQAWAG8AWAAjAAAAJwBPAGUAIAHRALIAiwDmAL8A7ADDAO0AGgGlAHIAAAGNAHkAggCVABgA9v8wAEEAogBcAGYABwAaAEYA+P8mAHMAGwG6AO0AjQA+ADcALQBmAB0ATgBPAIYAxQDWABgBAgFhASsBJQE3ATEBVQEBAacAFAAHAJH/WACgAEcABwAWACoAvv88/1P/B/9S/8v+ov/G/0f/Q/83//H/nP++/4H/EQA2ACMARQCM/00ASwCEAEIASQATAP7/+f+s/8z+cv69/jf/dP9y/y4A5P/s/xMA3v/S/17/If+DAN//Uf8kAHgACQG2AJUAfQH9ACUBXAHyAHoBPAAYAEAAoACNABcARwAEAQUBoAC9AFkARABJAG8AHQHM/5QAbwDMAMX/lf8IAJf/if/Y/6b/nv9RACsA+ADz/0kAJgAkAP//aABI/33/7/95//f/1/8dANz/WwB7//z/b//B/1f/OAD6/4UAagBuAMkA5f8UACQAkADN/0YANgCPAA4A9AAcAPYApgADAY//pgAfAfEAcgD0AJwA+P96ADwA7P9iAB4A0QD3/zcAawDN/27/QwDc/+z/AABX/+X/lP+M/0sAx/9uAP7/AgDK/5z/Uf+y/+v/e/80/1D/5/8//2H/t/48/hb/mf7T/ov+GP8y/8//af+g/5L+E/+M/mj+jv7//sf+0f7o/q7+fP5l/qf+oP/J/jH/Of4M/zX+qP4Q/lP+s/05/hz+Uf/q/bb/U/7h/ln+aP9C/3L/6/7o/gz/X//t/tr+lf5p/wn/wf8b/+H/KP85//H+Pv+h/qX+/P5A/7r+Of7s/Wv+e/5j/tj9QP4H/4X+zv7W/nn/EP4V/gz+Vf7J/vr+Jv/t/jT/df4Q/4v+xf7k/kv/eP9R/zP/Av8b//L+SP/x/gj/Pv9a/2X+Nv9p/xz/av8G/wAAxP8VAIH/1P8U/+b+l/6N/6X/jv+O/6f/Tv9D/8L+e/8I/+n+SP9L/+D+Pf8x/rD+kf79/lz+v/4Y/8z+k/7l/qr+nv6c/rP+dv4M/7/+rf6N/q3+Cv5F/kT+pP7n/pj/Rf8GAO/+9/5W/0n/n/81AP7/vP+O/8P/AACl/8z/1/8CAND/eQD0AIkAawBEABQAPAAcAPr/NACjALX/WADm/00A0v8xAOv/ywB6AFwAXACGAJX/1v+Q/5cANQBJACEAdABzAHgAugDOAPEAxQC4AO4AIAH8ALcAfADt/+//qv9HAKUAIADs/7r/9//L/2X/gv/P/or/TP8TAKr/jv8v/z3/jf9S/57/Qf+P//z/GQDO/5v/BAAzACkA5P8eAM//wv+n/4n/9/6k/vH+Kf9I/8z/IgDj//L/BgDK/8D/RP8r/zIArf8f//3/ggDsALcAmABUAUUBYwHAAfgAeAEKACEASQCvAGUA8P8WAOcACAHEAMsAiwBJAIUARADKAOj/dgBlAMUApP/B/xsArv+3/6//5v+I/0oA8P+0AMz/NQBwACQA5P9lAIz/0f/w/2z/4f///zcAIQBXAHj/5P9l/7z/Y/8OAMf/pgB/AIwA8QAPABwAAgCTAKj/TQAIAGwA2f8IATIAugCbAPIA3v++AKQABQEmAOEAZQBxAIUAYAAJAE4AcAAXAef/IQCWAPf/hP82ANj/4f8TAIz/JgB0/4P/NADy/8IAOQDz/67/iP8h/3//wv+s/47/sf8TAKb/Uf/C/kr+9v6Q/p7+if7v/kn/uv9L/23/gf4d/7f+V/6A/p3+s/6t/q/+av5v/kr+jv58/wH/N/+r/hj/J/5Q/tH9Gv7f/Vz+WP4t//z9if8Y/p7+Cf43/x3/lv+O/n/+Pv9h/yb/tP6W/lT/OP/U/2X/3/8O/63+nf4G/4L+i/7P/jj/4f6r/jD+nf6K/nH+9v0k/u/+Wf5e/hH/Wv9n/kX+f/5e/hn/D/9e/7D+/P5W/jz/qP4D/9/+Rv+r/33/ef9K/7H/If89AHD/+P/t/6v/J//v////W/9q/wD/4QATALcADwCTAJD/F/+a/rn/AgAfAD0A/f9E/1D/kf59/6z+If+V/4P/pv6G/lf9Qf7w/cj+Gv5g/uf+nf3+/Yn9Ef5r/az9tP3A/U7+Tv6L/a79VP0N/T39hP0J/u/9Z/+5/TT/dP2H/ev9d/7//RT/1v6x/kP+T/4Y/8f9Df42/pH+vP5K/zAAH//t/4z+/P4xAPz/mf/D/wABnf9NAdj/ngHy/5MB1v9mAoL/VQDT/icBT/8NAHX/igGtABEBAwCeABsA9f9rAIMA6QDwAG4AuQDzAHAA9v+9APb/VgBcAAEAJwHB/2gA1/4CAFn/J/9H/2b/4QBDAK0B8P4OAGn/y/+G/h//w//W/8L+If9k//D+7P66/77+xwAV/yoA2P7P/kj+Wv57/tn+v/67/9L/zv/0/+sARADpAWoAWADuANYAaQH6ACgBzwD4AGz/+gDbAFMBrABaAe8B8QCIANkAHQF6AO8A8AEyAekBMgBxAYsAuv+OAJIAZAFaAF0APAAnANL/+wCYAPEAeADq/2wAeQAmAdEAqwD+ANcAWgHXAef/jgBPADkBBgAJAGECIv9gAXv/JgFAAJP/OAB6/jcAm/33/w7+1/8x/vr+PP/r/+7+SgBZAKcA2f69ACP//QCjAF4BXgDa/xsAIgBUAGIAsABjAH0Arf8RArT/GwCZAA8AhP+G/zT/VP9A/7P+Ev7Y/9f94P5J/p/+u/1Y/3/8tf+X/XD/MgBS/pL/of7N/zz+CwC1ACD/fQL2AIkBjQAKAOsARABzAdMAYAEIArj+IAHq/+X/kf6mAEP+U/4A/pT+gv73+7f90vzj/I/6s/1w/bL8w/7u+6sAuP32/or+MwCK/rcAJAEgAVECrgCzACcEEQKKAWQC9gOj/2QCRwGGAXz/+/5H/n8A8PsY/yv8Vv9v+f38Lfyp+kb7xPlg/Lv5Hfw7+177//tE+wn9J/xw/gL+fP9e/28B3P4BAjgA5gBSA8sAbAP0AWYEjAHFBFMBxgO2A/UAQQGtATv/eP8V/zf9aP0W/Fb6Kvog+xj43fjK+P/4DPh++bv5P/va+8f8wv5o/hoBlAD6AvkCmwQdBDwGmQUeBTwHOAbtBkcGXAceBaAGXQPHA9ACqQJxAAj/l//X/KX72fr4+Xb56Peg9833tfjq90b4A/l9+RT6MPqp/En9j/4D/78A/ABZA9MC/QPwBFEEdgZlBoAH4gbSBycGkgYvBfkEuwM+AhEBRwA2ABL98P1C++b6iPll+rT5xfm3+W/5mPoY+pD7LvxC/Qr9IP+s/qIBd/9LAd8AjQJpAuQCggQ2Bc4F+gXCBmkGLAYqBm0FiQVcBMsDWANNAokBDABV/yj/JP6Z/XP+7Pz8/Vz8j/3r+5L9bP2J/WD9Kv4I/2//KQBl/mb/f/+k/xD/kv9FALgAbP9fAOcAYQB4AN4A3/9zAWUAYABCAFf/rf6W/s/+9f5y/m//Zf/E/7X/TAENAGkBkgAAACQBfgBRAQEBFgEFAX0ApP/XAL8AhgErAL0BiQHVAHQAwgDDAHoAJgGXAacBlwHSANcAvQDy/2kB2QCfAW4AwwBaALMAFABIAQoBgAHyACYAXABtAD8BygA7AHsBrQAkAbIBZQDt/9wAmQDs/5T/ZwJP/7wBVP9pAfoAj/8QACP+VgDE/D8Ag/3t/yD+Qf9U/wYAmP5IAEAAmADV/mwAjf+kAIkBUwA5AXH/ggDfAH8AMQE/AIUARAA4ADYCoP9kAJ8ASAAEAEr/GP8CAF7/av8M/j0Ahf2n/4n+CP8B/tr/o/xjALr9T/+oAN79bAAR/t0AEf5fADEB2f7yAgkBhAFeAAMA5wD7/70BsgBMASUCs/4gAQ8AY/81//H/z/6t/QX+Ef6o/qj76f2X/LX97fkA//L8ov23/bL8cgDw/cL+bP5XAGT+5f9NAZwAjwK6/98A3gPCAacAsQKIAyT/HgI1AQEB9/4v/9z9rgAA/MH+f/zX/rv5K/2o/Lz6nvsW+jr8efrd+3v7tvu++4v7+/w2/P/+cf0N/67/+AC8/msB9v/KABYEhgDSA7gCnAQkAo8FLAGABCIEbgAnAswB5v77/kX/tfwa/Z77ffg/+sL4y/bj95r3q/d696j3Vfgn+nf6Cvxd/gH+VAHlAE0EjARNBnsFbQjlByoHGAqcCNcKzAiLC60I5QmtBh4GIQZABaQCOAC1AIL8D/tf+Ij4LvZs9MvyK/QA9IPzcvO284z0evYg93X6f/zz/hUAnQLbAzkHQQg5CWQMyQs3EM4OdBJyD+4S9w5cEPcNmAt0C0cH6QUEAesAZvnt+e70TvNJ8BnyiO9G7+nuXfAG74XxnPHo9Fn2CffK+Vv8ZgCL/qoDBwWTBv0IDAsREI4POBJ/FHkWYxZNFAsX5hNZFHkRwQ0QDbEHugNG/7n+o/eM9Ybx7fK/7sruKu0F8a/tNe998dfxUvPh9Wb3tvpC/Lf8o//6AK4E0gZLCsQKiQ9/EJ0S5xVWFfQWNBVCFQ0XTRLVDzYPLgx5BfICQABX+o/6L/N48ZzwMOyQ6zXsS+o06iXu1u1t7unxf/C881b1jPXX+lj9o/1vA14I0AgyDZMODhLCFDIVeRT4FlwV+ROpE1YQxA8sDlIKOgliBnsBjwDS/Sz7UPnU91X16fP38tbwRvEf8LLt4O5X7R7t1ewR7obtle+p8C/0hPd0/UT+cwZRCd4MRxCnEYAStRTIE+8SIhSLErsQihBiDoQLAAuNBTIHVAPHAMT+uP8b+u73Z/eR9Brzf/B58r/uMu427HLtbOmi6i/rk+wz62Tx5/Ej+YD9qQGrCNkMvQ6YERIX8xSzFi0YtBM5FVUSqA9VD1EMZgn+CPQIIgJbBvn+Uv+r/rr7NPgd9xT2O/IR8/fuNOyq7LzoF+k06FrpbOh864zpPu/a88T13/nsAggE5gn8DYYQ1RJsFHcS6BS/E9oQgRGnEOULkwyWClMJBAnoBuQFVQSp/27/Wfzw+1r2BvZw8ZnwSuuS7JjpMOl56MzoTuf56lXpy+zS73P1JPdt//MBEgnSC6EOjhN+E7QVNRTQFUMU5RKJE34OWQ/wDMUKDAxFCJcF6QMbBW39dPyK+2z0pvSJ8abq6+t06uDjUOd+5lvk8ORs6V7m/Oxw7dXxhvfB+YH99AWSB0MKnw37EOkPKxO5D6EQcxD6DEcOjAwcCSIKawi/Ba4HvQJiAu0CVwD++k/+Y/hR93b3zPIq8//y6e/a8bTyMe/28UD06+9O9gj4A/hx+70AI/4sBMUG/ATNCqgIdQexC2UIJwiZCOcHawTQCVsCXQhFBusEDgQ4CM4AMQWMAdwAyf9DANP7bgDd/Ez8W/tR/Gf4ofrE+JL6I/kJ+of5ev1E+fv8a/1A/rn9UAG5/18A1gCH/pIAOf/l/nn/5AHH/hkC8QB8BYsAiQT5AjoGvAJPBqIHGwYhB3oIAAgYCdwFtAdSBY8FpgM3A7EBU/5c/+z61vsw+T75Z/aZ+uD13fcf9ub4mfXK91v3avht+WD5N/to/d797vyYAPv/6wPNBDwIeAiXDDgMag80EUcRQBM3En4ReRQnED8NBA/eCtoFpgMZAcz6DPyr9C3yAfGl7HnrxOu96THqI+4Z7WjuQ/Hg8ErzO/YD9uH7lv7a/h4E6gheCjIMexBbEC8VAxRnFGsVYBRNFEsR8RCNDvkOagnwCfMF7QI3ADgAPfqp+4D3gvf48wX0HfLU8dHw4+3M78Xt6eyI7DfuJOyu7mjv0/JB9jb8oP1VBZkINg26D0ESrxMSFYoVlRO1FrATNRK8EmcPUw2XDJsHNwhFBWEB7/8/AJz7s/g/+IH0SPRt8f/yj+8Z7wXtTO4U6hLrkex77L/qNPLi8Fj4kfw4//AGJwt6DCsQZxWUE0sVCReGE2QUWRPTD+YQtA1bC0kK2grvAh8IZ/92AJD+Jfxr92b3rPP68Yjwr+3R6d3pWOZa5rrmuedF51zqDOkg7jL0h/XF+uUDUAW1C94OmRGwE9YVTBNyFXgUGRBKEf0PLgtBC2MKnQcyCekF4gUtAxsAhP0E/Uv5c/fB8q3wZu2O6Sfpv+cL5hnm6OX75ILnHuj16eTuG/N49zb+fAMpCecNihAuFWEVuRh2FjgYGhe3FUEV0xG4EEYPZw2CDQcKAwcMBdUFmv0H/RL85vIK8yzwreha6J/ojt9T5BDiDuBI4IvlvuIo6LDrKu/29Xv5ef7RB+EJJw9IEp8XKhdsG1EX2hlJGRMVHBZDFW0OChH1DGQJjgqWBBsCswEM/iD1nvkB8OLt1u3M5yrlcec94CrlEuXF4CLk9uow4hfwY/HW9JX7NAMSA/wN+BL4EdQZihoSF28eZRinGUAXgRf3EIgX8gsTEWwOuQjPBl4LZf3kAUf8Kff09ZvyX+ka8DjmmOXc5Mbjvd5J4kTjF+Sn6b3pJPHL93H6s//ZCAcNahCBFncV0hseGh0WMRz4F8YUyxPdFrcNHhZPCr0T+wZNC9wB1gnk+OwAQfbH9WTuhfAK5RPre9414tjdt9093N7l892s56DtPfGY9T8DgwSNDkQTkhfCHJwckR1iG14fmRYQGt0WOhRCD2ASCg1SCRsKUAf6A0MDSwAp+8D9qfMb9R/vc+vg52PpqeLi4oDjON6o4efhF+Dt7ZDtDfNT/g4HswbEFeQXFRrfHiohcx0BIjEeJRw/Hq4SXxl9EWQRxAp7EPIFOgoI/1cADflC9Cnz3/AD6XjjYOsI3EzfhuH024vcVub/2jDpAetU8F33ZgP8BCwTgBqwHJ4jQickI8QmDyV3ILYfoRlWGnsTVBQvD7oKwglsAuv/bPl589L09+n37m3hXOWY3pLf29in39rRqeCo2aTfxuBN7crqP/omAMUJdBMpGA4jESaYJcEnei9BH2EqbB3yHWAU1RvVDKQOrgb5C1QDdP4z+9P0TPWe4gb0EODo3eng6tw60+nURdYj00fbnNag30/mKurL9NUB3gXjFm4c1SJeKakrmC62KaYuZSUlJZUcaR8vD4MahAoECSMS5/+1/fQB2PIK9ffsxOhw6BLiTNbH5M3PDc+b1vHSScnI3tjX8+Mk6zv0uQIJCn0QvCb2Hkon9TA1KwQq/ys3Jfwk8RjkGSYXGQ6GCT0U2/3YB9v8APn69aDxEelZ7Q7gu90A40TRV9GH2qLNvNTo2tXUwuZu6Tju4gKmCvAJbidaImokYzTuK3solTB6I2giZSCbEsAVtQseBk8I9wL19277VvZU63Ty2ef46dPg1+iy2rTdbN0U2EHYzeTi1THllvCh6vn63QscBswawSA6IMsqnC2iKAAthiN0JjkeIhQpGK8LWwVvCdz4aPgn+jHpyvB57Szhk+iF5BXc6uNc4BzdVd/p4EzjpN+m6drq+PHX9/ICPwa7FoIXSCGrKP4kfS1WKZ4kziIdJsgSih2oDpcOWgkzBn77bgLY8uLxS/WE64bna+/S4RXkJOjl3GnbwOdo2aDhuOUm4x3pyvNX8bgCZAPtDI0WohqhHZUnxCFyJgQnxh/5Hg8dHxhNELYTaAryCjACogUO+oX7WvWc9drvNe8A7aXnAedx56vgeeVr4oTgReNi567hyPKN62n01f0UArcABRZrDygY1hyGHRYgTx1KHCAbXhvmEKMWuQ7rDGUIaAoJBcQC7QH6ABL8N//b+lb25/nD8aLyhe6q697oK+sa5TLm0ubL4IXm4uJU4wvwIO2M8zT+awStBeoTbBRGGXYd/R2fHa0iGRxUHzIfMRY2HOEX7xNiEH4V8QvADCsELwOh+3T1ZvQZ8HPoxuMi56DauN0o3WDadNkW44vYDefb5yDu0PTpAcEDqxETG2cbSCOZKMUhMig6JWYg6iDuGeEacxamE4QS+Q1MCbQJ/gE6+0H6c/db6130suIF5yfg9N/h12/f7s/e3bTYQ9vo37nnrujv9Q/+NQM0EkQUFB/zItIkrCM6LRkhKya4H10dNxjjGrcRLA5gDNgKdwZvACH++/MV+fTlZfSY5ITf6OQG4PfW4tim1hDWsd1Y1yneL+mS50j2eP6pAyoTORuSHkclUCuQKJsovSv5Inshex7IGtAO2Rq3C2kHXxULADv/TQXm9BH2ve+d6ZrncOK+1X3itM76zebV69BpywzeG9pc5ILwXvSbB2YLNRXnJQ4jaSfFMWgqdikoK7Qh9SW+FckYWxY1DKUIcBJW/pkE9fy+9tL1yewR6v/pNNyt3Ivhn80u0RjZHs1o0cLbfdON5gXoKPHgAt8J+w6SKNwjAin8OXgsFzGiMkwogyVlJKITyRfPCegGnwZE/zb4s/ZN9ZbnWfDS5o7oq98i6YDa3NvB3r/UK9jl4YXRQOJt7Unk3/uEBj0ErBzcH6ohJS+LLq0sODJgI8Yrjx8qFPgbigrFBCMLqvUi94X78uWV8DXvcuGT6Wrmc99m5n7fzOSp3eXgn+ee20Pk+uzd6dXwKwce/DwW+h0cHsIt2S+TLZs0hitWJTEsYRcNGdwTaQdnBhwDne+s+vLrguDv8aDgl9xT7k7cF93G6mTaCNcB7eXd4+HR7uHlefJ7+pj+Xg1AE8YcaCptKaQufDgvLGsvsDHhIuwZ6R/8DOQFhQc3/tbsD/if6cXeKuai4a/WeeOM2jbdTN7T25XdquIl5LLkOe1I86j5VPpxEr4MHRqVKfwrpi4iOyY3RjhUM6kuEC0tG5YbpxmlBa4F1/4b8NnvQ+sY2n3ozNak1xbb6dW20bfcv9Lu0vfg8d9d3VbtAO2/+qYAtA2KFKQhlChnMYc0NTYbQGYxIzU+NQ4kfRxII1sPlwiVA+v+7eo677zh1uCz1DrgXMqJ03rUxMiq00TXZMW76zDXK9cm/XHtHvMUHsgFKh4VOe4hfEDvQtIzDk16NccyjDoZH+AhhSNMA14NcwEi8ITyQekO3QHiUtTe2YLMktKH0fbND88gzXHZmdRs2CTok+lT8loNkgvOGSUy0SptPstEvT17TZk82zu+PqklcSRuI4oMRAgDB2rvyvCN5WDaUton0u3JC9ZgwV/NVMsrwUTFmdv3wvrXTOWL3TP2+QAMC4UcpCyCNfNAUEPBUH5LwkaAR+hBhy7pL9ojxhPyDccF8vOI8pTokdWr2wTQmsURzoG+nsVexgO1BMMS0d23BtVg3prR0PqqAjT9OiktLRgt50pcRFRGJVdyOTxJqT0PI9Ut5h8nA2cTaf6a7CPzXeFk28feGsXK1/rIcsOy0WzAJb821D/IdcNq4GPXt+iC99j/Jw70IhUo/zReOixCRUXkN9VBozLUJYsomhu5ChIQ5wEH+mn1Ku7R6Fzf3eCS1sPSOtMWy+jNnMjPwp7aIcQ2zYLqLt9f6RsTkQTgFjU8SSe9OlZLAzs5PrtAwiugKHYdXBBoBrn4Kff76XDh1+Lm1gDXCdnw0EbT7tLx113Sm9MF4DPlFt4V7n/46Ps2CV0XEx7LJ+A1WzePO1M+vkRcMsExqTG3GO4Scw78+e3y9+3W39TcSdkL0TzNkdIhy4XNhMwP0UrSu9Uy4fvlH+nx+vcCHg31FXwrWCxbMjpE1T6aPNRGATwqMpMzniQ5FgYQ0gOh86jyoOOl3R3cb8/pzp/RFcf9xgbP+MnczIXUic4N4MPov+OZ/14GPw3UISYwMi7iQlFEnkNxRE9GxTlvMUEwwx44FX4Or/0s9T/wN91r3XzZxsw90J/P7MoezjDMpc1I0t3UfdZx4cnmGPBo9d4JngyFHV8q5zPyOoJEIUVORnRClTswOSEo9SP1HqENGAMTAorvJeiS6hPVdNzc1JHQE9Ij0FHLm9aXy0rOYN7W2UTZDvA/6Nj6kwTgDHIZCCcfKhA6vjhtOhVH7zVvN5I6VSWOHg0lZg0hCosCEPpp7UXou+Dh3gHRRNury9DMedPrx//Ox9bxxfHnm9dH12T9QO649KIfjAnsH+E8bCS5ReVEHTVbU3I0DjSpPgIdKCPdIyADKw6IAMXva/Qj57nd9t/e1D/YCMn20RbPGsnzzNzIfdR51PfQXedF6ezu9wsBDRsZ0jJfLv4+HkiDQdNNWkKyPc5BhSppJ7wl8xAWC9cHevNH8cLnBtoZ2hTTwcj90iXCZcoCyNPAWMCi10fDMdI34xzcdPJXAZ8GAxv3LDYycz7lRd5Lk0wkRapG/UBML2YtGiWgFgMMDAiz9pH0/unV2WXeQNSayBTTzMLPx6DLQbhyw9bU8rmb0pXfiNF89XIChfqAIqMrUipTRY9CwEZ9Uvw6LkkvO6slzS/9GxIIHhJ5/S7uX/Lx3hvcYdpixgrURcUaxnPNgb13w/nQ/8YtyQ7d9tn47AP2GwX7EbUhny/DN7U7AEhQSEM6ckSONVwmnSgjG3YJQQ3f/5P01/E36Qzhc9q/26bMNc7Nz5PCfstLyBW9M9vHwqfL/+q636LpABjGBCIc+ET8Ky5AkFdRQyhEdk1sMgowIyWdFfQLg/4x993vyuNt327aZ9RI03rPMszgyK/Q0MJQxhfQedQTzLHc9+c18Pr70xN0G00qs0GJP6tMTFNfVy1I4ErSQm4u3CGaGuMG6Pde8RPkBtj219LKz8RqzOi/IMSZwmbCUMR6xpPNWta0zZHlofA49YgFgynXINE5mVMDSk1WV2OPWdxQplOSPbg1oCAZF94D8PRm6wLc68/qzMLBGryAvlm6zrMZvt65tblkvNfMbdFdynXq5vXy9hMVeTLTKKdM6FtOV0xgIW6eYXlReFlHQx0x2SMSGbX/LPU/5q7Wrcw2xCm5ZriitM+vE65VrluzqasQtCTJOrtX0EjpBe3l+vAo9SnwPHhftWDNZ4l0Z3hsYUllNVdtQs0wrSVGC638mPCO2lzPlcktttmzqLPxps2o66hZqfymIK6JwVu+28Ka5Vrz3PLLGOs2czMbVFdrLmjIbf9/hWqAXzdeP0YcMVEnNhLV/WP4xN9O09DPX8HqsZO2C7RvplerxK99qWmn/8NZwVi8ettO7pvwSwlQLHcxTEpgX6Vp8Wp3expw/GN6YP9RCDYPLE4gJgI3+abtstjrzArJp7mwsDuzcaq/on6qNaltoNi1JMZBuZDPFO6i8uT/yyeONFFD/lxJatFotXcldrpha2EEVhY6QyyVJRYHyPvT8gDf69E6z26/tbMsuXqw+KO6qdWooJyBrWK/KrcrwmnjSPOP/voctjRTSftaSWgbbiF763nzZaxfOlz/P/Ip6CMjD7X9MfIh4pnYq9KIxd+59ri4tVyrf6ZPqGOgEqwHuZyyI72a2A3qn/jtECMnFERxV7NgCmlWeLd7aGhqX9tcq0gCLVAlORbRAmf4aOUH2G7YU8uTuHu1bbdusJGm/aV+o5Or4bknuhu+qtPf6w77UgyTIFM7DFLHV7VaqmWvbrdg606VSrM/yivlHmwRMgV3/zfws+DY4h3cwsp0wqnC8sGet5au6KpXs2TBTL0qvF7QqOlc9JID4RTXLl5GKk6rTYxVrWLcW8RGn0JVP6MsNB7cFIMK+ATp/BvrJenx6ZjbUdF6zWfOD8lGvjm1V7knywnL4cAqy/DlD/Gd+AkC8hPPKe000DNkNKFAfkN6NhMrzCkEJ8gfzBf7EaYLmA0eCGX/kfhr94Pvh+Ya4CPb7tKVyUPFWsomzYHM3sgY2Cfms+t29x8BsAxZGhchAyG2JXck/SftIood4hloIJYYkBq0HckVahckGSMRHwqoBmX8g/v373Tlld3f16PY59QQ0fTPp9Qr3IfjmOWs6Bb4+PsbAC/+9wYYC8wEaQ03DrIIfBdvJHsYKCn5MQss4zHKN+ErAiJQJ5gYKQpjAcz5zefM5FneTtgx0RTOz85h01rUltNh1uLa7eCD2zPfL+z44Sjuf/0A+hgClyJmIfwsQkaIRelK/VQ5Vh5DF0UsO40qsxu4Ear8q/Kx7Xra7dIuzuTApcGvwiu39LqHugm8o7p/vSrOCMw0y6TrkPiK8qgYZjP3L5tNhGUEYXJnm3nhZD9ap1qnQuQu5iYqEdL8GvjM3+XT9c+UwRWzvLaetCen8avRr02qUqhvxDDC5rtG3BjvOe98CXEsDTA4SR1fM2hoaR56F2/xY0Zfo1FNNrgrUR+WAlD5auy+2X7MIMh5ugqw+rHgqtuiRKo9qFSinrbAxlO6JdFd7jnzOwEBKJ01/EKnXixqHGkHeBJ48mBMYf1W6ToBK2MlKAdp+zXyPd080wzN0b3Fs8K3GK5/o5yqe6dmnHatdcBVuKnBpONw81v/RByCM9pI9FpDZ3BsaHqveuRlg168XEBBQypcJM4O0/2b8wfiL9dT0w/Fabn+t8e0FautprSneaDVq7u5kLM/vQLZZusl+qYR3idLRdBYa2AfaV14fXtCaDxe+1sESOgrqiOqFKkAO/d641bWSdjRyYa3XLYHuFiwMajGpiSlTa4Muw28isCl1VntNvy+DvAh6zs7U7FY7FtaZ9htHmFAT7lJnT1vKkIc6Q/5AuP7LO6N3zXh79n4yvzCMsODwm645q+UrGSzs8EDv629tc+m6KPzbQTeFOEsrkV8TxdQ5VdGZPJem0slRNA+TS0rHXsQTwbS/on1NeRI4V3g6tNkyKnF2cZTweu3ra5XsrzGwcgivh3JN+ew9qwA6AwzIAk+K00OSrxLv1q9W6lLMzs+NFEqOCKvEW0C8/qP+entqeG03NbXntD6ynXGacAkvTu2ArG+vgrIo8bZyP/e7vEIA2ESdyCTM9VIy1LOUHdT+VT4UFBE8DYOJrUbghVmCLH2GfHd6nviNdr4zqjGRscMx9LA97iMuOy6tcVZzWTRmtON6GP8yAnwE8cjdzcmSDhQoUwUT5pRiE67PaIvhSJbG0wS+ANG9mHxvO1o5nbd+9XO0d3Nlsn+xqjBIr05u+vDr9Al2ITZo+M995ULIhuHI6Mw+0KzTyRRH07qSx1K9UPsN3AmkhjOD08IoPuB8cXprOPy3hPZ+M+EyrjJ5cpOw5O+WbocxfPSe9y821jk6/daCzsbUSLfK8o7ZEqJS5JIjkWBP+k5FjIIImMUUg7ICJr9e/Rd7QTmJuNn4F3WKMyeyfjI08XUv9e4cL+Uz5HZ49+45Qj1SAvmHvQmzDCtPFpIs03ySeBEzkCsNtounyQQGPgLiQf4//L3tvD+6SHkKd/32X/QGcuJzW3LvsInvAjEAdTn3lvkCeiR9eQLOyFtKIUufjZdQWpIYEdCPWA4TDEuKJweqhRdCoEDBQBa90/yi+qr5mLhJt0l00TOYtCuznDFD8JpyGDU3twp5KLppfZDBkAa7iMtLDQ1AD5cQ7tDR0AWOhoz2yr3IZIZUQ+/BJD/e/mC8/3p5ONP3zja8M+cyq3Krcuyy7jGZ8Wp00fhgutY8pD5KwXVGAgoijCjOGk7Kj5/QXQ/fTrKMIkitRtUFL0NPANk+vXwxe3S6dzlA9+N1fzOSssszwjQqclzw7HFENab5DPruu3S9MwDvRkHKgUumjKFOoNBiUTJQZA4Fi27I9gcfRZBDF4A1vVG74jto+rt5Izd/NWj0YfQvNKR04vOuMf9x/DW/+Tb7FTvMvNtAR0XUyi1LKMw2DXOPspCCUF2N44uCCLQGl8TWwviAiX6qfCw65LrnOcp4nPagdWx0tzVAtXw0JXNUsr+0Ybe0+bH647x6vmXB7UXECHpJhkroC6XMEUvoC0tKDAc3xJJDw4JzgLP/V348/Y0+Ib3BPV98TjuSefj5VHnWOb34fbbnto141nth/HE8DPzLfpvBnoPghQWFswVoBT3EoMVUBXLDGYCOALVA2UF0wR6A9QDzgllDVUMpgluBhICZf4f/AH15e6m6UDkQ+Qd6mjsxeq56kPrj/HH+y0AQADU/Y79lf4MA9kDmABx+SX+dAQzCDsKjA6EFGobth91HQUfOh0uGH0NUwaKAX79a/bh6vzkAenH7LDr4edH5VPnw+ym7unvWe0/6Q3osewa9GX3Y/M89JX+/wqjFJsY7B4ZKqMyUDPBMfUvsiykJjIeHRFQCMgBbfq272Lr1Ofb5VjjeuAX2z7Z4tpb3tjZotVD0Z7YVOTi6oPpUO7R/IQMuBmgHrAl7jNpQNhAuj06PHQ31zA9Kf0aIA8NCtEEFvnJ8QXsOeV44gvhwdYNzabKx8rjxurAhbrxwFnQk9ub4cfmQ/VyCxwf3iYzMAs7ZUbcS/dInkNEP5s12y2+JLMYPQxJCNcAlPmd8gjs/+X04LLbbNIQzWHONc1ixO69BcTE01TeleS25/XzXAlLH0klhCwGNT8/wEZ0Rog8nTczMY0p3B7iFOMKaQUvAb73YfLk69rnU+LZ3bXT2c9i0dDOisYsw8DIGNRB3Xjj9Ogk9nwGxRoSI3wrljWuPjJE90SLPyI5rTMeK40hCBj/DLICif6/9yLwqea/4Rve89kEzx7KuctpzvfN9Mj9x17WXOTy7WP00vu/BmwZvyjNMJ83eDqZPbZA6j2vOVIvvyGWGw0VYQ4QA/f6+fGJ7+PrVuZ731TW+c7By4PPRc/DyK/BE8QD1Y3jBOnd63fziAM1GUYp7y3uMsQ6r0INRnpCpzmVLrgl4R5uFysNgAE19ovv2u1u6m/kXdwD1r/QZs8R0Q/TZ82Fx13HttVr5B3smO5D84MBpxXPJi4sYzFMNQo+V0LiQG04nS+HIhYbqRO+DBIDY/q68Ojr2Oo05urfb9du0bfOqNDuz1nM78jgxYnOytth5T7sJPLq+v8LDCBDKp0y6TetPF1BIUC6PDI2BioZH7gV4gzMBKX7fvBr6fXm6ebc4mrYg9KszsDPxtGC0nrOS8rVzKnZAufx8Cv0CfmvBegYxiiXMvo3wzmMPQ8+qjycOUwvjiDpFdEOsAinALj1kuue52bmkOT73W7WeNEB0fbUYdRV0JTLPMtZ17njE+xO8OT3kgBsEpUkhi6UNR85CjtkPGA8CzgsMY0irxZCDh0I2ABf+Bfut+cz5RHkz+Ly2jzVHNAe0ifViNUf0WPK/c/l3vDrZ/Ng+Pv9DQqIHSwsojeKORs67DhRObE5rDSlJygY6AxuB9AGsgBz9SLsdej+50jqJOhF39zXcNSo1r7Y3tht0GnNKtes4vfvR/e0/aADShP9IgEz4TpfOxw5HjabOBs0SCvZG3UPHwcgAhIAefhP8tzrpOrV6b7qo+Z1347Yodbh1xHXbtIxzk3WcN7e7KH2ggG0CN0VYSRVMoA9Zz+MPZY3VjXIL+Yquh3NETMFiv4L+0f4s/Wj76zs++fX6LfjpN3w1k7UmdPr0tvPY868193itO/E+X4DxQvMGTcoTjUMPlxASj5ZOfY1eDG+KSscCw5mAxn9tPsF+HLzUO2m6RzpW+uW53veqNY10pvQGtClzFrIfM2D2c/okPSx/ckGPhO9JKgyBz9UQX8/+DmaNjUyhymYHu4P2gVN/sr7CPj88yzwP+u46UbpHubz3WfXqdFkzxLOvsrsx3bPjds06974HwKOC0wYnynENkhBe0KhPns3uTJBLr4kaxqtDDICQfxz+oX5M/ff9Hfw6+2o7GHpwd+51gTRrc1vy+jHa8XKzurcLOy1+ogEuQ0wG9QsuTrhQ/VBVjvvMn4sFik2IRcVCQfo/QH7V/3p/Yf6f/Xq8EHwb++A6w3hD9VlzLbJIcnUxnfGYc6f24vrZfz0CTwUjyAKLTM5hUO3Q5I8wTGNKJwhqRymEngG2f1l+vv7Uf3M+/b48/Wr8SPtj+e73abSa8rrxuvDkcECxB7RsN/y8SoBDg5aGEElVTHoOeo/jTxbMy4n/R81GvERmwgZ/pH5H/vGAQYFSgNdAbf9/Pte+CTzpOla3UHTac5mzV3KW85q2YLj2PIfAcALCxFIG50iQyc9KgAmhR3PEVsKrgbqA3P/Y/nU+JP7PQUeC4AN5g1VDLcKlgZ+ACX42Owl4rrdvtv31yja2OCW6BX0+P0SBm0JBA5hE5sWexjrE/cKpP+v+xP73fvs+pX39/gH/WIIEhCzFIoVFxS5Ey0QiQuxA7/7TfFu6hHn2+S55+zrVfB29r37TAB2AwkEFwRPAkECMf6F+IPwlujY6Wjv1/OZ93H6Pv+ACM4UbR2BI68jlSCtHMYYBBVnD2UEk/ko8gvw9/QG93710PSl9v35uv0A/9/4O/OQ79rtcuwJ6YbgI9wu4i/q5fSQ+msAqQZTEzkgkizYMfovTywqKJ0onSOTGgINIQLy+yL6Zvt99hvzKe7/7YXuJfDu65jk0N3g2mza5Ngo1QbQwdd037rsrfawAcEJ6RZGJmI04D91QnRB9jupOWozVi5vILITSwc3/xL74/dH9Mnt+ekI5vnlmuDR2ijUXtJ40bPQ8M0RzMPVHOHI7RL5SgJ6DCsaZymSNgk/PEKfP+Q6mjZ/Mtoq7BxrDtQDzvzI+vH3bPNw7a3op+gN62Ln1d6e1oHSbdAFz6DL+se3zffYrOcq84b8cQYbE3skRDLMPQdBiD9pOQ428DBPKD8eKxD/BRX+Jful9yP1AvLk7AzrNupe53Hfuth+0pHPyM14yo/HPs4t2rTpO/ejAM8KcxfbJw41pT9UQnE+CTiFMhAuGyWmGwMOEAMd/Tn7Afvv91L1sPC37ZDsZeni3y/WYNAvzZvLt8dmxb7O+9uc6/b6WAWGDeIa7StlOsxDGkJyOzcyLiyrKZQiHRaYBwf+2von/Uj+rvqq9JPvI+9o7r7qB+CA0x3LjciryLjGWMbgzUrb0uvq/EkKYRRqIC0t5TmbQ3pDEzwuMRQp4yInHfsSuAZO/jD7H/02/s/7I/gE9Uvxmu3057jdz9Fjyh7HD8WNwuLE/dGi4NDyeAFdDqYYFiZCMzY8cELePnI2yyrYI00e2BTECsH/V/sE+y0APAJ5/uf6Dfbz8ivu7eeL3CDPhsXQwVPCgL8nxr7UU+NZ9yoIIBbVH6UuUzhoPjdB8Tu9Mx8nCh1BFL0MUgTB+5D56/l2/sv/pf+4/Ov4WvVn7nHki9gjzWDEaMKBwni/jsfA193oJv0RDjMb3yOqMGc7NUEBQ/s6BTBjIv4aUBKrCxIED/1d+i77CgDe/3//3/p09eTwz+g632nSOMkGwuK/7b/GwNrNdd8C8ysHchY0Io4rdTdRP7lBZj+nNdkplByDE34NpAebAFz94Px9/t0CWgM6AXH+2viw7yHmr9qbzFfFAcC9vt++HcPr08Xoc/6lEDMfhinbMpI8YUB+QMY5+i42I/wVig6RCYcFegDc/dn+DAMWCsoKBwd+AMX26OxW4mfXVsp4wU+7pLknvOTCfddb7SQCAhMsIPMqfzOWPB0+RjwYNDAoQxvaD20LgwTjASn/yf9oAkMGbwryCPcFsf1l9Rjq/96P0j/EV7zut5e4DruSxbbbH/PjCvUabCdfL245I0CLQT1A9DKHJQIXkw74CDgFCAN1ALQD7wZsDOMNPQtlBn79zPTg5+rawsxfwHu57rb3uPy7acyC44T4GA6aHSIpLzHQOWQ+YD6cORcuHiGZFYEQKws1BwYGGQRQBrYLORHBEFYLnQKT9irtIuKO1OfF3bnqsrixtrXWvbPUSO2EA/kWhCV+MN42nD9eQLg9pjazKE0bwg9kCvEG5gQeBdoF2AkIDigSoA/fCHD+vfJm5w3ZVcx0vUq0q7Hrsy+6VMYr30f5NxEvI3AvsDYYO8tBNz9KO/YvxSHwFJoMkAv3BwkIdQcqCKQLlw/VEoMNiQVM+Ozqzd3/0M3FV7rmtNmyObecva/OxesOBeoasinLMDgzmTexPMQ5mTRYKJ4ZBQ7yB7MJswlxCuUJFApEDaoR9BLADFsBuvME5yDbj84pw1K4U7KDsjC4G8Er1VTxDwgCHMMo0S1LMdI1XDg/NREwkiTSF/QNtQcwCWkKtQxSDZMMjg20DyoPKQme//ny5eZ+2y7QAchBv1i6RbwfwYLJj93V9b8JxRpzJK4o7CiDK1csbClQJB8Zsg0wBFcARAEVAoEEUwY+CVwMaRDNEDULUgaH/Wv0luvx4b/YrtCezmfPcNJQ2HLmL/l2CYEYPB+tIIofIiATH9YakBRxCQH+q/TJ8dXyavMS+BX9jAFMCG4P/xJlEREPqgo7BDD+Xvbd7NPkwOF04BDireR37oj7rQd8Ei0W1xbNE10SWhCUC5QEnfiR7jXm6+Mb5aXm+O5396oAlgqzEXwWIBeOGSkZYRVBDw4G5Pur8ovvZe+q7l7uR/R6/XkGnA/0EdIPuA1GCrkD0fy983znJeAj2nTY1diX25znffW4A9kPvBk5IMokHyl5KOslKx8QFo4MfgJZ/d36FPkX9275e//OBqEO1A/kC6cFM/5p9rDtyuPL15bNBMcwxT3Hyc3x3/rymgRwE5Ee4ichLwU3QjgXNqstliJ3Fo0LNQeRAY7/Jv1Q/t4A2QQICegGUAOq+iDzTeh23CLQu8IkvOm4q7lHvZrIxd5M9vMMDR4qK3AyNzuUQOFBNj9IMjYkKhUdDa0G0QLtANn+dQKjBTQL2Q0jDM4GlP5y9dXnNtvnzDfAhbmat4G5Lb2OzTLkEfowEA8gJStpMq46qz/OPno4pyt6HrcSoQ3LCMUEUwRzAgYFXQsVER0RawyuAwv4f+1k4eTTDsXauNmy0LFTtkW+HtUd7vYEMRkTKCQz2zibQVNC2D9xN5koXBtWD8UJCwbbBOAE9ATuCFsNbRFuD+oI6v4g8wjnO9nwy0C93bOYsFuzyLnhxYPfjvlEEUEklTCNNzM7nUF7P847wS/AIB0UVgt8CqQHjQhMB6sHawvjDzkUlA+QBw35gesx3kLRLcbvudCzebFDtlm9C81k6vwDsBnDKAowAzPBNlk7iTmENMYnWBmFDfgGRAliCV8KRgrZCq8NnRJBFMYNBAO09Bzos9tQzwLDT7d/seGxN7jqwIbUp/DQBwwclihpLngxETY2OFg0Ly8XI1YWdgzTBhsISQmYC3oMswwtDoQQGBEfCgwA9PFZ5EfYucs8wry4QrPAtDS7VsR12qb1rAvCHWoory2lLosyJDQ/Mbos8SGUFu8Nugo4DEkO5RBiEI8R3REtE5oQvQex/QTvpeCq03zHsb0Stvu1Nbn2vjDJO97Z+M8P3SI7LL8thy1iL4kv7y1/KdseLhQFC6AIdgvYDrISkBIbENsPhxF9D/wGhfsN7EzdI9HSxz+/5bj+t8O6NMHayhLid/sIEEcgUSjCKdspwCzNLBIruSZnHYEUjQxPC04OfhF9FHET6RDbD3UOuQmt/171OegG29jO5sOpuzq4fbqVwG3HmtB85GH8ZhBgISYppSnSKOEplSmDJw4lUh6DFngQ1A7oEKcTqBWGE7gQgg5uDf8ItgD19UXof9uB0RjLB8dUw2jCvsOMyHPR0OS4/MwPHh4LIjchViH2JFEoMypzKU8hCxmGEvkQjhMcFpMXRBOaDowLiglXBKn8C/Of5Dfaf9FVygnFS8NpxArI+syp1gLr2v9jEQgg9SIPIigijiR2JTMn7SaXH0YYVRHQDXUQShZHF8ITsw2XB2EFHgPh/Ln0e+fG2yrTtcuAyCLJNMspznzQ4NYd6Lv8OQ+THuwhvR/mHZUe/yBlJG8mUSIwHLMUtRE7E14XIRphFjQRrgveBpwB0/u681no+N2F1QbOIcp2yb/JLc3Y0QPYsuYp+doIchZjHE0c9xyvHiUhiyR6Jv4jAx/DGJwUDhQaF60Y9xMBDmoHIwLI/wv8OPXm7C7jQNrp0n/P+M/C0PrSi9U418ffNPD8/o0MxxXNFiIXDhnMHLQh2SYtJ3EjWB3oFrcUuxY8F0kU1w1YBkYAdP00+vT0qu6Y5iDfb9k/1T3VIdXg1aTXH9i/21LpbPjiBRcSQxWEFQQYbRsnIcIolizWKewigBpUFDcTcBSlEQwL/wKB++v35fYx9rzxWevV5UbfYNtV3N3bOtrg2drXxtaB4fPwY/4YDEcSHxIEFBIZhCCGKdswbC8uJ0odZRU0FFQTUhFxC/4CxPyJ+Xr3w/Ze9P3uzOjh48/eJt1G3R7bxNkF2LDVNNmH5rvz5wE9DSEROhM7Fgsb1R9tJoUotyNOHDsVxBDUDmYOwQvPBicCrv7S/Vn+Bv6++zf3I/PA7UDqKuoG6T/n++WN4ufgxOYT8M/44gGJBtwGEwevCLALUxHcFWoVKhC6DCMLygu5DsAPAA2eCZsHDgavBgoIsgbYAhj/sPsS+Fr2B/UO8grvSewk6jXqGe7T8Vr1TPjJ+Aj44ves+A78iQEBBNkD3weZC1AOsRGlE3wSXBCrEK0PLQ9qD50M9QjrBCsCwQDh/1r/Ovxy+G/1OvKX7TXrIewH7DfsNeu957TkSuU/6B7uzfPE94UAqgqQEXwXFRoRGeoXexhdFx8WZRVxEm0OzQoWCUgJhggHCGsFUgES/u/8zvhR8sTtMujm4kngvd7I3CDbmtvV3Pfg/Of19PoE/hDRGMkafRlMGZ0chR/jIAwhSBvnFBAQnQ8sEfwRUxJaDpgJSgZBBLv+M/eo7x/ka9z41X7Q48uzyRPKq83w0ZHabu0pAJsPlx0bIWogniG2JBYm5Sf1JwohzBneEl4PPBFSFkoXzRNVDaMH8wQeAnP8h/QR6Cvda9RNzJTJLcqRy6jO5NBS1uvmePqPDAMcnyBvH/gdKx+OIesk2ifSI1kdeBYbE5ATTxeTGaQV2Q+SCtQFQwC/+v7ysee43bfVC85nyoDJC8r1zUnSJNhZ5u74ZwhAFp8cHh2kHYofAiKjJN4mkyTqHpgYrhS4ExQXKRldFNcN+gaWAQn/q/s+9eDsCuN12svS0M6vzxnQRNIV1f7Whd9A8Ez/IA07Fm4X8BeLGWodNyKtJmgn5iMyHSMXthW3F1UYLBXhDZwGzwDS/bH64vTx7SHmON6c2KTUgNTf1NTVG9cW2BPcnemk+OMFJhL0FKwV5hdBG08h1ydyK5Ao/SArGcET2hIOFBkR1goKA/H77/iT9+/21/I67IHmUuAn3O7ckNxm2hHaOdjF1qrhK/Fj/uQL9hHTEQ8UEhnIIJopfjDDLismCBz6E1MSKhFhD4YJaAEm+/f3bPb99dbzje926jzmt+ED4Ovfpt2k3Lba3tfa2iLojfRfAhsONhK9FM4Y2B6vJOIsri+lKngiUxmSEU4NIwxaBxUBHfyz9oD1QfaS9sn1pfJG7wLpvOQR5Nrhj98e3ZnY6tWt3BnqCvgxB/8QAxXOGFIe3yRXLa4z/zEFKL4cbhFtCt4HewWqAOf7iveA9C/2FvnO+sb5rvco85ft5uno5RHhKt2/2GrTmdTY3zPsZvsFCukRKRcDHWojAyuJMtIzaS28IxQXtAtRBWkC3P4D+xz4VfX49bX50vzQ/mv93vnq88ftnOlA5OHe4dkd06jNX9N54PjvzgH5Dn0VGxsaIe0mRi99NPcxkikYHmAQlQbWAZX9E/pE9/X0xPQv+Ov8y//uAMX+7fn78YHrAOfe35HaltU5zz/NFNfW5Vf2dQkaFd4aVCLMKNktFTO6M0ctFSJEFSoIzf6z+uj3hfW99Mv0Dfcd/KcAhwPfA0MBfPqX8QPrTeT83HDWD9CQyubMctrW6Uz7Cw3VFlod5SRsK1IwajQ7MowonBzdD1QF0f11+i34ZPWf9dD44fybAREGagfuBF4ACPhK7v3nAOC11iTRD8wXyqjRteDI76EB3BFjGyMjbipwLh8xkDICLTIjSheVCyYCZfuz+Kv3YPig+mH9mgIcB7MJ+AiGBAb+O/VK7NDjT9td0hbMrMjeydHS6uH28MYCURL8GpIiKynDK1stti3lJ70e3RS/CBf/evod+HP4WfwKARAEKwfaCK8IFQdOBAf/JPV/6+HgY9aFzwrND82Lz47YU+Ui8zYF9RTsHiEnVCt2K0UriSlaJAkdTBN/CNz+bfl1+Fv5l/zOAF0FAglWCj0K7gZsAkr73fHA6XPh3Njz0d/NNMxvzQPVveJH86sEuhJIHPchqiRiJk8n4CajI4gcTRIJCJj+CPn8+Jn7bf/3A2YHfQn1CegHOwUiAvn7WvN46rffe9TEzSvMPM2L0ePZMeWN8pkCuBCmGuMhRSXYJZck0iOYIDAb4BI7CawBBP3l/HH/gQPMB9gKbQw7DBwKUAe8As/7h/NK6Rbg4ddI0tDOQc0Dz/PTU9577S3+AQ1GF0wdMiBOIYciQCMpIt4d+BXSDKkEe//X/egAzgT5B2UK8gqpCRQH6QPWABH9VfbO7ZDlyNwd1iTTGtIH0+DWDd756AD2wAEvC1UTBBmEHFcgxiK8IfcenBrWFEYQPg3HCmoJRwmICZgJ9wnwCOgGHASYAK37gPba8Cfr9ORl3xvbLNjC14TZN92t5MntqvX4/VEHKQ6TFJAazh3MHmYewRy1GucY3hV+ERQOlAsgCV0IVQifBuwDCwF+/RD7w/gu9cPwYusi5s7gfd3z2zfba9w44HjkIunh8jr+rggiEysaCx37HvUguCGOI0sjOR8RGVcSbAvpBs4E8AL4AMb+V/xy+iv6v/mQ+Iv2nvLz7XDnl+IT4I/cg9tD3Mvcs98O6sL2OAM0EdgZ1B2/IlwmqiggKzUqDyTyGmQRhwfcACD+M/wI+vH4h/iN+YT8f/53/4X+U/sM9QTtP+f04UHch9fN0zzQXtMW4DruKv6QDv4Xux02JPcpGi6gMcYvAyexG0APEQWm/SH6WPgs9oz2zvnC/V4CnwbuB4AFzACn+Avvc+iz4HPXytGpzPnK89Gm4P3vQgGwEI4aZSJYKXEtWzBLMe8rMCKXFhwL9AFi+8H4xPdb+MT6X/11AlcHnAm+CH4EYf519bHsteQC3CvTZM3VyejKytOA4iTxgQLbEZMaXiJ4KBcraix2LEQnBR5bFEkIof4Y+gn4yfi+/BICXwUvCPcJnwmJB8IEpv9b9drrZ+G+1vTPWs2ozVPQOtkR5sfzdwXaFMQeayaWKmMqnCnMJ3siBBsYEvIHXP7S+OH35vic/H8BRwZiCpkLDQuKB1EDMPxj8njqYeJ42Y7Sp84AzW3OzNUe40jzmwSyElIc4iE2JEUlDyavJW8iwxs9EggIev7u+L74RftH/wEEeQefCdcJnAcKBTsCQPzc88LqKOAK1QPO/8vvzDHRPtng5HjyaQKDENkabCJMJg4nyiUJJSchLRucEqMIIQEx/AP85v30AVkGnAmXC7QLCApOB1MDl/xS9JTqguEJ2cTSD88MzW3OrNPl3RLtnv3ODM0XOB5tIUQiHSPiI24i4B2EFZ4LdgId/Lz5ufxvAd0FSwm/CggKNAhFBaYCyv56947tyOPi2RHSWc6gzTHP79P53Inq3/rFCvQWpB8QJKMlWya8Ji4kNx/EF04OnQWI/x/9YP6RAfAFzQjnCj0LhAr4CGQFIgBk+JXuNeVq3LfUHtAjzhXPItOX2/7oU/lxCE0VtR3eIRckDyUOJQQjSx7RFgYOuAUW/8f75/zJAUYGwQl6DDMNBgxICZgFEgDZ+PXuEuSZ2krTRs4szVTOmNLT2kvo5/hICZ8YliIkJ8gosifQJbQjVCCkGmsSkAmtAjP/Sf+9AvwGKQrSC/YLggrQBm8CePwZ89zpfuGY2X3TK9CazmPQQtW43mnuUf/2D2cd0iP/JbomYybrJLYjfh8uGBMQpweZAUEAwAJFBqQKlw2sDf0MDAtMCKcD5vzU8i3oPd+w11nSvs7dzTTQOdaG4AnvZQD0D30b0iJyJg8mKCYeJgUkZSDKGuQSTwo7BcQC3QL3BhwKAAp6CbsHpQNk/0r6bvGH6PvgS9mI02/PdM52zwTUIt1n6zD7jgoiFz0f8CJXJMUk1SOHI74hARz/FSMOJAdrBtMEygfHCpgM/wnBCVAGqAC4/bP3Ue4K58/fFdgY1PLSndIC1vLcLeb186ABgw5hF/McKyCIIWohvyA/HzUbNBaFEN0J4wXHBNcEgAbuBwQIAQYeA/T+WPr48zLrLePM23bVXNDtzdvN3NDR19DhvPAIAFQNwBdRHbEgeSKfIQMiHyGqHSQYTBJ7CmAF4gS0BWIJ8QskDLEK5gZcAg79i/ia8fTpm+G82ZnTw8+MztHQuNf84JDt3/v9B9cRKhlbHdkfPCF0IJYfMx1KGGMSaAz6BowE3APxBPYHYAiIBzgFMQEj/KT2jPAX6gLkV91O1/jS7NDX0SbWe98F69j47AW1DxEXLhsGHbke4R/8H6EeDRr8EzgNUQd/BKMDyQT8BtgHIwedBKQBSf1m+PHyb+xa5uTgLtxb1+/UJdXo2NTgReze+JUElg4PFlAZ6BsUHnYfYSCdHqsaIBTgDRAJhgb4BRsHYwi5B38GagSdAIn8TviL8p/sn+ck47Dfh91I3PrcS+DA5nLwgfrcAtgIgQt+DEAOFQ99EGoSYhPZEvgQVw4qDKMLKQwiDYoOXg3+CkUHdAJ//Y34UvM37zfs0ukK6Dfn/Obv6K7sHPJh+Hf9hwDbAWcAOv8o/13/1gAFArAD8gVvCGIKyAxsD20RnhIIE0kS7Q9ODF4HLAJY/DH26PEb7wHvCfCG8bTzuvab+Rv9EgGGAkcCsf9L+/r23vN18QTxyvHP8ob1hPrGAcUJ1hFEF+wZHBrIFxkVLxKQDnEKBQSI/dD3AvRH8z71mPhk/IEA1gOzBl4HQQYTAwb96fYL8bLrUOet5Efj7+Nc5hrsgfZhAqMOZBhKHUce7x1pHBsaXhg+FHgOVggNAe/7ZPoQ/Jf/xATKCCELUQw/CyoJAgXZ/mP2d+265Wbfitr31srVutcD3fnl2PIdAqYPsRn/H/YiWyLtIWwhdh8IHDMXRBDaB2wDjAE5ApoGXAq4ChcKNAiHBMYAr/sG8yXqqeKi2lLU7c/WzobP1dNU3EnqC/rICd8Wah+hI1slHCZ1Jc8kiCLDHEUWLA6eB60G8gSKB7kKsgwJCgoJDgUN/9r7r/UK7PLkrd2z1WXRRdAD0PPTUttw5VP0zgJIELwZlR/uInwkDCQyI58hGx3FF3sRpwqKBkMFwAUrB1cIRwjxBTIDJ//n+qX0GOzf46LcM9ZK0enO0M7b0bHYz+Ig8XQAtA3PF38dhyBCIkchfiGeIBUdABhQEtgK8gWRBUwGpgk4DGEMsQq5BnsCg/35+Jfxwunu4E3ZzNNP0BnPb9Hp18LgVe1j+04HwxGAGcYd6h9EIWUgax/6HDYYqhLdDEoHvgQjBDgF7QczCGcH+gTRABT85vby8FTqEuSH3YvXUNNU0QrSD9YR33rqTPhZBQMPOxZ4GmQcTx63H9YfQR6/GbATKA13B2sExAMaBUcHDAhDB6IEdgEQ/UH42PJA7Afm8OBs3OvXgNVf1f3Y1eAt7L/4KwT6DV4VtRhyG6Ed3x4CIKEedRovFLEN1whoBqkFega9B3AHiAaRBBUBBP3E+BXyQus15YzfU9vG2FPXk9g93LHjue+H/G0HSBDQFP8WtRnaGpkbbRzqGlAXtRHUC4AHowVCBjsHgwirB64FwgIU/4D7/vZh8FvqCeXl3/3bxtlA2VTcjOGL6p31ZwAzCUMPtRGfE3AWSBhTGtMaOhmSFasQRQuQB88GNQf5BwkIggbqAtj/n/x7+RD1oO9y6i/l0uBw3kvdot4r40LpDvJ2/K0EZQteD0YRdhJ+FOEVthcRGOwVIxNeDxEMYAolCgQKsAm0B+0DG/+H+nn2afOa76vriObf4Uzfi95G4MHk8OsA9Dr+wQZjDHAPGRA6EBIQJxH+EWoTchMHEmMPaA3ZC/8LhwyhDFsLywehAqr8/PYg8pPtPetZ6ZbmxePT4sniAubg7Mj1LwCMCZUPfxJpEvYP0g1ZDfkMWQ4nD+wOxw4ODnUNyA2NDi8OGQ1MCVkDOvyv9ZHvdup65jzkg+Jm4XbhuuLB5j/urvdlAqcMCBSRFpMVLBKrDngMwAs8DKwMCwy6CrIKJQytDYYPhhAmD6YLzQWn/p/25O6d6LHjNeAr387fKeHb48nowfCn+lIG4BDfF6EbFhsOFwITsQ9NDesLZAtVChQJbAjeCPgKzQ0rDxwPRgupBFj8xPJe6nzkbd9b3NLactl22/PghukN9ZcCCQ/dGJYeCx9wHa4ZAxUsERANeQnbBCsCPQCZAPYC6Ab7Ch8NhAxuCQwDNft381HrAeVs30naDNd21jTapuGx7P36ogkpFd8cKiHVINceMxuPFv0RYwwZB8EC2v8T/tn/2wLQBrAK3gwVDPYIkQPI+4/zAewl5QXfltrw19DXC9v84dvttvpOBxoS6xjsHOEdHByYGcwV5BBtCykGagLt/wkAfAHzA34GZQitCHwHKgX0/1X6rfPW7J7mYeG43QTctNyz4IjnUPBN+sgDAA3oE2gXPhlUGWAXgBTSELULiAeNBJoChwJQAyQFUweIB70GFgU9As3+8/m89Ibvlup65sLjYOLi4jvmQesG8iv6SgK7CfoO7RF4E/8TRxM0EcwODwwyCUIGoQRKBBcEiARaBesE7QLzACr9Z/lH9SPy/++H7m7tQO2f7cfuAfGr9CH55P1JAiwGJAmuCh8MZgwRDK0LnQv1CiIK0gijB5YFdgPqAfn/Ef7/+5v5cvbJ8yHxAO8v7tPvlPGW88j1TvcO+Ln5lvyd/9MDlwcUCuoKnwqBCRAJjAnXCaEKlwqMCVoH0gSiAoQA6f2D+w35UfY+893wO+8l7r7u7e8V8/z2a/qG/YH/9wBdAqcEBgdKCT8LjwvICwoLSgoTCssJ0AmYCQoI2gXCAlr/nvxV+gv4vfV+8k/v8ezZ6xPsCu688fb14PutAFMDPAWaBQgGegYZCBQK9QvsDNsM/gtJC3wK+gqOCwQMUwt8CEoEU//W+vT2HvMT8dDve+0z6wvqOOlg60vwvvbp/gsGwgrWDAINYQtECjkKagooDAYNFQ1wDesMcgwFDQcOtA2lDPYIoAM6/Uf3IPEd7DDo++VU5NLivuIG5Pnn2O7t91QCfwyYE5cVnRR2EREOXAzlC3QM4AwnDB8L+ArvC4YNTw80ENkOnQulBU7+gfbI7nvo9OOo4NvfWOCZ4WHkPuks8Sj7owbtEM0XZhvnGgwXGhOtD+8N9wzbDKwLNwo8CVwJ9wr3DCoOpg1vCYwC+fnN8Ofo2uOZ3xHdKdw022ndxOK46jv21gPWD08Zwx7bHt4cvRhAFPAQNg18CgIGTQOFAQ4BvAL5BYwJfQuXCiQH5wAJ+bjxIep35N/fottM2cHYW9y443/uT/wfCgkVQRwUII0fZx3iGZYVjRGpDG0HIwPXAFz/8QDHA1IH4AqCDPQKLwe9AR361PLN61vldd8v21rYC9i625zire6K+6sHexIJGQsdAx6SHB4aaBbFERwMmAZFAqz/X//XAHkD7AUDCD4IIQcbBTAA+/qG9N/toucf4hHeydtF3Brgzeay79b5ZAOrDHgTSxdeGcQZGxgWFTkRhgwPCNQEyAKpAlgD/QQYB2AHyQYFBeEBZP6++bX0eO+n6nbm4+OD4g3jcuZ+603yf/rYAiAKdQ9gEtgTUxRREzsREA8YDBUJZwaUBIMEDgXvBTAHLQcMBp8EEAFY/fT4D/WR8XDuk+vm6droC+m86jHu2vIw+CT90gF2Bl4JRQzLDYAOyA0xDRIM2QrNCd0IJwcRBoEFgwUZBRoE4gIEAEb9DPoO9tDyXvGB78ft3+we7DTsV+3s71PzPviJ/TcCAwVPB4cICgonC5ILUgwdDLQLPwr2B8gGrAWtBIoE8gPdAoMBz/+//R378vgy9j/0J/Ij8Y/wgPCp8Hrx7POs9rn5gf0PARUEwQbdCBsKLwpgChwKTQmmCOYHcwbBBI0DaQPeArsCegJeAfj/4P6x/Lr6kfif9vD0JvP58qPyFvPk9OX2V/mh+1r/zgIzBUQHTAj6CJ4IKQmbCSAJ/QdoBx0GSAVQBJoEPAVPBZkEjAPrAeL/C/7f+2D6d/gF9wT2fPVR9Wz2yfcQ+ov8yf5FAD8CAgSHBRMGUwYjBmsG2wWcBZQFAQWoBKUE6wPPAwYE2AN/AwsDjAEd/7T9Nvzv+qv5yPi591z3c/cA+bv6tfyT/ikAqQG/ArkD6AQfBckFggbcBtYGRgbgBQcGPgYTBp8GqQYfBmsFxAQqA38BVwAQ/1j9n/tu+vv4evjk+Lj5uPqC+139Ff5H/0UAswF1AjsDHgRXBGUEHgX5BBoFAwXtBCcF2ARTBf8EmwRAAyAClwFHAM/+qv29/Nv7oPrz+df5KfoD+g37lfuA/Nv8Dv7x/gsAvwBoAcsCgAPmA/ADWAO7AqkCNwNrA1QDhQJAAhUC+AAIALX/5v77/RT9tfuz+uH5t/nG+Vn63Pp1++X7rfwY/WH94f7MABQC4QIbA/UChwJnAu8BCgLKAqoC2gJjAjgCPwKpARcBYwDF//H+3/0r/fL7AftR+oP5y/mE+lL7HvyX/C/9J/5s/9wAuQEfAv4CMwNGAwkDYQLEAXoBlQFSAW8B5QD/AHwBQQEcAJf/k/5t/Tf8OvsI+4/6S/rZ+uj6Hfuc+6n8xvyY/cL+FwB9ANoAaQFiAfsAFQHmAO4A9ACnAGwAYwD5AMUABQGSALIA5f/M/uP9w/wy/Az8zvvG+8j7dfyP/K38Ev04/mf/OQAbAQsBbAFUAdYAhwD2/9n/Sv8A/6T+rP6h/nr+Sv/Q/wIAqAAqAboBlAHjAJoATgAsAGkAAQBCAEwAZwBnAA8BpwHdAeUBgQF+AaQAAQCO/4H+q/0V/Wf82PsV+736OPuj+z/8Dv0v/qj/7wBfAekBywFyAhEDTQOTA2EDZwMHA64CRgL0AfAB0AG8AVgBNgFOAB3/BP7p/Ar8EftQ+i76cPlR+SP5e/nc+uT7Sf3q/p0A/wE7Az4EXwQ0BEsEXgT+A6kDegPvAloCIgIaAl0BjwGSAR0BggDW/4n+uvx6+136Jvn498n3hfeh9134tfk2+/z8g//eAUEDkwQrBZEFogUkBh8G/gVnBcsEJgTPAzcDbgMVBJYE/QPNAoUBAQCf/sv8PPuX+X74jvcK99v2qPfh+Or6Of0c/yoA7wFBA3kE8QRLBWIFlwUnBQYFAgVfBEkEawQvBAkERwQKBKMDAgM3ATr/vv1K/DD7rfng+Ov3Xfdh9/z45/oQ/eT+UQCoAa0CxwPhBDEF0wVnBp0GkQYlBqcF3wU+BhAGnwa/BhkGBAWbBOUCQAEkAO3+Vv2l+3r69vh4+Nz4wvnA+oL7XP0K/j//JQCEAS4C+QK/Aw0EYQQdBcIE9QQABeMEcgU4BVcFJAWCBGQDWgKcARwA4v73/dr8xPuY+vf5xfkN+vD58fpn+4T8P/1e/lP/IAD4AGAB1wJlA/UD2QM5A+kC3wJDA4kDWwNSAgsC/QG2AAcAp//C/sr92Pyc+576tPm3+dP5NvrI+nr7p/uT/Pj8iP39/gABUALQAi0DHAOeAnMCGwJBAt8CrwINA2YCKgJMArABTwFtANH/KP/r/QP9zfvW+h76mvmm+W76FPvh+5P8+/wH/k7/7QDcAQYCGANYA1sDQgOPAvUBhAGkAS4BIAHcABMBVwELARAAb/93/m79h/xS+//6hvpa+rr6ofqm+pb72vzS/Kb90P4oALcAFQFOAXoBRwEaAfAADAH3AHAAZQB5AA8B3AAIAZAA0wDj/5v+5f2n/JD7bvtO+1P7YvvB+y38cvyx/Jz9xv7T/5MAkwDyAEkBVwFsAXIB9wGpAa8BCQJVAkUCvQE+AjoCgAGNATsBoQAgAN7+6f1H/T/9Kf0N/Yn9mv0P/tn+w/9uAJUA6wDlAF4B6AAaAYwBcgHtARcCQQKqASYBZwE5AkkCvgFxAUsBEAHNAKH/3f4Y/lz+Qv7r/TP+H/5A/ob+P/84/2b/QgBLAKIAVwAQAbMAZgDWADQAzwD7ACgB2QFDAWYBIAFkAbwBiAE5AcQAcAA7AEj/vv7S/Wn9H/33/MX8ev3P/df9V/5p/0b/Pv9Y/83/LgD6AAsBsgCmAOkAHAGkAMEAmgDwAOMAyADXAJgAXABdAFYA1P8B/4f+XP70/Xr9af39/FP9zP0L/r3+Qf8h/23/4f/9//L/VABkAGAAXwDw/+7+W/+T/3n/r/9SABQBnwGZAdABIgE/AIz/tP98/2P+hv1i/W38o/zw/G79R/5c/1cA9gB6AcIBoQFiAVABdwHeAOIAJAHYAHwALwHNADsB/QHuAsQCbQJ6AlgB8wB7AFz+j/3E/Zb9Tv0f/TT9GP4A//v/iwCNAJEATwHCAdABqgEyAewAXQCq/73/C/8l/zsABgGvAXECswJqAj0C5QEHASkAlP9V/pP9aP0x/V/8LvzD/Gz9X/43//n/JgFNAUMBiwE9AQQB7AA4AEr/BP+A/wYApwAeASwBsQEuAnUCwAJtAhMCRwGRAIz/f/64/sD+IP59/hv/QP+n/wwAfgBAAesBlgH6AVMC3QFmAbcAgQCQALEAUAAIARkBagF4Ad8B3QEjAdcAygAMAHP/Kf/w/gH/kP1f/Rb9V/0K/Uf9vv30/k3/eP+L/y3/WP+1/rf+Bf4R/oX9mP29/Qj+Ef6t/hf/GP/b/xQANQAl/37+WP77/d/9//0x/hz+Yf5w/in+8v0b/vf+AP85/7n/Qf+r/xf/4f5m/2f/V/9Q//f+3v5f/4f/c/9b/4P/zv4v/w3/n/4C/yL/O/4x/ib+pP6s/tP+Wv8g/xD/AP/o/vX+Pf9a/zv/OP+D/0b/ef5H/s792v3T/jT/Uf9R/1X/lP++/0//L/8//0z/Lv+8/qH+dv6r/mX+qf6S/sL+If/B/9f/DADw/9D/+//E/8b/gv+Z/5T/6v5F/8z+7f5x/iL/Qv/k/nX/2P8LANb/hf8o/+n+Ev+v/nf+D/8c/7T/8P8bAEQAMQB7AD0BjAF3AVwBJgHBABYAeP86/+b+bP+J/+z/8f/j/97//f8IAPX/GAAUAEMA5P8G/0j/J/8H/zz/EP96/+H/9v+MAJkAqwCkANkAywCeAAYAof+J/zv/jf5u/if+jP6o/lL+Zf6f/if/GP/z/j3/7v7q/sP+NP9b/5P/2f/I/1MAbwBmAKgAzQC4AOQA8ACpAJ0ATgAFANr/7f/I/wj/1f7Q/m/+TP4j/g/+H/5F/nL+2v4C/x7/I/+C/2T/Qv9e/7X/5//2/5D/B/+L/8P/o/8GAGUA3ABPAR8BNAGNAMD/gv/m/77/6P4f/hL+Qf03/ZH98v2R/kP/2P99ACEBSAFTASkBHAHnAHAAoAAKAfIAhQAZAdsAUQH7AdgCsAKFAqoCXQEBAXoAj/7t/Qr+nv1I/UD9OP0n/r7+rv+bAIMAigCIAaoBrQGaAVcB8QBsAG3/d/83/zn/dwA0AaMBSgLNAnsCTALoAREBSgB4/wf+T/0q/RH9a/xu/OD8ev1w/j//9f/tAAwBcgGJATIBFwHwAAcAJ/85/1P/1v9/AOgALwHKAVICsALhAnsC3wFbAZgAkf9y/p7+jv4m/ob+Iv9H/4P//P+ZAFwB4QGTAQ8CnQLhAUkBdAAhAG0AfwArAM4AxwAsAaEB1QHpAVcB2gCbABoAg/8a/9z+8/6V/Tn9Ev2V/RX9Yf32/QD/dv+Z/6//mP9F/67+7/5h/mf+v/14/Z/95/0J/pj+Bf8V/8b/2/8QAGv/nP5z/ij+9v0S/ir+JP5m/kz+/P3n/Tv+Cf8r/2z/tf9d/6//+v70/mf/OP9x/y//KP/7/mP/i/+D/0b/Wv/h/lD/4/6L/rD+Kv8//g3+SP7d/q/+/P4///T++/7a/r/+9P4k/3D/UP85/2L/Ov+Y/kj+z/3w/c/+Rv9W/1j/Y//p//r/Rv8x/2P/Rf8i/7T+p/50/nz+QP5f/kv+tP4L/2//Zf8IAL7/oP/2/3f/nP8W/3L/pv/q/pb/af9R/7r+Xf99/xT/zv8MAF0Avv9J/7f+cf5W/uf92P1X/lX+wP4H/zj/k/+5//L/wQDmAPgAGQGcAEEAeP8k/2H/I//V/zMAuwDPANMA2wDMAK0AYQCKAAAA/v9Q/2T+R/4X/vz92v0Q/kf+rf7e/pL/2f/f/zEAUwAzALb/y/6o/ov+Uf5T/lX+lf5G/7X/3/8pAPr/fgBYAJv/R//d/rX+i/6n/or+7P0t/kr+1P7s/hf/gv/d/+z/5f8bALb/1f+K/wD/8f4S/5L/Q/+t/uj+v/7R/vj+7P5V/5L/Pv9e/zj/tP7G/tT+Wf4F/vX9pP3+/R/+F/4t/o/+Ov+3/7n/7v8JACwA3/++/8n/uf/U/9T/Xv9N/xb/Q/9x/yT/Zf+H/4H/k/9V/2v/RP9n/j/+4f1O/XP9Df7w/eD9Jf5a/tv+lP57/8b/+v9lACcAkwCyAA8A5f+8/3H/Uf9D/7b/TgAeAE4AKgAuAEEA7P/z/6L/Tf8r/4L+Kf7u/Vz9Dv4P/uT9Xv5H/9T/FwABAdMA9QD6AFQBJwGSAF0A5v/Y/wYACQAyAMUABQEzAYYBtQG9AT0BigHNAGEAIgC6/3n/YP+b/s3+L/+t//D/DwCyAFsBYQGpAZ8BpQDW/wsADgA=\" type=\"audio/wav\" />\n",
              "                    Your browser does not support the audio element.\n",
              "                </audio>\n",
              "              "
            ]
          },
          "metadata": {},
          "execution_count": 12
        }
      ]
    },
    {
      "cell_type": "markdown",
      "source": [
        "Мы кодируем каждое слово, используя его индекс в списке меток."
      ],
      "metadata": {
        "id": "RzuDpWMa_V6W"
      }
    },
    {
      "cell_type": "code",
      "source": [
        "def label_to_index(digit):\n",
        "    # Return the position of the word in labels\n",
        "    return torch.tensor(labels.index(digit))\n",
        "\n",
        "\n",
        "def index_to_label(index):\n",
        "    # Return the word corresponding to the index in labels\n",
        "    # This is the inverse of label_to_index\n",
        "    return labels[index]\n",
        "\n",
        "\n",
        "digit_start = 3\n",
        "index = label_to_index(digit_start)\n",
        "digit_recovered = index_to_label(index)\n",
        "\n",
        "print(digit_start, \"-->\", index, \"-->\", digit_recovered)"
      ],
      "metadata": {
        "colab": {
          "base_uri": "https://localhost:8080/"
        },
        "id": "8GF_pGUf-7YU",
        "outputId": "598556d5-7b58-4140-e03c-01d40414e062"
      },
      "execution_count": 13,
      "outputs": [
        {
          "output_type": "stream",
          "name": "stdout",
          "text": [
            "3 --> tensor(3) --> 3\n"
          ]
        }
      ]
    },
    {
      "cell_type": "code",
      "source": [
        "from sklearn.model_selection import train_test_split\n",
        "\n",
        "train_dataset, validation_dataset = train_test_split(dataset, test_size=0.2, random_state=RANDOM_SEED)"
      ],
      "metadata": {
        "id": "ao0TGtQg7pAx"
      },
      "execution_count": 14,
      "outputs": []
    },
    {
      "cell_type": "code",
      "source": [
        "def pad_sequence(batch):\n",
        "    # Make all tensor in a batch the same length by padding with zeros\n",
        "    batch = [item.t() for item in batch]\n",
        "    batch = torch.nn.utils.rnn.pad_sequence(batch, batch_first=True, padding_value=0.)\n",
        "    return batch.permute(0, 2, 1)\n",
        "\n",
        "\n",
        "def collate_fn(batch):\n",
        "\n",
        "    # A data tuple has the form:\n",
        "    # waveform, sample_rate, label\n",
        "\n",
        "    tensors, targets = [], []\n",
        "\n",
        "    # Gather in lists, and encode labels as indices\n",
        "    for waveform, _, label in batch:\n",
        "        tensors += [waveform]\n",
        "        targets += [label_to_index(label)]\n",
        "\n",
        "    # Group the list of tensors into a batched tensor\n",
        "    tensors = pad_sequence(tensors)\n",
        "    targets = torch.stack(targets)\n",
        "\n",
        "    return tensors, targets\n",
        "\n",
        "\n",
        "batch_size = 256\n",
        "\n",
        "if device == \"cuda\":\n",
        "    num_workers = 1\n",
        "    pin_memory = True\n",
        "else:\n",
        "    num_workers = 0\n",
        "    pin_memory = False\n",
        "\n",
        "train_loader = torch.utils.data.DataLoader(\n",
        "    train_dataset,\n",
        "    batch_size=batch_size,\n",
        "    shuffle=True,\n",
        "    collate_fn=collate_fn,\n",
        "    num_workers=num_workers,\n",
        "    pin_memory=pin_memory,\n",
        ")\n",
        "test_loader = torch.utils.data.DataLoader(\n",
        "    validation_dataset,\n",
        "    batch_size=batch_size,\n",
        "    shuffle=False,\n",
        "    drop_last=False,\n",
        "    collate_fn=collate_fn,\n",
        "    num_workers=num_workers,\n",
        "    pin_memory=pin_memory,\n",
        ")"
      ],
      "metadata": {
        "id": "Acqy17t2_eMW"
      },
      "execution_count": 15,
      "outputs": []
    },
    {
      "cell_type": "code",
      "source": [
        "def count_parameters(model):\n",
        "    return sum(p.numel() for p in model.parameters() if p.requires_grad)"
      ],
      "metadata": {
        "id": "cDIBzMgCmBx8"
      },
      "execution_count": 16,
      "outputs": []
    },
    {
      "cell_type": "markdown",
      "source": [
        "При выполнении ДЗ, хочу сравнить две модели M5, M11, M18.\n",
        "\n",
        "Подробнее см. источники:\n",
        "\n",
        "1. https://arxiv.org/pdf/1610.00087.pdf\n",
        "2. https://jovian.com/gtaljaard/assignment-4-speech-command-recognition-with-m3-m5-m11-m18-cnn-networks\n",
        "3. https://pytorch.org/tutorials/intermediate/speech_command_classification_with_torchaudio_tutorial.html"
      ],
      "metadata": {
        "id": "-4LwzYCanfnA"
      }
    },
    {
      "cell_type": "code",
      "source": [
        "class M5(nn.Module):\n",
        "    def __init__(self, n_input=1, n_output=35, stride=4, n_channel=32):\n",
        "        super().__init__()\n",
        "        self.conv1 = nn.Conv1d(n_input, n_channel, kernel_size=80, stride=stride)\n",
        "        self.bn1 = nn.BatchNorm1d(n_channel)\n",
        "        self.pool1 = nn.MaxPool1d(4)\n",
        "        self.conv2 = nn.Conv1d(n_channel, n_channel, kernel_size=3)\n",
        "        self.bn2 = nn.BatchNorm1d(n_channel)\n",
        "        self.pool2 = nn.MaxPool1d(4)\n",
        "        self.conv3 = nn.Conv1d(n_channel, 2 * n_channel, kernel_size=3)\n",
        "        self.bn3 = nn.BatchNorm1d(2 * n_channel)\n",
        "        self.pool3 = nn.MaxPool1d(4)\n",
        "        self.conv4 = nn.Conv1d(2 * n_channel, 2 * n_channel, kernel_size=3)\n",
        "        self.bn4 = nn.BatchNorm1d(2 * n_channel)\n",
        "        self.pool4 = nn.MaxPool1d(4)\n",
        "        self.fc1 = nn.Linear(2 * n_channel, n_output)\n",
        "\n",
        "    def forward(self, x):\n",
        "        x = self.conv1(x)\n",
        "        x = F.relu(self.bn1(x))\n",
        "        x = self.pool1(x)\n",
        "        x = self.conv2(x)\n",
        "        x = F.relu(self.bn2(x))\n",
        "        x = self.pool2(x)\n",
        "        x = self.conv3(x)\n",
        "        x = F.relu(self.bn3(x))\n",
        "        x = self.pool3(x)\n",
        "        x = self.conv4(x)\n",
        "        x = F.relu(self.bn4(x))\n",
        "        x = self.pool4(x)\n",
        "        x = F.avg_pool1d(x, x.shape[-1])\n",
        "        x = x.permute(0, 2, 1)\n",
        "        x = self.fc1(x)\n",
        "        return F.log_softmax(x, dim=2)\n",
        "\n",
        "\n",
        "model_m5 = M5(n_input=transformed.shape[0], n_output=len(labels))\n",
        "model_m5.to(device)\n",
        "\n",
        "print(model_m5)\n",
        "print(\"Number of parameters: %s\" % count_parameters(model_m5))"
      ],
      "metadata": {
        "colab": {
          "base_uri": "https://localhost:8080/"
        },
        "id": "2gvICqKmdfIm",
        "outputId": "925aa9b5-f25e-42d9-f00d-453f8f28150f"
      },
      "execution_count": 33,
      "outputs": [
        {
          "output_type": "stream",
          "name": "stdout",
          "text": [
            "M5(\n",
            "  (conv1): Conv1d(1, 32, kernel_size=(80,), stride=(4,))\n",
            "  (bn1): BatchNorm1d(32, eps=1e-05, momentum=0.1, affine=True, track_running_stats=True)\n",
            "  (pool1): MaxPool1d(kernel_size=4, stride=4, padding=0, dilation=1, ceil_mode=False)\n",
            "  (conv2): Conv1d(32, 32, kernel_size=(3,), stride=(1,))\n",
            "  (bn2): BatchNorm1d(32, eps=1e-05, momentum=0.1, affine=True, track_running_stats=True)\n",
            "  (pool2): MaxPool1d(kernel_size=4, stride=4, padding=0, dilation=1, ceil_mode=False)\n",
            "  (conv3): Conv1d(32, 64, kernel_size=(3,), stride=(1,))\n",
            "  (bn3): BatchNorm1d(64, eps=1e-05, momentum=0.1, affine=True, track_running_stats=True)\n",
            "  (pool3): MaxPool1d(kernel_size=4, stride=4, padding=0, dilation=1, ceil_mode=False)\n",
            "  (conv4): Conv1d(64, 64, kernel_size=(3,), stride=(1,))\n",
            "  (bn4): BatchNorm1d(64, eps=1e-05, momentum=0.1, affine=True, track_running_stats=True)\n",
            "  (pool4): MaxPool1d(kernel_size=4, stride=4, padding=0, dilation=1, ceil_mode=False)\n",
            "  (fc1): Linear(in_features=64, out_features=10, bias=True)\n",
            ")\n",
            "Number of parameters: 25290\n"
          ]
        }
      ]
    },
    {
      "cell_type": "code",
      "source": [
        "class M11(nn.Module):\n",
        "    def __init__(self, n_input=1, n_output=35, stride=4, n_channel=64):\n",
        "        super().__init__()\n",
        "        self.conv1 = nn.Conv1d(n_input, n_channel, kernel_size=80, stride=stride)\n",
        "        self.bn1 = nn.BatchNorm1d(n_channel)\n",
        "        self.pool1 = nn.MaxPool1d(4)\n",
        "\n",
        "        self.conv2 = nn.Conv1d(n_channel, n_channel, kernel_size=3,padding=1)\n",
        "        self.bn2 = nn.BatchNorm1d(n_channel)\n",
        "        self.conv3 = nn.Conv1d(n_channel, n_channel, kernel_size=3,padding=1)\n",
        "        self.bn3 = nn.BatchNorm1d(n_channel)\n",
        "        self.pool2 = nn.MaxPool1d(4)\n",
        "\n",
        "        self.conv4 = nn.Conv1d(n_channel, 2 * n_channel, kernel_size=3,padding=1)\n",
        "        self.bn4 = nn.BatchNorm1d(2 * n_channel)\n",
        "        self.conv5 = nn.Conv1d(2 * n_channel, 2 * n_channel, kernel_size=3,padding=1)\n",
        "        self.bn5 = nn.BatchNorm1d(2 * n_channel)\n",
        "        self.pool3 = nn.MaxPool1d(4)\n",
        "\n",
        "        self.conv6 = nn.Conv1d(2 * n_channel, 4 * n_channel, kernel_size=3,padding=1)\n",
        "        self.bn6 = nn.BatchNorm1d(4 * n_channel)\n",
        "        self.conv7 = nn.Conv1d(4 * n_channel, 4 * n_channel, kernel_size=3,padding=1)\n",
        "        self.bn7 = nn.BatchNorm1d(4 * n_channel)\n",
        "        self.conv8 = nn.Conv1d(4 * n_channel, 4 * n_channel, kernel_size=3,padding=1)\n",
        "        self.bn8 = nn.BatchNorm1d(4 * n_channel)\n",
        "        self.pool4 = nn.MaxPool1d(4)\n",
        "\n",
        "        self.conv9 = nn.Conv1d(4 * n_channel, 8 * n_channel, kernel_size=3,padding=1)\n",
        "        self.bn9 = nn.BatchNorm1d(8 * n_channel)\n",
        "        self.conv10 = nn.Conv1d(8 * n_channel, 8 * n_channel, kernel_size=3,padding=1)\n",
        "        self.bn10 = nn.BatchNorm1d(8 * n_channel)\n",
        "\n",
        "        self.fc1 = nn.Linear(8 * n_channel, n_output)\n",
        "\n",
        "    def forward(self, x):\n",
        "        x = self.conv1(x)\n",
        "        x = F.relu(self.bn1(x))\n",
        "        x = self.pool1(x)\n",
        "\n",
        "        x = self.conv2(x)\n",
        "        x = F.relu(self.bn2(x))\n",
        "        x = self.conv3(x)\n",
        "        x = F.relu(self.bn3(x))\n",
        "        x = self.pool2(x)\n",
        "\n",
        "        x = self.conv4(x)\n",
        "        x = F.relu(self.bn4(x))\n",
        "        x = self.conv5(x)\n",
        "        x = F.relu(self.bn5(x))\n",
        "        x = self.pool3(x)\n",
        "\n",
        "        x = self.conv6(x)\n",
        "        x = F.relu(self.bn6(x))\n",
        "        x = self.conv7(x)\n",
        "        x = F.relu(self.bn7(x))\n",
        "        x = self.conv8(x)\n",
        "        x = F.relu(self.bn8(x))\n",
        "        x = self.pool4(x)\n",
        "\n",
        "        x = self.conv9(x)\n",
        "        x = F.relu(self.bn9(x))\n",
        "        x = self.conv10(x)\n",
        "        x = F.relu(self.bn10(x))\n",
        "\n",
        "        x = F.avg_pool1d(x, x.shape[-1])\n",
        "        x = x.permute(0, 2, 1)\n",
        "        x = self.fc1(x)\n",
        "        return F.log_softmax(x, dim=2)\n",
        "\n",
        "\n",
        "model_m11 = M11(n_input=transformed.shape[0], n_output=len(labels))\n",
        "model_m11.to(device)\n",
        "\n",
        "print(model_m11)\n",
        "print(\"Number of parameters: %s\" % count_parameters(model_m11))"
      ],
      "metadata": {
        "colab": {
          "base_uri": "https://localhost:8080/"
        },
        "id": "1ShWtCETaQmn",
        "outputId": "7cf5fa83-2d3a-4806-bad7-3834c5492f08"
      },
      "execution_count": 81,
      "outputs": [
        {
          "output_type": "stream",
          "name": "stdout",
          "text": [
            "M11(\n",
            "  (conv1): Conv1d(1, 64, kernel_size=(80,), stride=(4,))\n",
            "  (bn1): BatchNorm1d(64, eps=1e-05, momentum=0.1, affine=True, track_running_stats=True)\n",
            "  (pool1): MaxPool1d(kernel_size=4, stride=4, padding=0, dilation=1, ceil_mode=False)\n",
            "  (conv2): Conv1d(64, 64, kernel_size=(3,), stride=(1,), padding=(1,))\n",
            "  (bn2): BatchNorm1d(64, eps=1e-05, momentum=0.1, affine=True, track_running_stats=True)\n",
            "  (conv3): Conv1d(64, 64, kernel_size=(3,), stride=(1,), padding=(1,))\n",
            "  (bn3): BatchNorm1d(64, eps=1e-05, momentum=0.1, affine=True, track_running_stats=True)\n",
            "  (pool2): MaxPool1d(kernel_size=4, stride=4, padding=0, dilation=1, ceil_mode=False)\n",
            "  (conv4): Conv1d(64, 128, kernel_size=(3,), stride=(1,), padding=(1,))\n",
            "  (bn4): BatchNorm1d(128, eps=1e-05, momentum=0.1, affine=True, track_running_stats=True)\n",
            "  (conv5): Conv1d(128, 128, kernel_size=(3,), stride=(1,), padding=(1,))\n",
            "  (bn5): BatchNorm1d(128, eps=1e-05, momentum=0.1, affine=True, track_running_stats=True)\n",
            "  (pool3): MaxPool1d(kernel_size=4, stride=4, padding=0, dilation=1, ceil_mode=False)\n",
            "  (conv6): Conv1d(128, 256, kernel_size=(3,), stride=(1,), padding=(1,))\n",
            "  (bn6): BatchNorm1d(256, eps=1e-05, momentum=0.1, affine=True, track_running_stats=True)\n",
            "  (conv7): Conv1d(256, 256, kernel_size=(3,), stride=(1,), padding=(1,))\n",
            "  (bn7): BatchNorm1d(256, eps=1e-05, momentum=0.1, affine=True, track_running_stats=True)\n",
            "  (conv8): Conv1d(256, 256, kernel_size=(3,), stride=(1,), padding=(1,))\n",
            "  (bn8): BatchNorm1d(256, eps=1e-05, momentum=0.1, affine=True, track_running_stats=True)\n",
            "  (pool4): MaxPool1d(kernel_size=4, stride=4, padding=0, dilation=1, ceil_mode=False)\n",
            "  (conv9): Conv1d(256, 512, kernel_size=(3,), stride=(1,), padding=(1,))\n",
            "  (bn9): BatchNorm1d(512, eps=1e-05, momentum=0.1, affine=True, track_running_stats=True)\n",
            "  (conv10): Conv1d(512, 512, kernel_size=(3,), stride=(1,), padding=(1,))\n",
            "  (bn10): BatchNorm1d(512, eps=1e-05, momentum=0.1, affine=True, track_running_stats=True)\n",
            "  (fc1): Linear(in_features=512, out_features=10, bias=True)\n",
            ")\n",
            "Number of parameters: 1786442\n"
          ]
        }
      ]
    },
    {
      "cell_type": "code",
      "source": [
        "class M18(nn.Module):\n",
        "    def __init__(self, n_input=1, n_output=35, stride=4, n_channel=64):\n",
        "        super().__init__()\n",
        "        self.conv1 = nn.Conv1d(n_input, n_channel, kernel_size=80, stride=stride)\n",
        "        self.bn1 = nn.BatchNorm1d(n_channel)\n",
        "        self.pool1 = nn.MaxPool1d(4, stride=None)\n",
        "\n",
        "        self.conv2 = nn.Conv1d(n_channel, n_channel, kernel_size=3,padding=1)\n",
        "        self.bn2 = nn.BatchNorm1d(n_channel)\n",
        "        self.conv3 = nn.Conv1d(n_channel, n_channel, kernel_size=3,padding=1)\n",
        "        self.bn3 = nn.BatchNorm1d(n_channel)\n",
        "        self.conv4 = nn.Conv1d(n_channel, n_channel, kernel_size=3,padding=1)\n",
        "        self.bn4 = nn.BatchNorm1d(n_channel)\n",
        "        self.conv5 = nn.Conv1d(n_channel, n_channel, kernel_size=3,padding=1)\n",
        "        self.bn5 = nn.BatchNorm1d(n_channel)\n",
        "        self.pool2 = nn.MaxPool1d(4, stride=None)\n",
        "\n",
        "        self.conv6 = nn.Conv1d(n_channel, 2 * n_channel, kernel_size=3,padding=1)\n",
        "        self.bn6 = nn.BatchNorm1d(2 * n_channel)\n",
        "        self.conv7 = nn.Conv1d(2 * n_channel, 2 * n_channel, kernel_size=3,padding=1)\n",
        "        self.bn7 = nn.BatchNorm1d(2 * n_channel)\n",
        "        self.conv8 = nn.Conv1d(2 * n_channel, 2 * n_channel, kernel_size=3,padding=1)\n",
        "        self.bn8 = nn.BatchNorm1d(2 * n_channel)\n",
        "        self.conv9 = nn.Conv1d(2 * n_channel, 2 * n_channel, kernel_size=3,padding=1)\n",
        "        self.bn9 = nn.BatchNorm1d(2 * n_channel)\n",
        "        self.pool3 = nn.MaxPool1d(4, stride=None)\n",
        "\n",
        "        self.conv10 = nn.Conv1d(2 * n_channel, 4 * n_channel, kernel_size=3,padding=1)\n",
        "        self.bn10 = nn.BatchNorm1d(4 * n_channel)\n",
        "        self.conv11 = nn.Conv1d(4 * n_channel, 4 * n_channel, kernel_size=3,padding=1)\n",
        "        self.bn11 = nn.BatchNorm1d(4 * n_channel)\n",
        "        self.conv12 = nn.Conv1d(4 * n_channel, 4 * n_channel, kernel_size=3,padding=1)\n",
        "        self.bn12 = nn.BatchNorm1d(4 * n_channel)\n",
        "        self.conv13 = nn.Conv1d(4 * n_channel, 4 * n_channel, kernel_size=3,padding=1)\n",
        "        self.bn13 = nn.BatchNorm1d(4 * n_channel)\n",
        "        self.pool4 = nn.MaxPool1d(4, stride=None)\n",
        "\n",
        "        self.conv14 = nn.Conv1d(4 * n_channel, 8 * n_channel, kernel_size=3,padding=1)\n",
        "        self.bn14 = nn.BatchNorm1d(8 * n_channel)\n",
        "        self.conv15 = nn.Conv1d(8 * n_channel, 8 * n_channel, kernel_size=3,padding=1)\n",
        "        self.bn15 = nn.BatchNorm1d(8 * n_channel)\n",
        "        self.conv16 = nn.Conv1d(8 * n_channel, 8 * n_channel, kernel_size=3,padding=1)\n",
        "        self.bn16 = nn.BatchNorm1d(8 * n_channel)\n",
        "        self.conv17 = nn.Conv1d(8 * n_channel, 8 * n_channel, kernel_size=3,padding=1)\n",
        "        self.bn17 = nn.BatchNorm1d(8 * n_channel)\n",
        "\n",
        "        self.fc1 = nn.Linear(8 * n_channel, n_output)\n",
        "\n",
        "    def forward(self, x):\n",
        "        x = self.conv1(x)\n",
        "        x = F.relu(self.bn1(x))\n",
        "        x = self.pool1(x)\n",
        "\n",
        "        x = self.conv2(x)\n",
        "        x = F.relu(self.bn2(x))\n",
        "        x = self.conv3(x)\n",
        "        x = F.relu(self.bn3(x))\n",
        "        x = self.conv4(x)\n",
        "        x = F.relu(self.bn4(x))\n",
        "        x = self.conv5(x)\n",
        "        x = F.relu(self.bn5(x))\n",
        "        x = self.pool2(x)\n",
        "\n",
        "        x = self.conv6(x)\n",
        "        x = F.relu(self.bn6(x))\n",
        "        x = self.conv7(x)\n",
        "        x = F.relu(self.bn7(x))\n",
        "        x = self.conv8(x)\n",
        "        x = F.relu(self.bn8(x))\n",
        "        x = self.conv9(x)\n",
        "        x = F.relu(self.bn9(x))\n",
        "        x = self.pool3(x)\n",
        "\n",
        "        x = self.conv10(x)\n",
        "        x = F.relu(self.bn10(x))\n",
        "        x = self.conv11(x)\n",
        "        x = F.relu(self.bn11(x))\n",
        "        x = self.conv12(x)\n",
        "        x = F.relu(self.bn12(x))\n",
        "        x = self.conv13(x)\n",
        "        x = F.relu(self.bn13(x))\n",
        "        x = self.pool4(x)\n",
        "\n",
        "        x = self.conv14(x)\n",
        "        x = F.relu(self.bn14(x))\n",
        "        x = self.conv15(x)\n",
        "        x = F.relu(self.bn15(x))\n",
        "        x = self.conv16(x)\n",
        "        x = F.relu(self.bn16(x))\n",
        "        x = self.conv17(x)\n",
        "        x = F.relu(self.bn17(x))\n",
        "\n",
        "        x = F.avg_pool1d(x, x.shape[-1])\n",
        "        x = x.permute(0, 2, 1)\n",
        "        x = self.fc1(x)\n",
        "        return F.log_softmax(x, dim=2)\n",
        "\n",
        "model_m18 = M18(n_input=transformed.shape[0], n_output=len(labels))\n",
        "model_m18.to(device)\n",
        "\n",
        "print(model_m18)\n",
        "print(\"Number of parameters: %s\" % count_parameters(model_m18))"
      ],
      "metadata": {
        "colab": {
          "base_uri": "https://localhost:8080/"
        },
        "id": "-SzuQqF0_4It",
        "outputId": "1026d83f-88bd-4145-c90d-ae2b3c462f2b"
      },
      "execution_count": 70,
      "outputs": [
        {
          "output_type": "stream",
          "name": "stdout",
          "text": [
            "M18(\n",
            "  (conv1): Conv1d(1, 64, kernel_size=(80,), stride=(4,))\n",
            "  (bn1): BatchNorm1d(64, eps=1e-05, momentum=0.1, affine=True, track_running_stats=True)\n",
            "  (pool1): MaxPool1d(kernel_size=4, stride=4, padding=0, dilation=1, ceil_mode=False)\n",
            "  (conv2): Conv1d(64, 64, kernel_size=(3,), stride=(1,), padding=(1,))\n",
            "  (bn2): BatchNorm1d(64, eps=1e-05, momentum=0.1, affine=True, track_running_stats=True)\n",
            "  (conv3): Conv1d(64, 64, kernel_size=(3,), stride=(1,), padding=(1,))\n",
            "  (bn3): BatchNorm1d(64, eps=1e-05, momentum=0.1, affine=True, track_running_stats=True)\n",
            "  (conv4): Conv1d(64, 64, kernel_size=(3,), stride=(1,), padding=(1,))\n",
            "  (bn4): BatchNorm1d(64, eps=1e-05, momentum=0.1, affine=True, track_running_stats=True)\n",
            "  (conv5): Conv1d(64, 64, kernel_size=(3,), stride=(1,), padding=(1,))\n",
            "  (bn5): BatchNorm1d(64, eps=1e-05, momentum=0.1, affine=True, track_running_stats=True)\n",
            "  (pool2): MaxPool1d(kernel_size=4, stride=4, padding=0, dilation=1, ceil_mode=False)\n",
            "  (conv6): Conv1d(64, 128, kernel_size=(3,), stride=(1,), padding=(1,))\n",
            "  (bn6): BatchNorm1d(128, eps=1e-05, momentum=0.1, affine=True, track_running_stats=True)\n",
            "  (conv7): Conv1d(128, 128, kernel_size=(3,), stride=(1,), padding=(1,))\n",
            "  (bn7): BatchNorm1d(128, eps=1e-05, momentum=0.1, affine=True, track_running_stats=True)\n",
            "  (conv8): Conv1d(128, 128, kernel_size=(3,), stride=(1,), padding=(1,))\n",
            "  (bn8): BatchNorm1d(128, eps=1e-05, momentum=0.1, affine=True, track_running_stats=True)\n",
            "  (conv9): Conv1d(128, 128, kernel_size=(3,), stride=(1,), padding=(1,))\n",
            "  (bn9): BatchNorm1d(128, eps=1e-05, momentum=0.1, affine=True, track_running_stats=True)\n",
            "  (pool3): MaxPool1d(kernel_size=4, stride=4, padding=0, dilation=1, ceil_mode=False)\n",
            "  (conv10): Conv1d(128, 256, kernel_size=(3,), stride=(1,), padding=(1,))\n",
            "  (bn10): BatchNorm1d(256, eps=1e-05, momentum=0.1, affine=True, track_running_stats=True)\n",
            "  (conv11): Conv1d(256, 256, kernel_size=(3,), stride=(1,), padding=(1,))\n",
            "  (bn11): BatchNorm1d(256, eps=1e-05, momentum=0.1, affine=True, track_running_stats=True)\n",
            "  (conv12): Conv1d(256, 256, kernel_size=(3,), stride=(1,), padding=(1,))\n",
            "  (bn12): BatchNorm1d(256, eps=1e-05, momentum=0.1, affine=True, track_running_stats=True)\n",
            "  (conv13): Conv1d(256, 256, kernel_size=(3,), stride=(1,), padding=(1,))\n",
            "  (bn13): BatchNorm1d(256, eps=1e-05, momentum=0.1, affine=True, track_running_stats=True)\n",
            "  (pool4): MaxPool1d(kernel_size=4, stride=4, padding=0, dilation=1, ceil_mode=False)\n",
            "  (conv14): Conv1d(256, 512, kernel_size=(3,), stride=(1,), padding=(1,))\n",
            "  (bn14): BatchNorm1d(512, eps=1e-05, momentum=0.1, affine=True, track_running_stats=True)\n",
            "  (conv15): Conv1d(512, 512, kernel_size=(3,), stride=(1,), padding=(1,))\n",
            "  (bn15): BatchNorm1d(512, eps=1e-05, momentum=0.1, affine=True, track_running_stats=True)\n",
            "  (conv16): Conv1d(512, 512, kernel_size=(3,), stride=(1,), padding=(1,))\n",
            "  (bn16): BatchNorm1d(512, eps=1e-05, momentum=0.1, affine=True, track_running_stats=True)\n",
            "  (conv17): Conv1d(512, 512, kernel_size=(3,), stride=(1,), padding=(1,))\n",
            "  (bn17): BatchNorm1d(512, eps=1e-05, momentum=0.1, affine=True, track_running_stats=True)\n",
            "  (fc1): Linear(in_features=512, out_features=10, bias=True)\n",
            ")\n",
            "Number of parameters: 3683786\n"
          ]
        }
      ]
    },
    {
      "cell_type": "code",
      "source": [
        "def number_of_correct(pred, target):\n",
        "    # count number of correct predictions\n",
        "    return pred.squeeze().eq(target).sum().item()\n",
        "\n",
        "\n",
        "def get_likely_index(tensor):\n",
        "    # find most likely label index for each element in the batch\n",
        "    return tensor.argmax(dim=-1)"
      ],
      "metadata": {
        "id": "d_8de37Ou-Cw"
      },
      "execution_count": 18,
      "outputs": []
    },
    {
      "cell_type": "code",
      "source": [
        "def train(model, optimizer, epoch, log_interval):\n",
        "    model.train()\n",
        "    right = 0\n",
        "    for batch_idx, (data, target) in enumerate(train_loader):\n",
        "\n",
        "        data = data.to(device)\n",
        "        target = target.to(device)\n",
        "\n",
        "        # apply transform and model on whole batch directly on device\n",
        "        data = transform(data)\n",
        "        output = model(data)\n",
        "\n",
        "        pred = get_likely_index(output)\n",
        "        right += number_of_correct(pred, target)\n",
        "\n",
        "        # negative log-likelihood for a tensor of size (batch x 1 x n_output)\n",
        "        loss = F.nll_loss(output.squeeze(), target)\n",
        "\n",
        "        optimizer.zero_grad()\n",
        "        loss.backward()\n",
        "        optimizer.step()\n",
        "\n",
        "        # print training stats\n",
        "        if batch_idx % log_interval == 0:\n",
        "            print(f\"Train Epoch: {epoch} [{batch_idx * len(data)}/{len(train_loader.dataset)} ({100. * batch_idx / len(train_loader):.0f}%)]\\tLoss: {loss.item():.6f}\\tAccuracy: {right}/{len(train_loader.dataset)} ({100. * right / len(train_loader.dataset):.0f}%)\")\n",
        "\n",
        "        # update progress bar\n",
        "        pbar.update(pbar_update)\n",
        "        # record loss\n",
        "        losses.append(loss.item())"
      ],
      "metadata": {
        "id": "2aDhut16Au61"
      },
      "execution_count": 19,
      "outputs": []
    },
    {
      "cell_type": "code",
      "source": [
        "def test(model, epoch):\n",
        "    model.eval()\n",
        "    right = 0\n",
        "    for data, target in test_loader:\n",
        "\n",
        "        data = data.to(device)\n",
        "        target = target.to(device)\n",
        "\n",
        "        # apply transform and model on whole batch directly on device\n",
        "        data = transform(data)\n",
        "        output = model(data)\n",
        "\n",
        "        pred = get_likely_index(output)\n",
        "        right += number_of_correct(pred, target)\n",
        "\n",
        "        # negative log-likelihood for a tensor of size (batch x 1 x n_output)\n",
        "        loss = F.nll_loss(output.squeeze(), target)\n",
        "\n",
        "        # update progress bar\n",
        "        pbar.update(pbar_update)\n",
        "\n",
        "    print(f\"\\nTest Epoch: {epoch} \\tLoss: {loss.item():.6f}\\tAccuracy: {right}/{len(test_loader.dataset)} ({100. * right / len(test_loader.dataset):.0f}%)\\n\")\n",
        "\n",
        "    acc = 100. * right / len(test_loader.dataset)\n",
        "    accuracy_test.append(acc)\n",
        "    losses_test.append(loss.item())"
      ],
      "metadata": {
        "id": "puA5h1n3A7FR"
      },
      "execution_count": 20,
      "outputs": []
    },
    {
      "cell_type": "code",
      "source": [
        "log_interval = 20\n",
        "n_epoch = 30\n",
        "pbar_update = 1 / (len(train_loader) + len(test_loader))"
      ],
      "metadata": {
        "id": "M-OH8nL_oTeX"
      },
      "execution_count": 21,
      "outputs": []
    },
    {
      "cell_type": "markdown",
      "source": [
        "Обучим M5"
      ],
      "metadata": {
        "id": "bbeZW_v4ocdy"
      }
    },
    {
      "cell_type": "code",
      "source": [
        "optimizer = optim.Adam(model_m5.parameters(), lr=0.01, weight_decay=0.0001)\n",
        "scheduler = optim.lr_scheduler.StepLR(optimizer, step_size=20, gamma=0.1)\n",
        "\n",
        "losses = []\n",
        "accuracy_test = []\n",
        "losses_test = []\n",
        "transform = transform.to(device)\n",
        "with tqdm(total=n_epoch) as pbar:\n",
        "    for epoch in range(1, n_epoch + 1):\n",
        "        train(model_m5, optimizer, epoch, log_interval)\n",
        "        test(model_m5, epoch)\n",
        "        scheduler.step()\n"
      ],
      "metadata": {
        "colab": {
          "base_uri": "https://localhost:8080/"
        },
        "id": "9ZJlUsv2A_Ub",
        "outputId": "1d030e60-266f-401c-d29f-6529b031977c"
      },
      "execution_count": 34,
      "outputs": [
        {
          "output_type": "stream",
          "name": "stderr",
          "text": [
            "  0%|          | 0.013422818791946308/30 [00:00<09:46, 19.55s/it]"
          ]
        },
        {
          "output_type": "stream",
          "name": "stdout",
          "text": [
            "Train Epoch: 1 [0/30441 (0%)]\tLoss: 2.292714\tAccuracy: 40/30441 (0%)\n"
          ]
        },
        {
          "output_type": "stream",
          "name": "stderr",
          "text": [
            "  0%|          | 0.14765100671140938/30 [00:02<09:22, 18.84s/it]"
          ]
        },
        {
          "output_type": "stream",
          "name": "stdout",
          "text": [
            "Train Epoch: 1 [5120/30441 (17%)]\tLoss: 1.421813\tAccuracy: 2071/30441 (7%)\n"
          ]
        },
        {
          "output_type": "stream",
          "name": "stderr",
          "text": [
            "  1%|          | 0.2818791946308723/30 [00:05<09:09, 18.49s/it] "
          ]
        },
        {
          "output_type": "stream",
          "name": "stdout",
          "text": [
            "Train Epoch: 1 [10240/30441 (34%)]\tLoss: 0.896399\tAccuracy: 5279/30441 (17%)\n"
          ]
        },
        {
          "output_type": "stream",
          "name": "stderr",
          "text": [
            "  1%|▏         | 0.40939597315436205/30 [00:07<10:10, 20.64s/it]"
          ]
        },
        {
          "output_type": "stream",
          "name": "stdout",
          "text": [
            "Train Epoch: 1 [15360/30441 (50%)]\tLoss: 0.860609\tAccuracy: 9032/30441 (30%)\n"
          ]
        },
        {
          "output_type": "stream",
          "name": "stderr",
          "text": [
            "  2%|▏         | 0.5503355704697981/30 [00:10<10:41, 21.78s/it]"
          ]
        },
        {
          "output_type": "stream",
          "name": "stdout",
          "text": [
            "Train Epoch: 1 [20480/30441 (67%)]\tLoss: 0.891883\tAccuracy: 12977/30441 (43%)\n"
          ]
        },
        {
          "output_type": "stream",
          "name": "stderr",
          "text": [
            "  2%|▏         | 0.684563758389261/30 [00:13<09:12, 18.85s/it] "
          ]
        },
        {
          "output_type": "stream",
          "name": "stdout",
          "text": [
            "Train Epoch: 1 [25600/30441 (84%)]\tLoss: 0.589029\tAccuracy: 17125/30441 (56%)\n"
          ]
        },
        {
          "output_type": "stream",
          "name": "stderr",
          "text": [
            "  3%|▎         | 1.006711409395972/30 [00:18<06:52, 14.23s/it] "
          ]
        },
        {
          "output_type": "stream",
          "name": "stdout",
          "text": [
            "\n",
            "Test Epoch: 1 \tLoss: 13.464746\tAccuracy: 735/7611 (10%)\n",
            "\n",
            "Train Epoch: 2 [0/30441 (0%)]\tLoss: 0.420074\tAccuracy: 228/30441 (1%)\n"
          ]
        },
        {
          "output_type": "stream",
          "name": "stderr",
          "text": [
            "  4%|▍         | 1.1476510067114103/30 [00:21<08:41, 18.07s/it]"
          ]
        },
        {
          "output_type": "stream",
          "name": "stdout",
          "text": [
            "Train Epoch: 2 [5120/30441 (17%)]\tLoss: 0.478629\tAccuracy: 4674/30441 (15%)\n"
          ]
        },
        {
          "output_type": "stream",
          "name": "stderr",
          "text": [
            "  4%|▍         | 1.2818791946308754/30 [00:23<10:17, 21.50s/it]"
          ]
        },
        {
          "output_type": "stream",
          "name": "stdout",
          "text": [
            "Train Epoch: 2 [10240/30441 (34%)]\tLoss: 0.485861\tAccuracy: 9139/30441 (30%)\n"
          ]
        },
        {
          "output_type": "stream",
          "name": "stderr",
          "text": [
            "  5%|▍         | 1.4161073825503405/30 [00:26<08:54, 18.72s/it]"
          ]
        },
        {
          "output_type": "stream",
          "name": "stdout",
          "text": [
            "Train Epoch: 2 [15360/30441 (50%)]\tLoss: 0.613148\tAccuracy: 13635/30441 (45%)\n"
          ]
        },
        {
          "output_type": "stream",
          "name": "stderr",
          "text": [
            "  5%|▌         | 1.5436241610738324/30 [00:28<09:30, 20.04s/it]"
          ]
        },
        {
          "output_type": "stream",
          "name": "stdout",
          "text": [
            "Train Epoch: 2 [20480/30441 (67%)]\tLoss: 0.559765\tAccuracy: 18202/30441 (60%)\n"
          ]
        },
        {
          "output_type": "stream",
          "name": "stderr",
          "text": [
            "  6%|▌         | 1.6845637583892707/30 [00:31<08:42, 18.45s/it]"
          ]
        },
        {
          "output_type": "stream",
          "name": "stdout",
          "text": [
            "Train Epoch: 2 [25600/30441 (84%)]\tLoss: 0.487831\tAccuracy: 22823/30441 (75%)\n"
          ]
        },
        {
          "output_type": "stream",
          "name": "stderr",
          "text": [
            "  7%|▋         | 2.006711409395987/30 [00:36<08:12, 17.59s/it] "
          ]
        },
        {
          "output_type": "stream",
          "name": "stdout",
          "text": [
            "\n",
            "Test Epoch: 2 \tLoss: 28.055309\tAccuracy: 737/7611 (10%)\n",
            "\n",
            "Train Epoch: 3 [0/30441 (0%)]\tLoss: 0.371464\tAccuracy: 242/30441 (1%)\n"
          ]
        },
        {
          "output_type": "stream",
          "name": "stderr",
          "text": [
            "  7%|▋         | 2.1476510067114254/30 [00:39<08:37, 18.57s/it]"
          ]
        },
        {
          "output_type": "stream",
          "name": "stdout",
          "text": [
            "Train Epoch: 3 [5120/30441 (17%)]\tLoss: 0.379620\tAccuracy: 4943/30441 (16%)\n"
          ]
        },
        {
          "output_type": "stream",
          "name": "stderr",
          "text": [
            "  8%|▊         | 2.2818791946308905/30 [00:42<08:40, 18.79s/it]"
          ]
        },
        {
          "output_type": "stream",
          "name": "stdout",
          "text": [
            "Train Epoch: 3 [10240/30441 (34%)]\tLoss: 0.496785\tAccuracy: 9661/30441 (32%)\n"
          ]
        },
        {
          "output_type": "stream",
          "name": "stderr",
          "text": [
            "  8%|▊         | 2.4161073825503556/30 [00:44<08:34, 18.64s/it]"
          ]
        },
        {
          "output_type": "stream",
          "name": "stdout",
          "text": [
            "Train Epoch: 3 [15360/30441 (50%)]\tLoss: 0.424766\tAccuracy: 14411/30441 (47%)\n"
          ]
        },
        {
          "output_type": "stream",
          "name": "stderr",
          "text": [
            "  9%|▊         | 2.5503355704698207/30 [00:47<09:10, 20.05s/it]"
          ]
        },
        {
          "output_type": "stream",
          "name": "stdout",
          "text": [
            "Train Epoch: 3 [20480/30441 (67%)]\tLoss: 0.361151\tAccuracy: 19125/30441 (63%)\n"
          ]
        },
        {
          "output_type": "stream",
          "name": "stderr",
          "text": [
            "  9%|▉         | 2.684563758389286/30 [00:49<08:54, 19.55s/it] "
          ]
        },
        {
          "output_type": "stream",
          "name": "stdout",
          "text": [
            "Train Epoch: 3 [25600/30441 (84%)]\tLoss: 0.295952\tAccuracy: 23914/30441 (79%)\n"
          ]
        },
        {
          "output_type": "stream",
          "name": "stderr",
          "text": [
            " 10%|█         | 3.006711409396002/30 [00:54<06:19, 14.04s/it] "
          ]
        },
        {
          "output_type": "stream",
          "name": "stdout",
          "text": [
            "\n",
            "Test Epoch: 3 \tLoss: 23.457779\tAccuracy: 767/7611 (10%)\n",
            "\n",
            "Train Epoch: 4 [0/30441 (0%)]\tLoss: 0.458448\tAccuracy: 237/30441 (1%)\n"
          ]
        },
        {
          "output_type": "stream",
          "name": "stderr",
          "text": [
            " 10%|█         | 3.1476510067114405/30 [00:57<08:30, 19.02s/it]"
          ]
        },
        {
          "output_type": "stream",
          "name": "stdout",
          "text": [
            "Train Epoch: 4 [5120/30441 (17%)]\tLoss: 0.238789\tAccuracy: 5067/30441 (17%)\n"
          ]
        },
        {
          "output_type": "stream",
          "name": "stderr",
          "text": [
            " 11%|█         | 3.2818791946309056/30 [01:00<09:16, 20.83s/it]"
          ]
        },
        {
          "output_type": "stream",
          "name": "stdout",
          "text": [
            "Train Epoch: 4 [10240/30441 (34%)]\tLoss: 0.334287\tAccuracy: 9891/30441 (32%)\n"
          ]
        },
        {
          "output_type": "stream",
          "name": "stderr",
          "text": [
            " 11%|█▏        | 3.4161073825503707/30 [01:02<08:25, 19.03s/it]"
          ]
        },
        {
          "output_type": "stream",
          "name": "stdout",
          "text": [
            "Train Epoch: 4 [15360/30441 (50%)]\tLoss: 0.350163\tAccuracy: 14707/30441 (48%)\n"
          ]
        },
        {
          "output_type": "stream",
          "name": "stderr",
          "text": [
            " 12%|█▏        | 3.5436241610738626/30 [01:05<08:36, 19.54s/it]"
          ]
        },
        {
          "output_type": "stream",
          "name": "stdout",
          "text": [
            "Train Epoch: 4 [20480/30441 (67%)]\tLoss: 0.306970\tAccuracy: 19559/30441 (64%)\n"
          ]
        },
        {
          "output_type": "stream",
          "name": "stderr",
          "text": [
            " 12%|█▏        | 3.684563758389301/30 [01:07<07:57, 18.16s/it] "
          ]
        },
        {
          "output_type": "stream",
          "name": "stdout",
          "text": [
            "Train Epoch: 4 [25600/30441 (84%)]\tLoss: 0.361198\tAccuracy: 24409/30441 (80%)\n"
          ]
        },
        {
          "output_type": "stream",
          "name": "stderr",
          "text": [
            " 13%|█▎        | 4.006711409396017/30 [01:13<07:19, 16.91s/it] "
          ]
        },
        {
          "output_type": "stream",
          "name": "stdout",
          "text": [
            "\n",
            "Test Epoch: 4 \tLoss: 22.150488\tAccuracy: 793/7611 (10%)\n",
            "\n",
            "Train Epoch: 5 [0/30441 (0%)]\tLoss: 0.247339\tAccuracy: 245/30441 (1%)\n"
          ]
        },
        {
          "output_type": "stream",
          "name": "stderr",
          "text": [
            " 14%|█▍        | 4.147651006711455/30 [01:15<08:04, 18.74s/it]"
          ]
        },
        {
          "output_type": "stream",
          "name": "stdout",
          "text": [
            "Train Epoch: 5 [5120/30441 (17%)]\tLoss: 0.353526\tAccuracy: 5099/30441 (17%)\n"
          ]
        },
        {
          "output_type": "stream",
          "name": "stderr",
          "text": [
            " 14%|█▍        | 4.28187919463092/30 [01:18<07:59, 18.65s/it] "
          ]
        },
        {
          "output_type": "stream",
          "name": "stdout",
          "text": [
            "Train Epoch: 5 [10240/30441 (34%)]\tLoss: 0.362934\tAccuracy: 9959/30441 (33%)\n"
          ]
        },
        {
          "output_type": "stream",
          "name": "stderr",
          "text": [
            " 15%|█▍        | 4.416107382550385/30 [01:20<08:06, 19.03s/it]"
          ]
        },
        {
          "output_type": "stream",
          "name": "stdout",
          "text": [
            "Train Epoch: 5 [15360/30441 (50%)]\tLoss: 0.235273\tAccuracy: 14805/30441 (49%)\n"
          ]
        },
        {
          "output_type": "stream",
          "name": "stderr",
          "text": [
            " 15%|█▌        | 4.5503355704698505/30 [01:23<07:50, 18.50s/it]"
          ]
        },
        {
          "output_type": "stream",
          "name": "stdout",
          "text": [
            "Train Epoch: 5 [20480/30441 (67%)]\tLoss: 0.334295\tAccuracy: 19669/30441 (65%)\n"
          ]
        },
        {
          "output_type": "stream",
          "name": "stderr",
          "text": [
            " 16%|█▌        | 4.684563758389316/30 [01:26<09:10, 21.74s/it]"
          ]
        },
        {
          "output_type": "stream",
          "name": "stdout",
          "text": [
            "Train Epoch: 5 [25600/30441 (84%)]\tLoss: 0.362461\tAccuracy: 24545/30441 (81%)\n"
          ]
        },
        {
          "output_type": "stream",
          "name": "stderr",
          "text": [
            " 17%|█▋        | 5.006711409396032/30 [01:31<05:47, 13.89s/it]"
          ]
        },
        {
          "output_type": "stream",
          "name": "stdout",
          "text": [
            "\n",
            "Test Epoch: 5 \tLoss: 9.771942\tAccuracy: 1236/7611 (16%)\n",
            "\n",
            "Train Epoch: 6 [0/30441 (0%)]\tLoss: 0.323061\tAccuracy: 244/30441 (1%)\n"
          ]
        },
        {
          "output_type": "stream",
          "name": "stderr",
          "text": [
            " 17%|█▋        | 5.140939597315497/30 [01:33<08:09, 19.69s/it]"
          ]
        },
        {
          "output_type": "stream",
          "name": "stdout",
          "text": [
            "Train Epoch: 6 [5120/30441 (17%)]\tLoss: 0.384276\tAccuracy: 5096/30441 (17%)\n"
          ]
        },
        {
          "output_type": "stream",
          "name": "stderr",
          "text": [
            " 18%|█▊        | 5.281879194630935/30 [01:36<07:42, 18.72s/it]"
          ]
        },
        {
          "output_type": "stream",
          "name": "stdout",
          "text": [
            "Train Epoch: 6 [10240/30441 (34%)]\tLoss: 0.253138\tAccuracy: 9958/30441 (33%)\n"
          ]
        },
        {
          "output_type": "stream",
          "name": "stderr",
          "text": [
            " 18%|█▊        | 5.4161073825504005/30 [01:39<07:41, 18.79s/it]"
          ]
        },
        {
          "output_type": "stream",
          "name": "stdout",
          "text": [
            "Train Epoch: 6 [15360/30441 (50%)]\tLoss: 0.249406\tAccuracy: 14857/30441 (49%)\n"
          ]
        },
        {
          "output_type": "stream",
          "name": "stderr",
          "text": [
            " 18%|█▊        | 5.543624161073892/30 [01:41<08:05, 19.86s/it]"
          ]
        },
        {
          "output_type": "stream",
          "name": "stdout",
          "text": [
            "Train Epoch: 6 [20480/30441 (67%)]\tLoss: 0.338522\tAccuracy: 19714/30441 (65%)\n"
          ]
        },
        {
          "output_type": "stream",
          "name": "stderr",
          "text": [
            " 19%|█▉        | 5.6778523489933574/30 [01:44<08:05, 19.95s/it]"
          ]
        },
        {
          "output_type": "stream",
          "name": "stdout",
          "text": [
            "Train Epoch: 6 [25600/30441 (84%)]\tLoss: 0.274500\tAccuracy: 24596/30441 (81%)\n"
          ]
        },
        {
          "output_type": "stream",
          "name": "stderr",
          "text": [
            " 20%|██        | 6.006711409396047/30 [01:49<06:25, 16.07s/it] "
          ]
        },
        {
          "output_type": "stream",
          "name": "stdout",
          "text": [
            "\n",
            "Test Epoch: 6 \tLoss: 9.435565\tAccuracy: 867/7611 (11%)\n",
            "\n",
            "Train Epoch: 7 [0/30441 (0%)]\tLoss: 0.268356\tAccuracy: 245/30441 (1%)\n"
          ]
        },
        {
          "output_type": "stream",
          "name": "stderr",
          "text": [
            " 20%|██        | 6.140939597315512/30 [01:52<07:53, 19.86s/it]"
          ]
        },
        {
          "output_type": "stream",
          "name": "stdout",
          "text": [
            "Train Epoch: 7 [5120/30441 (17%)]\tLoss: 0.326126\tAccuracy: 5158/30441 (17%)\n"
          ]
        },
        {
          "output_type": "stream",
          "name": "stderr",
          "text": [
            " 21%|██        | 6.2818791946309505/30 [01:54<07:28, 18.91s/it]"
          ]
        },
        {
          "output_type": "stream",
          "name": "stdout",
          "text": [
            "Train Epoch: 7 [10240/30441 (34%)]\tLoss: 0.166096\tAccuracy: 10067/30441 (33%)\n"
          ]
        },
        {
          "output_type": "stream",
          "name": "stderr",
          "text": [
            " 21%|██▏       | 6.409395973154442/30 [01:57<07:48, 19.85s/it]"
          ]
        },
        {
          "output_type": "stream",
          "name": "stdout",
          "text": [
            "Train Epoch: 7 [15360/30441 (50%)]\tLoss: 0.308878\tAccuracy: 14988/30441 (49%)\n"
          ]
        },
        {
          "output_type": "stream",
          "name": "stderr",
          "text": [
            " 22%|██▏       | 6.543624161073907/30 [01:59<07:56, 20.31s/it]"
          ]
        },
        {
          "output_type": "stream",
          "name": "stdout",
          "text": [
            "Train Epoch: 7 [20480/30441 (67%)]\tLoss: 0.346039\tAccuracy: 19874/30441 (65%)\n"
          ]
        },
        {
          "output_type": "stream",
          "name": "stderr",
          "text": [
            " 22%|██▏       | 6.684563758389346/30 [02:02<08:05, 20.84s/it] "
          ]
        },
        {
          "output_type": "stream",
          "name": "stdout",
          "text": [
            "Train Epoch: 7 [25600/30441 (84%)]\tLoss: 0.235559\tAccuracy: 24764/30441 (81%)\n"
          ]
        },
        {
          "output_type": "stream",
          "name": "stderr",
          "text": [
            " 23%|██▎       | 7.006711409396062/30 [02:07<05:19, 13.89s/it]"
          ]
        },
        {
          "output_type": "stream",
          "name": "stdout",
          "text": [
            "\n",
            "Test Epoch: 7 \tLoss: 6.691399\tAccuracy: 921/7611 (12%)\n",
            "\n",
            "Train Epoch: 8 [0/30441 (0%)]\tLoss: 0.283086\tAccuracy: 243/30441 (1%)\n"
          ]
        },
        {
          "output_type": "stream",
          "name": "stderr",
          "text": [
            " 24%|██▍       | 7.140939597315527/30 [02:10<07:36, 19.98s/it]"
          ]
        },
        {
          "output_type": "stream",
          "name": "stdout",
          "text": [
            "Train Epoch: 8 [5120/30441 (17%)]\tLoss: 0.261327\tAccuracy: 5139/30441 (17%)\n"
          ]
        },
        {
          "output_type": "stream",
          "name": "stderr",
          "text": [
            " 24%|██▍       | 7.281879194630966/30 [02:12<06:55, 18.30s/it]"
          ]
        },
        {
          "output_type": "stream",
          "name": "stdout",
          "text": [
            "Train Epoch: 8 [10240/30441 (34%)]\tLoss: 0.230960\tAccuracy: 10050/30441 (33%)\n"
          ]
        },
        {
          "output_type": "stream",
          "name": "stderr",
          "text": [
            " 25%|██▍       | 7.416107382550431/30 [02:15<07:53, 20.97s/it]"
          ]
        },
        {
          "output_type": "stream",
          "name": "stdout",
          "text": [
            "Train Epoch: 8 [15360/30441 (50%)]\tLoss: 0.445149\tAccuracy: 14944/30441 (49%)\n"
          ]
        },
        {
          "output_type": "stream",
          "name": "stderr",
          "text": [
            " 25%|██▌       | 7.5436241610739225/30 [02:18<07:22, 19.71s/it]"
          ]
        },
        {
          "output_type": "stream",
          "name": "stdout",
          "text": [
            "Train Epoch: 8 [20480/30441 (67%)]\tLoss: 0.171615\tAccuracy: 19839/30441 (65%)\n"
          ]
        },
        {
          "output_type": "stream",
          "name": "stderr",
          "text": [
            " 26%|██▌       | 7.684563758389361/30 [02:20<06:51, 18.42s/it]"
          ]
        },
        {
          "output_type": "stream",
          "name": "stdout",
          "text": [
            "Train Epoch: 8 [25600/30441 (84%)]\tLoss: 0.302908\tAccuracy: 24733/30441 (81%)\n"
          ]
        },
        {
          "output_type": "stream",
          "name": "stderr",
          "text": [
            " 27%|██▋       | 8.006711409396075/30 [02:25<05:07, 13.98s/it]"
          ]
        },
        {
          "output_type": "stream",
          "name": "stdout",
          "text": [
            "\n",
            "Test Epoch: 8 \tLoss: 4.826340\tAccuracy: 1061/7611 (14%)\n",
            "\n",
            "Train Epoch: 9 [0/30441 (0%)]\tLoss: 0.316856\tAccuracy: 246/30441 (1%)\n"
          ]
        },
        {
          "output_type": "stream",
          "name": "stderr",
          "text": [
            " 27%|██▋       | 8.140939597315523/30 [02:28<07:36, 20.88s/it]"
          ]
        },
        {
          "output_type": "stream",
          "name": "stdout",
          "text": [
            "Train Epoch: 9 [5120/30441 (17%)]\tLoss: 0.322426\tAccuracy: 5145/30441 (17%)\n"
          ]
        },
        {
          "output_type": "stream",
          "name": "stderr",
          "text": [
            " 28%|██▊       | 8.281879194630942/30 [02:31<06:53, 19.02s/it]"
          ]
        },
        {
          "output_type": "stream",
          "name": "stdout",
          "text": [
            "Train Epoch: 9 [10240/30441 (34%)]\tLoss: 0.267632\tAccuracy: 10065/30441 (33%)\n"
          ]
        },
        {
          "output_type": "stream",
          "name": "stderr",
          "text": [
            " 28%|██▊       | 8.409395973154417/30 [02:33<07:05, 19.70s/it]"
          ]
        },
        {
          "output_type": "stream",
          "name": "stdout",
          "text": [
            "Train Epoch: 9 [15360/30441 (50%)]\tLoss: 0.232125\tAccuracy: 14957/30441 (49%)\n"
          ]
        },
        {
          "output_type": "stream",
          "name": "stderr",
          "text": [
            " 29%|██▊       | 8.550335570469837/30 [02:36<06:50, 19.13s/it]"
          ]
        },
        {
          "output_type": "stream",
          "name": "stdout",
          "text": [
            "Train Epoch: 9 [20480/30441 (67%)]\tLoss: 0.158491\tAccuracy: 19883/30441 (65%)\n"
          ]
        },
        {
          "output_type": "stream",
          "name": "stderr",
          "text": [
            " 29%|██▉       | 8.684563758389285/30 [02:38<07:30, 21.11s/it]"
          ]
        },
        {
          "output_type": "stream",
          "name": "stdout",
          "text": [
            "Train Epoch: 9 [25600/30441 (84%)]\tLoss: 0.231990\tAccuracy: 24765/30441 (81%)\n"
          ]
        },
        {
          "output_type": "stream",
          "name": "stderr",
          "text": [
            " 30%|███       | 9.006711409395958/30 [02:43<04:57, 14.18s/it]"
          ]
        },
        {
          "output_type": "stream",
          "name": "stdout",
          "text": [
            "\n",
            "Test Epoch: 9 \tLoss: 7.893501\tAccuracy: 1128/7611 (15%)\n",
            "\n",
            "Train Epoch: 10 [0/30441 (0%)]\tLoss: 0.303547\tAccuracy: 240/30441 (1%)\n"
          ]
        },
        {
          "output_type": "stream",
          "name": "stderr",
          "text": [
            " 30%|███       | 9.147651006711378/30 [02:46<06:18, 18.13s/it]"
          ]
        },
        {
          "output_type": "stream",
          "name": "stdout",
          "text": [
            "Train Epoch: 10 [5120/30441 (17%)]\tLoss: 0.281211\tAccuracy: 5172/30441 (17%)\n"
          ]
        },
        {
          "output_type": "stream",
          "name": "stderr",
          "text": [
            " 31%|███       | 9.275167785234853/30 [02:48<06:50, 19.82s/it]"
          ]
        },
        {
          "output_type": "stream",
          "name": "stdout",
          "text": [
            "Train Epoch: 10 [10240/30441 (34%)]\tLoss: 0.290706\tAccuracy: 10074/30441 (33%)\n"
          ]
        },
        {
          "output_type": "stream",
          "name": "stderr",
          "text": [
            " 31%|███▏      | 9.416107382550273/30 [02:51<07:21, 21.46s/it]"
          ]
        },
        {
          "output_type": "stream",
          "name": "stdout",
          "text": [
            "Train Epoch: 10 [15360/30441 (50%)]\tLoss: 0.313517\tAccuracy: 14961/30441 (49%)\n"
          ]
        },
        {
          "output_type": "stream",
          "name": "stderr",
          "text": [
            " 32%|███▏      | 9.55033557046972/30 [02:54<06:15, 18.38s/it] "
          ]
        },
        {
          "output_type": "stream",
          "name": "stdout",
          "text": [
            "Train Epoch: 10 [20480/30441 (67%)]\tLoss: 0.273953\tAccuracy: 19867/30441 (65%)\n"
          ]
        },
        {
          "output_type": "stream",
          "name": "stderr",
          "text": [
            " 32%|███▏      | 9.684563758389167/30 [02:56<06:21, 18.77s/it]"
          ]
        },
        {
          "output_type": "stream",
          "name": "stdout",
          "text": [
            "Train Epoch: 10 [25600/30441 (84%)]\tLoss: 0.401972\tAccuracy: 24763/30441 (81%)\n"
          ]
        },
        {
          "output_type": "stream",
          "name": "stderr",
          "text": [
            " 33%|███▎      | 10.006711409395841/30 [03:02<04:42, 14.12s/it]"
          ]
        },
        {
          "output_type": "stream",
          "name": "stdout",
          "text": [
            "\n",
            "Test Epoch: 10 \tLoss: 12.334542\tAccuracy: 810/7611 (11%)\n",
            "\n",
            "Train Epoch: 11 [0/30441 (0%)]\tLoss: 0.259316\tAccuracy: 246/30441 (1%)\n"
          ]
        },
        {
          "output_type": "stream",
          "name": "stderr",
          "text": [
            " 34%|███▍      | 10.14765100671126/30 [03:04<07:16, 22.01s/it] "
          ]
        },
        {
          "output_type": "stream",
          "name": "stdout",
          "text": [
            "Train Epoch: 11 [5120/30441 (17%)]\tLoss: 0.363134\tAccuracy: 5144/30441 (17%)\n"
          ]
        },
        {
          "output_type": "stream",
          "name": "stderr",
          "text": [
            " 34%|███▍      | 10.281879194630708/30 [03:07<06:03, 18.46s/it]"
          ]
        },
        {
          "output_type": "stream",
          "name": "stdout",
          "text": [
            "Train Epoch: 11 [10240/30441 (34%)]\tLoss: 0.251700\tAccuracy: 10057/30441 (33%)\n"
          ]
        },
        {
          "output_type": "stream",
          "name": "stderr",
          "text": [
            " 35%|███▍      | 10.416107382550155/30 [03:10<06:29, 19.90s/it]"
          ]
        },
        {
          "output_type": "stream",
          "name": "stdout",
          "text": [
            "Train Epoch: 11 [15360/30441 (50%)]\tLoss: 0.204902\tAccuracy: 14979/30441 (49%)\n"
          ]
        },
        {
          "output_type": "stream",
          "name": "stderr",
          "text": [
            " 35%|███▌      | 10.550335570469603/30 [03:12<06:04, 18.75s/it]"
          ]
        },
        {
          "output_type": "stream",
          "name": "stdout",
          "text": [
            "Train Epoch: 11 [20480/30441 (67%)]\tLoss: 0.247274\tAccuracy: 19911/30441 (65%)\n"
          ]
        },
        {
          "output_type": "stream",
          "name": "stderr",
          "text": [
            " 36%|███▌      | 10.677852348993078/30 [03:15<06:29, 20.16s/it]"
          ]
        },
        {
          "output_type": "stream",
          "name": "stdout",
          "text": [
            "Train Epoch: 11 [25600/30441 (84%)]\tLoss: 0.319940\tAccuracy: 24815/30441 (82%)\n"
          ]
        },
        {
          "output_type": "stream",
          "name": "stderr",
          "text": [
            " 37%|███▋      | 11.006711409395724/30 [03:20<04:26, 14.03s/it]"
          ]
        },
        {
          "output_type": "stream",
          "name": "stdout",
          "text": [
            "\n",
            "Test Epoch: 11 \tLoss: 20.181332\tAccuracy: 772/7611 (10%)\n",
            "\n",
            "Train Epoch: 12 [0/30441 (0%)]\tLoss: 0.223455\tAccuracy: 250/30441 (1%)\n"
          ]
        },
        {
          "output_type": "stream",
          "name": "stderr",
          "text": [
            " 37%|███▋      | 11.147651006711143/30 [03:23<05:47, 18.44s/it]"
          ]
        },
        {
          "output_type": "stream",
          "name": "stdout",
          "text": [
            "Train Epoch: 12 [5120/30441 (17%)]\tLoss: 0.197697\tAccuracy: 5163/30441 (17%)\n"
          ]
        },
        {
          "output_type": "stream",
          "name": "stderr",
          "text": [
            " 38%|███▊      | 11.28187919463059/30 [03:25<05:53, 18.91s/it] "
          ]
        },
        {
          "output_type": "stream",
          "name": "stdout",
          "text": [
            "Train Epoch: 12 [10240/30441 (34%)]\tLoss: 0.245128\tAccuracy: 10055/30441 (33%)\n"
          ]
        },
        {
          "output_type": "stream",
          "name": "stderr",
          "text": [
            " 38%|███▊      | 11.416107382550038/30 [03:28<06:10, 19.91s/it]"
          ]
        },
        {
          "output_type": "stream",
          "name": "stdout",
          "text": [
            "Train Epoch: 12 [15360/30441 (50%)]\tLoss: 0.284033\tAccuracy: 14972/30441 (49%)\n"
          ]
        },
        {
          "output_type": "stream",
          "name": "stderr",
          "text": [
            " 39%|███▊      | 11.550335570469485/30 [03:30<05:45, 18.72s/it]"
          ]
        },
        {
          "output_type": "stream",
          "name": "stdout",
          "text": [
            "Train Epoch: 12 [20480/30441 (67%)]\tLoss: 0.221116\tAccuracy: 19873/30441 (65%)\n"
          ]
        },
        {
          "output_type": "stream",
          "name": "stderr",
          "text": [
            " 39%|███▉      | 11.684563758388933/30 [03:33<05:42, 18.72s/it]"
          ]
        },
        {
          "output_type": "stream",
          "name": "stdout",
          "text": [
            "Train Epoch: 12 [25600/30441 (84%)]\tLoss: 0.308327\tAccuracy: 24777/30441 (81%)\n"
          ]
        },
        {
          "output_type": "stream",
          "name": "stderr",
          "text": [
            " 40%|████      | 12.006711409395606/30 [03:38<04:13, 14.07s/it]"
          ]
        },
        {
          "output_type": "stream",
          "name": "stdout",
          "text": [
            "\n",
            "Test Epoch: 12 \tLoss: 11.126921\tAccuracy: 869/7611 (11%)\n",
            "\n",
            "Train Epoch: 13 [0/30441 (0%)]\tLoss: 0.221148\tAccuracy: 246/30441 (1%)\n"
          ]
        },
        {
          "output_type": "stream",
          "name": "stderr",
          "text": [
            " 40%|████      | 12.147651006711026/30 [03:41<06:09, 20.69s/it]"
          ]
        },
        {
          "output_type": "stream",
          "name": "stdout",
          "text": [
            "Train Epoch: 13 [5120/30441 (17%)]\tLoss: 0.206177\tAccuracy: 5181/30441 (17%)\n"
          ]
        },
        {
          "output_type": "stream",
          "name": "stderr",
          "text": [
            " 41%|████      | 12.281879194630474/30 [03:43<05:32, 18.77s/it]"
          ]
        },
        {
          "output_type": "stream",
          "name": "stdout",
          "text": [
            "Train Epoch: 13 [10240/30441 (34%)]\tLoss: 0.224985\tAccuracy: 10089/30441 (33%)\n"
          ]
        },
        {
          "output_type": "stream",
          "name": "stderr",
          "text": [
            " 41%|████▏     | 12.41610738254992/30 [03:46<05:35, 19.10s/it] "
          ]
        },
        {
          "output_type": "stream",
          "name": "stdout",
          "text": [
            "Train Epoch: 13 [15360/30441 (50%)]\tLoss: 0.187912\tAccuracy: 14977/30441 (49%)\n"
          ]
        },
        {
          "output_type": "stream",
          "name": "stderr",
          "text": [
            " 42%|████▏     | 12.543624161073396/30 [03:48<05:50, 20.06s/it]"
          ]
        },
        {
          "output_type": "stream",
          "name": "stdout",
          "text": [
            "Train Epoch: 13 [20480/30441 (67%)]\tLoss: 0.253951\tAccuracy: 19886/30441 (65%)\n"
          ]
        },
        {
          "output_type": "stream",
          "name": "stderr",
          "text": [
            " 42%|████▏     | 12.684563758388816/30 [03:51<05:25, 18.78s/it]"
          ]
        },
        {
          "output_type": "stream",
          "name": "stdout",
          "text": [
            "Train Epoch: 13 [25600/30441 (84%)]\tLoss: 0.245429\tAccuracy: 24813/30441 (82%)\n"
          ]
        },
        {
          "output_type": "stream",
          "name": "stderr",
          "text": [
            " 43%|████▎     | 12.999999999999517/30 [03:56<03:45, 13.29s/it]"
          ]
        },
        {
          "output_type": "stream",
          "name": "stdout",
          "text": [
            "\n",
            "Test Epoch: 13 \tLoss: 5.802012\tAccuracy: 1924/7611 (25%)\n",
            "\n",
            "Train Epoch: 14 [0/30441 (0%)]\tLoss: 0.241182\tAccuracy: 244/30441 (1%)\n"
          ]
        },
        {
          "output_type": "stream",
          "name": "stderr",
          "text": [
            " 44%|████▍     | 13.147651006710909/30 [03:59<05:19, 18.93s/it]"
          ]
        },
        {
          "output_type": "stream",
          "name": "stdout",
          "text": [
            "Train Epoch: 14 [5120/30441 (17%)]\tLoss: 0.267119\tAccuracy: 5148/30441 (17%)\n"
          ]
        },
        {
          "output_type": "stream",
          "name": "stderr",
          "text": [
            " 44%|████▍     | 13.275167785234384/30 [04:01<05:19, 19.10s/it]"
          ]
        },
        {
          "output_type": "stream",
          "name": "stdout",
          "text": [
            "Train Epoch: 14 [10240/30441 (34%)]\tLoss: 0.210015\tAccuracy: 10088/30441 (33%)\n"
          ]
        },
        {
          "output_type": "stream",
          "name": "stderr",
          "text": [
            " 45%|████▍     | 13.416107382549804/30 [04:04<05:05, 18.39s/it]"
          ]
        },
        {
          "output_type": "stream",
          "name": "stdout",
          "text": [
            "Train Epoch: 14 [15360/30441 (50%)]\tLoss: 0.243711\tAccuracy: 14994/30441 (49%)\n"
          ]
        },
        {
          "output_type": "stream",
          "name": "stderr",
          "text": [
            " 45%|████▌     | 13.550335570469251/30 [04:07<05:37, 20.54s/it]"
          ]
        },
        {
          "output_type": "stream",
          "name": "stdout",
          "text": [
            "Train Epoch: 14 [20480/30441 (67%)]\tLoss: 0.242707\tAccuracy: 19921/30441 (65%)\n"
          ]
        },
        {
          "output_type": "stream",
          "name": "stderr",
          "text": [
            " 46%|████▌     | 13.677852348992726/30 [04:09<05:19, 19.58s/it]"
          ]
        },
        {
          "output_type": "stream",
          "name": "stdout",
          "text": [
            "Train Epoch: 14 [25600/30441 (84%)]\tLoss: 0.248676\tAccuracy: 24832/30441 (82%)\n"
          ]
        },
        {
          "output_type": "stream",
          "name": "stderr",
          "text": [
            " 47%|████▋     | 14.006711409395372/30 [04:14<03:46, 14.16s/it]"
          ]
        },
        {
          "output_type": "stream",
          "name": "stdout",
          "text": [
            "\n",
            "Test Epoch: 14 \tLoss: 8.405938\tAccuracy: 1443/7611 (19%)\n",
            "\n",
            "Train Epoch: 15 [0/30441 (0%)]\tLoss: 0.236173\tAccuracy: 247/30441 (1%)\n"
          ]
        },
        {
          "output_type": "stream",
          "name": "stderr",
          "text": [
            " 47%|████▋     | 14.147651006710792/30 [04:17<05:18, 20.08s/it]"
          ]
        },
        {
          "output_type": "stream",
          "name": "stdout",
          "text": [
            "Train Epoch: 15 [5120/30441 (17%)]\tLoss: 0.251546\tAccuracy: 5174/30441 (17%)\n"
          ]
        },
        {
          "output_type": "stream",
          "name": "stderr",
          "text": [
            " 48%|████▊     | 14.281879194630239/30 [04:20<04:55, 18.83s/it]"
          ]
        },
        {
          "output_type": "stream",
          "name": "stdout",
          "text": [
            "Train Epoch: 15 [10240/30441 (34%)]\tLoss: 0.257548\tAccuracy: 10064/30441 (33%)\n"
          ]
        },
        {
          "output_type": "stream",
          "name": "stderr",
          "text": [
            " 48%|████▊     | 14.416107382549686/30 [04:22<04:53, 18.85s/it]"
          ]
        },
        {
          "output_type": "stream",
          "name": "stdout",
          "text": [
            "Train Epoch: 15 [15360/30441 (50%)]\tLoss: 0.268762\tAccuracy: 14965/30441 (49%)\n"
          ]
        },
        {
          "output_type": "stream",
          "name": "stderr",
          "text": [
            " 49%|████▊     | 14.550335570469134/30 [04:25<04:38, 18.01s/it]"
          ]
        },
        {
          "output_type": "stream",
          "name": "stdout",
          "text": [
            "Train Epoch: 15 [20480/30441 (67%)]\tLoss: 0.388257\tAccuracy: 19833/30441 (65%)\n"
          ]
        },
        {
          "output_type": "stream",
          "name": "stderr",
          "text": [
            " 49%|████▉     | 14.684563758388581/30 [04:27<04:44, 18.60s/it]"
          ]
        },
        {
          "output_type": "stream",
          "name": "stdout",
          "text": [
            "Train Epoch: 15 [25600/30441 (84%)]\tLoss: 0.169615\tAccuracy: 24783/30441 (81%)\n"
          ]
        },
        {
          "output_type": "stream",
          "name": "stderr",
          "text": [
            " 50%|█████     | 15.006711409395255/30 [04:33<03:43, 14.88s/it]"
          ]
        },
        {
          "output_type": "stream",
          "name": "stdout",
          "text": [
            "\n",
            "Test Epoch: 15 \tLoss: 15.981853\tAccuracy: 836/7611 (11%)\n",
            "\n",
            "Train Epoch: 16 [0/30441 (0%)]\tLoss: 0.198934\tAccuracy: 246/30441 (1%)\n"
          ]
        },
        {
          "output_type": "stream",
          "name": "stderr",
          "text": [
            " 50%|█████     | 15.147651006710674/30 [04:35<04:40, 18.88s/it]"
          ]
        },
        {
          "output_type": "stream",
          "name": "stdout",
          "text": [
            "Train Epoch: 16 [5120/30441 (17%)]\tLoss: 0.176001\tAccuracy: 5154/30441 (17%)\n"
          ]
        },
        {
          "output_type": "stream",
          "name": "stderr",
          "text": [
            " 51%|█████     | 15.281879194630122/30 [04:38<04:35, 18.73s/it]"
          ]
        },
        {
          "output_type": "stream",
          "name": "stdout",
          "text": [
            "Train Epoch: 16 [10240/30441 (34%)]\tLoss: 0.234496\tAccuracy: 10062/30441 (33%)\n"
          ]
        },
        {
          "output_type": "stream",
          "name": "stderr",
          "text": [
            " 51%|█████▏    | 15.41610738254957/30 [04:41<04:35, 18.90s/it] "
          ]
        },
        {
          "output_type": "stream",
          "name": "stdout",
          "text": [
            "Train Epoch: 16 [15360/30441 (50%)]\tLoss: 0.147358\tAccuracy: 14975/30441 (49%)\n"
          ]
        },
        {
          "output_type": "stream",
          "name": "stderr",
          "text": [
            " 52%|█████▏    | 15.550335570469016/30 [04:43<05:02, 20.93s/it]"
          ]
        },
        {
          "output_type": "stream",
          "name": "stdout",
          "text": [
            "Train Epoch: 16 [20480/30441 (67%)]\tLoss: 0.177292\tAccuracy: 19909/30441 (65%)\n"
          ]
        },
        {
          "output_type": "stream",
          "name": "stderr",
          "text": [
            " 52%|█████▏    | 15.684563758388464/30 [04:46<04:25, 18.57s/it]"
          ]
        },
        {
          "output_type": "stream",
          "name": "stdout",
          "text": [
            "Train Epoch: 16 [25600/30441 (84%)]\tLoss: 0.353096\tAccuracy: 24793/30441 (81%)\n"
          ]
        },
        {
          "output_type": "stream",
          "name": "stderr",
          "text": [
            " 53%|█████▎    | 16.006711409395137/30 [04:51<03:25, 14.72s/it]"
          ]
        },
        {
          "output_type": "stream",
          "name": "stdout",
          "text": [
            "\n",
            "Test Epoch: 16 \tLoss: 9.413623\tAccuracy: 976/7611 (13%)\n",
            "\n",
            "Train Epoch: 17 [0/30441 (0%)]\tLoss: 0.291377\tAccuracy: 245/30441 (1%)\n"
          ]
        },
        {
          "output_type": "stream",
          "name": "stderr",
          "text": [
            " 54%|█████▍    | 16.147651006710557/30 [04:54<04:15, 18.44s/it]"
          ]
        },
        {
          "output_type": "stream",
          "name": "stdout",
          "text": [
            "Train Epoch: 17 [5120/30441 (17%)]\tLoss: 0.212095\tAccuracy: 5179/30441 (17%)\n"
          ]
        },
        {
          "output_type": "stream",
          "name": "stderr",
          "text": [
            " 54%|█████▍    | 16.281879194630005/30 [04:56<04:36, 20.12s/it]"
          ]
        },
        {
          "output_type": "stream",
          "name": "stdout",
          "text": [
            "Train Epoch: 17 [10240/30441 (34%)]\tLoss: 0.321340\tAccuracy: 10102/30441 (33%)\n"
          ]
        },
        {
          "output_type": "stream",
          "name": "stderr",
          "text": [
            " 55%|█████▍    | 16.40939597315348/30 [04:59<04:31, 20.00s/it] "
          ]
        },
        {
          "output_type": "stream",
          "name": "stdout",
          "text": [
            "Train Epoch: 17 [15360/30441 (50%)]\tLoss: 0.322373\tAccuracy: 15029/30441 (49%)\n"
          ]
        },
        {
          "output_type": "stream",
          "name": "stderr",
          "text": [
            " 55%|█████▌    | 16.5503355704689/30 [05:02<04:06, 18.32s/it]  "
          ]
        },
        {
          "output_type": "stream",
          "name": "stdout",
          "text": [
            "Train Epoch: 17 [20480/30441 (67%)]\tLoss: 0.264838\tAccuracy: 19941/30441 (66%)\n"
          ]
        },
        {
          "output_type": "stream",
          "name": "stderr",
          "text": [
            " 56%|█████▌    | 16.684563758388347/30 [05:04<04:04, 18.34s/it]"
          ]
        },
        {
          "output_type": "stream",
          "name": "stdout",
          "text": [
            "Train Epoch: 17 [25600/30441 (84%)]\tLoss: 0.306815\tAccuracy: 24854/30441 (82%)\n"
          ]
        },
        {
          "output_type": "stream",
          "name": "stderr",
          "text": [
            " 57%|█████▋    | 17.00671140939502/30 [05:10<04:11, 19.35s/it] "
          ]
        },
        {
          "output_type": "stream",
          "name": "stdout",
          "text": [
            "\n",
            "Test Epoch: 17 \tLoss: 13.562942\tAccuracy: 765/7611 (10%)\n",
            "\n",
            "Train Epoch: 18 [0/30441 (0%)]\tLoss: 0.282517\tAccuracy: 246/30441 (1%)\n"
          ]
        },
        {
          "output_type": "stream",
          "name": "stderr",
          "text": [
            " 57%|█████▋    | 17.140939597314468/30 [05:13<04:20, 20.29s/it]"
          ]
        },
        {
          "output_type": "stream",
          "name": "stdout",
          "text": [
            "Train Epoch: 18 [5120/30441 (17%)]\tLoss: 0.300830\tAccuracy: 5171/30441 (17%)\n"
          ]
        },
        {
          "output_type": "stream",
          "name": "stderr",
          "text": [
            " 58%|█████▊    | 17.281879194629887/30 [05:16<03:52, 18.30s/it]"
          ]
        },
        {
          "output_type": "stream",
          "name": "stdout",
          "text": [
            "Train Epoch: 18 [10240/30441 (34%)]\tLoss: 0.262597\tAccuracy: 10101/30441 (33%)\n"
          ]
        },
        {
          "output_type": "stream",
          "name": "stderr",
          "text": [
            " 58%|█████▊    | 17.416107382549335/30 [05:18<03:50, 18.34s/it]"
          ]
        },
        {
          "output_type": "stream",
          "name": "stdout",
          "text": [
            "Train Epoch: 18 [15360/30441 (50%)]\tLoss: 0.171990\tAccuracy: 15027/30441 (49%)\n"
          ]
        },
        {
          "output_type": "stream",
          "name": "stderr",
          "text": [
            " 58%|█████▊    | 17.54362416107281/30 [05:20<04:16, 20.61s/it] "
          ]
        },
        {
          "output_type": "stream",
          "name": "stdout",
          "text": [
            "Train Epoch: 18 [20480/30441 (67%)]\tLoss: 0.286127\tAccuracy: 19959/30441 (66%)\n"
          ]
        },
        {
          "output_type": "stream",
          "name": "stderr",
          "text": [
            " 59%|█████▉    | 17.68456375838823/30 [05:23<04:18, 20.98s/it] "
          ]
        },
        {
          "output_type": "stream",
          "name": "stdout",
          "text": [
            "Train Epoch: 18 [25600/30441 (84%)]\tLoss: 0.173124\tAccuracy: 24883/30441 (82%)\n"
          ]
        },
        {
          "output_type": "stream",
          "name": "stderr",
          "text": [
            " 60%|██████    | 18.006711409394903/30 [05:28<02:50, 14.22s/it]"
          ]
        },
        {
          "output_type": "stream",
          "name": "stdout",
          "text": [
            "\n",
            "Test Epoch: 18 \tLoss: 10.702303\tAccuracy: 1707/7611 (22%)\n",
            "\n",
            "Train Epoch: 19 [0/30441 (0%)]\tLoss: 0.246748\tAccuracy: 246/30441 (1%)\n"
          ]
        },
        {
          "output_type": "stream",
          "name": "stderr",
          "text": [
            " 60%|██████    | 18.147651006710323/30 [05:31<03:39, 18.53s/it]"
          ]
        },
        {
          "output_type": "stream",
          "name": "stdout",
          "text": [
            "Train Epoch: 19 [5120/30441 (17%)]\tLoss: 0.284418\tAccuracy: 5139/30441 (17%)\n"
          ]
        },
        {
          "output_type": "stream",
          "name": "stderr",
          "text": [
            " 61%|██████    | 18.28187919462977/30 [05:34<03:59, 20.41s/it] "
          ]
        },
        {
          "output_type": "stream",
          "name": "stdout",
          "text": [
            "Train Epoch: 19 [10240/30441 (34%)]\tLoss: 0.339884\tAccuracy: 10065/30441 (33%)\n"
          ]
        },
        {
          "output_type": "stream",
          "name": "stderr",
          "text": [
            " 61%|██████▏   | 18.416107382549217/30 [05:36<03:36, 18.70s/it]"
          ]
        },
        {
          "output_type": "stream",
          "name": "stdout",
          "text": [
            "Train Epoch: 19 [15360/30441 (50%)]\tLoss: 0.340262\tAccuracy: 14973/30441 (49%)\n"
          ]
        },
        {
          "output_type": "stream",
          "name": "stderr",
          "text": [
            " 62%|██████▏   | 18.550335570468665/30 [05:39<04:11, 22.00s/it]"
          ]
        },
        {
          "output_type": "stream",
          "name": "stdout",
          "text": [
            "Train Epoch: 19 [20480/30441 (67%)]\tLoss: 0.241303\tAccuracy: 19886/30441 (65%)\n"
          ]
        },
        {
          "output_type": "stream",
          "name": "stderr",
          "text": [
            " 62%|██████▏   | 18.684563758388112/30 [05:42<04:03, 21.52s/it]"
          ]
        },
        {
          "output_type": "stream",
          "name": "stdout",
          "text": [
            "Train Epoch: 19 [25600/30441 (84%)]\tLoss: 0.208414\tAccuracy: 24810/30441 (82%)\n"
          ]
        },
        {
          "output_type": "stream",
          "name": "stderr",
          "text": [
            " 63%|██████▎   | 19.006711409394786/30 [05:48<03:13, 17.57s/it]"
          ]
        },
        {
          "output_type": "stream",
          "name": "stdout",
          "text": [
            "\n",
            "Test Epoch: 19 \tLoss: 17.940573\tAccuracy: 770/7611 (10%)\n",
            "\n",
            "Train Epoch: 20 [0/30441 (0%)]\tLoss: 0.242291\tAccuracy: 244/30441 (1%)\n"
          ]
        },
        {
          "output_type": "stream",
          "name": "stderr",
          "text": [
            " 64%|██████▍   | 19.140939597314233/30 [05:50<03:36, 19.97s/it]"
          ]
        },
        {
          "output_type": "stream",
          "name": "stdout",
          "text": [
            "Train Epoch: 20 [5120/30441 (17%)]\tLoss: 0.259318\tAccuracy: 5153/30441 (17%)\n"
          ]
        },
        {
          "output_type": "stream",
          "name": "stderr",
          "text": [
            " 64%|██████▍   | 19.27516778523368/30 [05:53<03:36, 20.18s/it] "
          ]
        },
        {
          "output_type": "stream",
          "name": "stdout",
          "text": [
            "Train Epoch: 20 [10240/30441 (34%)]\tLoss: 0.281766\tAccuracy: 10091/30441 (33%)\n"
          ]
        },
        {
          "output_type": "stream",
          "name": "stderr",
          "text": [
            " 65%|██████▍   | 19.4161073825491/30 [05:55<03:19, 18.85s/it]  "
          ]
        },
        {
          "output_type": "stream",
          "name": "stdout",
          "text": [
            "Train Epoch: 20 [15360/30441 (50%)]\tLoss: 0.163270\tAccuracy: 15015/30441 (49%)\n"
          ]
        },
        {
          "output_type": "stream",
          "name": "stderr",
          "text": [
            " 65%|██████▌   | 19.543624161072575/30 [05:58<03:32, 20.34s/it]"
          ]
        },
        {
          "output_type": "stream",
          "name": "stdout",
          "text": [
            "Train Epoch: 20 [20480/30441 (67%)]\tLoss: 0.273098\tAccuracy: 19931/30441 (65%)\n"
          ]
        },
        {
          "output_type": "stream",
          "name": "stderr",
          "text": [
            " 66%|██████▌   | 19.677852348992023/30 [06:01<04:01, 23.42s/it]"
          ]
        },
        {
          "output_type": "stream",
          "name": "stdout",
          "text": [
            "Train Epoch: 20 [25600/30441 (84%)]\tLoss: 0.303162\tAccuracy: 24854/30441 (82%)\n"
          ]
        },
        {
          "output_type": "stream",
          "name": "stderr",
          "text": [
            " 67%|██████▋   | 20.00671140939467/30 [06:06<02:20, 14.07s/it] "
          ]
        },
        {
          "output_type": "stream",
          "name": "stdout",
          "text": [
            "\n",
            "Test Epoch: 20 \tLoss: 6.104124\tAccuracy: 799/7611 (10%)\n",
            "\n",
            "Train Epoch: 21 [0/30441 (0%)]\tLoss: 0.240061\tAccuracy: 246/30441 (1%)\n"
          ]
        },
        {
          "output_type": "stream",
          "name": "stderr",
          "text": [
            " 67%|██████▋   | 20.14765100671009/30 [06:08<03:04, 18.71s/it] "
          ]
        },
        {
          "output_type": "stream",
          "name": "stdout",
          "text": [
            "Train Epoch: 21 [5120/30441 (17%)]\tLoss: 0.263657\tAccuracy: 5161/30441 (17%)\n"
          ]
        },
        {
          "output_type": "stream",
          "name": "stderr",
          "text": [
            " 68%|██████▊   | 20.281879194629536/30 [06:11<03:23, 20.99s/it]"
          ]
        },
        {
          "output_type": "stream",
          "name": "stdout",
          "text": [
            "Train Epoch: 21 [10240/30441 (34%)]\tLoss: 0.154205\tAccuracy: 10106/30441 (33%)\n"
          ]
        },
        {
          "output_type": "stream",
          "name": "stderr",
          "text": [
            " 68%|██████▊   | 20.416107382548983/30 [06:14<03:04, 19.21s/it]"
          ]
        },
        {
          "output_type": "stream",
          "name": "stdout",
          "text": [
            "Train Epoch: 21 [15360/30441 (50%)]\tLoss: 0.168065\tAccuracy: 15045/30441 (49%)\n"
          ]
        },
        {
          "output_type": "stream",
          "name": "stderr",
          "text": [
            " 69%|██████▊   | 20.55033557046843/30 [06:16<02:59, 19.00s/it] "
          ]
        },
        {
          "output_type": "stream",
          "name": "stdout",
          "text": [
            "Train Epoch: 21 [20480/30441 (67%)]\tLoss: 0.189675\tAccuracy: 19983/30441 (66%)\n"
          ]
        },
        {
          "output_type": "stream",
          "name": "stderr",
          "text": [
            " 69%|██████▉   | 20.677852348991905/30 [06:19<03:01, 19.47s/it]"
          ]
        },
        {
          "output_type": "stream",
          "name": "stdout",
          "text": [
            "Train Epoch: 21 [25600/30441 (84%)]\tLoss: 0.229373\tAccuracy: 24947/30441 (82%)\n"
          ]
        },
        {
          "output_type": "stream",
          "name": "stderr",
          "text": [
            " 70%|███████   | 21.00671140939455/30 [06:24<02:28, 16.57s/it] "
          ]
        },
        {
          "output_type": "stream",
          "name": "stdout",
          "text": [
            "\n",
            "Test Epoch: 21 \tLoss: 3.616819\tAccuracy: 2912/7611 (38%)\n",
            "\n",
            "Train Epoch: 22 [0/30441 (0%)]\tLoss: 0.256201\tAccuracy: 246/30441 (1%)\n"
          ]
        },
        {
          "output_type": "stream",
          "name": "stderr",
          "text": [
            " 70%|███████   | 21.14765100670997/30 [06:27<02:45, 18.65s/it]"
          ]
        },
        {
          "output_type": "stream",
          "name": "stdout",
          "text": [
            "Train Epoch: 22 [5120/30441 (17%)]\tLoss: 0.097441\tAccuracy: 5201/30441 (17%)\n"
          ]
        },
        {
          "output_type": "stream",
          "name": "stderr",
          "text": [
            " 71%|███████   | 21.28187919462942/30 [06:29<02:44, 18.87s/it] "
          ]
        },
        {
          "output_type": "stream",
          "name": "stdout",
          "text": [
            "Train Epoch: 22 [10240/30441 (34%)]\tLoss: 0.191151\tAccuracy: 10164/30441 (33%)\n"
          ]
        },
        {
          "output_type": "stream",
          "name": "stderr",
          "text": [
            " 71%|███████▏  | 21.416107382548866/30 [06:32<02:42, 18.97s/it]"
          ]
        },
        {
          "output_type": "stream",
          "name": "stdout",
          "text": [
            "Train Epoch: 22 [15360/30441 (50%)]\tLoss: 0.259249\tAccuracy: 15118/30441 (50%)\n"
          ]
        },
        {
          "output_type": "stream",
          "name": "stderr",
          "text": [
            " 72%|███████▏  | 21.550335570468313/30 [06:34<02:40, 18.96s/it]"
          ]
        },
        {
          "output_type": "stream",
          "name": "stdout",
          "text": [
            "Train Epoch: 22 [20480/30441 (67%)]\tLoss: 0.177380\tAccuracy: 20068/30441 (66%)\n"
          ]
        },
        {
          "output_type": "stream",
          "name": "stderr",
          "text": [
            " 72%|███████▏  | 21.68456375838776/30 [06:37<03:02, 21.90s/it] "
          ]
        },
        {
          "output_type": "stream",
          "name": "stdout",
          "text": [
            "Train Epoch: 22 [25600/30441 (84%)]\tLoss: 0.204771\tAccuracy: 24999/30441 (82%)\n"
          ]
        },
        {
          "output_type": "stream",
          "name": "stderr",
          "text": [
            " 73%|███████▎  | 22.006711409394434/30 [06:44<02:18, 17.27s/it]"
          ]
        },
        {
          "output_type": "stream",
          "name": "stdout",
          "text": [
            "\n",
            "Test Epoch: 22 \tLoss: 2.230963\tAccuracy: 3719/7611 (49%)\n",
            "\n",
            "Train Epoch: 23 [0/30441 (0%)]\tLoss: 0.291499\tAccuracy: 241/30441 (1%)\n"
          ]
        },
        {
          "output_type": "stream",
          "name": "stderr",
          "text": [
            " 74%|███████▍  | 22.147651006709854/30 [06:46<02:31, 19.32s/it]"
          ]
        },
        {
          "output_type": "stream",
          "name": "stdout",
          "text": [
            "Train Epoch: 23 [5120/30441 (17%)]\tLoss: 0.093866\tAccuracy: 5199/30441 (17%)\n"
          ]
        },
        {
          "output_type": "stream",
          "name": "stderr",
          "text": [
            " 74%|███████▍  | 22.2818791946293/30 [06:49<02:44, 21.31s/it] "
          ]
        },
        {
          "output_type": "stream",
          "name": "stdout",
          "text": [
            "Train Epoch: 23 [10240/30441 (34%)]\tLoss: 0.271230\tAccuracy: 10143/30441 (33%)\n"
          ]
        },
        {
          "output_type": "stream",
          "name": "stderr",
          "text": [
            " 75%|███████▍  | 22.409395973152776/30 [06:52<02:38, 20.84s/it]"
          ]
        },
        {
          "output_type": "stream",
          "name": "stdout",
          "text": [
            "Train Epoch: 23 [15360/30441 (50%)]\tLoss: 0.213734\tAccuracy: 15083/30441 (50%)\n"
          ]
        },
        {
          "output_type": "stream",
          "name": "stderr",
          "text": [
            " 75%|███████▌  | 22.550335570468196/30 [06:54<02:17, 18.51s/it]"
          ]
        },
        {
          "output_type": "stream",
          "name": "stdout",
          "text": [
            "Train Epoch: 23 [20480/30441 (67%)]\tLoss: 0.153935\tAccuracy: 20037/30441 (66%)\n"
          ]
        },
        {
          "output_type": "stream",
          "name": "stderr",
          "text": [
            " 76%|███████▌  | 22.67785234899167/30 [06:57<02:22, 19.52s/it]"
          ]
        },
        {
          "output_type": "stream",
          "name": "stdout",
          "text": [
            "Train Epoch: 23 [25600/30441 (84%)]\tLoss: 0.048087\tAccuracy: 24996/30441 (82%)\n"
          ]
        },
        {
          "output_type": "stream",
          "name": "stderr",
          "text": [
            " 77%|███████▋  | 23.006711409394317/30 [07:02<02:04, 17.76s/it]"
          ]
        },
        {
          "output_type": "stream",
          "name": "stdout",
          "text": [
            "\n",
            "Test Epoch: 23 \tLoss: 4.850703\tAccuracy: 2520/7611 (33%)\n",
            "\n",
            "Train Epoch: 24 [0/30441 (0%)]\tLoss: 0.157857\tAccuracy: 249/30441 (1%)\n"
          ]
        },
        {
          "output_type": "stream",
          "name": "stderr",
          "text": [
            " 77%|███████▋  | 23.140939597313764/30 [07:05<02:18, 20.12s/it]"
          ]
        },
        {
          "output_type": "stream",
          "name": "stdout",
          "text": [
            "Train Epoch: 24 [5120/30441 (17%)]\tLoss: 0.297636\tAccuracy: 5198/30441 (17%)\n"
          ]
        },
        {
          "output_type": "stream",
          "name": "stderr",
          "text": [
            " 78%|███████▊  | 23.27516778523321/30 [07:07<02:10, 19.41s/it]"
          ]
        },
        {
          "output_type": "stream",
          "name": "stdout",
          "text": [
            "Train Epoch: 24 [10240/30441 (34%)]\tLoss: 0.298797\tAccuracy: 10133/30441 (33%)\n"
          ]
        },
        {
          "output_type": "stream",
          "name": "stderr",
          "text": [
            " 78%|███████▊  | 23.40939597315266/30 [07:10<02:06, 19.25s/it] "
          ]
        },
        {
          "output_type": "stream",
          "name": "stdout",
          "text": [
            "Train Epoch: 24 [15360/30441 (50%)]\tLoss: 0.174022\tAccuracy: 15107/30441 (50%)\n"
          ]
        },
        {
          "output_type": "stream",
          "name": "stderr",
          "text": [
            " 79%|███████▊  | 23.55033557046808/30 [07:12<02:03, 19.14s/it] "
          ]
        },
        {
          "output_type": "stream",
          "name": "stdout",
          "text": [
            "Train Epoch: 24 [20480/30441 (67%)]\tLoss: 0.250450\tAccuracy: 20047/30441 (66%)\n"
          ]
        },
        {
          "output_type": "stream",
          "name": "stderr",
          "text": [
            " 79%|███████▉  | 23.684563758387526/30 [07:15<02:11, 20.81s/it]"
          ]
        },
        {
          "output_type": "stream",
          "name": "stdout",
          "text": [
            "Train Epoch: 24 [25600/30441 (84%)]\tLoss: 0.131846\tAccuracy: 25003/30441 (82%)\n"
          ]
        },
        {
          "output_type": "stream",
          "name": "stderr",
          "text": [
            " 80%|████████  | 24.0067114093942/30 [07:20<01:26, 14.47s/it]  "
          ]
        },
        {
          "output_type": "stream",
          "name": "stdout",
          "text": [
            "\n",
            "Test Epoch: 24 \tLoss: 1.314113\tAccuracy: 4515/7611 (59%)\n",
            "\n",
            "Train Epoch: 25 [0/30441 (0%)]\tLoss: 0.142471\tAccuracy: 250/30441 (1%)\n"
          ]
        },
        {
          "output_type": "stream",
          "name": "stderr",
          "text": [
            " 80%|████████  | 24.14765100670962/30 [07:23<01:49, 18.71s/it] "
          ]
        },
        {
          "output_type": "stream",
          "name": "stdout",
          "text": [
            "Train Epoch: 25 [5120/30441 (17%)]\tLoss: 0.147304\tAccuracy: 5210/30441 (17%)\n"
          ]
        },
        {
          "output_type": "stream",
          "name": "stderr",
          "text": [
            " 81%|████████  | 24.281879194629067/30 [07:25<01:54, 20.01s/it]"
          ]
        },
        {
          "output_type": "stream",
          "name": "stdout",
          "text": [
            "Train Epoch: 25 [10240/30441 (34%)]\tLoss: 0.159312\tAccuracy: 10137/30441 (33%)\n"
          ]
        },
        {
          "output_type": "stream",
          "name": "stderr",
          "text": [
            " 81%|████████▏ | 24.416107382548514/30 [07:28<01:46, 19.08s/it]"
          ]
        },
        {
          "output_type": "stream",
          "name": "stdout",
          "text": [
            "Train Epoch: 25 [15360/30441 (50%)]\tLoss: 0.252825\tAccuracy: 15092/30441 (50%)\n"
          ]
        },
        {
          "output_type": "stream",
          "name": "stderr",
          "text": [
            " 82%|████████▏ | 24.55033557046796/30 [07:31<01:40, 18.36s/it]"
          ]
        },
        {
          "output_type": "stream",
          "name": "stdout",
          "text": [
            "Train Epoch: 25 [20480/30441 (67%)]\tLoss: 0.207517\tAccuracy: 20034/30441 (66%)\n"
          ]
        },
        {
          "output_type": "stream",
          "name": "stderr",
          "text": [
            " 82%|████████▏ | 24.68456375838741/30 [07:33<01:42, 19.28s/it] "
          ]
        },
        {
          "output_type": "stream",
          "name": "stdout",
          "text": [
            "Train Epoch: 25 [25600/30441 (84%)]\tLoss: 0.141885\tAccuracy: 24984/30441 (82%)\n"
          ]
        },
        {
          "output_type": "stream",
          "name": "stderr",
          "text": [
            " 83%|████████▎ | 25.006711409394082/30 [07:38<01:19, 15.91s/it]"
          ]
        },
        {
          "output_type": "stream",
          "name": "stdout",
          "text": [
            "\n",
            "Test Epoch: 25 \tLoss: 6.714266\tAccuracy: 2100/7611 (28%)\n",
            "\n",
            "Train Epoch: 26 [0/30441 (0%)]\tLoss: 0.197821\tAccuracy: 248/30441 (1%)\n"
          ]
        },
        {
          "output_type": "stream",
          "name": "stderr",
          "text": [
            " 84%|████████▍ | 25.147651006709502/30 [07:42<01:46, 21.88s/it]"
          ]
        },
        {
          "output_type": "stream",
          "name": "stdout",
          "text": [
            "Train Epoch: 26 [5120/30441 (17%)]\tLoss: 0.229956\tAccuracy: 5184/30441 (17%)\n"
          ]
        },
        {
          "output_type": "stream",
          "name": "stderr",
          "text": [
            " 84%|████████▍ | 25.28187919462895/30 [07:45<01:30, 19.28s/it] "
          ]
        },
        {
          "output_type": "stream",
          "name": "stdout",
          "text": [
            "Train Epoch: 26 [10240/30441 (34%)]\tLoss: 0.200504\tAccuracy: 10133/30441 (33%)\n"
          ]
        },
        {
          "output_type": "stream",
          "name": "stderr",
          "text": [
            " 85%|████████▍ | 25.416107382548397/30 [07:47<01:25, 18.67s/it]"
          ]
        },
        {
          "output_type": "stream",
          "name": "stdout",
          "text": [
            "Train Epoch: 26 [15360/30441 (50%)]\tLoss: 0.145079\tAccuracy: 15103/30441 (50%)\n"
          ]
        },
        {
          "output_type": "stream",
          "name": "stderr",
          "text": [
            " 85%|████████▌ | 25.550335570467844/30 [07:50<01:24, 18.93s/it]"
          ]
        },
        {
          "output_type": "stream",
          "name": "stdout",
          "text": [
            "Train Epoch: 26 [20480/30441 (67%)]\tLoss: 0.262417\tAccuracy: 20053/30441 (66%)\n"
          ]
        },
        {
          "output_type": "stream",
          "name": "stderr",
          "text": [
            " 86%|████████▌ | 25.68456375838729/30 [07:52<01:31, 21.21s/it]"
          ]
        },
        {
          "output_type": "stream",
          "name": "stdout",
          "text": [
            "Train Epoch: 26 [25600/30441 (84%)]\tLoss: 0.195332\tAccuracy: 25011/30441 (82%)\n"
          ]
        },
        {
          "output_type": "stream",
          "name": "stderr",
          "text": [
            " 87%|████████▋ | 26.006711409393965/30 [07:57<00:57, 14.29s/it]"
          ]
        },
        {
          "output_type": "stream",
          "name": "stdout",
          "text": [
            "\n",
            "Test Epoch: 26 \tLoss: 14.459328\tAccuracy: 901/7611 (12%)\n",
            "\n",
            "Train Epoch: 27 [0/30441 (0%)]\tLoss: 0.121507\tAccuracy: 251/30441 (1%)\n"
          ]
        },
        {
          "output_type": "stream",
          "name": "stderr",
          "text": [
            " 87%|████████▋ | 26.147651006709385/30 [08:00<01:11, 18.68s/it]"
          ]
        },
        {
          "output_type": "stream",
          "name": "stdout",
          "text": [
            "Train Epoch: 27 [5120/30441 (17%)]\tLoss: 0.170469\tAccuracy: 5198/30441 (17%)\n"
          ]
        },
        {
          "output_type": "stream",
          "name": "stderr",
          "text": [
            " 88%|████████▊ | 26.27516778523286/30 [08:02<01:14, 19.87s/it] "
          ]
        },
        {
          "output_type": "stream",
          "name": "stdout",
          "text": [
            "Train Epoch: 27 [10240/30441 (34%)]\tLoss: 0.123312\tAccuracy: 10143/30441 (33%)\n"
          ]
        },
        {
          "output_type": "stream",
          "name": "stderr",
          "text": [
            " 88%|████████▊ | 26.41610738254828/30 [08:05<01:18, 21.89s/it] "
          ]
        },
        {
          "output_type": "stream",
          "name": "stdout",
          "text": [
            "Train Epoch: 27 [15360/30441 (50%)]\tLoss: 0.263929\tAccuracy: 15070/30441 (50%)\n"
          ]
        },
        {
          "output_type": "stream",
          "name": "stderr",
          "text": [
            " 89%|████████▊ | 26.550335570467727/30 [08:08<01:05, 19.01s/it]"
          ]
        },
        {
          "output_type": "stream",
          "name": "stdout",
          "text": [
            "Train Epoch: 27 [20480/30441 (67%)]\tLoss: 0.100457\tAccuracy: 20036/30441 (66%)\n"
          ]
        },
        {
          "output_type": "stream",
          "name": "stderr",
          "text": [
            " 89%|████████▉ | 26.677852348991202/30 [08:10<01:07, 20.29s/it]"
          ]
        },
        {
          "output_type": "stream",
          "name": "stdout",
          "text": [
            "Train Epoch: 27 [25600/30441 (84%)]\tLoss: 0.169615\tAccuracy: 24990/30441 (82%)\n"
          ]
        },
        {
          "output_type": "stream",
          "name": "stderr",
          "text": [
            " 90%|█████████ | 27.006711409393848/30 [08:15<00:43, 14.40s/it]"
          ]
        },
        {
          "output_type": "stream",
          "name": "stdout",
          "text": [
            "\n",
            "Test Epoch: 27 \tLoss: 4.786731\tAccuracy: 2564/7611 (34%)\n",
            "\n",
            "Train Epoch: 28 [0/30441 (0%)]\tLoss: 0.111554\tAccuracy: 252/30441 (1%)\n"
          ]
        },
        {
          "output_type": "stream",
          "name": "stderr",
          "text": [
            " 90%|█████████ | 27.147651006709268/30 [08:18<00:54, 19.27s/it]"
          ]
        },
        {
          "output_type": "stream",
          "name": "stdout",
          "text": [
            "Train Epoch: 28 [5120/30441 (17%)]\tLoss: 0.293935\tAccuracy: 5195/30441 (17%)\n"
          ]
        },
        {
          "output_type": "stream",
          "name": "stderr",
          "text": [
            " 91%|█████████ | 27.281879194628715/30 [08:21<00:52, 19.30s/it]"
          ]
        },
        {
          "output_type": "stream",
          "name": "stdout",
          "text": [
            "Train Epoch: 28 [10240/30441 (34%)]\tLoss: 0.199438\tAccuracy: 10160/30441 (33%)\n"
          ]
        },
        {
          "output_type": "stream",
          "name": "stderr",
          "text": [
            " 91%|█████████▏| 27.40939597315219/30 [08:23<00:50, 19.59s/it] "
          ]
        },
        {
          "output_type": "stream",
          "name": "stdout",
          "text": [
            "Train Epoch: 28 [15360/30441 (50%)]\tLoss: 0.210022\tAccuracy: 15115/30441 (50%)\n"
          ]
        },
        {
          "output_type": "stream",
          "name": "stderr",
          "text": [
            " 92%|█████████▏| 27.55033557046761/30 [08:26<00:47, 19.39s/it] "
          ]
        },
        {
          "output_type": "stream",
          "name": "stdout",
          "text": [
            "Train Epoch: 28 [20480/30441 (67%)]\tLoss: 0.161157\tAccuracy: 20058/30441 (66%)\n"
          ]
        },
        {
          "output_type": "stream",
          "name": "stderr",
          "text": [
            " 92%|█████████▏| 27.684563758387057/30 [08:29<00:47, 20.58s/it]"
          ]
        },
        {
          "output_type": "stream",
          "name": "stdout",
          "text": [
            "Train Epoch: 28 [25600/30441 (84%)]\tLoss: 0.187204\tAccuracy: 25015/30441 (82%)\n"
          ]
        },
        {
          "output_type": "stream",
          "name": "stderr",
          "text": [
            " 93%|█████████▎| 28.00671140939373/30 [08:34<00:28, 14.13s/it] "
          ]
        },
        {
          "output_type": "stream",
          "name": "stdout",
          "text": [
            "\n",
            "Test Epoch: 28 \tLoss: 9.563622\tAccuracy: 828/7611 (11%)\n",
            "\n",
            "Train Epoch: 29 [0/30441 (0%)]\tLoss: 0.107624\tAccuracy: 252/30441 (1%)\n"
          ]
        },
        {
          "output_type": "stream",
          "name": "stderr",
          "text": [
            " 94%|█████████▍| 28.140939597313178/30 [08:36<00:37, 20.23s/it]"
          ]
        },
        {
          "output_type": "stream",
          "name": "stdout",
          "text": [
            "Train Epoch: 29 [5120/30441 (17%)]\tLoss: 0.188033\tAccuracy: 5225/30441 (17%)\n"
          ]
        },
        {
          "output_type": "stream",
          "name": "stderr",
          "text": [
            " 94%|█████████▍| 28.275167785232625/30 [08:39<00:35, 20.50s/it]"
          ]
        },
        {
          "output_type": "stream",
          "name": "stdout",
          "text": [
            "Train Epoch: 29 [10240/30441 (34%)]\tLoss: 0.194930\tAccuracy: 10182/30441 (33%)\n"
          ]
        },
        {
          "output_type": "stream",
          "name": "stderr",
          "text": [
            " 95%|█████████▍| 28.416107382548045/30 [08:42<00:38, 24.13s/it]"
          ]
        },
        {
          "output_type": "stream",
          "name": "stdout",
          "text": [
            "Train Epoch: 29 [15360/30441 (50%)]\tLoss: 0.293138\tAccuracy: 15133/30441 (50%)\n"
          ]
        },
        {
          "output_type": "stream",
          "name": "stderr",
          "text": [
            " 95%|█████████▌| 28.550335570467492/30 [08:45<00:32, 22.56s/it]"
          ]
        },
        {
          "output_type": "stream",
          "name": "stdout",
          "text": [
            "Train Epoch: 29 [20480/30441 (67%)]\tLoss: 0.135132\tAccuracy: 20076/30441 (66%)\n"
          ]
        },
        {
          "output_type": "stream",
          "name": "stderr",
          "text": [
            " 96%|█████████▌| 28.68456375838694/30 [08:48<00:24, 18.55s/it] "
          ]
        },
        {
          "output_type": "stream",
          "name": "stdout",
          "text": [
            "Train Epoch: 29 [25600/30441 (84%)]\tLoss: 0.266960\tAccuracy: 25015/30441 (82%)\n"
          ]
        },
        {
          "output_type": "stream",
          "name": "stderr",
          "text": [
            " 97%|█████████▋| 29.006711409393613/30 [08:53<00:13, 13.89s/it]"
          ]
        },
        {
          "output_type": "stream",
          "name": "stdout",
          "text": [
            "\n",
            "Test Epoch: 29 \tLoss: 6.836742\tAccuracy: 1940/7611 (25%)\n",
            "\n",
            "Train Epoch: 30 [0/30441 (0%)]\tLoss: 0.078861\tAccuracy: 252/30441 (1%)\n"
          ]
        },
        {
          "output_type": "stream",
          "name": "stderr",
          "text": [
            " 97%|█████████▋| 29.147651006709033/30 [08:55<00:17, 20.75s/it]"
          ]
        },
        {
          "output_type": "stream",
          "name": "stdout",
          "text": [
            "Train Epoch: 30 [5120/30441 (17%)]\tLoss: 0.192166\tAccuracy: 5201/30441 (17%)\n"
          ]
        },
        {
          "output_type": "stream",
          "name": "stderr",
          "text": [
            " 98%|█████████▊| 29.28187919462848/30 [08:58<00:13, 18.72s/it] "
          ]
        },
        {
          "output_type": "stream",
          "name": "stdout",
          "text": [
            "Train Epoch: 30 [10240/30441 (34%)]\tLoss: 0.193201\tAccuracy: 10158/30441 (33%)\n"
          ]
        },
        {
          "output_type": "stream",
          "name": "stderr",
          "text": [
            " 98%|█████████▊| 29.409395973151955/30 [09:01<00:11, 19.64s/it]"
          ]
        },
        {
          "output_type": "stream",
          "name": "stdout",
          "text": [
            "Train Epoch: 30 [15360/30441 (50%)]\tLoss: 0.218394\tAccuracy: 15103/30441 (50%)\n"
          ]
        },
        {
          "output_type": "stream",
          "name": "stderr",
          "text": [
            " 99%|█████████▊| 29.550335570467375/30 [09:03<00:08, 19.74s/it]"
          ]
        },
        {
          "output_type": "stream",
          "name": "stdout",
          "text": [
            "Train Epoch: 30 [20480/30441 (67%)]\tLoss: 0.132561\tAccuracy: 20055/30441 (66%)\n"
          ]
        },
        {
          "output_type": "stream",
          "name": "stderr",
          "text": [
            " 99%|█████████▉| 29.684563758386822/30 [09:06<00:05, 18.59s/it]"
          ]
        },
        {
          "output_type": "stream",
          "name": "stdout",
          "text": [
            "Train Epoch: 30 [25600/30441 (84%)]\tLoss: 0.145257\tAccuracy: 25020/30441 (82%)\n"
          ]
        },
        {
          "output_type": "stream",
          "name": "stderr",
          "text": [
            "100%|█████████▉| 29.999999999997524/30 [09:11<00:00, 18.38s/it]"
          ]
        },
        {
          "output_type": "stream",
          "name": "stdout",
          "text": [
            "\n",
            "Test Epoch: 30 \tLoss: 5.714757\tAccuracy: 2365/7611 (31%)\n",
            "\n"
          ]
        },
        {
          "output_type": "stream",
          "name": "stderr",
          "text": [
            "\n"
          ]
        }
      ]
    },
    {
      "cell_type": "code",
      "source": [
        "plt.plot(losses);\n",
        "plt.title(\"training loss M5\");"
      ],
      "metadata": {
        "colab": {
          "base_uri": "https://localhost:8080/",
          "height": 452
        },
        "id": "M9oMGT-BDEm6",
        "outputId": "f3e0fd4a-4575-4d3d-dc4f-cd9b9436f7f2"
      },
      "execution_count": 35,
      "outputs": [
        {
          "output_type": "display_data",
          "data": {
            "text/plain": [
              "<Figure size 640x480 with 1 Axes>"
            ],
            "image/png": "[encoded data removed]"
          },
          "metadata": {}
        }
      ]
    },
    {
      "cell_type": "code",
      "source": [
        "torch.save(model_m5.state_dict(), 'm5.model')"
      ],
      "metadata": {
        "id": "liKHm59CovRs"
      },
      "execution_count": 79,
      "outputs": []
    },
    {
      "cell_type": "markdown",
      "source": [
        "Обучим M11"
      ],
      "metadata": {
        "id": "Bt-BR_WqorI8"
      }
    },
    {
      "cell_type": "code",
      "source": [
        "optimizer = optim.Adam(model_m11.parameters(), lr=0.001, weight_decay=0.0001)\n",
        "scheduler = optim.lr_scheduler.StepLR(optimizer, step_size=20, gamma=0.1)\n",
        "\n",
        "losses = []\n",
        "accuracy_test = []\n",
        "losses_test = []\n",
        "transform = transform.to(device)\n",
        "with tqdm(total=n_epoch) as pbar:\n",
        "    for epoch in range(1, n_epoch + 1):\n",
        "        train(model_m11, optimizer, epoch, log_interval)\n",
        "        test(model_m11, epoch)\n",
        "        scheduler.step()"
      ],
      "metadata": {
        "colab": {
          "base_uri": "https://localhost:8080/"
        },
        "id": "3dklq_JMLiBr",
        "outputId": "8c82e8c3-9316-4b6b-893f-12afa41c75a1"
      },
      "execution_count": 82,
      "outputs": [
        {
          "output_type": "stream",
          "name": "stderr",
          "text": [
            "  0%|          | 0.013422818791946308/30 [00:00<13:19, 26.66s/it]"
          ]
        },
        {
          "output_type": "stream",
          "name": "stdout",
          "text": [
            "Train Epoch: 1 [0/30441 (0%)]\tLoss: 2.342932\tAccuracy: 27/30441 (0%)\n"
          ]
        },
        {
          "output_type": "stream",
          "name": "stderr",
          "text": [
            "  0%|          | 0.14765100671140938/30 [00:04<14:27, 29.05s/it]"
          ]
        },
        {
          "output_type": "stream",
          "name": "stdout",
          "text": [
            "Train Epoch: 1 [5120/30441 (17%)]\tLoss: 0.809217\tAccuracy: 3088/30441 (10%)\n"
          ]
        },
        {
          "output_type": "stream",
          "name": "stderr",
          "text": [
            "  1%|          | 0.2818791946308723/30 [00:07<12:32, 25.32s/it] "
          ]
        },
        {
          "output_type": "stream",
          "name": "stdout",
          "text": [
            "Train Epoch: 1 [10240/30441 (34%)]\tLoss: 0.466881\tAccuracy: 7342/30441 (24%)\n"
          ]
        },
        {
          "output_type": "stream",
          "name": "stderr",
          "text": [
            "  1%|▏         | 0.4161073825503352/30 [00:11<12:35, 25.54s/it] "
          ]
        },
        {
          "output_type": "stream",
          "name": "stdout",
          "text": [
            "Train Epoch: 1 [15360/30441 (50%)]\tLoss: 0.377499\tAccuracy: 11885/30441 (39%)\n"
          ]
        },
        {
          "output_type": "stream",
          "name": "stderr",
          "text": [
            "  2%|▏         | 0.5503355704697981/30 [00:14<12:46, 26.02s/it]"
          ]
        },
        {
          "output_type": "stream",
          "name": "stdout",
          "text": [
            "Train Epoch: 1 [20480/30441 (67%)]\tLoss: 0.498140\tAccuracy: 16535/30441 (54%)\n"
          ]
        },
        {
          "output_type": "stream",
          "name": "stderr",
          "text": [
            "  2%|▏         | 0.684563758389261/30 [00:18<12:44, 26.09s/it] "
          ]
        },
        {
          "output_type": "stream",
          "name": "stdout",
          "text": [
            "Train Epoch: 1 [25600/30441 (84%)]\tLoss: 0.351811\tAccuracy: 21245/30441 (70%)\n"
          ]
        },
        {
          "output_type": "stream",
          "name": "stderr",
          "text": [
            "  3%|▎         | 1.006711409395972/30 [00:25<09:09, 18.96s/it] "
          ]
        },
        {
          "output_type": "stream",
          "name": "stdout",
          "text": [
            "\n",
            "Test Epoch: 1 \tLoss: 9.248321\tAccuracy: 880/7611 (12%)\n",
            "\n",
            "Train Epoch: 2 [0/30441 (0%)]\tLoss: 0.329954\tAccuracy: 240/30441 (1%)\n"
          ]
        },
        {
          "output_type": "stream",
          "name": "stderr",
          "text": [
            "  4%|▍         | 1.1476510067114103/30 [00:28<13:53, 28.88s/it]"
          ]
        },
        {
          "output_type": "stream",
          "name": "stdout",
          "text": [
            "Train Epoch: 2 [5120/30441 (17%)]\tLoss: 0.303321\tAccuracy: 5043/30441 (17%)\n"
          ]
        },
        {
          "output_type": "stream",
          "name": "stderr",
          "text": [
            "  4%|▍         | 1.2818791946308754/30 [00:32<12:00, 25.08s/it]"
          ]
        },
        {
          "output_type": "stream",
          "name": "stdout",
          "text": [
            "Train Epoch: 2 [10240/30441 (34%)]\tLoss: 0.440336\tAccuracy: 9812/30441 (32%)\n"
          ]
        },
        {
          "output_type": "stream",
          "name": "stderr",
          "text": [
            "  5%|▍         | 1.4161073825503405/30 [00:35<12:23, 26.03s/it]"
          ]
        },
        {
          "output_type": "stream",
          "name": "stdout",
          "text": [
            "Train Epoch: 2 [15360/30441 (50%)]\tLoss: 0.356588\tAccuracy: 14607/30441 (48%)\n"
          ]
        },
        {
          "output_type": "stream",
          "name": "stderr",
          "text": [
            "  5%|▌         | 1.5503355704698056/30 [00:39<12:04, 25.46s/it]"
          ]
        },
        {
          "output_type": "stream",
          "name": "stdout",
          "text": [
            "Train Epoch: 2 [20480/30441 (67%)]\tLoss: 0.236923\tAccuracy: 19424/30441 (64%)\n"
          ]
        },
        {
          "output_type": "stream",
          "name": "stderr",
          "text": [
            "  6%|▌         | 1.6845637583892707/30 [00:43<12:15, 25.96s/it]"
          ]
        },
        {
          "output_type": "stream",
          "name": "stdout",
          "text": [
            "Train Epoch: 2 [25600/30441 (84%)]\tLoss: 0.415614\tAccuracy: 24268/30441 (80%)\n"
          ]
        },
        {
          "output_type": "stream",
          "name": "stderr",
          "text": [
            "  7%|▋         | 2.006711409395987/30 [00:49<08:26, 18.09s/it] "
          ]
        },
        {
          "output_type": "stream",
          "name": "stdout",
          "text": [
            "\n",
            "Test Epoch: 2 \tLoss: 3.916953\tAccuracy: 1490/7611 (20%)\n",
            "\n",
            "Train Epoch: 3 [0/30441 (0%)]\tLoss: 0.301643\tAccuracy: 242/30441 (1%)\n"
          ]
        },
        {
          "output_type": "stream",
          "name": "stderr",
          "text": [
            "  7%|▋         | 2.1476510067114254/30 [00:53<12:50, 27.66s/it]"
          ]
        },
        {
          "output_type": "stream",
          "name": "stdout",
          "text": [
            "Train Epoch: 3 [5120/30441 (17%)]\tLoss: 0.282724\tAccuracy: 5107/30441 (17%)\n"
          ]
        },
        {
          "output_type": "stream",
          "name": "stderr",
          "text": [
            "  8%|▊         | 2.2818791946308905/30 [00:57<12:20, 26.72s/it]"
          ]
        },
        {
          "output_type": "stream",
          "name": "stdout",
          "text": [
            "Train Epoch: 3 [10240/30441 (34%)]\tLoss: 0.226027\tAccuracy: 9972/30441 (33%)\n"
          ]
        },
        {
          "output_type": "stream",
          "name": "stderr",
          "text": [
            "  8%|▊         | 2.4161073825503556/30 [01:00<12:06, 26.34s/it]"
          ]
        },
        {
          "output_type": "stream",
          "name": "stdout",
          "text": [
            "Train Epoch: 3 [15360/30441 (50%)]\tLoss: 0.212221\tAccuracy: 14833/30441 (49%)\n"
          ]
        },
        {
          "output_type": "stream",
          "name": "stderr",
          "text": [
            "  9%|▊         | 2.5503355704698207/30 [01:04<11:42, 25.60s/it]"
          ]
        },
        {
          "output_type": "stream",
          "name": "stdout",
          "text": [
            "Train Epoch: 3 [20480/30441 (67%)]\tLoss: 0.274707\tAccuracy: 19720/30441 (65%)\n"
          ]
        },
        {
          "output_type": "stream",
          "name": "stderr",
          "text": [
            "  9%|▉         | 2.684563758389286/30 [01:07<11:39, 25.60s/it] "
          ]
        },
        {
          "output_type": "stream",
          "name": "stdout",
          "text": [
            "Train Epoch: 3 [25600/30441 (84%)]\tLoss: 0.285820\tAccuracy: 24614/30441 (81%)\n"
          ]
        },
        {
          "output_type": "stream",
          "name": "stderr",
          "text": [
            " 10%|█         | 3.006711409396002/30 [01:14<08:12, 18.25s/it] "
          ]
        },
        {
          "output_type": "stream",
          "name": "stdout",
          "text": [
            "\n",
            "Test Epoch: 3 \tLoss: 2.685433\tAccuracy: 2392/7611 (31%)\n",
            "\n",
            "Train Epoch: 4 [0/30441 (0%)]\tLoss: 0.283705\tAccuracy: 239/30441 (1%)\n"
          ]
        },
        {
          "output_type": "stream",
          "name": "stderr",
          "text": [
            " 10%|█         | 3.1476510067114405/30 [01:18<12:31, 27.99s/it]"
          ]
        },
        {
          "output_type": "stream",
          "name": "stdout",
          "text": [
            "Train Epoch: 4 [5120/30441 (17%)]\tLoss: 0.342394\tAccuracy: 5145/30441 (17%)\n"
          ]
        },
        {
          "output_type": "stream",
          "name": "stderr",
          "text": [
            " 11%|█         | 3.2818791946309056/30 [01:21<11:22, 25.54s/it]"
          ]
        },
        {
          "output_type": "stream",
          "name": "stdout",
          "text": [
            "Train Epoch: 4 [10240/30441 (34%)]\tLoss: 0.244612\tAccuracy: 10061/30441 (33%)\n"
          ]
        },
        {
          "output_type": "stream",
          "name": "stderr",
          "text": [
            " 11%|█▏        | 3.4161073825503707/30 [01:25<11:00, 24.83s/it]"
          ]
        },
        {
          "output_type": "stream",
          "name": "stdout",
          "text": [
            "Train Epoch: 4 [15360/30441 (50%)]\tLoss: 0.163139\tAccuracy: 14968/30441 (49%)\n"
          ]
        },
        {
          "output_type": "stream",
          "name": "stderr",
          "text": [
            " 12%|█▏        | 3.550335570469836/30 [01:28<11:28, 26.03s/it] "
          ]
        },
        {
          "output_type": "stream",
          "name": "stdout",
          "text": [
            "Train Epoch: 4 [20480/30441 (67%)]\tLoss: 0.289682\tAccuracy: 19837/30441 (65%)\n"
          ]
        },
        {
          "output_type": "stream",
          "name": "stderr",
          "text": [
            " 12%|█▏        | 3.684563758389301/30 [01:32<11:19, 25.82s/it] "
          ]
        },
        {
          "output_type": "stream",
          "name": "stdout",
          "text": [
            "Train Epoch: 4 [25600/30441 (84%)]\tLoss: 0.273526\tAccuracy: 24761/30441 (81%)\n"
          ]
        },
        {
          "output_type": "stream",
          "name": "stderr",
          "text": [
            " 13%|█▎        | 4.006711409396017/30 [01:39<07:57, 18.36s/it] "
          ]
        },
        {
          "output_type": "stream",
          "name": "stdout",
          "text": [
            "\n",
            "Test Epoch: 4 \tLoss: 5.222565\tAccuracy: 1427/7611 (19%)\n",
            "\n",
            "Train Epoch: 5 [0/30441 (0%)]\tLoss: 0.276635\tAccuracy: 243/30441 (1%)\n"
          ]
        },
        {
          "output_type": "stream",
          "name": "stderr",
          "text": [
            " 14%|█▍        | 4.147651006711455/30 [01:43<12:14, 28.39s/it]"
          ]
        },
        {
          "output_type": "stream",
          "name": "stdout",
          "text": [
            "Train Epoch: 5 [5120/30441 (17%)]\tLoss: 0.163932\tAccuracy: 5148/30441 (17%)\n"
          ]
        },
        {
          "output_type": "stream",
          "name": "stderr",
          "text": [
            " 14%|█▍        | 4.28187919463092/30 [01:46<10:48, 25.22s/it] "
          ]
        },
        {
          "output_type": "stream",
          "name": "stdout",
          "text": [
            "Train Epoch: 5 [10240/30441 (34%)]\tLoss: 0.128426\tAccuracy: 10076/30441 (33%)\n"
          ]
        },
        {
          "output_type": "stream",
          "name": "stderr",
          "text": [
            " 15%|█▍        | 4.416107382550385/30 [01:50<10:55, 25.60s/it]"
          ]
        },
        {
          "output_type": "stream",
          "name": "stdout",
          "text": [
            "Train Epoch: 5 [15360/30441 (50%)]\tLoss: 0.200647\tAccuracy: 14992/30441 (49%)\n"
          ]
        },
        {
          "output_type": "stream",
          "name": "stderr",
          "text": [
            " 15%|█▌        | 4.5503355704698505/30 [01:53<10:40, 25.15s/it]"
          ]
        },
        {
          "output_type": "stream",
          "name": "stdout",
          "text": [
            "Train Epoch: 5 [20480/30441 (67%)]\tLoss: 0.231857\tAccuracy: 19915/30441 (65%)\n"
          ]
        },
        {
          "output_type": "stream",
          "name": "stderr",
          "text": [
            " 16%|█▌        | 4.684563758389316/30 [01:57<10:54, 25.87s/it]"
          ]
        },
        {
          "output_type": "stream",
          "name": "stdout",
          "text": [
            "Train Epoch: 5 [25600/30441 (84%)]\tLoss: 0.346680\tAccuracy: 24804/30441 (81%)\n"
          ]
        },
        {
          "output_type": "stream",
          "name": "stderr",
          "text": [
            " 17%|█▋        | 5.006711409396032/30 [02:04<07:33, 18.14s/it]"
          ]
        },
        {
          "output_type": "stream",
          "name": "stdout",
          "text": [
            "\n",
            "Test Epoch: 5 \tLoss: 2.868289\tAccuracy: 2603/7611 (34%)\n",
            "\n",
            "Train Epoch: 6 [0/30441 (0%)]\tLoss: 0.165424\tAccuracy: 249/30441 (1%)\n"
          ]
        },
        {
          "output_type": "stream",
          "name": "stderr",
          "text": [
            " 17%|█▋        | 5.14765100671147/30 [02:07<11:39, 28.15s/it] "
          ]
        },
        {
          "output_type": "stream",
          "name": "stdout",
          "text": [
            "Train Epoch: 6 [5120/30441 (17%)]\tLoss: 0.237533\tAccuracy: 5188/30441 (17%)\n"
          ]
        },
        {
          "output_type": "stream",
          "name": "stderr",
          "text": [
            " 18%|█▊        | 5.281879194630935/30 [02:11<10:50, 26.30s/it]"
          ]
        },
        {
          "output_type": "stream",
          "name": "stdout",
          "text": [
            "Train Epoch: 6 [10240/30441 (34%)]\tLoss: 0.261599\tAccuracy: 10116/30441 (33%)\n"
          ]
        },
        {
          "output_type": "stream",
          "name": "stderr",
          "text": [
            " 18%|█▊        | 5.4161073825504005/30 [02:15<10:26, 25.50s/it]"
          ]
        },
        {
          "output_type": "stream",
          "name": "stdout",
          "text": [
            "Train Epoch: 6 [15360/30441 (50%)]\tLoss: 0.262796\tAccuracy: 15023/30441 (49%)\n"
          ]
        },
        {
          "output_type": "stream",
          "name": "stderr",
          "text": [
            " 19%|█▊        | 5.550335570469866/30 [02:18<10:04, 24.74s/it]"
          ]
        },
        {
          "output_type": "stream",
          "name": "stdout",
          "text": [
            "Train Epoch: 6 [20480/30441 (67%)]\tLoss: 0.239452\tAccuracy: 19967/30441 (66%)\n"
          ]
        },
        {
          "output_type": "stream",
          "name": "stderr",
          "text": [
            " 19%|█▉        | 5.684563758389331/30 [02:22<10:18, 25.42s/it] "
          ]
        },
        {
          "output_type": "stream",
          "name": "stdout",
          "text": [
            "Train Epoch: 6 [25600/30441 (84%)]\tLoss: 0.218174\tAccuracy: 24876/30441 (82%)\n"
          ]
        },
        {
          "output_type": "stream",
          "name": "stderr",
          "text": [
            " 20%|██        | 6.006711409396047/30 [02:28<07:24, 18.54s/it] "
          ]
        },
        {
          "output_type": "stream",
          "name": "stdout",
          "text": [
            "\n",
            "Test Epoch: 6 \tLoss: 3.163723\tAccuracy: 1866/7611 (25%)\n",
            "\n",
            "Train Epoch: 7 [0/30441 (0%)]\tLoss: 0.245235\tAccuracy: 244/30441 (1%)\n"
          ]
        },
        {
          "output_type": "stream",
          "name": "stderr",
          "text": [
            " 20%|██        | 6.147651006711485/30 [02:32<11:34, 29.10s/it]"
          ]
        },
        {
          "output_type": "stream",
          "name": "stdout",
          "text": [
            "Train Epoch: 7 [5120/30441 (17%)]\tLoss: 0.286600\tAccuracy: 5160/30441 (17%)\n"
          ]
        },
        {
          "output_type": "stream",
          "name": "stderr",
          "text": [
            " 21%|██        | 6.2818791946309505/30 [02:36<10:13, 25.86s/it]"
          ]
        },
        {
          "output_type": "stream",
          "name": "stdout",
          "text": [
            "Train Epoch: 7 [10240/30441 (34%)]\tLoss: 0.234244\tAccuracy: 10074/30441 (33%)\n"
          ]
        },
        {
          "output_type": "stream",
          "name": "stderr",
          "text": [
            " 21%|██▏       | 6.416107382550416/30 [02:39<10:03, 25.60s/it]"
          ]
        },
        {
          "output_type": "stream",
          "name": "stdout",
          "text": [
            "Train Epoch: 7 [15360/30441 (50%)]\tLoss: 0.164745\tAccuracy: 15012/30441 (49%)\n"
          ]
        },
        {
          "output_type": "stream",
          "name": "stderr",
          "text": [
            " 22%|██▏       | 6.550335570469881/30 [02:43<10:09, 25.99s/it]"
          ]
        },
        {
          "output_type": "stream",
          "name": "stdout",
          "text": [
            "Train Epoch: 7 [20480/30441 (67%)]\tLoss: 0.181439\tAccuracy: 19931/30441 (65%)\n"
          ]
        },
        {
          "output_type": "stream",
          "name": "stderr",
          "text": [
            " 22%|██▏       | 6.684563758389346/30 [02:47<10:01, 25.79s/it] "
          ]
        },
        {
          "output_type": "stream",
          "name": "stdout",
          "text": [
            "Train Epoch: 7 [25600/30441 (84%)]\tLoss: 0.165052\tAccuracy: 24877/30441 (82%)\n"
          ]
        },
        {
          "output_type": "stream",
          "name": "stderr",
          "text": [
            " 23%|██▎       | 7.006711409396062/30 [02:53<07:36, 19.86s/it]"
          ]
        },
        {
          "output_type": "stream",
          "name": "stdout",
          "text": [
            "\n",
            "Test Epoch: 7 \tLoss: 3.205006\tAccuracy: 2731/7611 (36%)\n",
            "\n",
            "Train Epoch: 8 [0/30441 (0%)]\tLoss: 0.244424\tAccuracy: 245/30441 (1%)\n"
          ]
        },
        {
          "output_type": "stream",
          "name": "stderr",
          "text": [
            " 24%|██▍       | 7.1476510067115/30 [02:57<10:56, 28.74s/it]  "
          ]
        },
        {
          "output_type": "stream",
          "name": "stdout",
          "text": [
            "Train Epoch: 8 [5120/30441 (17%)]\tLoss: 0.170796\tAccuracy: 5206/30441 (17%)\n"
          ]
        },
        {
          "output_type": "stream",
          "name": "stderr",
          "text": [
            " 24%|██▍       | 7.281879194630966/30 [03:01<10:00, 26.42s/it]"
          ]
        },
        {
          "output_type": "stream",
          "name": "stdout",
          "text": [
            "Train Epoch: 8 [10240/30441 (34%)]\tLoss: 0.135204\tAccuracy: 10140/30441 (33%)\n"
          ]
        },
        {
          "output_type": "stream",
          "name": "stderr",
          "text": [
            " 25%|██▍       | 7.416107382550431/30 [03:04<09:49, 26.11s/it]"
          ]
        },
        {
          "output_type": "stream",
          "name": "stdout",
          "text": [
            "Train Epoch: 8 [15360/30441 (50%)]\tLoss: 0.301448\tAccuracy: 15082/30441 (50%)\n"
          ]
        },
        {
          "output_type": "stream",
          "name": "stderr",
          "text": [
            " 25%|██▌       | 7.550335570469896/30 [03:08<09:55, 26.54s/it] "
          ]
        },
        {
          "output_type": "stream",
          "name": "stdout",
          "text": [
            "Train Epoch: 8 [20480/30441 (67%)]\tLoss: 0.215094\tAccuracy: 19994/30441 (66%)\n"
          ]
        },
        {
          "output_type": "stream",
          "name": "stderr",
          "text": [
            " 26%|██▌       | 7.684563758389361/30 [03:12<09:52, 26.57s/it]"
          ]
        },
        {
          "output_type": "stream",
          "name": "stdout",
          "text": [
            "Train Epoch: 8 [25600/30441 (84%)]\tLoss: 0.243161\tAccuracy: 24917/30441 (82%)\n"
          ]
        },
        {
          "output_type": "stream",
          "name": "stderr",
          "text": [
            " 27%|██▋       | 8.006711409396075/30 [03:18<07:05, 19.33s/it]"
          ]
        },
        {
          "output_type": "stream",
          "name": "stdout",
          "text": [
            "\n",
            "Test Epoch: 8 \tLoss: 0.369254\tAccuracy: 6943/7611 (91%)\n",
            "\n",
            "Train Epoch: 9 [0/30441 (0%)]\tLoss: 0.241935\tAccuracy: 247/30441 (1%)\n"
          ]
        },
        {
          "output_type": "stream",
          "name": "stderr",
          "text": [
            " 27%|██▋       | 8.147651006711495/30 [03:22<10:30, 28.87s/it]"
          ]
        },
        {
          "output_type": "stream",
          "name": "stdout",
          "text": [
            "Train Epoch: 9 [5120/30441 (17%)]\tLoss: 0.253715\tAccuracy: 5154/30441 (17%)\n"
          ]
        },
        {
          "output_type": "stream",
          "name": "stderr",
          "text": [
            " 28%|██▊       | 8.281879194630942/30 [03:26<09:24, 26.01s/it]"
          ]
        },
        {
          "output_type": "stream",
          "name": "stdout",
          "text": [
            "Train Epoch: 9 [10240/30441 (34%)]\tLoss: 0.184923\tAccuracy: 10086/30441 (33%)\n"
          ]
        },
        {
          "output_type": "stream",
          "name": "stderr",
          "text": [
            " 28%|██▊       | 8.41610738255039/30 [03:29<09:36, 26.72s/it] "
          ]
        },
        {
          "output_type": "stream",
          "name": "stdout",
          "text": [
            "Train Epoch: 9 [15360/30441 (50%)]\tLoss: 0.114515\tAccuracy: 15040/30441 (49%)\n"
          ]
        },
        {
          "output_type": "stream",
          "name": "stderr",
          "text": [
            " 29%|██▊       | 8.550335570469837/30 [03:33<09:43, 27.21s/it]"
          ]
        },
        {
          "output_type": "stream",
          "name": "stdout",
          "text": [
            "Train Epoch: 9 [20480/30441 (67%)]\tLoss: 0.148912\tAccuracy: 19974/30441 (66%)\n"
          ]
        },
        {
          "output_type": "stream",
          "name": "stderr",
          "text": [
            " 29%|██▉       | 8.684563758389285/30 [03:37<09:10, 25.82s/it]"
          ]
        },
        {
          "output_type": "stream",
          "name": "stdout",
          "text": [
            "Train Epoch: 9 [25600/30441 (84%)]\tLoss: 0.298725\tAccuracy: 24907/30441 (82%)\n"
          ]
        },
        {
          "output_type": "stream",
          "name": "stderr",
          "text": [
            " 30%|███       | 9.006711409395958/30 [03:43<06:16, 17.95s/it]"
          ]
        },
        {
          "output_type": "stream",
          "name": "stdout",
          "text": [
            "\n",
            "Test Epoch: 9 \tLoss: 4.579781\tAccuracy: 1656/7611 (22%)\n",
            "\n",
            "Train Epoch: 10 [0/30441 (0%)]\tLoss: 0.308617\tAccuracy: 242/30441 (1%)\n"
          ]
        },
        {
          "output_type": "stream",
          "name": "stderr",
          "text": [
            " 30%|███       | 9.147651006711378/30 [03:47<10:14, 29.49s/it]"
          ]
        },
        {
          "output_type": "stream",
          "name": "stdout",
          "text": [
            "Train Epoch: 10 [5120/30441 (17%)]\tLoss: 0.242927\tAccuracy: 5192/30441 (17%)\n"
          ]
        },
        {
          "output_type": "stream",
          "name": "stderr",
          "text": [
            " 31%|███       | 9.281879194630825/30 [03:51<08:37, 24.98s/it]"
          ]
        },
        {
          "output_type": "stream",
          "name": "stdout",
          "text": [
            "Train Epoch: 10 [10240/30441 (34%)]\tLoss: 0.312166\tAccuracy: 10116/30441 (33%)\n"
          ]
        },
        {
          "output_type": "stream",
          "name": "stderr",
          "text": [
            " 31%|███▏      | 9.416107382550273/30 [03:54<09:04, 26.44s/it]"
          ]
        },
        {
          "output_type": "stream",
          "name": "stdout",
          "text": [
            "Train Epoch: 10 [15360/30441 (50%)]\tLoss: 0.108191\tAccuracy: 15052/30441 (49%)\n"
          ]
        },
        {
          "output_type": "stream",
          "name": "stderr",
          "text": [
            " 32%|███▏      | 9.55033557046972/30 [03:58<09:27, 27.75s/it] "
          ]
        },
        {
          "output_type": "stream",
          "name": "stdout",
          "text": [
            "Train Epoch: 10 [20480/30441 (67%)]\tLoss: 0.233693\tAccuracy: 19972/30441 (66%)\n"
          ]
        },
        {
          "output_type": "stream",
          "name": "stderr",
          "text": [
            " 32%|███▏      | 9.684563758389167/30 [04:02<08:42, 25.72s/it]"
          ]
        },
        {
          "output_type": "stream",
          "name": "stdout",
          "text": [
            "Train Epoch: 10 [25600/30441 (84%)]\tLoss: 0.159634\tAccuracy: 24935/30441 (82%)\n"
          ]
        },
        {
          "output_type": "stream",
          "name": "stderr",
          "text": [
            " 33%|███▎      | 10.006711409395841/30 [04:08<06:10, 18.53s/it]"
          ]
        },
        {
          "output_type": "stream",
          "name": "stdout",
          "text": [
            "\n",
            "Test Epoch: 10 \tLoss: 1.273910\tAccuracy: 4202/7611 (55%)\n",
            "\n",
            "Train Epoch: 11 [0/30441 (0%)]\tLoss: 0.226677\tAccuracy: 243/30441 (1%)\n"
          ]
        },
        {
          "output_type": "stream",
          "name": "stderr",
          "text": [
            " 34%|███▍      | 10.14765100671126/30 [04:12<09:14, 27.93s/it] "
          ]
        },
        {
          "output_type": "stream",
          "name": "stdout",
          "text": [
            "Train Epoch: 11 [5120/30441 (17%)]\tLoss: 0.292964\tAccuracy: 5169/30441 (17%)\n"
          ]
        },
        {
          "output_type": "stream",
          "name": "stderr",
          "text": [
            " 34%|███▍      | 10.281879194630708/30 [04:16<08:26, 25.67s/it]"
          ]
        },
        {
          "output_type": "stream",
          "name": "stdout",
          "text": [
            "Train Epoch: 11 [10240/30441 (34%)]\tLoss: 0.190848\tAccuracy: 10088/30441 (33%)\n"
          ]
        },
        {
          "output_type": "stream",
          "name": "stderr",
          "text": [
            " 35%|███▍      | 10.416107382550155/30 [04:19<08:19, 25.53s/it]"
          ]
        },
        {
          "output_type": "stream",
          "name": "stdout",
          "text": [
            "Train Epoch: 11 [15360/30441 (50%)]\tLoss: 0.163377\tAccuracy: 15022/30441 (49%)\n"
          ]
        },
        {
          "output_type": "stream",
          "name": "stderr",
          "text": [
            " 35%|███▌      | 10.550335570469603/30 [04:23<09:22, 28.93s/it]"
          ]
        },
        {
          "output_type": "stream",
          "name": "stdout",
          "text": [
            "Train Epoch: 11 [20480/30441 (67%)]\tLoss: 0.279752\tAccuracy: 19961/30441 (66%)\n"
          ]
        },
        {
          "output_type": "stream",
          "name": "stderr",
          "text": [
            " 36%|███▌      | 10.68456375838905/30 [04:27<08:03, 25.03s/it] "
          ]
        },
        {
          "output_type": "stream",
          "name": "stdout",
          "text": [
            "Train Epoch: 11 [25600/30441 (84%)]\tLoss: 0.223250\tAccuracy: 24884/30441 (82%)\n"
          ]
        },
        {
          "output_type": "stream",
          "name": "stderr",
          "text": [
            " 37%|███▋      | 11.006711409395724/30 [04:33<05:39, 17.88s/it]"
          ]
        },
        {
          "output_type": "stream",
          "name": "stdout",
          "text": [
            "\n",
            "Test Epoch: 11 \tLoss: 3.113441\tAccuracy: 2824/7611 (37%)\n",
            "\n",
            "Train Epoch: 12 [0/30441 (0%)]\tLoss: 0.235117\tAccuracy: 245/30441 (1%)\n"
          ]
        },
        {
          "output_type": "stream",
          "name": "stderr",
          "text": [
            " 37%|███▋      | 11.147651006711143/30 [04:37<09:25, 30.00s/it]"
          ]
        },
        {
          "output_type": "stream",
          "name": "stdout",
          "text": [
            "Train Epoch: 12 [5120/30441 (17%)]\tLoss: 0.185469\tAccuracy: 5183/30441 (17%)\n"
          ]
        },
        {
          "output_type": "stream",
          "name": "stderr",
          "text": [
            " 38%|███▊      | 11.28187919463059/30 [04:41<08:17, 26.58s/it] "
          ]
        },
        {
          "output_type": "stream",
          "name": "stdout",
          "text": [
            "Train Epoch: 12 [10240/30441 (34%)]\tLoss: 0.158569\tAccuracy: 10139/30441 (33%)\n"
          ]
        },
        {
          "output_type": "stream",
          "name": "stderr",
          "text": [
            " 38%|███▊      | 11.416107382550038/30 [04:44<08:04, 26.06s/it]"
          ]
        },
        {
          "output_type": "stream",
          "name": "stdout",
          "text": [
            "Train Epoch: 12 [15360/30441 (50%)]\tLoss: 0.207785\tAccuracy: 15075/30441 (50%)\n"
          ]
        },
        {
          "output_type": "stream",
          "name": "stderr",
          "text": [
            " 39%|███▊      | 11.550335570469485/30 [04:48<08:46, 28.56s/it]"
          ]
        },
        {
          "output_type": "stream",
          "name": "stdout",
          "text": [
            "Train Epoch: 12 [20480/30441 (67%)]\tLoss: 0.284543\tAccuracy: 19998/30441 (66%)\n"
          ]
        },
        {
          "output_type": "stream",
          "name": "stderr",
          "text": [
            " 39%|███▉      | 11.684563758388933/30 [04:52<07:51, 25.73s/it]"
          ]
        },
        {
          "output_type": "stream",
          "name": "stdout",
          "text": [
            "Train Epoch: 12 [25600/30441 (84%)]\tLoss: 0.302490\tAccuracy: 24937/30441 (82%)\n"
          ]
        },
        {
          "output_type": "stream",
          "name": "stderr",
          "text": [
            " 40%|████      | 12.006711409395606/30 [04:58<05:20, 17.83s/it]"
          ]
        },
        {
          "output_type": "stream",
          "name": "stdout",
          "text": [
            "\n",
            "Test Epoch: 12 \tLoss: 2.751685\tAccuracy: 2497/7611 (33%)\n",
            "\n",
            "Train Epoch: 13 [0/30441 (0%)]\tLoss: 0.103723\tAccuracy: 250/30441 (1%)\n"
          ]
        },
        {
          "output_type": "stream",
          "name": "stderr",
          "text": [
            " 40%|████      | 12.147651006711026/30 [05:02<08:31, 28.67s/it]"
          ]
        },
        {
          "output_type": "stream",
          "name": "stdout",
          "text": [
            "Train Epoch: 13 [5120/30441 (17%)]\tLoss: 0.211164\tAccuracy: 5203/30441 (17%)\n"
          ]
        },
        {
          "output_type": "stream",
          "name": "stderr",
          "text": [
            " 41%|████      | 12.281879194630474/30 [05:05<07:25, 25.12s/it]"
          ]
        },
        {
          "output_type": "stream",
          "name": "stdout",
          "text": [
            "Train Epoch: 13 [10240/30441 (34%)]\tLoss: 0.278103\tAccuracy: 10141/30441 (33%)\n"
          ]
        },
        {
          "output_type": "stream",
          "name": "stderr",
          "text": [
            " 41%|████▏     | 12.41610738254992/30 [05:09<07:41, 26.25s/it] "
          ]
        },
        {
          "output_type": "stream",
          "name": "stdout",
          "text": [
            "Train Epoch: 13 [15360/30441 (50%)]\tLoss: 0.124039\tAccuracy: 15068/30441 (49%)\n"
          ]
        },
        {
          "output_type": "stream",
          "name": "stderr",
          "text": [
            " 42%|████▏     | 12.550335570469368/30 [05:13<08:13, 28.30s/it]"
          ]
        },
        {
          "output_type": "stream",
          "name": "stdout",
          "text": [
            "Train Epoch: 13 [20480/30441 (67%)]\tLoss: 0.164922\tAccuracy: 19994/30441 (66%)\n"
          ]
        },
        {
          "output_type": "stream",
          "name": "stderr",
          "text": [
            " 42%|████▏     | 12.684563758388816/30 [05:16<07:28, 25.93s/it]"
          ]
        },
        {
          "output_type": "stream",
          "name": "stdout",
          "text": [
            "Train Epoch: 13 [25600/30441 (84%)]\tLoss: 0.278271\tAccuracy: 24923/30441 (82%)\n"
          ]
        },
        {
          "output_type": "stream",
          "name": "stderr",
          "text": [
            " 43%|████▎     | 13.00671140939549/30 [05:23<05:19, 18.78s/it] "
          ]
        },
        {
          "output_type": "stream",
          "name": "stdout",
          "text": [
            "\n",
            "Test Epoch: 13 \tLoss: 2.942778\tAccuracy: 2505/7611 (33%)\n",
            "\n",
            "Train Epoch: 14 [0/30441 (0%)]\tLoss: 0.203647\tAccuracy: 246/30441 (1%)\n"
          ]
        },
        {
          "output_type": "stream",
          "name": "stderr",
          "text": [
            " 44%|████▍     | 13.147651006710909/30 [05:27<07:44, 27.58s/it]"
          ]
        },
        {
          "output_type": "stream",
          "name": "stdout",
          "text": [
            "Train Epoch: 14 [5120/30441 (17%)]\tLoss: 0.143617\tAccuracy: 5184/30441 (17%)\n"
          ]
        },
        {
          "output_type": "stream",
          "name": "stderr",
          "text": [
            " 44%|████▍     | 13.281879194630356/30 [05:30<07:02, 25.26s/it]"
          ]
        },
        {
          "output_type": "stream",
          "name": "stdout",
          "text": [
            "Train Epoch: 14 [10240/30441 (34%)]\tLoss: 0.156404\tAccuracy: 10105/30441 (33%)\n"
          ]
        },
        {
          "output_type": "stream",
          "name": "stderr",
          "text": [
            " 45%|████▍     | 13.416107382549804/30 [05:34<07:03, 25.54s/it]"
          ]
        },
        {
          "output_type": "stream",
          "name": "stdout",
          "text": [
            "Train Epoch: 14 [15360/30441 (50%)]\tLoss: 0.219638\tAccuracy: 15031/30441 (49%)\n"
          ]
        },
        {
          "output_type": "stream",
          "name": "stderr",
          "text": [
            " 45%|████▌     | 13.550335570469251/30 [05:37<07:45, 28.32s/it]"
          ]
        },
        {
          "output_type": "stream",
          "name": "stdout",
          "text": [
            "Train Epoch: 14 [20480/30441 (67%)]\tLoss: 0.211826\tAccuracy: 19971/30441 (66%)\n"
          ]
        },
        {
          "output_type": "stream",
          "name": "stderr",
          "text": [
            " 46%|████▌     | 13.684563758388698/30 [05:41<06:49, 25.10s/it]"
          ]
        },
        {
          "output_type": "stream",
          "name": "stdout",
          "text": [
            "Train Epoch: 14 [25600/30441 (84%)]\tLoss: 0.146143\tAccuracy: 24925/30441 (82%)\n"
          ]
        },
        {
          "output_type": "stream",
          "name": "stderr",
          "text": [
            " 47%|████▋     | 14.006711409395372/30 [05:48<04:49, 18.09s/it]"
          ]
        },
        {
          "output_type": "stream",
          "name": "stdout",
          "text": [
            "\n",
            "Test Epoch: 14 \tLoss: 3.585387\tAccuracy: 1956/7611 (26%)\n",
            "\n",
            "Train Epoch: 15 [0/30441 (0%)]\tLoss: 0.152757\tAccuracy: 247/30441 (1%)\n"
          ]
        },
        {
          "output_type": "stream",
          "name": "stderr",
          "text": [
            " 47%|████▋     | 14.147651006710792/30 [05:52<07:08, 27.05s/it]"
          ]
        },
        {
          "output_type": "stream",
          "name": "stdout",
          "text": [
            "Train Epoch: 15 [5120/30441 (17%)]\tLoss: 0.205891\tAccuracy: 5173/30441 (17%)\n"
          ]
        },
        {
          "output_type": "stream",
          "name": "stderr",
          "text": [
            " 48%|████▊     | 14.281879194630239/30 [05:55<06:42, 25.62s/it]"
          ]
        },
        {
          "output_type": "stream",
          "name": "stdout",
          "text": [
            "Train Epoch: 15 [10240/30441 (34%)]\tLoss: 0.229963\tAccuracy: 10090/30441 (33%)\n"
          ]
        },
        {
          "output_type": "stream",
          "name": "stderr",
          "text": [
            " 48%|████▊     | 14.416107382549686/30 [05:59<06:38, 25.58s/it]"
          ]
        },
        {
          "output_type": "stream",
          "name": "stdout",
          "text": [
            "Train Epoch: 15 [15360/30441 (50%)]\tLoss: 0.085970\tAccuracy: 15042/30441 (49%)\n"
          ]
        },
        {
          "output_type": "stream",
          "name": "stderr",
          "text": [
            " 49%|████▊     | 14.550335570469134/30 [06:02<07:10, 27.85s/it]"
          ]
        },
        {
          "output_type": "stream",
          "name": "stdout",
          "text": [
            "Train Epoch: 15 [20480/30441 (67%)]\tLoss: 0.239619\tAccuracy: 20003/30441 (66%)\n"
          ]
        },
        {
          "output_type": "stream",
          "name": "stderr",
          "text": [
            " 49%|████▉     | 14.684563758388581/30 [06:06<06:33, 25.69s/it]"
          ]
        },
        {
          "output_type": "stream",
          "name": "stdout",
          "text": [
            "Train Epoch: 15 [25600/30441 (84%)]\tLoss: 0.257375\tAccuracy: 24930/30441 (82%)\n"
          ]
        },
        {
          "output_type": "stream",
          "name": "stderr",
          "text": [
            " 50%|█████     | 15.006711409395255/30 [06:13<04:30, 18.07s/it]"
          ]
        },
        {
          "output_type": "stream",
          "name": "stdout",
          "text": [
            "\n",
            "Test Epoch: 15 \tLoss: 1.959641\tAccuracy: 3186/7611 (42%)\n",
            "\n",
            "Train Epoch: 16 [0/30441 (0%)]\tLoss: 0.214497\tAccuracy: 246/30441 (1%)\n"
          ]
        },
        {
          "output_type": "stream",
          "name": "stderr",
          "text": [
            " 50%|█████     | 15.147651006710674/30 [06:16<06:38, 26.81s/it]"
          ]
        },
        {
          "output_type": "stream",
          "name": "stdout",
          "text": [
            "Train Epoch: 16 [5120/30441 (17%)]\tLoss: 0.234648\tAccuracy: 5173/30441 (17%)\n"
          ]
        },
        {
          "output_type": "stream",
          "name": "stderr",
          "text": [
            " 51%|█████     | 15.281879194630122/30 [06:20<06:29, 26.48s/it]"
          ]
        },
        {
          "output_type": "stream",
          "name": "stdout",
          "text": [
            "Train Epoch: 16 [10240/30441 (34%)]\tLoss: 0.171970\tAccuracy: 10117/30441 (33%)\n"
          ]
        },
        {
          "output_type": "stream",
          "name": "stderr",
          "text": [
            " 51%|█████▏    | 15.41610738254957/30 [06:23<06:09, 25.37s/it] "
          ]
        },
        {
          "output_type": "stream",
          "name": "stdout",
          "text": [
            "Train Epoch: 16 [15360/30441 (50%)]\tLoss: 0.134732\tAccuracy: 15048/30441 (49%)\n"
          ]
        },
        {
          "output_type": "stream",
          "name": "stderr",
          "text": [
            " 52%|█████▏    | 15.550335570469016/30 [06:27<06:41, 27.77s/it]"
          ]
        },
        {
          "output_type": "stream",
          "name": "stdout",
          "text": [
            "Train Epoch: 16 [20480/30441 (67%)]\tLoss: 0.132990\tAccuracy: 20012/30441 (66%)\n"
          ]
        },
        {
          "output_type": "stream",
          "name": "stderr",
          "text": [
            " 52%|█████▏    | 15.684563758388464/30 [06:31<06:09, 25.83s/it]"
          ]
        },
        {
          "output_type": "stream",
          "name": "stdout",
          "text": [
            "Train Epoch: 16 [25600/30441 (84%)]\tLoss: 0.253747\tAccuracy: 24966/30441 (82%)\n"
          ]
        },
        {
          "output_type": "stream",
          "name": "stderr",
          "text": [
            " 53%|█████▎    | 16.006711409395137/30 [06:37<04:16, 18.36s/it]"
          ]
        },
        {
          "output_type": "stream",
          "name": "stdout",
          "text": [
            "\n",
            "Test Epoch: 16 \tLoss: 3.314648\tAccuracy: 2262/7611 (30%)\n",
            "\n",
            "Train Epoch: 17 [0/30441 (0%)]\tLoss: 0.165127\tAccuracy: 247/30441 (1%)\n"
          ]
        },
        {
          "output_type": "stream",
          "name": "stderr",
          "text": [
            " 54%|█████▍    | 16.147651006710557/30 [06:41<06:22, 27.64s/it]"
          ]
        },
        {
          "output_type": "stream",
          "name": "stdout",
          "text": [
            "Train Epoch: 17 [5120/30441 (17%)]\tLoss: 0.187067\tAccuracy: 5211/30441 (17%)\n"
          ]
        },
        {
          "output_type": "stream",
          "name": "stderr",
          "text": [
            " 54%|█████▍    | 16.281879194630005/30 [06:45<05:55, 25.88s/it]"
          ]
        },
        {
          "output_type": "stream",
          "name": "stdout",
          "text": [
            "Train Epoch: 17 [10240/30441 (34%)]\tLoss: 0.165256\tAccuracy: 10153/30441 (33%)\n"
          ]
        },
        {
          "output_type": "stream",
          "name": "stderr",
          "text": [
            " 55%|█████▍    | 16.416107382549452/30 [06:49<05:44, 25.37s/it]"
          ]
        },
        {
          "output_type": "stream",
          "name": "stdout",
          "text": [
            "Train Epoch: 17 [15360/30441 (50%)]\tLoss: 0.225406\tAccuracy: 15086/30441 (50%)\n"
          ]
        },
        {
          "output_type": "stream",
          "name": "stderr",
          "text": [
            " 55%|█████▌    | 16.5503355704689/30 [06:52<06:13, 27.80s/it]  "
          ]
        },
        {
          "output_type": "stream",
          "name": "stdout",
          "text": [
            "Train Epoch: 17 [20480/30441 (67%)]\tLoss: 0.237431\tAccuracy: 20010/30441 (66%)\n"
          ]
        },
        {
          "output_type": "stream",
          "name": "stderr",
          "text": [
            " 56%|█████▌    | 16.684563758388347/30 [06:56<05:34, 25.09s/it]"
          ]
        },
        {
          "output_type": "stream",
          "name": "stdout",
          "text": [
            "Train Epoch: 17 [25600/30441 (84%)]\tLoss: 0.163194\tAccuracy: 24973/30441 (82%)\n"
          ]
        },
        {
          "output_type": "stream",
          "name": "stderr",
          "text": [
            " 57%|█████▋    | 17.00671140939502/30 [07:03<04:09, 19.20s/it] "
          ]
        },
        {
          "output_type": "stream",
          "name": "stdout",
          "text": [
            "\n",
            "Test Epoch: 17 \tLoss: 4.628891\tAccuracy: 1503/7611 (20%)\n",
            "\n",
            "Train Epoch: 18 [0/30441 (0%)]\tLoss: 0.172614\tAccuracy: 246/30441 (1%)\n"
          ]
        },
        {
          "output_type": "stream",
          "name": "stderr",
          "text": [
            " 57%|█████▋    | 17.14765100671044/30 [07:06<05:29, 25.62s/it] "
          ]
        },
        {
          "output_type": "stream",
          "name": "stdout",
          "text": [
            "Train Epoch: 18 [5120/30441 (17%)]\tLoss: 0.151845\tAccuracy: 5193/30441 (17%)\n"
          ]
        },
        {
          "output_type": "stream",
          "name": "stderr",
          "text": [
            " 58%|█████▊    | 17.281879194629887/30 [07:10<05:26, 25.67s/it]"
          ]
        },
        {
          "output_type": "stream",
          "name": "stdout",
          "text": [
            "Train Epoch: 18 [10240/30441 (34%)]\tLoss: 0.201090\tAccuracy: 10111/30441 (33%)\n"
          ]
        },
        {
          "output_type": "stream",
          "name": "stderr",
          "text": [
            " 58%|█████▊    | 17.416107382549335/30 [07:13<05:24, 25.75s/it]"
          ]
        },
        {
          "output_type": "stream",
          "name": "stdout",
          "text": [
            "Train Epoch: 18 [15360/30441 (50%)]\tLoss: 0.229508\tAccuracy: 15058/30441 (49%)\n"
          ]
        },
        {
          "output_type": "stream",
          "name": "stderr",
          "text": [
            " 59%|█████▊    | 17.550335570468782/30 [07:17<05:53, 28.42s/it]"
          ]
        },
        {
          "output_type": "stream",
          "name": "stdout",
          "text": [
            "Train Epoch: 18 [20480/30441 (67%)]\tLoss: 0.133222\tAccuracy: 20011/30441 (66%)\n"
          ]
        },
        {
          "output_type": "stream",
          "name": "stderr",
          "text": [
            " 59%|█████▉    | 17.68456375838823/30 [07:21<05:31, 26.94s/it] "
          ]
        },
        {
          "output_type": "stream",
          "name": "stdout",
          "text": [
            "Train Epoch: 18 [25600/30441 (84%)]\tLoss: 0.137532\tAccuracy: 24966/30441 (82%)\n"
          ]
        },
        {
          "output_type": "stream",
          "name": "stderr",
          "text": [
            " 60%|██████    | 18.006711409394903/30 [07:27<03:37, 18.12s/it]"
          ]
        },
        {
          "output_type": "stream",
          "name": "stdout",
          "text": [
            "\n",
            "Test Epoch: 18 \tLoss: 2.068181\tAccuracy: 3536/7611 (46%)\n",
            "\n",
            "Train Epoch: 19 [0/30441 (0%)]\tLoss: 0.179487\tAccuracy: 248/30441 (1%)\n"
          ]
        },
        {
          "output_type": "stream",
          "name": "stderr",
          "text": [
            " 60%|██████    | 18.147651006710323/30 [07:31<05:29, 27.78s/it]"
          ]
        },
        {
          "output_type": "stream",
          "name": "stdout",
          "text": [
            "Train Epoch: 19 [5120/30441 (17%)]\tLoss: 0.125022\tAccuracy: 5212/30441 (17%)\n"
          ]
        },
        {
          "output_type": "stream",
          "name": "stderr",
          "text": [
            " 61%|██████    | 18.28187919462977/30 [07:35<04:59, 25.57s/it] "
          ]
        },
        {
          "output_type": "stream",
          "name": "stdout",
          "text": [
            "Train Epoch: 19 [10240/30441 (34%)]\tLoss: 0.206537\tAccuracy: 10159/30441 (33%)\n"
          ]
        },
        {
          "output_type": "stream",
          "name": "stderr",
          "text": [
            " 61%|██████▏   | 18.416107382549217/30 [07:38<05:02, 26.12s/it]"
          ]
        },
        {
          "output_type": "stream",
          "name": "stdout",
          "text": [
            "Train Epoch: 19 [15360/30441 (50%)]\tLoss: 0.148848\tAccuracy: 15110/30441 (50%)\n"
          ]
        },
        {
          "output_type": "stream",
          "name": "stderr",
          "text": [
            " 62%|██████▏   | 18.550335570468665/30 [07:42<05:30, 28.87s/it]"
          ]
        },
        {
          "output_type": "stream",
          "name": "stdout",
          "text": [
            "Train Epoch: 19 [20480/30441 (67%)]\tLoss: 0.196307\tAccuracy: 20030/30441 (66%)\n"
          ]
        },
        {
          "output_type": "stream",
          "name": "stderr",
          "text": [
            " 62%|██████▏   | 18.684563758388112/30 [07:46<05:02, 26.69s/it]"
          ]
        },
        {
          "output_type": "stream",
          "name": "stdout",
          "text": [
            "Train Epoch: 19 [25600/30441 (84%)]\tLoss: 0.180182\tAccuracy: 24952/30441 (82%)\n"
          ]
        },
        {
          "output_type": "stream",
          "name": "stderr",
          "text": [
            " 63%|██████▎   | 19.006711409394786/30 [07:52<03:23, 18.52s/it]"
          ]
        },
        {
          "output_type": "stream",
          "name": "stdout",
          "text": [
            "\n",
            "Test Epoch: 19 \tLoss: 1.559646\tAccuracy: 4547/7611 (60%)\n",
            "\n",
            "Train Epoch: 20 [0/30441 (0%)]\tLoss: 0.275664\tAccuracy: 242/30441 (1%)\n"
          ]
        },
        {
          "output_type": "stream",
          "name": "stderr",
          "text": [
            " 64%|██████▍   | 19.147651006710205/30 [07:56<04:44, 26.18s/it]"
          ]
        },
        {
          "output_type": "stream",
          "name": "stdout",
          "text": [
            "Train Epoch: 20 [5120/30441 (17%)]\tLoss: 0.148012\tAccuracy: 5197/30441 (17%)\n"
          ]
        },
        {
          "output_type": "stream",
          "name": "stderr",
          "text": [
            " 64%|██████▍   | 19.281879194629653/30 [08:00<04:37, 25.91s/it]"
          ]
        },
        {
          "output_type": "stream",
          "name": "stdout",
          "text": [
            "Train Epoch: 20 [10240/30441 (34%)]\tLoss: 0.104420\tAccuracy: 10152/30441 (33%)\n"
          ]
        },
        {
          "output_type": "stream",
          "name": "stderr",
          "text": [
            " 65%|██████▍   | 19.4161073825491/30 [08:03<04:37, 26.21s/it]  "
          ]
        },
        {
          "output_type": "stream",
          "name": "stdout",
          "text": [
            "Train Epoch: 20 [15360/30441 (50%)]\tLoss: 0.150435\tAccuracy: 15099/30441 (50%)\n"
          ]
        },
        {
          "output_type": "stream",
          "name": "stderr",
          "text": [
            " 65%|██████▌   | 19.550335570468548/30 [08:07<04:59, 28.71s/it]"
          ]
        },
        {
          "output_type": "stream",
          "name": "stdout",
          "text": [
            "Train Epoch: 20 [20480/30441 (67%)]\tLoss: 0.184790\tAccuracy: 20024/30441 (66%)\n"
          ]
        },
        {
          "output_type": "stream",
          "name": "stderr",
          "text": [
            " 66%|██████▌   | 19.684563758387995/30 [08:11<04:23, 25.54s/it]"
          ]
        },
        {
          "output_type": "stream",
          "name": "stdout",
          "text": [
            "Train Epoch: 20 [25600/30441 (84%)]\tLoss: 0.191669\tAccuracy: 24960/30441 (82%)\n"
          ]
        },
        {
          "output_type": "stream",
          "name": "stderr",
          "text": [
            " 67%|██████▋   | 20.00671140939467/30 [08:17<03:13, 19.35s/it] "
          ]
        },
        {
          "output_type": "stream",
          "name": "stdout",
          "text": [
            "\n",
            "Test Epoch: 20 \tLoss: 3.115857\tAccuracy: 1742/7611 (23%)\n",
            "\n",
            "Train Epoch: 21 [0/30441 (0%)]\tLoss: 0.219503\tAccuracy: 245/30441 (1%)\n"
          ]
        },
        {
          "output_type": "stream",
          "name": "stderr",
          "text": [
            " 67%|██████▋   | 20.14765100671009/30 [08:21<04:20, 26.47s/it] "
          ]
        },
        {
          "output_type": "stream",
          "name": "stdout",
          "text": [
            "Train Epoch: 21 [5120/30441 (17%)]\tLoss: 0.160574\tAccuracy: 5201/30441 (17%)\n"
          ]
        },
        {
          "output_type": "stream",
          "name": "stderr",
          "text": [
            " 68%|██████▊   | 20.281879194629536/30 [08:25<04:06, 25.33s/it]"
          ]
        },
        {
          "output_type": "stream",
          "name": "stdout",
          "text": [
            "Train Epoch: 21 [10240/30441 (34%)]\tLoss: 0.090611\tAccuracy: 10162/30441 (33%)\n"
          ]
        },
        {
          "output_type": "stream",
          "name": "stderr",
          "text": [
            " 68%|██████▊   | 20.416107382548983/30 [08:28<04:16, 26.78s/it]"
          ]
        },
        {
          "output_type": "stream",
          "name": "stdout",
          "text": [
            "Train Epoch: 21 [15360/30441 (50%)]\tLoss: 0.103859\tAccuracy: 15135/30441 (50%)\n"
          ]
        },
        {
          "output_type": "stream",
          "name": "stderr",
          "text": [
            " 69%|██████▊   | 20.55033557046843/30 [08:32<04:19, 27.43s/it] "
          ]
        },
        {
          "output_type": "stream",
          "name": "stdout",
          "text": [
            "Train Epoch: 21 [20480/30441 (67%)]\tLoss: 0.150949\tAccuracy: 20084/30441 (66%)\n"
          ]
        },
        {
          "output_type": "stream",
          "name": "stderr",
          "text": [
            " 69%|██████▉   | 20.684563758387878/30 [08:36<04:01, 25.97s/it]"
          ]
        },
        {
          "output_type": "stream",
          "name": "stdout",
          "text": [
            "Train Epoch: 21 [25600/30441 (84%)]\tLoss: 0.130344\tAccuracy: 25070/30441 (82%)\n"
          ]
        },
        {
          "output_type": "stream",
          "name": "stderr",
          "text": [
            " 70%|██████▉   | 20.99999999999858/30 [08:42<02:36, 17.37s/it] "
          ]
        },
        {
          "output_type": "stream",
          "name": "stdout",
          "text": [
            "\n",
            "Test Epoch: 21 \tLoss: 0.254216\tAccuracy: 7018/7611 (92%)\n",
            "\n"
          ]
        },
        {
          "output_type": "stream",
          "name": "stderr",
          "text": [
            " 70%|███████   | 21.013422818790524/30 [08:43<03:18, 22.12s/it]"
          ]
        },
        {
          "output_type": "stream",
          "name": "stdout",
          "text": [
            "Train Epoch: 22 [0/30441 (0%)]\tLoss: 0.084739\tAccuracy: 250/30441 (1%)\n"
          ]
        },
        {
          "output_type": "stream",
          "name": "stderr",
          "text": [
            " 70%|███████   | 21.14765100670997/30 [08:46<03:47, 25.65s/it]"
          ]
        },
        {
          "output_type": "stream",
          "name": "stdout",
          "text": [
            "Train Epoch: 22 [5120/30441 (17%)]\tLoss: 0.099300\tAccuracy: 5235/30441 (17%)\n"
          ]
        },
        {
          "output_type": "stream",
          "name": "stderr",
          "text": [
            " 71%|███████   | 21.28187919462942/30 [08:50<03:44, 25.71s/it] "
          ]
        },
        {
          "output_type": "stream",
          "name": "stdout",
          "text": [
            "Train Epoch: 22 [10240/30441 (34%)]\tLoss: 0.075623\tAccuracy: 10221/30441 (34%)\n"
          ]
        },
        {
          "output_type": "stream",
          "name": "stderr",
          "text": [
            " 71%|███████▏  | 21.416107382548866/30 [08:53<03:37, 25.36s/it]"
          ]
        },
        {
          "output_type": "stream",
          "name": "stdout",
          "text": [
            "Train Epoch: 22 [15360/30441 (50%)]\tLoss: 0.114317\tAccuracy: 15217/30441 (50%)\n"
          ]
        },
        {
          "output_type": "stream",
          "name": "stderr",
          "text": [
            " 72%|███████▏  | 21.550335570468313/30 [08:57<03:55, 27.84s/it]"
          ]
        },
        {
          "output_type": "stream",
          "name": "stdout",
          "text": [
            "Train Epoch: 22 [20480/30441 (67%)]\tLoss: 0.112551\tAccuracy: 20178/30441 (66%)\n"
          ]
        },
        {
          "output_type": "stream",
          "name": "stderr",
          "text": [
            " 72%|███████▏  | 21.68456375838776/30 [09:00<03:36, 26.01s/it] "
          ]
        },
        {
          "output_type": "stream",
          "name": "stdout",
          "text": [
            "Train Epoch: 22 [25600/30441 (84%)]\tLoss: 0.109453\tAccuracy: 25152/30441 (83%)\n"
          ]
        },
        {
          "output_type": "stream",
          "name": "stderr",
          "text": [
            " 73%|███████▎  | 22.006711409394434/30 [09:07<02:54, 21.86s/it]"
          ]
        },
        {
          "output_type": "stream",
          "name": "stdout",
          "text": [
            "\n",
            "Test Epoch: 22 \tLoss: 0.516351\tAccuracy: 6272/7611 (82%)\n",
            "\n",
            "Train Epoch: 23 [0/30441 (0%)]\tLoss: 0.099186\tAccuracy: 250/30441 (1%)\n"
          ]
        },
        {
          "output_type": "stream",
          "name": "stderr",
          "text": [
            " 74%|███████▍  | 22.147651006709854/30 [09:11<03:20, 25.52s/it]"
          ]
        },
        {
          "output_type": "stream",
          "name": "stdout",
          "text": [
            "Train Epoch: 23 [5120/30441 (17%)]\tLoss: 0.127778\tAccuracy: 5240/30441 (17%)\n"
          ]
        },
        {
          "output_type": "stream",
          "name": "stderr",
          "text": [
            " 74%|███████▍  | 22.2818791946293/30 [09:15<03:20, 25.96s/it] "
          ]
        },
        {
          "output_type": "stream",
          "name": "stdout",
          "text": [
            "Train Epoch: 23 [10240/30441 (34%)]\tLoss: 0.096371\tAccuracy: 10217/30441 (34%)\n"
          ]
        },
        {
          "output_type": "stream",
          "name": "stderr",
          "text": [
            " 75%|███████▍  | 22.41610738254875/30 [09:18<03:16, 25.90s/it] "
          ]
        },
        {
          "output_type": "stream",
          "name": "stdout",
          "text": [
            "Train Epoch: 23 [15360/30441 (50%)]\tLoss: 0.054059\tAccuracy: 15209/30441 (50%)\n"
          ]
        },
        {
          "output_type": "stream",
          "name": "stderr",
          "text": [
            " 75%|███████▌  | 22.550335570468196/30 [09:22<03:20, 26.94s/it]"
          ]
        },
        {
          "output_type": "stream",
          "name": "stdout",
          "text": [
            "Train Epoch: 23 [20480/30441 (67%)]\tLoss: 0.089044\tAccuracy: 20164/30441 (66%)\n"
          ]
        },
        {
          "output_type": "stream",
          "name": "stderr",
          "text": [
            " 76%|███████▌  | 22.684563758387643/30 [09:25<03:06, 25.45s/it]"
          ]
        },
        {
          "output_type": "stream",
          "name": "stdout",
          "text": [
            "Train Epoch: 23 [25600/30441 (84%)]\tLoss: 0.090185\tAccuracy: 25144/30441 (83%)\n"
          ]
        },
        {
          "output_type": "stream",
          "name": "stderr",
          "text": [
            " 77%|███████▋  | 23.006711409394317/30 [09:32<02:23, 20.51s/it]"
          ]
        },
        {
          "output_type": "stream",
          "name": "stdout",
          "text": [
            "\n",
            "Test Epoch: 23 \tLoss: 0.147536\tAccuracy: 7285/7611 (96%)\n",
            "\n",
            "Train Epoch: 24 [0/30441 (0%)]\tLoss: 0.058090\tAccuracy: 252/30441 (1%)\n"
          ]
        },
        {
          "output_type": "stream",
          "name": "stderr",
          "text": [
            " 77%|███████▋  | 23.147651006709737/30 [09:36<02:51, 25.02s/it]"
          ]
        },
        {
          "output_type": "stream",
          "name": "stdout",
          "text": [
            "Train Epoch: 24 [5120/30441 (17%)]\tLoss: 0.141750\tAccuracy: 5231/30441 (17%)\n"
          ]
        },
        {
          "output_type": "stream",
          "name": "stderr",
          "text": [
            " 78%|███████▊  | 23.281879194629184/30 [09:39<02:51, 25.54s/it]"
          ]
        },
        {
          "output_type": "stream",
          "name": "stdout",
          "text": [
            "Train Epoch: 24 [10240/30441 (34%)]\tLoss: 0.076862\tAccuracy: 10208/30441 (34%)\n"
          ]
        },
        {
          "output_type": "stream",
          "name": "stderr",
          "text": [
            " 78%|███████▊  | 23.41610738254863/30 [09:43<03:03, 27.86s/it]"
          ]
        },
        {
          "output_type": "stream",
          "name": "stdout",
          "text": [
            "Train Epoch: 24 [15360/30441 (50%)]\tLoss: 0.042199\tAccuracy: 15190/30441 (50%)\n"
          ]
        },
        {
          "output_type": "stream",
          "name": "stderr",
          "text": [
            " 79%|███████▊  | 23.55033557046808/30 [09:47<02:55, 27.20s/it] "
          ]
        },
        {
          "output_type": "stream",
          "name": "stdout",
          "text": [
            "Train Epoch: 24 [20480/30441 (67%)]\tLoss: 0.101673\tAccuracy: 20168/30441 (66%)\n"
          ]
        },
        {
          "output_type": "stream",
          "name": "stderr",
          "text": [
            " 79%|███████▉  | 23.684563758387526/30 [09:50<02:49, 26.82s/it]"
          ]
        },
        {
          "output_type": "stream",
          "name": "stdout",
          "text": [
            "Train Epoch: 24 [25600/30441 (84%)]\tLoss: 0.112995\tAccuracy: 25163/30441 (83%)\n"
          ]
        },
        {
          "output_type": "stream",
          "name": "stderr",
          "text": [
            " 80%|████████  | 24.0067114093942/30 [09:57<02:07, 21.30s/it]  "
          ]
        },
        {
          "output_type": "stream",
          "name": "stdout",
          "text": [
            "\n",
            "Test Epoch: 24 \tLoss: 0.153905\tAccuracy: 7276/7611 (96%)\n",
            "\n",
            "Train Epoch: 25 [0/30441 (0%)]\tLoss: 0.123747\tAccuracy: 246/30441 (1%)\n"
          ]
        },
        {
          "output_type": "stream",
          "name": "stderr",
          "text": [
            " 80%|████████  | 24.14765100670962/30 [10:01<02:35, 26.56s/it] "
          ]
        },
        {
          "output_type": "stream",
          "name": "stdout",
          "text": [
            "Train Epoch: 25 [5120/30441 (17%)]\tLoss: 0.133986\tAccuracy: 5236/30441 (17%)\n"
          ]
        },
        {
          "output_type": "stream",
          "name": "stderr",
          "text": [
            " 81%|████████  | 24.281879194629067/30 [10:04<02:32, 26.71s/it]"
          ]
        },
        {
          "output_type": "stream",
          "name": "stdout",
          "text": [
            "Train Epoch: 25 [10240/30441 (34%)]\tLoss: 0.126649\tAccuracy: 10220/30441 (34%)\n"
          ]
        },
        {
          "output_type": "stream",
          "name": "stderr",
          "text": [
            " 81%|████████▏ | 24.416107382548514/30 [10:08<02:24, 25.88s/it]"
          ]
        },
        {
          "output_type": "stream",
          "name": "stdout",
          "text": [
            "Train Epoch: 25 [15360/30441 (50%)]\tLoss: 0.068309\tAccuracy: 15241/30441 (50%)\n"
          ]
        },
        {
          "output_type": "stream",
          "name": "stderr",
          "text": [
            " 82%|████████▏ | 24.55033557046796/30 [10:12<02:25, 26.67s/it]"
          ]
        },
        {
          "output_type": "stream",
          "name": "stdout",
          "text": [
            "Train Epoch: 25 [20480/30441 (67%)]\tLoss: 0.081779\tAccuracy: 20225/30441 (66%)\n"
          ]
        },
        {
          "output_type": "stream",
          "name": "stderr",
          "text": [
            " 82%|████████▏ | 24.68456375838741/30 [10:15<02:18, 26.01s/it] "
          ]
        },
        {
          "output_type": "stream",
          "name": "stdout",
          "text": [
            "Train Epoch: 25 [25600/30441 (84%)]\tLoss: 0.100472\tAccuracy: 25205/30441 (83%)\n"
          ]
        },
        {
          "output_type": "stream",
          "name": "stderr",
          "text": [
            " 83%|████████▎ | 25.006711409394082/30 [10:22<01:46, 21.26s/it]"
          ]
        },
        {
          "output_type": "stream",
          "name": "stdout",
          "text": [
            "\n",
            "Test Epoch: 25 \tLoss: 0.526188\tAccuracy: 6510/7611 (86%)\n",
            "\n",
            "Train Epoch: 26 [0/30441 (0%)]\tLoss: 0.047664\tAccuracy: 254/30441 (1%)\n"
          ]
        },
        {
          "output_type": "stream",
          "name": "stderr",
          "text": [
            " 84%|████████▍ | 25.147651006709502/30 [10:26<02:07, 26.34s/it]"
          ]
        },
        {
          "output_type": "stream",
          "name": "stdout",
          "text": [
            "Train Epoch: 26 [5120/30441 (17%)]\tLoss: 0.065759\tAccuracy: 5253/30441 (17%)\n"
          ]
        },
        {
          "output_type": "stream",
          "name": "stderr",
          "text": [
            " 84%|████████▍ | 25.28187919462895/30 [10:29<02:02, 26.02s/it] "
          ]
        },
        {
          "output_type": "stream",
          "name": "stdout",
          "text": [
            "Train Epoch: 26 [10240/30441 (34%)]\tLoss: 0.070122\tAccuracy: 10240/30441 (34%)\n"
          ]
        },
        {
          "output_type": "stream",
          "name": "stderr",
          "text": [
            " 85%|████████▍ | 25.416107382548397/30 [10:33<02:02, 26.79s/it]"
          ]
        },
        {
          "output_type": "stream",
          "name": "stdout",
          "text": [
            "Train Epoch: 26 [15360/30441 (50%)]\tLoss: 0.062025\tAccuracy: 15214/30441 (50%)\n"
          ]
        },
        {
          "output_type": "stream",
          "name": "stderr",
          "text": [
            " 85%|████████▌ | 25.550335570467844/30 [10:37<01:52, 25.29s/it]"
          ]
        },
        {
          "output_type": "stream",
          "name": "stdout",
          "text": [
            "Train Epoch: 26 [20480/30441 (67%)]\tLoss: 0.102435\tAccuracy: 20206/30441 (66%)\n"
          ]
        },
        {
          "output_type": "stream",
          "name": "stderr",
          "text": [
            " 86%|████████▌ | 25.68456375838729/30 [10:40<01:48, 25.09s/it]"
          ]
        },
        {
          "output_type": "stream",
          "name": "stdout",
          "text": [
            "Train Epoch: 26 [25600/30441 (84%)]\tLoss: 0.180221\tAccuracy: 25186/30441 (83%)\n"
          ]
        },
        {
          "output_type": "stream",
          "name": "stderr",
          "text": [
            " 87%|████████▋ | 26.006711409393965/30 [10:47<01:25, 21.38s/it]"
          ]
        },
        {
          "output_type": "stream",
          "name": "stdout",
          "text": [
            "\n",
            "Test Epoch: 26 \tLoss: 0.229875\tAccuracy: 7061/7611 (93%)\n",
            "\n",
            "Train Epoch: 27 [0/30441 (0%)]\tLoss: 0.090906\tAccuracy: 251/30441 (1%)\n"
          ]
        },
        {
          "output_type": "stream",
          "name": "stderr",
          "text": [
            " 87%|████████▋ | 26.147651006709385/30 [10:51<01:39, 25.83s/it]"
          ]
        },
        {
          "output_type": "stream",
          "name": "stdout",
          "text": [
            "Train Epoch: 27 [5120/30441 (17%)]\tLoss: 0.075583\tAccuracy: 5250/30441 (17%)\n"
          ]
        },
        {
          "output_type": "stream",
          "name": "stderr",
          "text": [
            " 88%|████████▊ | 26.281879194628832/30 [10:54<01:35, 25.76s/it]"
          ]
        },
        {
          "output_type": "stream",
          "name": "stdout",
          "text": [
            "Train Epoch: 27 [10240/30441 (34%)]\tLoss: 0.072331\tAccuracy: 10239/30441 (34%)\n"
          ]
        },
        {
          "output_type": "stream",
          "name": "stderr",
          "text": [
            " 88%|████████▊ | 26.41610738254828/30 [10:58<01:32, 25.70s/it] "
          ]
        },
        {
          "output_type": "stream",
          "name": "stdout",
          "text": [
            "Train Epoch: 27 [15360/30441 (50%)]\tLoss: 0.076516\tAccuracy: 15236/30441 (50%)\n"
          ]
        },
        {
          "output_type": "stream",
          "name": "stderr",
          "text": [
            " 89%|████████▊ | 26.550335570467727/30 [11:02<01:30, 26.37s/it]"
          ]
        },
        {
          "output_type": "stream",
          "name": "stdout",
          "text": [
            "Train Epoch: 27 [20480/30441 (67%)]\tLoss: 0.113666\tAccuracy: 20233/30441 (66%)\n"
          ]
        },
        {
          "output_type": "stream",
          "name": "stderr",
          "text": [
            " 89%|████████▉ | 26.684563758387174/30 [11:05<01:25, 25.65s/it]"
          ]
        },
        {
          "output_type": "stream",
          "name": "stdout",
          "text": [
            "Train Epoch: 27 [25600/30441 (84%)]\tLoss: 0.073926\tAccuracy: 25225/30441 (83%)\n"
          ]
        },
        {
          "output_type": "stream",
          "name": "stderr",
          "text": [
            " 90%|█████████ | 27.006711409393848/30 [11:12<01:03, 21.34s/it]"
          ]
        },
        {
          "output_type": "stream",
          "name": "stdout",
          "text": [
            "\n",
            "Test Epoch: 27 \tLoss: 0.631499\tAccuracy: 6272/7611 (82%)\n",
            "\n",
            "Train Epoch: 28 [0/30441 (0%)]\tLoss: 0.044894\tAccuracy: 253/30441 (1%)\n"
          ]
        },
        {
          "output_type": "stream",
          "name": "stderr",
          "text": [
            " 90%|█████████ | 27.147651006709268/30 [11:16<01:12, 25.56s/it]"
          ]
        },
        {
          "output_type": "stream",
          "name": "stdout",
          "text": [
            "Train Epoch: 28 [5120/30441 (17%)]\tLoss: 0.100118\tAccuracy: 5259/30441 (17%)\n"
          ]
        },
        {
          "output_type": "stream",
          "name": "stderr",
          "text": [
            " 91%|█████████ | 27.281879194628715/30 [11:19<01:09, 25.68s/it]"
          ]
        },
        {
          "output_type": "stream",
          "name": "stdout",
          "text": [
            "Train Epoch: 28 [10240/30441 (34%)]\tLoss: 0.100407\tAccuracy: 10251/30441 (34%)\n"
          ]
        },
        {
          "output_type": "stream",
          "name": "stderr",
          "text": [
            " 91%|█████████▏| 27.416107382548162/30 [11:23<01:11, 27.76s/it]"
          ]
        },
        {
          "output_type": "stream",
          "name": "stdout",
          "text": [
            "Train Epoch: 28 [15360/30441 (50%)]\tLoss: 0.092700\tAccuracy: 15254/30441 (50%)\n"
          ]
        },
        {
          "output_type": "stream",
          "name": "stderr",
          "text": [
            " 92%|█████████▏| 27.55033557046761/30 [11:26<01:05, 26.54s/it] "
          ]
        },
        {
          "output_type": "stream",
          "name": "stdout",
          "text": [
            "Train Epoch: 28 [20480/30441 (67%)]\tLoss: 0.090505\tAccuracy: 20250/30441 (67%)\n"
          ]
        },
        {
          "output_type": "stream",
          "name": "stderr",
          "text": [
            " 92%|█████████▏| 27.684563758387057/30 [11:30<01:00, 26.29s/it]"
          ]
        },
        {
          "output_type": "stream",
          "name": "stdout",
          "text": [
            "Train Epoch: 28 [25600/30441 (84%)]\tLoss: 0.104822\tAccuracy: 25247/30441 (83%)\n"
          ]
        },
        {
          "output_type": "stream",
          "name": "stderr",
          "text": [
            " 93%|█████████▎| 28.00671140939373/30 [11:37<00:41, 20.98s/it]"
          ]
        },
        {
          "output_type": "stream",
          "name": "stdout",
          "text": [
            "\n",
            "Test Epoch: 28 \tLoss: 0.460382\tAccuracy: 6647/7611 (87%)\n",
            "\n",
            "Train Epoch: 29 [0/30441 (0%)]\tLoss: 0.048716\tAccuracy: 253/30441 (1%)\n"
          ]
        },
        {
          "output_type": "stream",
          "name": "stderr",
          "text": [
            " 94%|█████████▍| 28.14765100670915/30 [11:41<00:46, 24.94s/it] "
          ]
        },
        {
          "output_type": "stream",
          "name": "stdout",
          "text": [
            "Train Epoch: 29 [5120/30441 (17%)]\tLoss: 0.094468\tAccuracy: 5268/30441 (17%)\n"
          ]
        },
        {
          "output_type": "stream",
          "name": "stderr",
          "text": [
            " 94%|█████████▍| 28.281879194628598/30 [11:44<00:43, 25.39s/it]"
          ]
        },
        {
          "output_type": "stream",
          "name": "stdout",
          "text": [
            "Train Epoch: 29 [10240/30441 (34%)]\tLoss: 0.084438\tAccuracy: 10272/30441 (34%)\n"
          ]
        },
        {
          "output_type": "stream",
          "name": "stderr",
          "text": [
            " 95%|█████████▍| 28.416107382548045/30 [11:48<00:44, 28.11s/it]"
          ]
        },
        {
          "output_type": "stream",
          "name": "stdout",
          "text": [
            "Train Epoch: 29 [15360/30441 (50%)]\tLoss: 0.103970\tAccuracy: 15280/30441 (50%)\n"
          ]
        },
        {
          "output_type": "stream",
          "name": "stderr",
          "text": [
            " 95%|█████████▌| 28.550335570467492/30 [11:51<00:38, 26.61s/it]"
          ]
        },
        {
          "output_type": "stream",
          "name": "stdout",
          "text": [
            "Train Epoch: 29 [20480/30441 (67%)]\tLoss: 0.065503\tAccuracy: 20280/30441 (67%)\n"
          ]
        },
        {
          "output_type": "stream",
          "name": "stderr",
          "text": [
            " 96%|█████████▌| 28.68456375838694/30 [11:55<00:33, 25.47s/it] "
          ]
        },
        {
          "output_type": "stream",
          "name": "stdout",
          "text": [
            "Train Epoch: 29 [25600/30441 (84%)]\tLoss: 0.070643\tAccuracy: 25278/30441 (83%)\n"
          ]
        },
        {
          "output_type": "stream",
          "name": "stderr",
          "text": [
            " 97%|█████████▋| 29.006711409393613/30 [12:02<00:21, 21.48s/it]"
          ]
        },
        {
          "output_type": "stream",
          "name": "stdout",
          "text": [
            "\n",
            "Test Epoch: 29 \tLoss: 0.159064\tAccuracy: 7231/7611 (95%)\n",
            "\n",
            "Train Epoch: 30 [0/30441 (0%)]\tLoss: 0.058611\tAccuracy: 249/30441 (1%)\n"
          ]
        },
        {
          "output_type": "stream",
          "name": "stderr",
          "text": [
            " 97%|█████████▋| 29.147651006709033/30 [12:06<00:21, 25.47s/it]"
          ]
        },
        {
          "output_type": "stream",
          "name": "stdout",
          "text": [
            "Train Epoch: 30 [5120/30441 (17%)]\tLoss: 0.041280\tAccuracy: 5263/30441 (17%)\n"
          ]
        },
        {
          "output_type": "stream",
          "name": "stderr",
          "text": [
            " 98%|█████████▊| 29.28187919462848/30 [12:09<00:18, 25.45s/it] "
          ]
        },
        {
          "output_type": "stream",
          "name": "stdout",
          "text": [
            "Train Epoch: 30 [10240/30441 (34%)]\tLoss: 0.077491\tAccuracy: 10283/30441 (34%)\n"
          ]
        },
        {
          "output_type": "stream",
          "name": "stderr",
          "text": [
            " 98%|█████████▊| 29.416107382547928/30 [12:13<00:16, 28.46s/it]"
          ]
        },
        {
          "output_type": "stream",
          "name": "stdout",
          "text": [
            "Train Epoch: 30 [15360/30441 (50%)]\tLoss: 0.044334\tAccuracy: 15295/30441 (50%)\n"
          ]
        },
        {
          "output_type": "stream",
          "name": "stderr",
          "text": [
            " 99%|█████████▊| 29.550335570467375/30 [12:16<00:11, 26.35s/it]"
          ]
        },
        {
          "output_type": "stream",
          "name": "stdout",
          "text": [
            "Train Epoch: 30 [20480/30441 (67%)]\tLoss: 0.066186\tAccuracy: 20286/30441 (67%)\n"
          ]
        },
        {
          "output_type": "stream",
          "name": "stderr",
          "text": [
            " 99%|█████████▉| 29.684563758386822/30 [12:20<00:08, 26.80s/it]"
          ]
        },
        {
          "output_type": "stream",
          "name": "stdout",
          "text": [
            "Train Epoch: 30 [25600/30441 (84%)]\tLoss: 0.086995\tAccuracy: 25287/30441 (83%)\n"
          ]
        },
        {
          "output_type": "stream",
          "name": "stderr",
          "text": [
            "100%|█████████▉| 29.999999999997524/30 [12:27<00:00, 24.91s/it]"
          ]
        },
        {
          "output_type": "stream",
          "name": "stdout",
          "text": [
            "\n",
            "Test Epoch: 30 \tLoss: 0.189547\tAccuracy: 7198/7611 (95%)\n",
            "\n"
          ]
        },
        {
          "output_type": "stream",
          "name": "stderr",
          "text": [
            "\n"
          ]
        }
      ]
    },
    {
      "cell_type": "code",
      "source": [
        "optimizer = optim.Adam(model_m11.parameters(), lr=0.01, weight_decay=0.0001)\n",
        "scheduler = optim.lr_scheduler.StepLR(optimizer, step_size=20, gamma=0.1)\n",
        "\n",
        "losses = []\n",
        "accuracy_test = []\n",
        "losses_test = []\n",
        "transform = transform.to(device)\n",
        "with tqdm(total=n_epoch) as pbar:\n",
        "    for epoch in range(1, n_epoch + 1):\n",
        "        train(model_m11, optimizer, epoch, log_interval)\n",
        "        test(model_m11, epoch)\n",
        "        scheduler.step()"
      ],
      "metadata": {
        "id": "1MtgXc9XojZw",
        "colab": {
          "base_uri": "https://localhost:8080/"
        },
        "outputId": "1a75592b-36ff-408a-857c-1ab20b1e3609"
      },
      "execution_count": 22,
      "outputs": [
        {
          "output_type": "stream",
          "name": "stderr",
          "text": [
            "  0%|          | 0.013422818791946308/30 [00:08<4:18:42, 517.64s/it]  "
          ]
        },
        {
          "output_type": "stream",
          "name": "stdout",
          "text": [
            "Train Epoch: 1 [0/30441 (0%)]\tLoss: 2.329113\tAccuracy: 24/30441 (0%)\n"
          ]
        },
        {
          "output_type": "stream",
          "name": "stderr",
          "text": [
            "  0%|          | 0.14765100671140938/30 [00:11<12:50, 25.80s/it]"
          ]
        },
        {
          "output_type": "stream",
          "name": "stdout",
          "text": [
            "Train Epoch: 1 [5120/30441 (17%)]\tLoss: 1.571109\tAccuracy: 1215/30441 (4%)\n"
          ]
        },
        {
          "output_type": "stream",
          "name": "stderr",
          "text": [
            "  1%|          | 0.2818791946308723/30 [00:15<12:11, 24.60s/it] "
          ]
        },
        {
          "output_type": "stream",
          "name": "stdout",
          "text": [
            "Train Epoch: 1 [10240/30441 (34%)]\tLoss: 0.939409\tAccuracy: 4232/30441 (14%)\n"
          ]
        },
        {
          "output_type": "stream",
          "name": "stderr",
          "text": [
            "  1%|▏         | 0.4161073825503352/30 [00:18<13:11, 26.74s/it] "
          ]
        },
        {
          "output_type": "stream",
          "name": "stdout",
          "text": [
            "Train Epoch: 1 [15360/30441 (50%)]\tLoss: 0.621479\tAccuracy: 8195/30441 (27%)\n"
          ]
        },
        {
          "output_type": "stream",
          "name": "stderr",
          "text": [
            "  2%|▏         | 0.5503355704697981/30 [00:22<13:52, 28.26s/it]"
          ]
        },
        {
          "output_type": "stream",
          "name": "stdout",
          "text": [
            "Train Epoch: 1 [20480/30441 (67%)]\tLoss: 0.525400\tAccuracy: 12343/30441 (41%)\n"
          ]
        },
        {
          "output_type": "stream",
          "name": "stderr",
          "text": [
            "  2%|▏         | 0.684563758389261/30 [00:26<11:50, 24.24s/it] "
          ]
        },
        {
          "output_type": "stream",
          "name": "stdout",
          "text": [
            "Train Epoch: 1 [25600/30441 (84%)]\tLoss: 0.660900\tAccuracy: 16662/30441 (55%)\n"
          ]
        },
        {
          "output_type": "stream",
          "name": "stderr",
          "text": [
            "  3%|▎         | 1.006711409395972/30 [00:33<10:05, 20.88s/it] "
          ]
        },
        {
          "output_type": "stream",
          "name": "stdout",
          "text": [
            "\n",
            "Test Epoch: 1 \tLoss: 8.695287\tAccuracy: 812/7611 (11%)\n",
            "\n",
            "Train Epoch: 2 [0/30441 (0%)]\tLoss: 0.527174\tAccuracy: 217/30441 (1%)\n"
          ]
        },
        {
          "output_type": "stream",
          "name": "stderr",
          "text": [
            "  4%|▍         | 1.1476510067114103/30 [00:36<11:40, 24.28s/it]"
          ]
        },
        {
          "output_type": "stream",
          "name": "stdout",
          "text": [
            "Train Epoch: 2 [5120/30441 (17%)]\tLoss: 0.579110\tAccuracy: 4665/30441 (15%)\n"
          ]
        },
        {
          "output_type": "stream",
          "name": "stderr",
          "text": [
            "  4%|▍         | 1.2818791946308754/30 [00:40<11:32, 24.10s/it]"
          ]
        },
        {
          "output_type": "stream",
          "name": "stdout",
          "text": [
            "Train Epoch: 2 [10240/30441 (34%)]\tLoss: 0.441838\tAccuracy: 9257/30441 (30%)\n"
          ]
        },
        {
          "output_type": "stream",
          "name": "stderr",
          "text": [
            "  5%|▍         | 1.4161073825503405/30 [00:43<12:30, 26.26s/it]"
          ]
        },
        {
          "output_type": "stream",
          "name": "stdout",
          "text": [
            "Train Epoch: 2 [15360/30441 (50%)]\tLoss: 0.478400\tAccuracy: 13873/30441 (46%)\n"
          ]
        },
        {
          "output_type": "stream",
          "name": "stderr",
          "text": [
            "  5%|▌         | 1.5503355704698056/30 [00:47<12:04, 25.45s/it]"
          ]
        },
        {
          "output_type": "stream",
          "name": "stdout",
          "text": [
            "Train Epoch: 2 [20480/30441 (67%)]\tLoss: 0.314367\tAccuracy: 18549/30441 (61%)\n"
          ]
        },
        {
          "output_type": "stream",
          "name": "stderr",
          "text": [
            "  6%|▌         | 1.6845637583892707/30 [00:50<11:44, 24.87s/it]"
          ]
        },
        {
          "output_type": "stream",
          "name": "stdout",
          "text": [
            "Train Epoch: 2 [25600/30441 (84%)]\tLoss: 0.258527\tAccuracy: 23229/30441 (76%)\n"
          ]
        },
        {
          "output_type": "stream",
          "name": "stderr",
          "text": [
            "  7%|▋         | 2.006711409395987/30 [00:56<09:42, 20.81s/it] "
          ]
        },
        {
          "output_type": "stream",
          "name": "stdout",
          "text": [
            "\n",
            "Test Epoch: 2 \tLoss: 13.391056\tAccuracy: 960/7611 (13%)\n",
            "\n",
            "Train Epoch: 3 [0/30441 (0%)]\tLoss: 0.493881\tAccuracy: 231/30441 (1%)\n"
          ]
        },
        {
          "output_type": "stream",
          "name": "stderr",
          "text": [
            "  7%|▋         | 2.1476510067114254/30 [01:00<11:37, 25.06s/it]"
          ]
        },
        {
          "output_type": "stream",
          "name": "stdout",
          "text": [
            "Train Epoch: 3 [5120/30441 (17%)]\tLoss: 0.309985\tAccuracy: 4933/30441 (16%)\n"
          ]
        },
        {
          "output_type": "stream",
          "name": "stderr",
          "text": [
            "  8%|▊         | 2.2818791946308905/30 [01:03<11:37, 25.17s/it]"
          ]
        },
        {
          "output_type": "stream",
          "name": "stdout",
          "text": [
            "Train Epoch: 3 [10240/30441 (34%)]\tLoss: 0.456956\tAccuracy: 9579/30441 (31%)\n"
          ]
        },
        {
          "output_type": "stream",
          "name": "stderr",
          "text": [
            "  8%|▊         | 2.4161073825503556/30 [01:07<11:04, 24.08s/it]"
          ]
        },
        {
          "output_type": "stream",
          "name": "stdout",
          "text": [
            "Train Epoch: 3 [15360/30441 (50%)]\tLoss: 0.394485\tAccuracy: 14268/30441 (47%)\n"
          ]
        },
        {
          "output_type": "stream",
          "name": "stderr",
          "text": [
            "  9%|▊         | 2.5503355704698207/30 [01:10<11:39, 25.47s/it]"
          ]
        },
        {
          "output_type": "stream",
          "name": "stdout",
          "text": [
            "Train Epoch: 3 [20480/30441 (67%)]\tLoss: 0.266371\tAccuracy: 18989/30441 (62%)\n"
          ]
        },
        {
          "output_type": "stream",
          "name": "stderr",
          "text": [
            "  9%|▉         | 2.684563758389286/30 [01:14<10:57, 24.09s/it] "
          ]
        },
        {
          "output_type": "stream",
          "name": "stdout",
          "text": [
            "Train Epoch: 3 [25600/30441 (84%)]\tLoss: 0.331464\tAccuracy: 23676/30441 (78%)\n"
          ]
        },
        {
          "output_type": "stream",
          "name": "stderr",
          "text": [
            " 10%|█         | 3.006711409396002/30 [01:20<08:12, 18.26s/it] "
          ]
        },
        {
          "output_type": "stream",
          "name": "stdout",
          "text": [
            "\n",
            "Test Epoch: 3 \tLoss: 18.956356\tAccuracy: 774/7611 (10%)\n",
            "\n",
            "Train Epoch: 4 [0/30441 (0%)]\tLoss: 0.425210\tAccuracy: 231/30441 (1%)\n"
          ]
        },
        {
          "output_type": "stream",
          "name": "stderr",
          "text": [
            " 10%|█         | 3.1476510067114405/30 [01:24<10:58, 24.52s/it]"
          ]
        },
        {
          "output_type": "stream",
          "name": "stdout",
          "text": [
            "Train Epoch: 4 [5120/30441 (17%)]\tLoss: 0.271492\tAccuracy: 5031/30441 (17%)\n"
          ]
        },
        {
          "output_type": "stream",
          "name": "stderr",
          "text": [
            " 11%|█         | 3.2818791946309056/30 [01:27<10:58, 24.65s/it]"
          ]
        },
        {
          "output_type": "stream",
          "name": "stdout",
          "text": [
            "Train Epoch: 4 [10240/30441 (34%)]\tLoss: 0.328142\tAccuracy: 9817/30441 (32%)\n"
          ]
        },
        {
          "output_type": "stream",
          "name": "stderr",
          "text": [
            " 11%|█▏        | 3.4161073825503707/30 [01:31<11:06, 25.06s/it]"
          ]
        },
        {
          "output_type": "stream",
          "name": "stdout",
          "text": [
            "Train Epoch: 4 [15360/30441 (50%)]\tLoss: 0.366642\tAccuracy: 14593/30441 (48%)\n"
          ]
        },
        {
          "output_type": "stream",
          "name": "stderr",
          "text": [
            " 12%|█▏        | 3.550335570469836/30 [01:34<12:06, 27.48s/it] "
          ]
        },
        {
          "output_type": "stream",
          "name": "stdout",
          "text": [
            "Train Epoch: 4 [20480/30441 (67%)]\tLoss: 0.444917\tAccuracy: 19347/30441 (64%)\n"
          ]
        },
        {
          "output_type": "stream",
          "name": "stderr",
          "text": [
            " 12%|█▏        | 3.684563758389301/30 [01:38<10:58, 25.01s/it] "
          ]
        },
        {
          "output_type": "stream",
          "name": "stdout",
          "text": [
            "Train Epoch: 4 [25600/30441 (84%)]\tLoss: 0.366857\tAccuracy: 24144/30441 (79%)\n"
          ]
        },
        {
          "output_type": "stream",
          "name": "stderr",
          "text": [
            " 13%|█▎        | 4.006711409396017/30 [01:44<07:27, 17.23s/it] "
          ]
        },
        {
          "output_type": "stream",
          "name": "stdout",
          "text": [
            "\n",
            "Test Epoch: 4 \tLoss: 2.367594\tAccuracy: 2169/7611 (28%)\n",
            "\n",
            "Train Epoch: 5 [0/30441 (0%)]\tLoss: 0.335194\tAccuracy: 243/30441 (1%)\n"
          ]
        },
        {
          "output_type": "stream",
          "name": "stderr",
          "text": [
            " 14%|█▍        | 4.147651006711455/30 [01:48<11:27, 26.58s/it]"
          ]
        },
        {
          "output_type": "stream",
          "name": "stdout",
          "text": [
            "Train Epoch: 5 [5120/30441 (17%)]\tLoss: 0.241546\tAccuracy: 5051/30441 (17%)\n"
          ]
        },
        {
          "output_type": "stream",
          "name": "stderr",
          "text": [
            " 14%|█▍        | 4.28187919463092/30 [01:51<10:22, 24.19s/it] "
          ]
        },
        {
          "output_type": "stream",
          "name": "stdout",
          "text": [
            "Train Epoch: 5 [10240/30441 (34%)]\tLoss: 0.466806\tAccuracy: 9879/30441 (32%)\n"
          ]
        },
        {
          "output_type": "stream",
          "name": "stderr",
          "text": [
            " 15%|█▍        | 4.416107382550385/30 [01:54<10:46, 25.26s/it]"
          ]
        },
        {
          "output_type": "stream",
          "name": "stdout",
          "text": [
            "Train Epoch: 5 [15360/30441 (50%)]\tLoss: 0.277637\tAccuracy: 14694/30441 (48%)\n"
          ]
        },
        {
          "output_type": "stream",
          "name": "stderr",
          "text": [
            " 15%|█▌        | 4.5503355704698505/30 [01:58<11:25, 26.92s/it]"
          ]
        },
        {
          "output_type": "stream",
          "name": "stdout",
          "text": [
            "Train Epoch: 5 [20480/30441 (67%)]\tLoss: 0.174705\tAccuracy: 19531/30441 (64%)\n"
          ]
        },
        {
          "output_type": "stream",
          "name": "stderr",
          "text": [
            " 16%|█▌        | 4.684563758389316/30 [02:02<10:38, 25.23s/it]"
          ]
        },
        {
          "output_type": "stream",
          "name": "stdout",
          "text": [
            "Train Epoch: 5 [25600/30441 (84%)]\tLoss: 0.308592\tAccuracy: 24324/30441 (80%)\n"
          ]
        },
        {
          "output_type": "stream",
          "name": "stderr",
          "text": [
            " 17%|█▋        | 5.006711409396032/30 [02:08<07:17, 17.50s/it]"
          ]
        },
        {
          "output_type": "stream",
          "name": "stdout",
          "text": [
            "\n",
            "Test Epoch: 5 \tLoss: 2.813860\tAccuracy: 2126/7611 (28%)\n",
            "\n",
            "Train Epoch: 6 [0/30441 (0%)]\tLoss: 0.347825\tAccuracy: 243/30441 (1%)\n"
          ]
        },
        {
          "output_type": "stream",
          "name": "stderr",
          "text": [
            " 17%|█▋        | 5.14765100671147/30 [02:12<11:07, 26.86s/it] "
          ]
        },
        {
          "output_type": "stream",
          "name": "stdout",
          "text": [
            "Train Epoch: 6 [5120/30441 (17%)]\tLoss: 0.287649\tAccuracy: 5086/30441 (17%)\n"
          ]
        },
        {
          "output_type": "stream",
          "name": "stderr",
          "text": [
            " 18%|█▊        | 5.281879194630935/30 [02:15<10:24, 25.25s/it]"
          ]
        },
        {
          "output_type": "stream",
          "name": "stdout",
          "text": [
            "Train Epoch: 6 [10240/30441 (34%)]\tLoss: 0.232986\tAccuracy: 9905/30441 (33%)\n"
          ]
        },
        {
          "output_type": "stream",
          "name": "stderr",
          "text": [
            " 18%|█▊        | 5.4161073825504005/30 [02:19<10:26, 25.49s/it]"
          ]
        },
        {
          "output_type": "stream",
          "name": "stdout",
          "text": [
            "Train Epoch: 6 [15360/30441 (50%)]\tLoss: 0.349768\tAccuracy: 14749/30441 (48%)\n"
          ]
        },
        {
          "output_type": "stream",
          "name": "stderr",
          "text": [
            " 19%|█▊        | 5.550335570469866/30 [02:22<09:48, 24.09s/it]"
          ]
        },
        {
          "output_type": "stream",
          "name": "stdout",
          "text": [
            "Train Epoch: 6 [20480/30441 (67%)]\tLoss: 0.237788\tAccuracy: 19575/30441 (64%)\n"
          ]
        },
        {
          "output_type": "stream",
          "name": "stderr",
          "text": [
            " 19%|█▉        | 5.684563758389331/30 [02:26<10:28, 25.85s/it] "
          ]
        },
        {
          "output_type": "stream",
          "name": "stdout",
          "text": [
            "Train Epoch: 6 [25600/30441 (84%)]\tLoss: 0.342538\tAccuracy: 24405/30441 (80%)\n"
          ]
        },
        {
          "output_type": "stream",
          "name": "stderr",
          "text": [
            " 20%|██        | 6.006711409396047/30 [02:32<07:00, 17.52s/it] "
          ]
        },
        {
          "output_type": "stream",
          "name": "stdout",
          "text": [
            "\n",
            "Test Epoch: 6 \tLoss: 4.946939\tAccuracy: 843/7611 (11%)\n",
            "\n",
            "Train Epoch: 7 [0/30441 (0%)]\tLoss: 0.289703\tAccuracy: 243/30441 (1%)\n"
          ]
        },
        {
          "output_type": "stream",
          "name": "stderr",
          "text": [
            " 20%|██        | 6.147651006711485/30 [02:35<10:30, 26.44s/it]"
          ]
        },
        {
          "output_type": "stream",
          "name": "stdout",
          "text": [
            "Train Epoch: 7 [5120/30441 (17%)]\tLoss: 0.434149\tAccuracy: 5059/30441 (17%)\n"
          ]
        },
        {
          "output_type": "stream",
          "name": "stderr",
          "text": [
            " 21%|██        | 6.2818791946309505/30 [02:39<09:24, 23.81s/it]"
          ]
        },
        {
          "output_type": "stream",
          "name": "stdout",
          "text": [
            "Train Epoch: 7 [10240/30441 (34%)]\tLoss: 0.391711\tAccuracy: 9912/30441 (33%)\n"
          ]
        },
        {
          "output_type": "stream",
          "name": "stderr",
          "text": [
            " 21%|██▏       | 6.416107382550416/30 [02:42<09:51, 25.08s/it]"
          ]
        },
        {
          "output_type": "stream",
          "name": "stdout",
          "text": [
            "Train Epoch: 7 [15360/30441 (50%)]\tLoss: 0.328652\tAccuracy: 14798/30441 (49%)\n"
          ]
        },
        {
          "output_type": "stream",
          "name": "stderr",
          "text": [
            " 22%|██▏       | 6.550335570469881/30 [02:46<09:34, 24.51s/it]"
          ]
        },
        {
          "output_type": "stream",
          "name": "stdout",
          "text": [
            "Train Epoch: 7 [20480/30441 (67%)]\tLoss: 0.270483\tAccuracy: 19648/30441 (65%)\n"
          ]
        },
        {
          "output_type": "stream",
          "name": "stderr",
          "text": [
            " 22%|██▏       | 6.684563758389346/30 [02:49<10:16, 26.45s/it] "
          ]
        },
        {
          "output_type": "stream",
          "name": "stdout",
          "text": [
            "Train Epoch: 7 [25600/30441 (84%)]\tLoss: 0.310332\tAccuracy: 24529/30441 (81%)\n"
          ]
        },
        {
          "output_type": "stream",
          "name": "stderr",
          "text": [
            " 23%|██▎       | 7.006711409396062/30 [02:56<06:43, 17.54s/it]"
          ]
        },
        {
          "output_type": "stream",
          "name": "stdout",
          "text": [
            "\n",
            "Test Epoch: 7 \tLoss: 4.811181\tAccuracy: 1022/7611 (13%)\n",
            "\n",
            "Train Epoch: 8 [0/30441 (0%)]\tLoss: 0.201775\tAccuracy: 247/30441 (1%)\n"
          ]
        },
        {
          "output_type": "stream",
          "name": "stderr",
          "text": [
            " 24%|██▍       | 7.1476510067115/30 [02:59<09:35, 25.19s/it]  "
          ]
        },
        {
          "output_type": "stream",
          "name": "stdout",
          "text": [
            "Train Epoch: 8 [5120/30441 (17%)]\tLoss: 0.260571\tAccuracy: 5125/30441 (17%)\n"
          ]
        },
        {
          "output_type": "stream",
          "name": "stderr",
          "text": [
            " 24%|██▍       | 7.281879194630966/30 [03:03<09:32, 25.18s/it]"
          ]
        },
        {
          "output_type": "stream",
          "name": "stdout",
          "text": [
            "Train Epoch: 8 [10240/30441 (34%)]\tLoss: 0.242486\tAccuracy: 10009/30441 (33%)\n"
          ]
        },
        {
          "output_type": "stream",
          "name": "stderr",
          "text": [
            " 25%|██▍       | 7.416107382550431/30 [03:06<09:09, 24.31s/it]"
          ]
        },
        {
          "output_type": "stream",
          "name": "stdout",
          "text": [
            "Train Epoch: 8 [15360/30441 (50%)]\tLoss: 0.205514\tAccuracy: 14902/30441 (49%)\n"
          ]
        },
        {
          "output_type": "stream",
          "name": "stderr",
          "text": [
            " 25%|██▌       | 7.550335570469896/30 [03:10<09:29, 25.36s/it] "
          ]
        },
        {
          "output_type": "stream",
          "name": "stdout",
          "text": [
            "Train Epoch: 8 [20480/30441 (67%)]\tLoss: 0.277146\tAccuracy: 19782/30441 (65%)\n"
          ]
        },
        {
          "output_type": "stream",
          "name": "stderr",
          "text": [
            " 26%|██▌       | 7.684563758389361/30 [03:13<09:52, 26.55s/it]"
          ]
        },
        {
          "output_type": "stream",
          "name": "stdout",
          "text": [
            "Train Epoch: 8 [25600/30441 (84%)]\tLoss: 0.260635\tAccuracy: 24676/30441 (81%)\n"
          ]
        },
        {
          "output_type": "stream",
          "name": "stderr",
          "text": [
            " 27%|██▋       | 8.006711409396075/30 [03:19<06:13, 16.98s/it]"
          ]
        },
        {
          "output_type": "stream",
          "name": "stdout",
          "text": [
            "\n",
            "Test Epoch: 8 \tLoss: 4.854444\tAccuracy: 1627/7611 (21%)\n",
            "\n",
            "Train Epoch: 9 [0/30441 (0%)]\tLoss: 0.315615\tAccuracy: 243/30441 (1%)\n"
          ]
        },
        {
          "output_type": "stream",
          "name": "stderr",
          "text": [
            " 27%|██▋       | 8.147651006711495/30 [03:23<08:52, 24.37s/it]"
          ]
        },
        {
          "output_type": "stream",
          "name": "stdout",
          "text": [
            "Train Epoch: 9 [5120/30441 (17%)]\tLoss: 0.348653\tAccuracy: 5110/30441 (17%)\n"
          ]
        },
        {
          "output_type": "stream",
          "name": "stderr",
          "text": [
            " 28%|██▊       | 8.281879194630942/30 [03:27<10:08, 28.02s/it]"
          ]
        },
        {
          "output_type": "stream",
          "name": "stdout",
          "text": [
            "Train Epoch: 9 [10240/30441 (34%)]\tLoss: 0.300706\tAccuracy: 9990/30441 (33%)\n"
          ]
        },
        {
          "output_type": "stream",
          "name": "stderr",
          "text": [
            " 28%|██▊       | 8.41610738255039/30 [03:30<08:45, 24.36s/it] "
          ]
        },
        {
          "output_type": "stream",
          "name": "stdout",
          "text": [
            "Train Epoch: 9 [15360/30441 (50%)]\tLoss: 0.271570\tAccuracy: 14848/30441 (49%)\n"
          ]
        },
        {
          "output_type": "stream",
          "name": "stderr",
          "text": [
            " 29%|██▊       | 8.550335570469837/30 [03:34<08:38, 24.17s/it]"
          ]
        },
        {
          "output_type": "stream",
          "name": "stdout",
          "text": [
            "Train Epoch: 9 [20480/30441 (67%)]\tLoss: 0.273460\tAccuracy: 19738/30441 (65%)\n"
          ]
        },
        {
          "output_type": "stream",
          "name": "stderr",
          "text": [
            " 29%|██▉       | 8.684563758389285/30 [03:37<08:58, 25.27s/it]"
          ]
        },
        {
          "output_type": "stream",
          "name": "stdout",
          "text": [
            "Train Epoch: 9 [25600/30441 (84%)]\tLoss: 0.247457\tAccuracy: 24653/30441 (81%)\n"
          ]
        },
        {
          "output_type": "stream",
          "name": "stderr",
          "text": [
            " 30%|███       | 9.006711409395958/30 [03:43<06:00, 17.18s/it]"
          ]
        },
        {
          "output_type": "stream",
          "name": "stdout",
          "text": [
            "\n",
            "Test Epoch: 9 \tLoss: 1.556777\tAccuracy: 3412/7611 (45%)\n",
            "\n",
            "Train Epoch: 10 [0/30441 (0%)]\tLoss: 0.357851\tAccuracy: 239/30441 (1%)\n"
          ]
        },
        {
          "output_type": "stream",
          "name": "stderr",
          "text": [
            " 30%|███       | 9.147651006711378/30 [03:47<08:21, 24.03s/it]"
          ]
        },
        {
          "output_type": "stream",
          "name": "stdout",
          "text": [
            "Train Epoch: 10 [5120/30441 (17%)]\tLoss: 0.177985\tAccuracy: 5155/30441 (17%)\n"
          ]
        },
        {
          "output_type": "stream",
          "name": "stderr",
          "text": [
            " 31%|███       | 9.281879194630825/30 [03:50<09:00, 26.07s/it]"
          ]
        },
        {
          "output_type": "stream",
          "name": "stdout",
          "text": [
            "Train Epoch: 10 [10240/30441 (34%)]\tLoss: 0.208381\tAccuracy: 10063/30441 (33%)\n"
          ]
        },
        {
          "output_type": "stream",
          "name": "stderr",
          "text": [
            " 31%|███▏      | 9.416107382550273/30 [03:54<08:36, 25.09s/it]"
          ]
        },
        {
          "output_type": "stream",
          "name": "stdout",
          "text": [
            "Train Epoch: 10 [15360/30441 (50%)]\tLoss: 0.374722\tAccuracy: 14949/30441 (49%)\n"
          ]
        },
        {
          "output_type": "stream",
          "name": "stderr",
          "text": [
            " 32%|███▏      | 9.55033557046972/30 [03:57<08:29, 24.91s/it] "
          ]
        },
        {
          "output_type": "stream",
          "name": "stdout",
          "text": [
            "Train Epoch: 10 [20480/30441 (67%)]\tLoss: 0.183204\tAccuracy: 19838/30441 (65%)\n"
          ]
        },
        {
          "output_type": "stream",
          "name": "stderr",
          "text": [
            " 32%|███▏      | 9.684563758389167/30 [04:01<08:48, 26.01s/it]"
          ]
        },
        {
          "output_type": "stream",
          "name": "stdout",
          "text": [
            "Train Epoch: 10 [25600/30441 (84%)]\tLoss: 0.253010\tAccuracy: 24721/30441 (81%)\n"
          ]
        },
        {
          "output_type": "stream",
          "name": "stderr",
          "text": [
            " 33%|███▎      | 10.006711409395841/30 [04:07<05:45, 17.28s/it]"
          ]
        },
        {
          "output_type": "stream",
          "name": "stdout",
          "text": [
            "\n",
            "Test Epoch: 10 \tLoss: 1.911295\tAccuracy: 2951/7611 (39%)\n",
            "\n",
            "Train Epoch: 11 [0/30441 (0%)]\tLoss: 0.219596\tAccuracy: 246/30441 (1%)\n"
          ]
        },
        {
          "output_type": "stream",
          "name": "stderr",
          "text": [
            " 34%|███▍      | 10.14765100671126/30 [04:11<08:14, 24.89s/it] "
          ]
        },
        {
          "output_type": "stream",
          "name": "stdout",
          "text": [
            "Train Epoch: 11 [5120/30441 (17%)]\tLoss: 0.285160\tAccuracy: 5138/30441 (17%)\n"
          ]
        },
        {
          "output_type": "stream",
          "name": "stderr",
          "text": [
            " 34%|███▍      | 10.281879194630708/30 [04:14<07:59, 24.31s/it]"
          ]
        },
        {
          "output_type": "stream",
          "name": "stdout",
          "text": [
            "Train Epoch: 11 [10240/30441 (34%)]\tLoss: 0.230614\tAccuracy: 10023/30441 (33%)\n"
          ]
        },
        {
          "output_type": "stream",
          "name": "stderr",
          "text": [
            " 35%|███▍      | 10.416107382550155/30 [04:18<08:02, 24.65s/it]"
          ]
        },
        {
          "output_type": "stream",
          "name": "stdout",
          "text": [
            "Train Epoch: 11 [15360/30441 (50%)]\tLoss: 0.352244\tAccuracy: 14913/30441 (49%)\n"
          ]
        },
        {
          "output_type": "stream",
          "name": "stderr",
          "text": [
            " 35%|███▌      | 10.550335570469603/30 [04:21<08:10, 25.22s/it]"
          ]
        },
        {
          "output_type": "stream",
          "name": "stdout",
          "text": [
            "Train Epoch: 11 [20480/30441 (67%)]\tLoss: 0.320025\tAccuracy: 19801/30441 (65%)\n"
          ]
        },
        {
          "output_type": "stream",
          "name": "stderr",
          "text": [
            " 36%|███▌      | 10.68456375838905/30 [04:25<07:52, 24.46s/it] "
          ]
        },
        {
          "output_type": "stream",
          "name": "stdout",
          "text": [
            "Train Epoch: 11 [25600/30441 (84%)]\tLoss: 0.265136\tAccuracy: 24678/30441 (81%)\n"
          ]
        },
        {
          "output_type": "stream",
          "name": "stderr",
          "text": [
            " 37%|███▋      | 11.006711409395724/30 [04:31<05:23, 17.03s/it]"
          ]
        },
        {
          "output_type": "stream",
          "name": "stdout",
          "text": [
            "\n",
            "Test Epoch: 11 \tLoss: 3.140673\tAccuracy: 1740/7611 (23%)\n",
            "\n",
            "Train Epoch: 12 [0/30441 (0%)]\tLoss: 0.256710\tAccuracy: 247/30441 (1%)\n"
          ]
        },
        {
          "output_type": "stream",
          "name": "stderr",
          "text": [
            " 37%|███▋      | 11.147651006711143/30 [04:35<07:39, 24.36s/it]"
          ]
        },
        {
          "output_type": "stream",
          "name": "stdout",
          "text": [
            "Train Epoch: 12 [5120/30441 (17%)]\tLoss: 0.151373\tAccuracy: 5145/30441 (17%)\n"
          ]
        },
        {
          "output_type": "stream",
          "name": "stderr",
          "text": [
            " 38%|███▊      | 11.28187919463059/30 [04:38<07:34, 24.27s/it] "
          ]
        },
        {
          "output_type": "stream",
          "name": "stdout",
          "text": [
            "Train Epoch: 12 [10240/30441 (34%)]\tLoss: 0.250469\tAccuracy: 10045/30441 (33%)\n"
          ]
        },
        {
          "output_type": "stream",
          "name": "stderr",
          "text": [
            " 38%|███▊      | 11.416107382550038/30 [04:42<08:28, 27.37s/it]"
          ]
        },
        {
          "output_type": "stream",
          "name": "stdout",
          "text": [
            "Train Epoch: 12 [15360/30441 (50%)]\tLoss: 0.191305\tAccuracy: 14958/30441 (49%)\n"
          ]
        },
        {
          "output_type": "stream",
          "name": "stderr",
          "text": [
            " 39%|███▊      | 11.550335570469485/30 [04:45<07:29, 24.38s/it]"
          ]
        },
        {
          "output_type": "stream",
          "name": "stdout",
          "text": [
            "Train Epoch: 12 [20480/30441 (67%)]\tLoss: 0.296236\tAccuracy: 19874/30441 (65%)\n"
          ]
        },
        {
          "output_type": "stream",
          "name": "stderr",
          "text": [
            " 39%|███▉      | 11.684563758388933/30 [04:49<07:24, 24.25s/it]"
          ]
        },
        {
          "output_type": "stream",
          "name": "stdout",
          "text": [
            "Train Epoch: 12 [25600/30441 (84%)]\tLoss: 0.178426\tAccuracy: 24775/30441 (81%)\n"
          ]
        },
        {
          "output_type": "stream",
          "name": "stderr",
          "text": [
            " 40%|████      | 12.006711409395606/30 [04:56<05:21, 17.89s/it]"
          ]
        },
        {
          "output_type": "stream",
          "name": "stdout",
          "text": [
            "\n",
            "Test Epoch: 12 \tLoss: 5.645837\tAccuracy: 1137/7611 (15%)\n",
            "\n",
            "Train Epoch: 13 [0/30441 (0%)]\tLoss: 0.183964\tAccuracy: 245/30441 (1%)\n"
          ]
        },
        {
          "output_type": "stream",
          "name": "stderr",
          "text": [
            " 40%|████      | 12.147651006711026/30 [04:59<07:32, 25.33s/it]"
          ]
        },
        {
          "output_type": "stream",
          "name": "stdout",
          "text": [
            "Train Epoch: 13 [5120/30441 (17%)]\tLoss: 0.259569\tAccuracy: 5120/30441 (17%)\n"
          ]
        },
        {
          "output_type": "stream",
          "name": "stderr",
          "text": [
            " 41%|████      | 12.281879194630474/30 [05:02<07:21, 24.91s/it]"
          ]
        },
        {
          "output_type": "stream",
          "name": "stdout",
          "text": [
            "Train Epoch: 13 [10240/30441 (34%)]\tLoss: 0.336825\tAccuracy: 10023/30441 (33%)\n"
          ]
        },
        {
          "output_type": "stream",
          "name": "stderr",
          "text": [
            " 41%|████▏     | 12.41610738254992/30 [05:06<07:58, 27.22s/it] "
          ]
        },
        {
          "output_type": "stream",
          "name": "stdout",
          "text": [
            "Train Epoch: 13 [15360/30441 (50%)]\tLoss: 0.252533\tAccuracy: 14940/30441 (49%)\n"
          ]
        },
        {
          "output_type": "stream",
          "name": "stderr",
          "text": [
            " 42%|████▏     | 12.550335570469368/30 [05:10<07:03, 24.27s/it]"
          ]
        },
        {
          "output_type": "stream",
          "name": "stdout",
          "text": [
            "Train Epoch: 13 [20480/30441 (67%)]\tLoss: 0.260894\tAccuracy: 19856/30441 (65%)\n"
          ]
        },
        {
          "output_type": "stream",
          "name": "stderr",
          "text": [
            " 42%|████▏     | 12.684563758388816/30 [05:13<07:21, 25.49s/it]"
          ]
        },
        {
          "output_type": "stream",
          "name": "stdout",
          "text": [
            "Train Epoch: 13 [25600/30441 (84%)]\tLoss: 0.273119\tAccuracy: 24766/30441 (81%)\n"
          ]
        },
        {
          "output_type": "stream",
          "name": "stderr",
          "text": [
            " 43%|████▎     | 13.00671140939549/30 [05:20<05:50, 20.62s/it] "
          ]
        },
        {
          "output_type": "stream",
          "name": "stdout",
          "text": [
            "\n",
            "Test Epoch: 13 \tLoss: 6.362815\tAccuracy: 1185/7611 (16%)\n",
            "\n",
            "Train Epoch: 14 [0/30441 (0%)]\tLoss: 0.290792\tAccuracy: 245/30441 (1%)\n"
          ]
        },
        {
          "output_type": "stream",
          "name": "stderr",
          "text": [
            " 44%|████▍     | 13.147651006710909/30 [05:23<07:01, 25.03s/it]"
          ]
        },
        {
          "output_type": "stream",
          "name": "stdout",
          "text": [
            "Train Epoch: 14 [5120/30441 (17%)]\tLoss: 0.310116\tAccuracy: 5165/30441 (17%)\n"
          ]
        },
        {
          "output_type": "stream",
          "name": "stderr",
          "text": [
            " 44%|████▍     | 13.281879194630356/30 [05:27<07:03, 25.30s/it]"
          ]
        },
        {
          "output_type": "stream",
          "name": "stdout",
          "text": [
            "Train Epoch: 14 [10240/30441 (34%)]\tLoss: 0.275137\tAccuracy: 10050/30441 (33%)\n"
          ]
        },
        {
          "output_type": "stream",
          "name": "stderr",
          "text": [
            " 45%|████▍     | 13.416107382549804/30 [05:30<07:26, 26.94s/it]"
          ]
        },
        {
          "output_type": "stream",
          "name": "stdout",
          "text": [
            "Train Epoch: 14 [15360/30441 (50%)]\tLoss: 0.191067\tAccuracy: 14963/30441 (49%)\n"
          ]
        },
        {
          "output_type": "stream",
          "name": "stderr",
          "text": [
            " 45%|████▌     | 13.550335570469251/30 [05:34<06:56, 25.33s/it]"
          ]
        },
        {
          "output_type": "stream",
          "name": "stdout",
          "text": [
            "Train Epoch: 14 [20480/30441 (67%)]\tLoss: 0.270876\tAccuracy: 19885/30441 (65%)\n"
          ]
        },
        {
          "output_type": "stream",
          "name": "stderr",
          "text": [
            " 46%|████▌     | 13.684563758388698/30 [05:37<06:48, 25.07s/it]"
          ]
        },
        {
          "output_type": "stream",
          "name": "stdout",
          "text": [
            "Train Epoch: 14 [25600/30441 (84%)]\tLoss: 0.268999\tAccuracy: 24802/30441 (81%)\n"
          ]
        },
        {
          "output_type": "stream",
          "name": "stderr",
          "text": [
            " 47%|████▋     | 13.993288590603427/30 [05:44<05:04, 19.04s/it]"
          ]
        },
        {
          "output_type": "stream",
          "name": "stdout",
          "text": [
            "\n",
            "Test Epoch: 14 \tLoss: 5.410007\tAccuracy: 1017/7611 (13%)\n",
            "\n"
          ]
        },
        {
          "output_type": "stream",
          "name": "stderr",
          "text": [
            " 47%|████▋     | 14.013422818791344/30 [05:44<05:34, 20.94s/it]"
          ]
        },
        {
          "output_type": "stream",
          "name": "stdout",
          "text": [
            "Train Epoch: 15 [0/30441 (0%)]\tLoss: 0.212941\tAccuracy: 248/30441 (1%)\n"
          ]
        },
        {
          "output_type": "stream",
          "name": "stderr",
          "text": [
            " 47%|████▋     | 14.147651006710792/30 [05:47<06:37, 25.07s/it]"
          ]
        },
        {
          "output_type": "stream",
          "name": "stdout",
          "text": [
            "Train Epoch: 15 [5120/30441 (17%)]\tLoss: 0.333799\tAccuracy: 5164/30441 (17%)\n"
          ]
        },
        {
          "output_type": "stream",
          "name": "stderr",
          "text": [
            " 48%|████▊     | 14.281879194630239/30 [05:51<06:22, 24.36s/it]"
          ]
        },
        {
          "output_type": "stream",
          "name": "stdout",
          "text": [
            "Train Epoch: 15 [10240/30441 (34%)]\tLoss: 0.148007\tAccuracy: 10078/30441 (33%)\n"
          ]
        },
        {
          "output_type": "stream",
          "name": "stderr",
          "text": [
            " 48%|████▊     | 14.416107382549686/30 [05:54<06:18, 24.27s/it]"
          ]
        },
        {
          "output_type": "stream",
          "name": "stdout",
          "text": [
            "Train Epoch: 15 [15360/30441 (50%)]\tLoss: 0.367924\tAccuracy: 14959/30441 (49%)\n"
          ]
        },
        {
          "output_type": "stream",
          "name": "stderr",
          "text": [
            " 49%|████▊     | 14.550335570469134/30 [05:58<06:15, 24.32s/it]"
          ]
        },
        {
          "output_type": "stream",
          "name": "stdout",
          "text": [
            "Train Epoch: 15 [20480/30441 (67%)]\tLoss: 0.213088\tAccuracy: 19873/30441 (65%)\n"
          ]
        },
        {
          "output_type": "stream",
          "name": "stderr",
          "text": [
            " 49%|████▉     | 14.684563758388581/30 [06:01<06:38, 26.01s/it]"
          ]
        },
        {
          "output_type": "stream",
          "name": "stdout",
          "text": [
            "Train Epoch: 15 [25600/30441 (84%)]\tLoss: 0.302638\tAccuracy: 24779/30441 (81%)\n"
          ]
        },
        {
          "output_type": "stream",
          "name": "stderr",
          "text": [
            " 50%|█████     | 15.006711409395255/30 [06:08<05:10, 20.70s/it]"
          ]
        },
        {
          "output_type": "stream",
          "name": "stdout",
          "text": [
            "\n",
            "Test Epoch: 15 \tLoss: 2.255322\tAccuracy: 2892/7611 (38%)\n",
            "\n",
            "Train Epoch: 16 [0/30441 (0%)]\tLoss: 0.144160\tAccuracy: 250/30441 (1%)\n"
          ]
        },
        {
          "output_type": "stream",
          "name": "stderr",
          "text": [
            " 50%|█████     | 15.147651006710674/30 [06:11<06:23, 25.82s/it]"
          ]
        },
        {
          "output_type": "stream",
          "name": "stdout",
          "text": [
            "Train Epoch: 16 [5120/30441 (17%)]\tLoss: 0.282908\tAccuracy: 5159/30441 (17%)\n"
          ]
        },
        {
          "output_type": "stream",
          "name": "stderr",
          "text": [
            " 51%|█████     | 15.281879194630122/30 [06:15<06:00, 24.51s/it]"
          ]
        },
        {
          "output_type": "stream",
          "name": "stdout",
          "text": [
            "Train Epoch: 16 [10240/30441 (34%)]\tLoss: 0.269482\tAccuracy: 10076/30441 (33%)\n"
          ]
        },
        {
          "output_type": "stream",
          "name": "stderr",
          "text": [
            " 51%|█████▏    | 15.41610738254957/30 [06:18<05:56, 24.47s/it] "
          ]
        },
        {
          "output_type": "stream",
          "name": "stdout",
          "text": [
            "Train Epoch: 16 [15360/30441 (50%)]\tLoss: 0.266409\tAccuracy: 15002/30441 (49%)\n"
          ]
        },
        {
          "output_type": "stream",
          "name": "stderr",
          "text": [
            " 52%|█████▏    | 15.550335570469016/30 [06:22<06:34, 27.32s/it]"
          ]
        },
        {
          "output_type": "stream",
          "name": "stdout",
          "text": [
            "Train Epoch: 16 [20480/30441 (67%)]\tLoss: 0.213500\tAccuracy: 19910/30441 (65%)\n"
          ]
        },
        {
          "output_type": "stream",
          "name": "stderr",
          "text": [
            " 52%|█████▏    | 15.684563758388464/30 [06:25<05:51, 24.58s/it]"
          ]
        },
        {
          "output_type": "stream",
          "name": "stdout",
          "text": [
            "Train Epoch: 16 [25600/30441 (84%)]\tLoss: 0.277435\tAccuracy: 24824/30441 (82%)\n"
          ]
        },
        {
          "output_type": "stream",
          "name": "stderr",
          "text": [
            " 53%|█████▎    | 16.006711409395137/30 [06:32<04:09, 17.80s/it]"
          ]
        },
        {
          "output_type": "stream",
          "name": "stdout",
          "text": [
            "\n",
            "Test Epoch: 16 \tLoss: 2.206283\tAccuracy: 2684/7611 (35%)\n",
            "\n",
            "Train Epoch: 17 [0/30441 (0%)]\tLoss: 0.314927\tAccuracy: 241/30441 (1%)\n"
          ]
        },
        {
          "output_type": "stream",
          "name": "stderr",
          "text": [
            " 54%|█████▍    | 16.147651006710557/30 [06:35<05:41, 24.63s/it]"
          ]
        },
        {
          "output_type": "stream",
          "name": "stdout",
          "text": [
            "Train Epoch: 17 [5120/30441 (17%)]\tLoss: 0.219059\tAccuracy: 5167/30441 (17%)\n"
          ]
        },
        {
          "output_type": "stream",
          "name": "stderr",
          "text": [
            " 54%|█████▍    | 16.281879194630005/30 [06:39<05:37, 24.58s/it]"
          ]
        },
        {
          "output_type": "stream",
          "name": "stdout",
          "text": [
            "Train Epoch: 17 [10240/30441 (34%)]\tLoss: 0.245023\tAccuracy: 10091/30441 (33%)\n"
          ]
        },
        {
          "output_type": "stream",
          "name": "stderr",
          "text": [
            " 55%|█████▍    | 16.416107382549452/30 [06:42<05:29, 24.25s/it]"
          ]
        },
        {
          "output_type": "stream",
          "name": "stdout",
          "text": [
            "Train Epoch: 17 [15360/30441 (50%)]\tLoss: 0.340224\tAccuracy: 14987/30441 (49%)\n"
          ]
        },
        {
          "output_type": "stream",
          "name": "stderr",
          "text": [
            " 55%|█████▌    | 16.5503355704689/30 [06:46<06:07, 27.32s/it]  "
          ]
        },
        {
          "output_type": "stream",
          "name": "stdout",
          "text": [
            "Train Epoch: 17 [20480/30441 (67%)]\tLoss: 0.247832\tAccuracy: 19915/30441 (65%)\n"
          ]
        },
        {
          "output_type": "stream",
          "name": "stderr",
          "text": [
            " 56%|█████▌    | 16.684563758388347/30 [06:49<05:20, 24.10s/it]"
          ]
        },
        {
          "output_type": "stream",
          "name": "stdout",
          "text": [
            "Train Epoch: 17 [25600/30441 (84%)]\tLoss: 0.217626\tAccuracy: 24806/30441 (81%)\n"
          ]
        },
        {
          "output_type": "stream",
          "name": "stderr",
          "text": [
            " 57%|█████▋    | 17.00671140939502/30 [06:55<03:39, 16.93s/it] "
          ]
        },
        {
          "output_type": "stream",
          "name": "stdout",
          "text": [
            "\n",
            "Test Epoch: 17 \tLoss: 4.503761\tAccuracy: 1350/7611 (18%)\n",
            "\n",
            "Train Epoch: 18 [0/30441 (0%)]\tLoss: 0.115362\tAccuracy: 251/30441 (1%)\n"
          ]
        },
        {
          "output_type": "stream",
          "name": "stderr",
          "text": [
            " 57%|█████▋    | 17.14765100671044/30 [06:59<05:53, 27.54s/it] "
          ]
        },
        {
          "output_type": "stream",
          "name": "stdout",
          "text": [
            "Train Epoch: 18 [5120/30441 (17%)]\tLoss: 0.188092\tAccuracy: 5179/30441 (17%)\n"
          ]
        },
        {
          "output_type": "stream",
          "name": "stderr",
          "text": [
            " 58%|█████▊    | 17.281879194629887/30 [07:03<05:16, 24.91s/it]"
          ]
        },
        {
          "output_type": "stream",
          "name": "stdout",
          "text": [
            "Train Epoch: 18 [10240/30441 (34%)]\tLoss: 0.164955\tAccuracy: 10095/30441 (33%)\n"
          ]
        },
        {
          "output_type": "stream",
          "name": "stderr",
          "text": [
            " 58%|█████▊    | 17.416107382549335/30 [07:06<05:10, 24.69s/it]"
          ]
        },
        {
          "output_type": "stream",
          "name": "stdout",
          "text": [
            "Train Epoch: 18 [15360/30441 (50%)]\tLoss: 0.231630\tAccuracy: 15020/30441 (49%)\n"
          ]
        },
        {
          "output_type": "stream",
          "name": "stderr",
          "text": [
            " 59%|█████▊    | 17.550335570468782/30 [07:09<05:14, 25.25s/it]"
          ]
        },
        {
          "output_type": "stream",
          "name": "stdout",
          "text": [
            "Train Epoch: 18 [20480/30441 (67%)]\tLoss: 0.250028\tAccuracy: 19947/30441 (66%)\n"
          ]
        },
        {
          "output_type": "stream",
          "name": "stderr",
          "text": [
            " 59%|█████▉    | 17.68456375838823/30 [07:13<05:05, 24.82s/it] "
          ]
        },
        {
          "output_type": "stream",
          "name": "stdout",
          "text": [
            "Train Epoch: 18 [25600/30441 (84%)]\tLoss: 0.293127\tAccuracy: 24869/30441 (82%)\n"
          ]
        },
        {
          "output_type": "stream",
          "name": "stderr",
          "text": [
            " 60%|██████    | 18.006711409394903/30 [07:19<03:30, 17.52s/it]"
          ]
        },
        {
          "output_type": "stream",
          "name": "stdout",
          "text": [
            "\n",
            "Test Epoch: 18 \tLoss: 2.692699\tAccuracy: 2141/7611 (28%)\n",
            "\n",
            "Train Epoch: 19 [0/30441 (0%)]\tLoss: 0.208772\tAccuracy: 248/30441 (1%)\n"
          ]
        },
        {
          "output_type": "stream",
          "name": "stderr",
          "text": [
            " 60%|██████    | 18.147651006710323/30 [07:23<05:24, 27.40s/it]"
          ]
        },
        {
          "output_type": "stream",
          "name": "stdout",
          "text": [
            "Train Epoch: 19 [5120/30441 (17%)]\tLoss: 0.247628\tAccuracy: 5153/30441 (17%)\n"
          ]
        },
        {
          "output_type": "stream",
          "name": "stderr",
          "text": [
            " 61%|██████    | 18.28187919462977/30 [07:26<04:41, 24.05s/it] "
          ]
        },
        {
          "output_type": "stream",
          "name": "stdout",
          "text": [
            "Train Epoch: 19 [10240/30441 (34%)]\tLoss: 0.200891\tAccuracy: 10084/30441 (33%)\n"
          ]
        },
        {
          "output_type": "stream",
          "name": "stderr",
          "text": [
            " 61%|██████▏   | 18.416107382549217/30 [07:30<04:59, 25.88s/it]"
          ]
        },
        {
          "output_type": "stream",
          "name": "stdout",
          "text": [
            "Train Epoch: 19 [15360/30441 (50%)]\tLoss: 0.315120\tAccuracy: 14987/30441 (49%)\n"
          ]
        },
        {
          "output_type": "stream",
          "name": "stderr",
          "text": [
            " 62%|██████▏   | 18.550335570468665/30 [07:33<04:36, 24.18s/it]"
          ]
        },
        {
          "output_type": "stream",
          "name": "stdout",
          "text": [
            "Train Epoch: 19 [20480/30441 (67%)]\tLoss: 0.229157\tAccuracy: 19895/30441 (65%)\n"
          ]
        },
        {
          "output_type": "stream",
          "name": "stderr",
          "text": [
            " 62%|██████▏   | 18.684563758388112/30 [07:37<05:00, 26.53s/it]"
          ]
        },
        {
          "output_type": "stream",
          "name": "stdout",
          "text": [
            "Train Epoch: 19 [25600/30441 (84%)]\tLoss: 0.276797\tAccuracy: 24771/30441 (81%)\n"
          ]
        },
        {
          "output_type": "stream",
          "name": "stderr",
          "text": [
            " 63%|██████▎   | 19.006711409394786/30 [07:43<03:13, 17.57s/it]"
          ]
        },
        {
          "output_type": "stream",
          "name": "stdout",
          "text": [
            "\n",
            "Test Epoch: 19 \tLoss: 4.044105\tAccuracy: 1448/7611 (19%)\n",
            "\n",
            "Train Epoch: 20 [0/30441 (0%)]\tLoss: 0.291841\tAccuracy: 243/30441 (1%)\n"
          ]
        },
        {
          "output_type": "stream",
          "name": "stderr",
          "text": [
            " 64%|██████▍   | 19.147651006710205/30 [07:47<04:31, 25.01s/it]"
          ]
        },
        {
          "output_type": "stream",
          "name": "stdout",
          "text": [
            "Train Epoch: 20 [5120/30441 (17%)]\tLoss: 0.280364\tAccuracy: 5126/30441 (17%)\n"
          ]
        },
        {
          "output_type": "stream",
          "name": "stderr",
          "text": [
            " 64%|██████▍   | 19.281879194629653/30 [07:50<04:35, 25.68s/it]"
          ]
        },
        {
          "output_type": "stream",
          "name": "stdout",
          "text": [
            "Train Epoch: 20 [10240/30441 (34%)]\tLoss: 0.280140\tAccuracy: 10047/30441 (33%)\n"
          ]
        },
        {
          "output_type": "stream",
          "name": "stderr",
          "text": [
            " 65%|██████▍   | 19.4161073825491/30 [07:54<04:20, 24.65s/it]  "
          ]
        },
        {
          "output_type": "stream",
          "name": "stdout",
          "text": [
            "Train Epoch: 20 [15360/30441 (50%)]\tLoss: 0.168180\tAccuracy: 14986/30441 (49%)\n"
          ]
        },
        {
          "output_type": "stream",
          "name": "stderr",
          "text": [
            " 65%|██████▌   | 19.550335570468548/30 [07:57<04:21, 25.06s/it]"
          ]
        },
        {
          "output_type": "stream",
          "name": "stdout",
          "text": [
            "Train Epoch: 20 [20480/30441 (67%)]\tLoss: 0.201575\tAccuracy: 19890/30441 (65%)\n"
          ]
        },
        {
          "output_type": "stream",
          "name": "stderr",
          "text": [
            " 66%|██████▌   | 19.684563758387995/30 [08:01<04:32, 26.37s/it]"
          ]
        },
        {
          "output_type": "stream",
          "name": "stdout",
          "text": [
            "Train Epoch: 20 [25600/30441 (84%)]\tLoss: 0.155172\tAccuracy: 24810/30441 (82%)\n"
          ]
        },
        {
          "output_type": "stream",
          "name": "stderr",
          "text": [
            " 67%|██████▋   | 19.999999999998696/30 [08:07<02:25, 14.58s/it]"
          ]
        },
        {
          "output_type": "stream",
          "name": "stdout",
          "text": [
            "\n",
            "Test Epoch: 20 \tLoss: 8.610854\tAccuracy: 764/7611 (10%)\n",
            "\n",
            "Train Epoch: 21 [0/30441 (0%)]\tLoss: 0.263964\tAccuracy: 243/30441 (1%)\n"
          ]
        },
        {
          "output_type": "stream",
          "name": "stderr",
          "text": [
            " 67%|██████▋   | 20.14765100671009/30 [08:11<03:57, 24.13s/it] "
          ]
        },
        {
          "output_type": "stream",
          "name": "stdout",
          "text": [
            "Train Epoch: 21 [5120/30441 (17%)]\tLoss: 0.232274\tAccuracy: 5160/30441 (17%)\n"
          ]
        },
        {
          "output_type": "stream",
          "name": "stderr",
          "text": [
            " 68%|██████▊   | 20.281879194629536/30 [08:14<04:42, 29.03s/it]"
          ]
        },
        {
          "output_type": "stream",
          "name": "stdout",
          "text": [
            "Train Epoch: 21 [10240/30441 (34%)]\tLoss: 0.168523\tAccuracy: 10118/30441 (33%)\n"
          ]
        },
        {
          "output_type": "stream",
          "name": "stderr",
          "text": [
            " 68%|██████▊   | 20.416107382548983/30 [08:18<03:55, 24.56s/it]"
          ]
        },
        {
          "output_type": "stream",
          "name": "stdout",
          "text": [
            "Train Epoch: 21 [15360/30441 (50%)]\tLoss: 0.311704\tAccuracy: 15075/30441 (50%)\n"
          ]
        },
        {
          "output_type": "stream",
          "name": "stderr",
          "text": [
            " 69%|██████▊   | 20.55033557046843/30 [08:21<03:43, 23.69s/it] "
          ]
        },
        {
          "output_type": "stream",
          "name": "stdout",
          "text": [
            "Train Epoch: 21 [20480/30441 (67%)]\tLoss: 0.202758\tAccuracy: 19995/30441 (66%)\n"
          ]
        },
        {
          "output_type": "stream",
          "name": "stderr",
          "text": [
            " 69%|██████▉   | 20.684563758387878/30 [08:24<03:49, 24.68s/it]"
          ]
        },
        {
          "output_type": "stream",
          "name": "stdout",
          "text": [
            "Train Epoch: 21 [25600/30441 (84%)]\tLoss: 0.152110\tAccuracy: 24939/30441 (82%)\n"
          ]
        },
        {
          "output_type": "stream",
          "name": "stderr",
          "text": [
            " 70%|███████   | 21.00671140939455/30 [08:31<02:31, 16.90s/it] "
          ]
        },
        {
          "output_type": "stream",
          "name": "stdout",
          "text": [
            "\n",
            "Test Epoch: 21 \tLoss: 1.290035\tAccuracy: 4360/7611 (57%)\n",
            "\n",
            "Train Epoch: 22 [0/30441 (0%)]\tLoss: 0.174456\tAccuracy: 249/30441 (1%)\n"
          ]
        },
        {
          "output_type": "stream",
          "name": "stderr",
          "text": [
            " 70%|███████   | 21.14765100670997/30 [08:34<03:42, 25.17s/it]"
          ]
        },
        {
          "output_type": "stream",
          "name": "stdout",
          "text": [
            "Train Epoch: 22 [5120/30441 (17%)]\tLoss: 0.142921\tAccuracy: 5185/30441 (17%)\n"
          ]
        },
        {
          "output_type": "stream",
          "name": "stderr",
          "text": [
            " 71%|███████   | 21.28187919462942/30 [08:38<04:03, 27.92s/it] "
          ]
        },
        {
          "output_type": "stream",
          "name": "stdout",
          "text": [
            "Train Epoch: 22 [10240/30441 (34%)]\tLoss: 0.224882\tAccuracy: 10121/30441 (33%)\n"
          ]
        },
        {
          "output_type": "stream",
          "name": "stderr",
          "text": [
            " 71%|███████▏  | 21.416107382548866/30 [08:41<03:29, 24.46s/it]"
          ]
        },
        {
          "output_type": "stream",
          "name": "stdout",
          "text": [
            "Train Epoch: 22 [15360/30441 (50%)]\tLoss: 0.307069\tAccuracy: 15069/30441 (50%)\n"
          ]
        },
        {
          "output_type": "stream",
          "name": "stderr",
          "text": [
            " 72%|███████▏  | 21.550335570468313/30 [08:45<03:24, 24.17s/it]"
          ]
        },
        {
          "output_type": "stream",
          "name": "stdout",
          "text": [
            "Train Epoch: 22 [20480/30441 (67%)]\tLoss: 0.244508\tAccuracy: 20034/30441 (66%)\n"
          ]
        },
        {
          "output_type": "stream",
          "name": "stderr",
          "text": [
            " 72%|███████▏  | 21.68456375838776/30 [08:48<03:28, 25.07s/it] "
          ]
        },
        {
          "output_type": "stream",
          "name": "stdout",
          "text": [
            "Train Epoch: 22 [25600/30441 (84%)]\tLoss: 0.291679\tAccuracy: 24982/30441 (82%)\n"
          ]
        },
        {
          "output_type": "stream",
          "name": "stderr",
          "text": [
            " 73%|███████▎  | 22.006711409394434/30 [08:55<02:15, 16.94s/it]"
          ]
        },
        {
          "output_type": "stream",
          "name": "stdout",
          "text": [
            "\n",
            "Test Epoch: 22 \tLoss: 0.223181\tAccuracy: 7165/7611 (94%)\n",
            "\n",
            "Train Epoch: 23 [0/30441 (0%)]\tLoss: 0.217509\tAccuracy: 248/30441 (1%)\n"
          ]
        },
        {
          "output_type": "stream",
          "name": "stderr",
          "text": [
            " 74%|███████▍  | 22.147651006709854/30 [08:58<03:16, 25.00s/it]"
          ]
        },
        {
          "output_type": "stream",
          "name": "stdout",
          "text": [
            "Train Epoch: 23 [5120/30441 (17%)]\tLoss: 0.210811\tAccuracy: 5192/30441 (17%)\n"
          ]
        },
        {
          "output_type": "stream",
          "name": "stderr",
          "text": [
            " 74%|███████▍  | 22.2818791946293/30 [09:02<03:16, 25.46s/it] "
          ]
        },
        {
          "output_type": "stream",
          "name": "stdout",
          "text": [
            "Train Epoch: 23 [10240/30441 (34%)]\tLoss: 0.235354\tAccuracy: 10148/30441 (33%)\n"
          ]
        },
        {
          "output_type": "stream",
          "name": "stderr",
          "text": [
            " 75%|███████▍  | 22.41610738254875/30 [09:05<03:15, 25.78s/it] "
          ]
        },
        {
          "output_type": "stream",
          "name": "stdout",
          "text": [
            "Train Epoch: 23 [15360/30441 (50%)]\tLoss: 0.221861\tAccuracy: 15106/30441 (50%)\n"
          ]
        },
        {
          "output_type": "stream",
          "name": "stderr",
          "text": [
            " 75%|███████▌  | 22.550335570468196/30 [09:09<02:57, 23.82s/it]"
          ]
        },
        {
          "output_type": "stream",
          "name": "stdout",
          "text": [
            "Train Epoch: 23 [20480/30441 (67%)]\tLoss: 0.147379\tAccuracy: 20068/30441 (66%)\n"
          ]
        },
        {
          "output_type": "stream",
          "name": "stderr",
          "text": [
            " 76%|███████▌  | 22.684563758387643/30 [09:12<03:06, 25.53s/it]"
          ]
        },
        {
          "output_type": "stream",
          "name": "stdout",
          "text": [
            "Train Epoch: 23 [25600/30441 (84%)]\tLoss: 0.196720\tAccuracy: 24999/30441 (82%)\n"
          ]
        },
        {
          "output_type": "stream",
          "name": "stderr",
          "text": [
            " 77%|███████▋  | 23.006711409394317/30 [09:19<01:59, 17.13s/it]"
          ]
        },
        {
          "output_type": "stream",
          "name": "stdout",
          "text": [
            "\n",
            "Test Epoch: 23 \tLoss: 0.694395\tAccuracy: 5706/7611 (75%)\n",
            "\n",
            "Train Epoch: 24 [0/30441 (0%)]\tLoss: 0.327461\tAccuracy: 241/30441 (1%)\n"
          ]
        },
        {
          "output_type": "stream",
          "name": "stderr",
          "text": [
            " 77%|███████▋  | 23.147651006709737/30 [09:22<02:52, 25.17s/it]"
          ]
        },
        {
          "output_type": "stream",
          "name": "stdout",
          "text": [
            "Train Epoch: 24 [5120/30441 (17%)]\tLoss: 0.214037\tAccuracy: 5182/30441 (17%)\n"
          ]
        },
        {
          "output_type": "stream",
          "name": "stderr",
          "text": [
            " 78%|███████▊  | 23.281879194629184/30 [09:26<02:47, 25.01s/it]"
          ]
        },
        {
          "output_type": "stream",
          "name": "stdout",
          "text": [
            "Train Epoch: 24 [10240/30441 (34%)]\tLoss: 0.167553\tAccuracy: 10136/30441 (33%)\n"
          ]
        },
        {
          "output_type": "stream",
          "name": "stderr",
          "text": [
            " 78%|███████▊  | 23.41610738254863/30 [09:29<02:56, 26.76s/it]"
          ]
        },
        {
          "output_type": "stream",
          "name": "stdout",
          "text": [
            "Train Epoch: 24 [15360/30441 (50%)]\tLoss: 0.146107\tAccuracy: 15075/30441 (50%)\n"
          ]
        },
        {
          "output_type": "stream",
          "name": "stderr",
          "text": [
            " 79%|███████▊  | 23.55033557046808/30 [09:33<02:43, 25.42s/it] "
          ]
        },
        {
          "output_type": "stream",
          "name": "stdout",
          "text": [
            "Train Epoch: 24 [20480/30441 (67%)]\tLoss: 0.278126\tAccuracy: 20019/30441 (66%)\n"
          ]
        },
        {
          "output_type": "stream",
          "name": "stderr",
          "text": [
            " 79%|███████▉  | 23.684563758387526/30 [09:36<02:41, 25.56s/it]"
          ]
        },
        {
          "output_type": "stream",
          "name": "stdout",
          "text": [
            "Train Epoch: 24 [25600/30441 (84%)]\tLoss: 0.173877\tAccuracy: 24991/30441 (82%)\n"
          ]
        },
        {
          "output_type": "stream",
          "name": "stderr",
          "text": [
            " 80%|████████  | 24.0067114093942/30 [09:43<01:40, 16.80s/it]  "
          ]
        },
        {
          "output_type": "stream",
          "name": "stdout",
          "text": [
            "\n",
            "Test Epoch: 24 \tLoss: 1.543389\tAccuracy: 4228/7611 (56%)\n",
            "\n",
            "Train Epoch: 25 [0/30441 (0%)]\tLoss: 0.165752\tAccuracy: 248/30441 (1%)\n"
          ]
        },
        {
          "output_type": "stream",
          "name": "stderr",
          "text": [
            " 80%|████████  | 24.14765100670962/30 [09:46<02:25, 24.84s/it] "
          ]
        },
        {
          "output_type": "stream",
          "name": "stdout",
          "text": [
            "Train Epoch: 25 [5120/30441 (17%)]\tLoss: 0.100322\tAccuracy: 5215/30441 (17%)\n"
          ]
        },
        {
          "output_type": "stream",
          "name": "stderr",
          "text": [
            " 81%|████████  | 24.281879194629067/30 [09:50<02:20, 24.56s/it]"
          ]
        },
        {
          "output_type": "stream",
          "name": "stdout",
          "text": [
            "Train Epoch: 25 [10240/30441 (34%)]\tLoss: 0.288288\tAccuracy: 10166/30441 (33%)\n"
          ]
        },
        {
          "output_type": "stream",
          "name": "stderr",
          "text": [
            " 81%|████████▏ | 24.416107382548514/30 [09:53<02:37, 28.20s/it]"
          ]
        },
        {
          "output_type": "stream",
          "name": "stdout",
          "text": [
            "Train Epoch: 25 [15360/30441 (50%)]\tLoss: 0.152396\tAccuracy: 15122/30441 (50%)\n"
          ]
        },
        {
          "output_type": "stream",
          "name": "stderr",
          "text": [
            " 82%|████████▏ | 24.55033557046796/30 [09:57<02:16, 25.00s/it]"
          ]
        },
        {
          "output_type": "stream",
          "name": "stdout",
          "text": [
            "Train Epoch: 25 [20480/30441 (67%)]\tLoss: 0.237021\tAccuracy: 20077/30441 (66%)\n"
          ]
        },
        {
          "output_type": "stream",
          "name": "stderr",
          "text": [
            " 82%|████████▏ | 24.68456375838741/30 [10:00<02:10, 24.63s/it] "
          ]
        },
        {
          "output_type": "stream",
          "name": "stdout",
          "text": [
            "Train Epoch: 25 [25600/30441 (84%)]\tLoss: 0.248017\tAccuracy: 25018/30441 (82%)\n"
          ]
        },
        {
          "output_type": "stream",
          "name": "stderr",
          "text": [
            " 83%|████████▎ | 25.006711409394082/30 [10:07<01:32, 18.48s/it]"
          ]
        },
        {
          "output_type": "stream",
          "name": "stdout",
          "text": [
            "\n",
            "Test Epoch: 25 \tLoss: 2.675451\tAccuracy: 2571/7611 (34%)\n",
            "\n",
            "Train Epoch: 26 [0/30441 (0%)]\tLoss: 0.211352\tAccuracy: 248/30441 (1%)\n"
          ]
        },
        {
          "output_type": "stream",
          "name": "stderr",
          "text": [
            " 84%|████████▍ | 25.147651006709502/30 [10:11<02:00, 24.82s/it]"
          ]
        },
        {
          "output_type": "stream",
          "name": "stdout",
          "text": [
            "Train Epoch: 26 [5120/30441 (17%)]\tLoss: 0.229256\tAccuracy: 5220/30441 (17%)\n"
          ]
        },
        {
          "output_type": "stream",
          "name": "stderr",
          "text": [
            " 84%|████████▍ | 25.28187919462895/30 [10:14<01:59, 25.40s/it] "
          ]
        },
        {
          "output_type": "stream",
          "name": "stdout",
          "text": [
            "Train Epoch: 26 [10240/30441 (34%)]\tLoss: 0.192192\tAccuracy: 10181/30441 (33%)\n"
          ]
        },
        {
          "output_type": "stream",
          "name": "stderr",
          "text": [
            " 85%|████████▍ | 25.416107382548397/30 [10:18<02:04, 27.06s/it]"
          ]
        },
        {
          "output_type": "stream",
          "name": "stdout",
          "text": [
            "Train Epoch: 26 [15360/30441 (50%)]\tLoss: 0.168504\tAccuracy: 15124/30441 (50%)\n"
          ]
        },
        {
          "output_type": "stream",
          "name": "stderr",
          "text": [
            " 85%|████████▌ | 25.550335570467844/30 [10:21<01:50, 24.73s/it]"
          ]
        },
        {
          "output_type": "stream",
          "name": "stdout",
          "text": [
            "Train Epoch: 26 [20480/30441 (67%)]\tLoss: 0.211175\tAccuracy: 20055/30441 (66%)\n"
          ]
        },
        {
          "output_type": "stream",
          "name": "stderr",
          "text": [
            " 86%|████████▌ | 25.68456375838729/30 [10:25<01:47, 24.97s/it]"
          ]
        },
        {
          "output_type": "stream",
          "name": "stdout",
          "text": [
            "Train Epoch: 26 [25600/30441 (84%)]\tLoss: 0.296264\tAccuracy: 25000/30441 (82%)\n"
          ]
        },
        {
          "output_type": "stream",
          "name": "stderr",
          "text": [
            " 87%|████████▋ | 26.006711409393965/30 [10:31<01:16, 19.17s/it]"
          ]
        },
        {
          "output_type": "stream",
          "name": "stdout",
          "text": [
            "\n",
            "Test Epoch: 26 \tLoss: 1.361083\tAccuracy: 4242/7611 (56%)\n",
            "\n",
            "Train Epoch: 27 [0/30441 (0%)]\tLoss: 0.117124\tAccuracy: 252/30441 (1%)\n"
          ]
        },
        {
          "output_type": "stream",
          "name": "stderr",
          "text": [
            " 87%|████████▋ | 26.147651006709385/30 [10:35<01:38, 25.60s/it]"
          ]
        },
        {
          "output_type": "stream",
          "name": "stdout",
          "text": [
            "Train Epoch: 27 [5120/30441 (17%)]\tLoss: 0.215174\tAccuracy: 5191/30441 (17%)\n"
          ]
        },
        {
          "output_type": "stream",
          "name": "stderr",
          "text": [
            " 88%|████████▊ | 26.281879194628832/30 [10:38<01:31, 24.72s/it]"
          ]
        },
        {
          "output_type": "stream",
          "name": "stdout",
          "text": [
            "Train Epoch: 27 [10240/30441 (34%)]\tLoss: 0.226650\tAccuracy: 10149/30441 (33%)\n"
          ]
        },
        {
          "output_type": "stream",
          "name": "stderr",
          "text": [
            " 88%|████████▊ | 26.41610738254828/30 [10:42<01:37, 27.27s/it] "
          ]
        },
        {
          "output_type": "stream",
          "name": "stdout",
          "text": [
            "Train Epoch: 27 [15360/30441 (50%)]\tLoss: 0.271270\tAccuracy: 15098/30441 (50%)\n"
          ]
        },
        {
          "output_type": "stream",
          "name": "stderr",
          "text": [
            " 89%|████████▊ | 26.550335570467727/30 [10:45<01:25, 24.69s/it]"
          ]
        },
        {
          "output_type": "stream",
          "name": "stdout",
          "text": [
            "Train Epoch: 27 [20480/30441 (67%)]\tLoss: 0.156157\tAccuracy: 20058/30441 (66%)\n"
          ]
        },
        {
          "output_type": "stream",
          "name": "stderr",
          "text": [
            " 89%|████████▉ | 26.684563758387174/30 [10:49<01:24, 25.35s/it]"
          ]
        },
        {
          "output_type": "stream",
          "name": "stdout",
          "text": [
            "Train Epoch: 27 [25600/30441 (84%)]\tLoss: 0.262134\tAccuracy: 25017/30441 (82%)\n"
          ]
        },
        {
          "output_type": "stream",
          "name": "stderr",
          "text": [
            " 90%|████████▉ | 26.993288590601903/30 [10:55<00:55, 18.45s/it]"
          ]
        },
        {
          "output_type": "stream",
          "name": "stdout",
          "text": [
            "\n",
            "Test Epoch: 27 \tLoss: 0.342524\tAccuracy: 6802/7611 (89%)\n",
            "\n"
          ]
        },
        {
          "output_type": "stream",
          "name": "stderr",
          "text": [
            " 90%|█████████ | 27.01342281878982/30 [10:55<01:01, 20.54s/it] "
          ]
        },
        {
          "output_type": "stream",
          "name": "stdout",
          "text": [
            "Train Epoch: 28 [0/30441 (0%)]\tLoss: 0.184628\tAccuracy: 248/30441 (1%)\n"
          ]
        },
        {
          "output_type": "stream",
          "name": "stderr",
          "text": [
            " 90%|█████████ | 27.147651006709268/30 [10:59<01:11, 25.05s/it]"
          ]
        },
        {
          "output_type": "stream",
          "name": "stdout",
          "text": [
            "Train Epoch: 28 [5120/30441 (17%)]\tLoss: 0.143174\tAccuracy: 5190/30441 (17%)\n"
          ]
        },
        {
          "output_type": "stream",
          "name": "stderr",
          "text": [
            " 91%|█████████ | 27.281879194628715/30 [11:02<01:08, 25.18s/it]"
          ]
        },
        {
          "output_type": "stream",
          "name": "stdout",
          "text": [
            "Train Epoch: 28 [10240/30441 (34%)]\tLoss: 0.190761\tAccuracy: 10128/30441 (33%)\n"
          ]
        },
        {
          "output_type": "stream",
          "name": "stderr",
          "text": [
            " 91%|█████████▏| 27.416107382548162/30 [11:06<01:04, 24.99s/it]"
          ]
        },
        {
          "output_type": "stream",
          "name": "stdout",
          "text": [
            "Train Epoch: 28 [15360/30441 (50%)]\tLoss: 0.128850\tAccuracy: 15091/30441 (50%)\n"
          ]
        },
        {
          "output_type": "stream",
          "name": "stderr",
          "text": [
            " 92%|█████████▏| 27.55033557046761/30 [11:09<01:00, 24.83s/it] "
          ]
        },
        {
          "output_type": "stream",
          "name": "stdout",
          "text": [
            "Train Epoch: 28 [20480/30441 (67%)]\tLoss: 0.212383\tAccuracy: 20056/30441 (66%)\n"
          ]
        },
        {
          "output_type": "stream",
          "name": "stderr",
          "text": [
            " 92%|█████████▏| 27.684563758387057/30 [11:13<00:58, 25.21s/it]"
          ]
        },
        {
          "output_type": "stream",
          "name": "stdout",
          "text": [
            "Train Epoch: 28 [25600/30441 (84%)]\tLoss: 0.178075\tAccuracy: 24996/30441 (82%)\n"
          ]
        },
        {
          "output_type": "stream",
          "name": "stderr",
          "text": [
            " 93%|█████████▎| 28.00671140939373/30 [11:19<00:38, 19.46s/it] "
          ]
        },
        {
          "output_type": "stream",
          "name": "stdout",
          "text": [
            "\n",
            "Test Epoch: 28 \tLoss: 0.851457\tAccuracy: 5209/7611 (68%)\n",
            "\n",
            "Train Epoch: 29 [0/30441 (0%)]\tLoss: 0.188163\tAccuracy: 249/30441 (1%)\n"
          ]
        },
        {
          "output_type": "stream",
          "name": "stderr",
          "text": [
            " 94%|█████████▍| 28.14765100670915/30 [11:23<00:44, 24.11s/it] "
          ]
        },
        {
          "output_type": "stream",
          "name": "stdout",
          "text": [
            "Train Epoch: 29 [5120/30441 (17%)]\tLoss: 0.208948\tAccuracy: 5214/30441 (17%)\n"
          ]
        },
        {
          "output_type": "stream",
          "name": "stderr",
          "text": [
            " 94%|█████████▍| 28.281879194628598/30 [11:26<00:42, 24.83s/it]"
          ]
        },
        {
          "output_type": "stream",
          "name": "stdout",
          "text": [
            "Train Epoch: 29 [10240/30441 (34%)]\tLoss: 0.190384\tAccuracy: 10186/30441 (33%)\n"
          ]
        },
        {
          "output_type": "stream",
          "name": "stderr",
          "text": [
            " 95%|█████████▍| 28.416107382548045/30 [11:30<00:39, 24.77s/it]"
          ]
        },
        {
          "output_type": "stream",
          "name": "stdout",
          "text": [
            "Train Epoch: 29 [15360/30441 (50%)]\tLoss: 0.149721\tAccuracy: 15124/30441 (50%)\n"
          ]
        },
        {
          "output_type": "stream",
          "name": "stderr",
          "text": [
            " 95%|█████████▌| 28.550335570467492/30 [11:33<00:38, 26.71s/it]"
          ]
        },
        {
          "output_type": "stream",
          "name": "stdout",
          "text": [
            "Train Epoch: 29 [20480/30441 (67%)]\tLoss: 0.277252\tAccuracy: 20060/30441 (66%)\n"
          ]
        },
        {
          "output_type": "stream",
          "name": "stderr",
          "text": [
            " 96%|█████████▌| 28.68456375838694/30 [11:37<00:34, 26.13s/it] "
          ]
        },
        {
          "output_type": "stream",
          "name": "stdout",
          "text": [
            "Train Epoch: 29 [25600/30441 (84%)]\tLoss: 0.175931\tAccuracy: 25021/30441 (82%)\n"
          ]
        },
        {
          "output_type": "stream",
          "name": "stderr",
          "text": [
            " 97%|█████████▋| 29.006711409393613/30 [11:43<00:17, 17.58s/it]"
          ]
        },
        {
          "output_type": "stream",
          "name": "stdout",
          "text": [
            "\n",
            "Test Epoch: 29 \tLoss: 0.675243\tAccuracy: 5625/7611 (74%)\n",
            "\n",
            "Train Epoch: 30 [0/30441 (0%)]\tLoss: 0.216958\tAccuracy: 247/30441 (1%)\n"
          ]
        },
        {
          "output_type": "stream",
          "name": "stderr",
          "text": [
            " 97%|█████████▋| 29.147651006709033/30 [11:47<00:22, 26.00s/it]"
          ]
        },
        {
          "output_type": "stream",
          "name": "stdout",
          "text": [
            "Train Epoch: 30 [5120/30441 (17%)]\tLoss: 0.192104\tAccuracy: 5209/30441 (17%)\n"
          ]
        },
        {
          "output_type": "stream",
          "name": "stderr",
          "text": [
            " 98%|█████████▊| 29.28187919462848/30 [11:50<00:17, 24.06s/it] "
          ]
        },
        {
          "output_type": "stream",
          "name": "stdout",
          "text": [
            "Train Epoch: 30 [10240/30441 (34%)]\tLoss: 0.161531\tAccuracy: 10180/30441 (33%)\n"
          ]
        },
        {
          "output_type": "stream",
          "name": "stderr",
          "text": [
            " 98%|█████████▊| 29.416107382547928/30 [11:54<00:14, 24.48s/it]"
          ]
        },
        {
          "output_type": "stream",
          "name": "stdout",
          "text": [
            "Train Epoch: 30 [15360/30441 (50%)]\tLoss: 0.317162\tAccuracy: 15120/30441 (50%)\n"
          ]
        },
        {
          "output_type": "stream",
          "name": "stderr",
          "text": [
            " 99%|█████████▊| 29.550335570467375/30 [11:57<00:12, 27.64s/it]"
          ]
        },
        {
          "output_type": "stream",
          "name": "stdout",
          "text": [
            "Train Epoch: 30 [20480/30441 (67%)]\tLoss: 0.191245\tAccuracy: 20075/30441 (66%)\n"
          ]
        },
        {
          "output_type": "stream",
          "name": "stderr",
          "text": [
            " 99%|█████████▉| 29.684563758386822/30 [12:01<00:08, 25.66s/it]"
          ]
        },
        {
          "output_type": "stream",
          "name": "stdout",
          "text": [
            "Train Epoch: 30 [25600/30441 (84%)]\tLoss: 0.143377\tAccuracy: 25023/30441 (82%)\n"
          ]
        },
        {
          "output_type": "stream",
          "name": "stderr",
          "text": [
            "100%|█████████▉| 29.999999999997524/30 [12:07<00:00, 24.25s/it]"
          ]
        },
        {
          "output_type": "stream",
          "name": "stdout",
          "text": [
            "\n",
            "Test Epoch: 30 \tLoss: 0.601264\tAccuracy: 6214/7611 (82%)\n",
            "\n"
          ]
        },
        {
          "output_type": "stream",
          "name": "stderr",
          "text": [
            "\n"
          ]
        }
      ]
    },
    {
      "cell_type": "code",
      "source": [
        "plt.plot(losses);\n",
        "plt.title(\"training loss M11\");"
      ],
      "metadata": {
        "id": "pL8U8S19o2n2",
        "colab": {
          "base_uri": "https://localhost:8080/",
          "height": 452
        },
        "outputId": "b7ec89c1-cd61-48cd-92c1-cc9d08c273c5"
      },
      "execution_count": 23,
      "outputs": [
        {
          "output_type": "display_data",
          "data": {
            "text/plain": [
              "<Figure size 640x480 with 1 Axes>"
            ],
            "image/png": "[encoded data removed]"
          },
          "metadata": {}
        }
      ]
    },
    {
      "cell_type": "code",
      "source": [
        "torch.save(model_m11.state_dict(), 'm11.model')"
      ],
      "metadata": {
        "id": "uglO2JuepEdZ"
      },
      "execution_count": 91,
      "outputs": []
    },
    {
      "cell_type": "markdown",
      "source": [
        "Обучим m18"
      ],
      "metadata": {
        "id": "5lkAG1XSAcDE"
      }
    },
    {
      "cell_type": "code",
      "source": [
        "optimizer = optim.Adam(model_m18.parameters(), lr=0.01, weight_decay=0.0001)\n",
        "scheduler = optim.lr_scheduler.StepLR(optimizer, step_size=20, gamma=0.1)\n",
        "\n",
        "losses = []\n",
        "accuracy_test = []\n",
        "losses_test = []\n",
        "transform = transform.to(device)\n",
        "with tqdm(total=n_epoch) as pbar:\n",
        "    for epoch in range(1, n_epoch + 1):\n",
        "        train(model_m18, optimizer, epoch, log_interval)\n",
        "        test(model_m18, epoch)\n",
        "        scheduler.step()"
      ],
      "metadata": {
        "colab": {
          "base_uri": "https://localhost:8080/"
        },
        "id": "idNhYitUAbz0",
        "outputId": "57af4505-a8c6-4ed4-d107-21f93f8fd122"
      },
      "execution_count": 71,
      "outputs": [
        {
          "output_type": "stream",
          "name": "stderr",
          "text": [
            "  0%|          | 0.013422818791946308/30 [00:00<18:00, 36.04s/it]"
          ]
        },
        {
          "output_type": "stream",
          "name": "stdout",
          "text": [
            "Train Epoch: 1 [0/30441 (0%)]\tLoss: 2.330025\tAccuracy: 29/30441 (0%)\n"
          ]
        },
        {
          "output_type": "stream",
          "name": "stderr",
          "text": [
            "  0%|          | 0.14765100671140938/30 [00:05<17:34, 35.31s/it]"
          ]
        },
        {
          "output_type": "stream",
          "name": "stdout",
          "text": [
            "Train Epoch: 1 [5120/30441 (17%)]\tLoss: 2.311452\tAccuracy: 636/30441 (2%)\n"
          ]
        },
        {
          "output_type": "stream",
          "name": "stderr",
          "text": [
            "  1%|          | 0.2818791946308723/30 [00:09<15:39, 31.60s/it] "
          ]
        },
        {
          "output_type": "stream",
          "name": "stdout",
          "text": [
            "Train Epoch: 1 [10240/30441 (34%)]\tLoss: 1.943217\tAccuracy: 1564/30441 (5%)\n"
          ]
        },
        {
          "output_type": "stream",
          "name": "stderr",
          "text": [
            "  1%|▏         | 0.4161073825503352/30 [00:14<16:23, 33.24s/it] "
          ]
        },
        {
          "output_type": "stream",
          "name": "stdout",
          "text": [
            "Train Epoch: 1 [15360/30441 (50%)]\tLoss: 1.572091\tAccuracy: 3474/30441 (11%)\n"
          ]
        },
        {
          "output_type": "stream",
          "name": "stderr",
          "text": [
            "  2%|▏         | 0.5503355704697981/30 [00:18<16:15, 33.12s/it]"
          ]
        },
        {
          "output_type": "stream",
          "name": "stdout",
          "text": [
            "Train Epoch: 1 [20480/30441 (67%)]\tLoss: 1.096619\tAccuracy: 5921/30441 (19%)\n"
          ]
        },
        {
          "output_type": "stream",
          "name": "stderr",
          "text": [
            "  2%|▏         | 0.684563758389261/30 [00:23<15:33, 31.86s/it] "
          ]
        },
        {
          "output_type": "stream",
          "name": "stdout",
          "text": [
            "Train Epoch: 1 [25600/30441 (84%)]\tLoss: 0.915510\tAccuracy: 8906/30441 (29%)\n"
          ]
        },
        {
          "output_type": "stream",
          "name": "stderr",
          "text": [
            "  3%|▎         | 0.9999999999999988/30 [00:31<08:33, 17.70s/it]"
          ]
        },
        {
          "output_type": "stream",
          "name": "stdout",
          "text": [
            "\n",
            "Test Epoch: 1 \tLoss: 17.477282\tAccuracy: 759/7611 (10%)\n",
            "\n"
          ]
        },
        {
          "output_type": "stream",
          "name": "stderr",
          "text": [
            "  3%|▎         | 1.0134228187919452/30 [00:31<10:18, 21.34s/it]"
          ]
        },
        {
          "output_type": "stream",
          "name": "stdout",
          "text": [
            "Train Epoch: 2 [0/30441 (0%)]\tLoss: 0.689735\tAccuracy: 205/30441 (1%)\n"
          ]
        },
        {
          "output_type": "stream",
          "name": "stderr",
          "text": [
            "  4%|▍         | 1.1476510067114103/30 [00:35<15:30, 32.24s/it]"
          ]
        },
        {
          "output_type": "stream",
          "name": "stdout",
          "text": [
            "Train Epoch: 2 [5120/30441 (17%)]\tLoss: 0.691998\tAccuracy: 3862/30441 (13%)\n"
          ]
        },
        {
          "output_type": "stream",
          "name": "stderr",
          "text": [
            "  4%|▍         | 1.2818791946308754/30 [00:40<15:51, 33.13s/it]"
          ]
        },
        {
          "output_type": "stream",
          "name": "stdout",
          "text": [
            "Train Epoch: 2 [10240/30441 (34%)]\tLoss: 0.715286\tAccuracy: 7674/30441 (25%)\n"
          ]
        },
        {
          "output_type": "stream",
          "name": "stderr",
          "text": [
            "  5%|▍         | 1.4161073825503405/30 [00:45<15:16, 32.08s/it]"
          ]
        },
        {
          "output_type": "stream",
          "name": "stdout",
          "text": [
            "Train Epoch: 2 [15360/30441 (50%)]\tLoss: 0.660627\tAccuracy: 11484/30441 (38%)\n"
          ]
        },
        {
          "output_type": "stream",
          "name": "stderr",
          "text": [
            "  5%|▌         | 1.5503355704698056/30 [00:49<15:47, 33.29s/it]"
          ]
        },
        {
          "output_type": "stream",
          "name": "stdout",
          "text": [
            "Train Epoch: 2 [20480/30441 (67%)]\tLoss: 0.568327\tAccuracy: 15607/30441 (51%)\n"
          ]
        },
        {
          "output_type": "stream",
          "name": "stderr",
          "text": [
            "  6%|▌         | 1.6845637583892707/30 [00:54<16:29, 34.94s/it]"
          ]
        },
        {
          "output_type": "stream",
          "name": "stdout",
          "text": [
            "Train Epoch: 2 [25600/30441 (84%)]\tLoss: 0.591946\tAccuracy: 19831/30441 (65%)\n"
          ]
        },
        {
          "output_type": "stream",
          "name": "stderr",
          "text": [
            "  7%|▋         | 2.0000000000000138/30 [01:01<08:00, 17.16s/it]"
          ]
        },
        {
          "output_type": "stream",
          "name": "stdout",
          "text": [
            "\n",
            "Test Epoch: 2 \tLoss: 8.278576\tAccuracy: 1666/7611 (22%)\n",
            "\n"
          ]
        },
        {
          "output_type": "stream",
          "name": "stderr",
          "text": [
            "  7%|▋         | 2.0134228187919603/30 [01:02<10:24, 22.33s/it]"
          ]
        },
        {
          "output_type": "stream",
          "name": "stdout",
          "text": [
            "Train Epoch: 3 [0/30441 (0%)]\tLoss: 0.495957\tAccuracy: 217/30441 (1%)\n"
          ]
        },
        {
          "output_type": "stream",
          "name": "stderr",
          "text": [
            "  7%|▋         | 2.1476510067114254/30 [01:06<16:16, 35.05s/it]"
          ]
        },
        {
          "output_type": "stream",
          "name": "stdout",
          "text": [
            "Train Epoch: 3 [5120/30441 (17%)]\tLoss: 0.472851\tAccuracy: 4594/30441 (15%)\n"
          ]
        },
        {
          "output_type": "stream",
          "name": "stderr",
          "text": [
            "  8%|▊         | 2.2818791946308905/30 [01:11<14:53, 32.22s/it]"
          ]
        },
        {
          "output_type": "stream",
          "name": "stdout",
          "text": [
            "Train Epoch: 3 [10240/30441 (34%)]\tLoss: 0.520939\tAccuracy: 9013/30441 (30%)\n"
          ]
        },
        {
          "output_type": "stream",
          "name": "stderr",
          "text": [
            "  8%|▊         | 2.4161073825503556/30 [01:15<14:27, 31.44s/it]"
          ]
        },
        {
          "output_type": "stream",
          "name": "stdout",
          "text": [
            "Train Epoch: 3 [15360/30441 (50%)]\tLoss: 0.482651\tAccuracy: 13588/30441 (45%)\n"
          ]
        },
        {
          "output_type": "stream",
          "name": "stderr",
          "text": [
            "  9%|▊         | 2.5503355704698207/30 [01:20<14:51, 32.49s/it]"
          ]
        },
        {
          "output_type": "stream",
          "name": "stdout",
          "text": [
            "Train Epoch: 3 [20480/30441 (67%)]\tLoss: 0.458309\tAccuracy: 18125/30441 (60%)\n"
          ]
        },
        {
          "output_type": "stream",
          "name": "stderr",
          "text": [
            "  9%|▉         | 2.684563758389286/30 [01:24<14:15, 31.33s/it] "
          ]
        },
        {
          "output_type": "stream",
          "name": "stdout",
          "text": [
            "Train Epoch: 3 [25600/30441 (84%)]\tLoss: 0.392864\tAccuracy: 22721/30441 (75%)\n"
          ]
        },
        {
          "output_type": "stream",
          "name": "stderr",
          "text": [
            " 10%|█         | 3.000000000000029/30 [01:32<07:50, 17.42s/it] "
          ]
        },
        {
          "output_type": "stream",
          "name": "stdout",
          "text": [
            "\n",
            "Test Epoch: 3 \tLoss: 8.501143\tAccuracy: 789/7611 (10%)\n",
            "\n"
          ]
        },
        {
          "output_type": "stream",
          "name": "stderr",
          "text": [
            " 10%|█         | 3.0134228187919754/30 [01:33<09:41, 21.54s/it]"
          ]
        },
        {
          "output_type": "stream",
          "name": "stdout",
          "text": [
            "Train Epoch: 4 [0/30441 (0%)]\tLoss: 0.446890\tAccuracy: 228/30441 (1%)\n"
          ]
        },
        {
          "output_type": "stream",
          "name": "stderr",
          "text": [
            " 10%|█         | 3.1476510067114405/30 [01:37<14:42, 32.86s/it]"
          ]
        },
        {
          "output_type": "stream",
          "name": "stdout",
          "text": [
            "Train Epoch: 4 [5120/30441 (17%)]\tLoss: 0.370681\tAccuracy: 4805/30441 (16%)\n"
          ]
        },
        {
          "output_type": "stream",
          "name": "stderr",
          "text": [
            " 11%|█         | 3.2818791946309056/30 [01:42<15:39, 35.18s/it]"
          ]
        },
        {
          "output_type": "stream",
          "name": "stdout",
          "text": [
            "Train Epoch: 4 [10240/30441 (34%)]\tLoss: 0.450257\tAccuracy: 9438/30441 (31%)\n"
          ]
        },
        {
          "output_type": "stream",
          "name": "stderr",
          "text": [
            " 11%|█▏        | 3.4161073825503707/30 [01:46<14:14, 32.13s/it]"
          ]
        },
        {
          "output_type": "stream",
          "name": "stdout",
          "text": [
            "Train Epoch: 4 [15360/30441 (50%)]\tLoss: 0.372073\tAccuracy: 14066/30441 (46%)\n"
          ]
        },
        {
          "output_type": "stream",
          "name": "stderr",
          "text": [
            " 12%|█▏        | 3.550335570469836/30 [01:51<14:13, 32.26s/it] "
          ]
        },
        {
          "output_type": "stream",
          "name": "stdout",
          "text": [
            "Train Epoch: 4 [20480/30441 (67%)]\tLoss: 0.394981\tAccuracy: 18740/30441 (62%)\n"
          ]
        },
        {
          "output_type": "stream",
          "name": "stderr",
          "text": [
            " 12%|█▏        | 3.684563758389301/30 [01:56<15:09, 34.56s/it] "
          ]
        },
        {
          "output_type": "stream",
          "name": "stdout",
          "text": [
            "Train Epoch: 4 [25600/30441 (84%)]\tLoss: 0.492436\tAccuracy: 23377/30441 (77%)\n"
          ]
        },
        {
          "output_type": "stream",
          "name": "stderr",
          "text": [
            " 13%|█▎        | 4.0000000000000435/30 [02:03<07:38, 17.63s/it]"
          ]
        },
        {
          "output_type": "stream",
          "name": "stdout",
          "text": [
            "\n",
            "Test Epoch: 4 \tLoss: 2.838218\tAccuracy: 2793/7611 (37%)\n",
            "\n"
          ]
        },
        {
          "output_type": "stream",
          "name": "stderr",
          "text": [
            " 13%|█▎        | 4.01342281879199/30 [02:03<09:24, 21.71s/it] "
          ]
        },
        {
          "output_type": "stream",
          "name": "stdout",
          "text": [
            "Train Epoch: 5 [0/30441 (0%)]\tLoss: 0.344012\tAccuracy: 237/30441 (1%)\n"
          ]
        },
        {
          "output_type": "stream",
          "name": "stderr",
          "text": [
            " 14%|█▍        | 4.147651006711455/30 [02:08<14:55, 34.62s/it]"
          ]
        },
        {
          "output_type": "stream",
          "name": "stdout",
          "text": [
            "Train Epoch: 5 [5120/30441 (17%)]\tLoss: 0.234521\tAccuracy: 4918/30441 (16%)\n"
          ]
        },
        {
          "output_type": "stream",
          "name": "stderr",
          "text": [
            " 14%|█▍        | 4.28187919463092/30 [02:13<13:53, 32.43s/it] "
          ]
        },
        {
          "output_type": "stream",
          "name": "stdout",
          "text": [
            "Train Epoch: 5 [10240/30441 (34%)]\tLoss: 0.337848\tAccuracy: 9595/30441 (32%)\n"
          ]
        },
        {
          "output_type": "stream",
          "name": "stderr",
          "text": [
            " 15%|█▍        | 4.416107382550385/30 [02:17<13:26, 31.53s/it]"
          ]
        },
        {
          "output_type": "stream",
          "name": "stdout",
          "text": [
            "Train Epoch: 5 [15360/30441 (50%)]\tLoss: 0.293916\tAccuracy: 14272/30441 (47%)\n"
          ]
        },
        {
          "output_type": "stream",
          "name": "stderr",
          "text": [
            " 15%|█▌        | 4.5503355704698505/30 [02:22<14:01, 33.05s/it]"
          ]
        },
        {
          "output_type": "stream",
          "name": "stdout",
          "text": [
            "Train Epoch: 5 [20480/30441 (67%)]\tLoss: 0.279139\tAccuracy: 19034/30441 (63%)\n"
          ]
        },
        {
          "output_type": "stream",
          "name": "stderr",
          "text": [
            " 16%|█▌        | 4.684563758389316/30 [02:26<13:38, 32.34s/it]"
          ]
        },
        {
          "output_type": "stream",
          "name": "stdout",
          "text": [
            "Train Epoch: 5 [25600/30441 (84%)]\tLoss: 0.261317\tAccuracy: 23785/30441 (78%)\n"
          ]
        },
        {
          "output_type": "stream",
          "name": "stderr",
          "text": [
            " 17%|█▋        | 4.993288590604085/30 [02:34<07:20, 17.63s/it]"
          ]
        },
        {
          "output_type": "stream",
          "name": "stdout",
          "text": [
            "\n",
            "Test Epoch: 5 \tLoss: 6.211524\tAccuracy: 1622/7611 (21%)\n",
            "\n"
          ]
        },
        {
          "output_type": "stream",
          "name": "stderr",
          "text": [
            " 17%|█▋        | 5.013422818792005/30 [02:35<08:31, 20.45s/it]"
          ]
        },
        {
          "output_type": "stream",
          "name": "stdout",
          "text": [
            "Train Epoch: 6 [0/30441 (0%)]\tLoss: 0.342676\tAccuracy: 240/30441 (1%)\n"
          ]
        },
        {
          "output_type": "stream",
          "name": "stderr",
          "text": [
            " 17%|█▋        | 5.14765100671147/30 [02:39<13:45, 33.24s/it] "
          ]
        },
        {
          "output_type": "stream",
          "name": "stdout",
          "text": [
            "Train Epoch: 6 [5120/30441 (17%)]\tLoss: 0.232321\tAccuracy: 4988/30441 (16%)\n"
          ]
        },
        {
          "output_type": "stream",
          "name": "stderr",
          "text": [
            " 18%|█▊        | 5.281879194630935/30 [02:44<14:25, 35.03s/it]"
          ]
        },
        {
          "output_type": "stream",
          "name": "stdout",
          "text": [
            "Train Epoch: 6 [10240/30441 (34%)]\tLoss: 0.435340\tAccuracy: 9782/30441 (32%)\n"
          ]
        },
        {
          "output_type": "stream",
          "name": "stderr",
          "text": [
            " 18%|█▊        | 5.4161073825504005/30 [02:48<13:21, 32.62s/it]"
          ]
        },
        {
          "output_type": "stream",
          "name": "stdout",
          "text": [
            "Train Epoch: 6 [15360/30441 (50%)]\tLoss: 0.267767\tAccuracy: 14512/30441 (48%)\n"
          ]
        },
        {
          "output_type": "stream",
          "name": "stderr",
          "text": [
            " 19%|█▊        | 5.550335570469866/30 [02:53<13:40, 33.57s/it]"
          ]
        },
        {
          "output_type": "stream",
          "name": "stdout",
          "text": [
            "Train Epoch: 6 [20480/30441 (67%)]\tLoss: 0.309963\tAccuracy: 19279/30441 (63%)\n"
          ]
        },
        {
          "output_type": "stream",
          "name": "stderr",
          "text": [
            " 19%|█▉        | 5.684563758389331/30 [02:58<13:40, 33.72s/it] "
          ]
        },
        {
          "output_type": "stream",
          "name": "stdout",
          "text": [
            "Train Epoch: 6 [25600/30441 (84%)]\tLoss: 0.408531\tAccuracy: 24024/30441 (79%)\n"
          ]
        },
        {
          "output_type": "stream",
          "name": "stderr",
          "text": [
            " 20%|██        | 6.000000000000074/30 [03:05<07:01, 17.57s/it] "
          ]
        },
        {
          "output_type": "stream",
          "name": "stdout",
          "text": [
            "\n",
            "Test Epoch: 6 \tLoss: 2.932017\tAccuracy: 1535/7611 (20%)\n",
            "\n"
          ]
        },
        {
          "output_type": "stream",
          "name": "stderr",
          "text": [
            " 20%|██        | 6.01342281879202/30 [03:06<09:14, 23.10s/it] "
          ]
        },
        {
          "output_type": "stream",
          "name": "stdout",
          "text": [
            "Train Epoch: 7 [0/30441 (0%)]\tLoss: 0.337776\tAccuracy: 237/30441 (1%)\n"
          ]
        },
        {
          "output_type": "stream",
          "name": "stderr",
          "text": [
            " 20%|██        | 6.147651006711485/30 [03:10<13:09, 33.09s/it]"
          ]
        },
        {
          "output_type": "stream",
          "name": "stdout",
          "text": [
            "Train Epoch: 7 [5120/30441 (17%)]\tLoss: 0.371288\tAccuracy: 5020/30441 (16%)\n"
          ]
        },
        {
          "output_type": "stream",
          "name": "stderr",
          "text": [
            " 21%|██        | 6.2818791946309505/30 [03:15<13:15, 33.52s/it]"
          ]
        },
        {
          "output_type": "stream",
          "name": "stdout",
          "text": [
            "Train Epoch: 7 [10240/30441 (34%)]\tLoss: 0.215932\tAccuracy: 9831/30441 (32%)\n"
          ]
        },
        {
          "output_type": "stream",
          "name": "stderr",
          "text": [
            " 21%|██▏       | 6.416107382550416/30 [03:20<12:56, 32.92s/it]"
          ]
        },
        {
          "output_type": "stream",
          "name": "stdout",
          "text": [
            "Train Epoch: 7 [15360/30441 (50%)]\tLoss: 0.286748\tAccuracy: 14616/30441 (48%)\n"
          ]
        },
        {
          "output_type": "stream",
          "name": "stderr",
          "text": [
            " 22%|██▏       | 6.550335570469881/30 [03:24<13:10, 33.69s/it]"
          ]
        },
        {
          "output_type": "stream",
          "name": "stdout",
          "text": [
            "Train Epoch: 7 [20480/30441 (67%)]\tLoss: 0.302252\tAccuracy: 19436/30441 (64%)\n"
          ]
        },
        {
          "output_type": "stream",
          "name": "stderr",
          "text": [
            " 22%|██▏       | 6.684563758389346/30 [03:29<12:58, 33.37s/it] "
          ]
        },
        {
          "output_type": "stream",
          "name": "stdout",
          "text": [
            "Train Epoch: 7 [25600/30441 (84%)]\tLoss: 0.237280\tAccuracy: 24251/30441 (80%)\n"
          ]
        },
        {
          "output_type": "stream",
          "name": "stderr",
          "text": [
            " 23%|██▎       | 7.000000000000089/30 [03:37<06:51, 17.87s/it]"
          ]
        },
        {
          "output_type": "stream",
          "name": "stdout",
          "text": [
            "\n",
            "Test Epoch: 7 \tLoss: 4.089415\tAccuracy: 1359/7611 (18%)\n",
            "\n"
          ]
        },
        {
          "output_type": "stream",
          "name": "stderr",
          "text": [
            " 23%|██▎       | 7.013422818792035/30 [03:37<08:40, 22.62s/it]"
          ]
        },
        {
          "output_type": "stream",
          "name": "stdout",
          "text": [
            "Train Epoch: 8 [0/30441 (0%)]\tLoss: 0.355228\tAccuracy: 241/30441 (1%)\n"
          ]
        },
        {
          "output_type": "stream",
          "name": "stderr",
          "text": [
            " 24%|██▍       | 7.1476510067115/30 [03:42<12:17, 32.26s/it]  "
          ]
        },
        {
          "output_type": "stream",
          "name": "stdout",
          "text": [
            "Train Epoch: 8 [5120/30441 (17%)]\tLoss: 0.314272\tAccuracy: 5052/30441 (17%)\n"
          ]
        },
        {
          "output_type": "stream",
          "name": "stderr",
          "text": [
            " 24%|██▍       | 7.281879194630966/30 [03:46<13:14, 34.99s/it]"
          ]
        },
        {
          "output_type": "stream",
          "name": "stdout",
          "text": [
            "Train Epoch: 8 [10240/30441 (34%)]\tLoss: 0.371467\tAccuracy: 9845/30441 (32%)\n"
          ]
        },
        {
          "output_type": "stream",
          "name": "stderr",
          "text": [
            " 25%|██▍       | 7.416107382550431/30 [03:51<12:43, 33.80s/it]"
          ]
        },
        {
          "output_type": "stream",
          "name": "stdout",
          "text": [
            "Train Epoch: 8 [15360/30441 (50%)]\tLoss: 0.330003\tAccuracy: 14642/30441 (48%)\n"
          ]
        },
        {
          "output_type": "stream",
          "name": "stderr",
          "text": [
            " 25%|██▌       | 7.550335570469896/30 [03:55<11:56, 31.90s/it] "
          ]
        },
        {
          "output_type": "stream",
          "name": "stdout",
          "text": [
            "Train Epoch: 8 [20480/30441 (67%)]\tLoss: 0.372980\tAccuracy: 19476/30441 (64%)\n"
          ]
        },
        {
          "output_type": "stream",
          "name": "stderr",
          "text": [
            " 26%|██▌       | 7.684563758389361/30 [04:00<12:25, 33.40s/it]"
          ]
        },
        {
          "output_type": "stream",
          "name": "stdout",
          "text": [
            "Train Epoch: 8 [25600/30441 (84%)]\tLoss: 0.230735\tAccuracy: 24259/30441 (80%)\n"
          ]
        },
        {
          "output_type": "stream",
          "name": "stderr",
          "text": [
            " 27%|██▋       | 8.000000000000103/30 [04:08<06:22, 17.39s/it]"
          ]
        },
        {
          "output_type": "stream",
          "name": "stdout",
          "text": [
            "\n",
            "Test Epoch: 8 \tLoss: 6.187298\tAccuracy: 1788/7611 (23%)\n",
            "\n"
          ]
        },
        {
          "output_type": "stream",
          "name": "stderr",
          "text": [
            " 27%|██▋       | 8.013422818792048/30 [04:08<08:10, 22.29s/it]"
          ]
        },
        {
          "output_type": "stream",
          "name": "stdout",
          "text": [
            "Train Epoch: 9 [0/30441 (0%)]\tLoss: 0.172349\tAccuracy: 249/30441 (1%)\n"
          ]
        },
        {
          "output_type": "stream",
          "name": "stderr",
          "text": [
            " 27%|██▋       | 8.147651006711495/30 [04:13<11:43, 32.21s/it]"
          ]
        },
        {
          "output_type": "stream",
          "name": "stdout",
          "text": [
            "Train Epoch: 9 [5120/30441 (17%)]\tLoss: 0.279375\tAccuracy: 5024/30441 (17%)\n"
          ]
        },
        {
          "output_type": "stream",
          "name": "stderr",
          "text": [
            " 28%|██▊       | 8.281879194630942/30 [04:17<12:19, 34.06s/it]"
          ]
        },
        {
          "output_type": "stream",
          "name": "stdout",
          "text": [
            "Train Epoch: 9 [10240/30441 (34%)]\tLoss: 0.199195\tAccuracy: 9858/30441 (32%)\n"
          ]
        },
        {
          "output_type": "stream",
          "name": "stderr",
          "text": [
            " 28%|██▊       | 8.41610738255039/30 [04:22<12:52, 35.79s/it] "
          ]
        },
        {
          "output_type": "stream",
          "name": "stdout",
          "text": [
            "Train Epoch: 9 [15360/30441 (50%)]\tLoss: 0.284957\tAccuracy: 14626/30441 (48%)\n"
          ]
        },
        {
          "output_type": "stream",
          "name": "stderr",
          "text": [
            " 29%|██▊       | 8.550335570469837/30 [04:27<11:45, 32.90s/it]"
          ]
        },
        {
          "output_type": "stream",
          "name": "stdout",
          "text": [
            "Train Epoch: 9 [20480/30441 (67%)]\tLoss: 0.282877\tAccuracy: 19459/30441 (64%)\n"
          ]
        },
        {
          "output_type": "stream",
          "name": "stderr",
          "text": [
            " 29%|██▉       | 8.684563758389285/30 [04:31<11:25, 32.15s/it]"
          ]
        },
        {
          "output_type": "stream",
          "name": "stdout",
          "text": [
            "Train Epoch: 9 [25600/30441 (84%)]\tLoss: 0.226828\tAccuracy: 24300/30441 (80%)\n"
          ]
        },
        {
          "output_type": "stream",
          "name": "stderr",
          "text": [
            " 30%|██▉       | 8.999999999999986/30 [04:39<06:08, 17.53s/it]"
          ]
        },
        {
          "output_type": "stream",
          "name": "stdout",
          "text": [
            "\n",
            "Test Epoch: 9 \tLoss: 4.520289\tAccuracy: 1346/7611 (18%)\n",
            "\n"
          ]
        },
        {
          "output_type": "stream",
          "name": "stderr",
          "text": [
            " 30%|███       | 9.01342281879193/30 [04:40<07:59, 22.86s/it] "
          ]
        },
        {
          "output_type": "stream",
          "name": "stdout",
          "text": [
            "Train Epoch: 10 [0/30441 (0%)]\tLoss: 0.301094\tAccuracy: 241/30441 (1%)\n"
          ]
        },
        {
          "output_type": "stream",
          "name": "stderr",
          "text": [
            " 30%|███       | 9.147651006711378/30 [04:44<11:24, 32.82s/it]"
          ]
        },
        {
          "output_type": "stream",
          "name": "stdout",
          "text": [
            "Train Epoch: 10 [5120/30441 (17%)]\tLoss: 0.387798\tAccuracy: 5052/30441 (17%)\n"
          ]
        },
        {
          "output_type": "stream",
          "name": "stderr",
          "text": [
            " 31%|███       | 9.281879194630825/30 [04:49<11:55, 34.52s/it]"
          ]
        },
        {
          "output_type": "stream",
          "name": "stdout",
          "text": [
            "Train Epoch: 10 [10240/30441 (34%)]\tLoss: 0.298929\tAccuracy: 9886/30441 (32%)\n"
          ]
        },
        {
          "output_type": "stream",
          "name": "stderr",
          "text": [
            " 31%|███▏      | 9.416107382550273/30 [04:53<11:43, 34.17s/it]"
          ]
        },
        {
          "output_type": "stream",
          "name": "stdout",
          "text": [
            "Train Epoch: 10 [15360/30441 (50%)]\tLoss: 0.375731\tAccuracy: 14727/30441 (48%)\n"
          ]
        },
        {
          "output_type": "stream",
          "name": "stderr",
          "text": [
            " 32%|███▏      | 9.55033557046972/30 [04:58<11:29, 33.73s/it] "
          ]
        },
        {
          "output_type": "stream",
          "name": "stdout",
          "text": [
            "Train Epoch: 10 [20480/30441 (67%)]\tLoss: 0.363860\tAccuracy: 19575/30441 (64%)\n"
          ]
        },
        {
          "output_type": "stream",
          "name": "stderr",
          "text": [
            " 32%|███▏      | 9.684563758389167/30 [05:03<10:48, 31.90s/it]"
          ]
        },
        {
          "output_type": "stream",
          "name": "stdout",
          "text": [
            "Train Epoch: 10 [25600/30441 (84%)]\tLoss: 0.395926\tAccuracy: 24443/30441 (80%)\n"
          ]
        },
        {
          "output_type": "stream",
          "name": "stderr",
          "text": [
            " 33%|███▎      | 9.993288590603896/30 [05:10<06:00, 18.02s/it]"
          ]
        },
        {
          "output_type": "stream",
          "name": "stdout",
          "text": [
            "\n",
            "Test Epoch: 10 \tLoss: 3.873517\tAccuracy: 1834/7611 (24%)\n",
            "\n"
          ]
        },
        {
          "output_type": "stream",
          "name": "stderr",
          "text": [
            " 33%|███▎      | 10.013422818791813/30 [05:11<07:28, 22.46s/it]"
          ]
        },
        {
          "output_type": "stream",
          "name": "stdout",
          "text": [
            "Train Epoch: 11 [0/30441 (0%)]\tLoss: 0.247401\tAccuracy: 246/30441 (1%)\n"
          ]
        },
        {
          "output_type": "stream",
          "name": "stderr",
          "text": [
            " 34%|███▍      | 10.14765100671126/30 [05:15<10:53, 32.94s/it] "
          ]
        },
        {
          "output_type": "stream",
          "name": "stdout",
          "text": [
            "Train Epoch: 11 [5120/30441 (17%)]\tLoss: 0.398290\tAccuracy: 5097/30441 (17%)\n"
          ]
        },
        {
          "output_type": "stream",
          "name": "stderr",
          "text": [
            " 34%|███▍      | 10.281879194630708/30 [05:20<10:53, 33.13s/it]"
          ]
        },
        {
          "output_type": "stream",
          "name": "stdout",
          "text": [
            "Train Epoch: 11 [10240/30441 (34%)]\tLoss: 0.236497\tAccuracy: 9964/30441 (33%)\n"
          ]
        },
        {
          "output_type": "stream",
          "name": "stderr",
          "text": [
            " 35%|███▍      | 10.416107382550155/30 [05:25<11:50, 36.29s/it]"
          ]
        },
        {
          "output_type": "stream",
          "name": "stdout",
          "text": [
            "Train Epoch: 11 [15360/30441 (50%)]\tLoss: 0.247022\tAccuracy: 14820/30441 (49%)\n"
          ]
        },
        {
          "output_type": "stream",
          "name": "stderr",
          "text": [
            " 35%|███▌      | 10.550335570469603/30 [05:29<10:24, 32.12s/it]"
          ]
        },
        {
          "output_type": "stream",
          "name": "stdout",
          "text": [
            "Train Epoch: 11 [20480/30441 (67%)]\tLoss: 0.287098\tAccuracy: 19678/30441 (65%)\n"
          ]
        },
        {
          "output_type": "stream",
          "name": "stderr",
          "text": [
            " 36%|███▌      | 10.68456375838905/30 [05:34<10:27, 32.49s/it] "
          ]
        },
        {
          "output_type": "stream",
          "name": "stdout",
          "text": [
            "Train Epoch: 11 [25600/30441 (84%)]\tLoss: 0.278128\tAccuracy: 24514/30441 (81%)\n"
          ]
        },
        {
          "output_type": "stream",
          "name": "stderr",
          "text": [
            " 37%|███▋      | 10.999999999999751/30 [05:41<05:31, 17.43s/it]"
          ]
        },
        {
          "output_type": "stream",
          "name": "stdout",
          "text": [
            "\n",
            "Test Epoch: 11 \tLoss: 2.544770\tAccuracy: 2966/7611 (39%)\n",
            "\n"
          ]
        },
        {
          "output_type": "stream",
          "name": "stderr",
          "text": [
            " 37%|███▋      | 11.013422818791696/30 [05:42<06:45, 21.35s/it]"
          ]
        },
        {
          "output_type": "stream",
          "name": "stdout",
          "text": [
            "Train Epoch: 12 [0/30441 (0%)]\tLoss: 0.398623\tAccuracy: 240/30441 (1%)\n"
          ]
        },
        {
          "output_type": "stream",
          "name": "stderr",
          "text": [
            " 37%|███▋      | 11.147651006711143/30 [05:46<10:20, 32.94s/it]"
          ]
        },
        {
          "output_type": "stream",
          "name": "stdout",
          "text": [
            "Train Epoch: 12 [5120/30441 (17%)]\tLoss: 0.299200\tAccuracy: 5080/30441 (17%)\n"
          ]
        },
        {
          "output_type": "stream",
          "name": "stderr",
          "text": [
            " 38%|███▊      | 11.28187919463059/30 [05:51<10:08, 32.49s/it] "
          ]
        },
        {
          "output_type": "stream",
          "name": "stdout",
          "text": [
            "Train Epoch: 12 [10240/30441 (34%)]\tLoss: 0.229815\tAccuracy: 9925/30441 (33%)\n"
          ]
        },
        {
          "output_type": "stream",
          "name": "stderr",
          "text": [
            " 38%|███▊      | 11.416107382550038/30 [05:56<10:30, 33.92s/it]"
          ]
        },
        {
          "output_type": "stream",
          "name": "stdout",
          "text": [
            "Train Epoch: 12 [15360/30441 (50%)]\tLoss: 0.277679\tAccuracy: 14772/30441 (49%)\n"
          ]
        },
        {
          "output_type": "stream",
          "name": "stderr",
          "text": [
            " 39%|███▊      | 11.550335570469485/30 [06:00<10:24, 33.86s/it]"
          ]
        },
        {
          "output_type": "stream",
          "name": "stdout",
          "text": [
            "Train Epoch: 12 [20480/30441 (67%)]\tLoss: 0.238671\tAccuracy: 19606/30441 (64%)\n"
          ]
        },
        {
          "output_type": "stream",
          "name": "stderr",
          "text": [
            " 39%|███▉      | 11.684563758388933/30 [06:05<09:55, 32.51s/it]"
          ]
        },
        {
          "output_type": "stream",
          "name": "stdout",
          "text": [
            "Train Epoch: 12 [25600/30441 (84%)]\tLoss: 0.216720\tAccuracy: 24447/30441 (80%)\n"
          ]
        },
        {
          "output_type": "stream",
          "name": "stderr",
          "text": [
            " 40%|███▉      | 11.999999999999634/30 [06:12<05:48, 19.37s/it]"
          ]
        },
        {
          "output_type": "stream",
          "name": "stdout",
          "text": [
            "\n",
            "Test Epoch: 12 \tLoss: 4.296317\tAccuracy: 1239/7611 (16%)\n",
            "\n"
          ]
        },
        {
          "output_type": "stream",
          "name": "stderr",
          "text": [
            " 40%|████      | 12.013422818791579/30 [06:13<07:21, 24.52s/it]"
          ]
        },
        {
          "output_type": "stream",
          "name": "stdout",
          "text": [
            "Train Epoch: 13 [0/30441 (0%)]\tLoss: 0.430038\tAccuracy: 240/30441 (1%)\n"
          ]
        },
        {
          "output_type": "stream",
          "name": "stderr",
          "text": [
            " 40%|████      | 12.147651006711026/30 [06:17<09:43, 32.70s/it]"
          ]
        },
        {
          "output_type": "stream",
          "name": "stdout",
          "text": [
            "Train Epoch: 13 [5120/30441 (17%)]\tLoss: 0.352597\tAccuracy: 5107/30441 (17%)\n"
          ]
        },
        {
          "output_type": "stream",
          "name": "stderr",
          "text": [
            " 41%|████      | 12.281879194630474/30 [06:22<09:32, 32.32s/it]"
          ]
        },
        {
          "output_type": "stream",
          "name": "stdout",
          "text": [
            "Train Epoch: 13 [10240/30441 (34%)]\tLoss: 0.311787\tAccuracy: 9972/30441 (33%)\n"
          ]
        },
        {
          "output_type": "stream",
          "name": "stderr",
          "text": [
            " 41%|████▏     | 12.41610738254992/30 [06:27<09:56, 33.92s/it] "
          ]
        },
        {
          "output_type": "stream",
          "name": "stdout",
          "text": [
            "Train Epoch: 13 [15360/30441 (50%)]\tLoss: 0.214721\tAccuracy: 14871/30441 (49%)\n"
          ]
        },
        {
          "output_type": "stream",
          "name": "stderr",
          "text": [
            " 42%|████▏     | 12.550335570469368/30 [06:31<09:52, 33.98s/it]"
          ]
        },
        {
          "output_type": "stream",
          "name": "stdout",
          "text": [
            "Train Epoch: 13 [20480/30441 (67%)]\tLoss: 0.239872\tAccuracy: 19755/30441 (65%)\n"
          ]
        },
        {
          "output_type": "stream",
          "name": "stderr",
          "text": [
            " 42%|████▏     | 12.684563758388816/30 [06:36<09:39, 33.45s/it]"
          ]
        },
        {
          "output_type": "stream",
          "name": "stdout",
          "text": [
            "Train Epoch: 13 [25600/30441 (84%)]\tLoss: 0.201416\tAccuracy: 24608/30441 (81%)\n"
          ]
        },
        {
          "output_type": "stream",
          "name": "stderr",
          "text": [
            " 43%|████▎     | 12.999999999999517/30 [06:44<04:57, 17.48s/it]"
          ]
        },
        {
          "output_type": "stream",
          "name": "stdout",
          "text": [
            "\n",
            "Test Epoch: 13 \tLoss: 3.522179\tAccuracy: 1731/7611 (23%)\n",
            "\n"
          ]
        },
        {
          "output_type": "stream",
          "name": "stderr",
          "text": [
            " 43%|████▎     | 13.013422818791462/30 [06:44<06:16, 22.16s/it]"
          ]
        },
        {
          "output_type": "stream",
          "name": "stdout",
          "text": [
            "Train Epoch: 14 [0/30441 (0%)]\tLoss: 0.300473\tAccuracy: 239/30441 (1%)\n"
          ]
        },
        {
          "output_type": "stream",
          "name": "stderr",
          "text": [
            " 44%|████▍     | 13.147651006710909/30 [06:48<09:14, 32.90s/it]"
          ]
        },
        {
          "output_type": "stream",
          "name": "stdout",
          "text": [
            "Train Epoch: 14 [5120/30441 (17%)]\tLoss: 0.321538\tAccuracy: 5078/30441 (17%)\n"
          ]
        },
        {
          "output_type": "stream",
          "name": "stderr",
          "text": [
            " 44%|████▍     | 13.281879194630356/30 [06:53<09:16, 33.28s/it]"
          ]
        },
        {
          "output_type": "stream",
          "name": "stdout",
          "text": [
            "Train Epoch: 14 [10240/30441 (34%)]\tLoss: 0.380973\tAccuracy: 9930/30441 (33%)\n"
          ]
        },
        {
          "output_type": "stream",
          "name": "stderr",
          "text": [
            " 45%|████▍     | 13.416107382549804/30 [06:58<09:04, 32.86s/it]"
          ]
        },
        {
          "output_type": "stream",
          "name": "stdout",
          "text": [
            "Train Epoch: 14 [15360/30441 (50%)]\tLoss: 0.218811\tAccuracy: 14770/30441 (49%)\n"
          ]
        },
        {
          "output_type": "stream",
          "name": "stderr",
          "text": [
            " 45%|████▌     | 13.550335570469251/30 [07:02<09:44, 35.53s/it]"
          ]
        },
        {
          "output_type": "stream",
          "name": "stdout",
          "text": [
            "Train Epoch: 14 [20480/30441 (67%)]\tLoss: 0.358172\tAccuracy: 19596/30441 (64%)\n"
          ]
        },
        {
          "output_type": "stream",
          "name": "stderr",
          "text": [
            " 46%|████▌     | 13.684563758388698/30 [07:07<08:45, 32.23s/it]"
          ]
        },
        {
          "output_type": "stream",
          "name": "stdout",
          "text": [
            "Train Epoch: 14 [25600/30441 (84%)]\tLoss: 0.258583\tAccuracy: 24444/30441 (80%)\n"
          ]
        },
        {
          "output_type": "stream",
          "name": "stderr",
          "text": [
            " 47%|████▋     | 13.9999999999994/30 [07:15<05:17, 19.83s/it]  "
          ]
        },
        {
          "output_type": "stream",
          "name": "stdout",
          "text": [
            "\n",
            "Test Epoch: 14 \tLoss: 6.980026\tAccuracy: 789/7611 (10%)\n",
            "\n"
          ]
        },
        {
          "output_type": "stream",
          "name": "stderr",
          "text": [
            " 47%|████▋     | 14.013422818791344/30 [07:15<06:30, 24.44s/it]"
          ]
        },
        {
          "output_type": "stream",
          "name": "stdout",
          "text": [
            "Train Epoch: 15 [0/30441 (0%)]\tLoss: 0.425630\tAccuracy: 235/30441 (1%)\n"
          ]
        },
        {
          "output_type": "stream",
          "name": "stderr",
          "text": [
            " 47%|████▋     | 14.147651006710792/30 [07:20<08:43, 33.02s/it]"
          ]
        },
        {
          "output_type": "stream",
          "name": "stdout",
          "text": [
            "Train Epoch: 15 [5120/30441 (17%)]\tLoss: 0.308036\tAccuracy: 5105/30441 (17%)\n"
          ]
        },
        {
          "output_type": "stream",
          "name": "stderr",
          "text": [
            " 48%|████▊     | 14.281879194630239/30 [07:24<08:23, 32.03s/it]"
          ]
        },
        {
          "output_type": "stream",
          "name": "stdout",
          "text": [
            "Train Epoch: 15 [10240/30441 (34%)]\tLoss: 0.241394\tAccuracy: 10000/30441 (33%)\n"
          ]
        },
        {
          "output_type": "stream",
          "name": "stderr",
          "text": [
            " 48%|████▊     | 14.416107382549686/30 [07:29<08:16, 31.89s/it]"
          ]
        },
        {
          "output_type": "stream",
          "name": "stdout",
          "text": [
            "Train Epoch: 15 [15360/30441 (50%)]\tLoss: 0.227648\tAccuracy: 14873/30441 (49%)\n"
          ]
        },
        {
          "output_type": "stream",
          "name": "stderr",
          "text": [
            " 49%|████▊     | 14.550335570469134/30 [07:33<08:25, 32.74s/it]"
          ]
        },
        {
          "output_type": "stream",
          "name": "stdout",
          "text": [
            "Train Epoch: 15 [20480/30441 (67%)]\tLoss: 0.353855\tAccuracy: 19723/30441 (65%)\n"
          ]
        },
        {
          "output_type": "stream",
          "name": "stderr",
          "text": [
            " 49%|████▉     | 14.684563758388581/30 [07:38<08:34, 33.61s/it]"
          ]
        },
        {
          "output_type": "stream",
          "name": "stdout",
          "text": [
            "Train Epoch: 15 [25600/30441 (84%)]\tLoss: 0.283672\tAccuracy: 24612/30441 (81%)\n"
          ]
        },
        {
          "output_type": "stream",
          "name": "stderr",
          "text": [
            " 50%|████▉     | 14.99328859060331/30 [07:45<04:32, 18.16s/it] "
          ]
        },
        {
          "output_type": "stream",
          "name": "stdout",
          "text": [
            "\n",
            "Test Epoch: 15 \tLoss: 2.387779\tAccuracy: 2032/7611 (27%)\n",
            "\n"
          ]
        },
        {
          "output_type": "stream",
          "name": "stderr",
          "text": [
            " 50%|█████     | 15.013422818791227/30 [07:46<05:16, 21.13s/it]"
          ]
        },
        {
          "output_type": "stream",
          "name": "stdout",
          "text": [
            "Train Epoch: 16 [0/30441 (0%)]\tLoss: 0.349463\tAccuracy: 242/30441 (1%)\n"
          ]
        },
        {
          "output_type": "stream",
          "name": "stderr",
          "text": [
            " 50%|█████     | 15.147651006710674/30 [07:51<08:37, 34.87s/it]"
          ]
        },
        {
          "output_type": "stream",
          "name": "stdout",
          "text": [
            "Train Epoch: 16 [5120/30441 (17%)]\tLoss: 0.289827\tAccuracy: 5119/30441 (17%)\n"
          ]
        },
        {
          "output_type": "stream",
          "name": "stderr",
          "text": [
            " 51%|█████     | 15.281879194630122/30 [07:55<07:58, 32.53s/it]"
          ]
        },
        {
          "output_type": "stream",
          "name": "stdout",
          "text": [
            "Train Epoch: 16 [10240/30441 (34%)]\tLoss: 0.205711\tAccuracy: 9985/30441 (33%)\n"
          ]
        },
        {
          "output_type": "stream",
          "name": "stderr",
          "text": [
            " 51%|█████▏    | 15.41610738254957/30 [08:00<08:09, 33.53s/it] "
          ]
        },
        {
          "output_type": "stream",
          "name": "stdout",
          "text": [
            "Train Epoch: 16 [15360/30441 (50%)]\tLoss: 0.213965\tAccuracy: 14863/30441 (49%)\n"
          ]
        },
        {
          "output_type": "stream",
          "name": "stderr",
          "text": [
            " 52%|█████▏    | 15.550335570469016/30 [08:05<08:33, 35.55s/it]"
          ]
        },
        {
          "output_type": "stream",
          "name": "stdout",
          "text": [
            "Train Epoch: 16 [20480/30441 (67%)]\tLoss: 0.334319\tAccuracy: 19727/30441 (65%)\n"
          ]
        },
        {
          "output_type": "stream",
          "name": "stderr",
          "text": [
            " 52%|█████▏    | 15.684563758388464/30 [08:09<07:45, 32.50s/it]"
          ]
        },
        {
          "output_type": "stream",
          "name": "stdout",
          "text": [
            "Train Epoch: 16 [25600/30441 (84%)]\tLoss: 0.252334\tAccuracy: 24591/30441 (81%)\n"
          ]
        },
        {
          "output_type": "stream",
          "name": "stderr",
          "text": [
            " 53%|█████▎    | 15.999999999999165/30 [08:17<04:10, 17.91s/it]"
          ]
        },
        {
          "output_type": "stream",
          "name": "stdout",
          "text": [
            "\n",
            "Test Epoch: 16 \tLoss: 5.114036\tAccuracy: 1133/7611 (15%)\n",
            "\n"
          ]
        },
        {
          "output_type": "stream",
          "name": "stderr",
          "text": [
            " 53%|█████▎    | 16.01342281879111/30 [08:17<05:04, 21.78s/it] "
          ]
        },
        {
          "output_type": "stream",
          "name": "stdout",
          "text": [
            "Train Epoch: 17 [0/30441 (0%)]\tLoss: 0.224312\tAccuracy: 247/30441 (1%)\n"
          ]
        },
        {
          "output_type": "stream",
          "name": "stderr",
          "text": [
            " 54%|█████▍    | 16.147651006710557/30 [08:22<07:45, 33.61s/it]"
          ]
        },
        {
          "output_type": "stream",
          "name": "stdout",
          "text": [
            "Train Epoch: 17 [5120/30441 (17%)]\tLoss: 0.244024\tAccuracy: 5096/30441 (17%)\n"
          ]
        },
        {
          "output_type": "stream",
          "name": "stderr",
          "text": [
            " 54%|█████▍    | 16.281879194630005/30 [08:26<07:39, 33.51s/it]"
          ]
        },
        {
          "output_type": "stream",
          "name": "stdout",
          "text": [
            "Train Epoch: 17 [10240/30441 (34%)]\tLoss: 0.289888\tAccuracy: 9973/30441 (33%)\n"
          ]
        },
        {
          "output_type": "stream",
          "name": "stderr",
          "text": [
            " 55%|█████▍    | 16.416107382549452/30 [08:31<07:23, 32.64s/it]"
          ]
        },
        {
          "output_type": "stream",
          "name": "stdout",
          "text": [
            "Train Epoch: 17 [15360/30441 (50%)]\tLoss: 0.254632\tAccuracy: 14840/30441 (49%)\n"
          ]
        },
        {
          "output_type": "stream",
          "name": "stderr",
          "text": [
            " 55%|█████▌    | 16.5503355704689/30 [08:36<07:20, 32.73s/it]  "
          ]
        },
        {
          "output_type": "stream",
          "name": "stdout",
          "text": [
            "Train Epoch: 17 [20480/30441 (67%)]\tLoss: 0.352596\tAccuracy: 19721/30441 (65%)\n"
          ]
        },
        {
          "output_type": "stream",
          "name": "stderr",
          "text": [
            " 56%|█████▌    | 16.684563758388347/30 [08:40<07:47, 35.14s/it]"
          ]
        },
        {
          "output_type": "stream",
          "name": "stdout",
          "text": [
            "Train Epoch: 17 [25600/30441 (84%)]\tLoss: 0.235526\tAccuracy: 24587/30441 (81%)\n"
          ]
        },
        {
          "output_type": "stream",
          "name": "stderr",
          "text": [
            " 57%|█████▋    | 16.999999999999048/30 [08:48<03:50, 17.71s/it]"
          ]
        },
        {
          "output_type": "stream",
          "name": "stdout",
          "text": [
            "\n",
            "Test Epoch: 17 \tLoss: 13.588631\tAccuracy: 761/7611 (10%)\n",
            "\n"
          ]
        },
        {
          "output_type": "stream",
          "name": "stderr",
          "text": [
            " 57%|█████▋    | 17.013422818790993/30 [08:48<04:52, 22.51s/it]"
          ]
        },
        {
          "output_type": "stream",
          "name": "stdout",
          "text": [
            "Train Epoch: 18 [0/30441 (0%)]\tLoss: 0.308525\tAccuracy: 245/30441 (1%)\n"
          ]
        },
        {
          "output_type": "stream",
          "name": "stderr",
          "text": [
            " 57%|█████▋    | 17.14765100671044/30 [08:53<07:43, 36.08s/it] "
          ]
        },
        {
          "output_type": "stream",
          "name": "stdout",
          "text": [
            "Train Epoch: 18 [5120/30441 (17%)]\tLoss: 0.178739\tAccuracy: 5105/30441 (17%)\n"
          ]
        },
        {
          "output_type": "stream",
          "name": "stderr",
          "text": [
            " 58%|█████▊    | 17.281879194629887/30 [08:58<07:11, 33.94s/it]"
          ]
        },
        {
          "output_type": "stream",
          "name": "stdout",
          "text": [
            "Train Epoch: 18 [10240/30441 (34%)]\tLoss: 0.229909\tAccuracy: 10023/30441 (33%)\n"
          ]
        },
        {
          "output_type": "stream",
          "name": "stderr",
          "text": [
            " 58%|█████▊    | 17.416107382549335/30 [09:02<06:49, 32.55s/it]"
          ]
        },
        {
          "output_type": "stream",
          "name": "stdout",
          "text": [
            "Train Epoch: 18 [15360/30441 (50%)]\tLoss: 0.306944\tAccuracy: 14915/30441 (49%)\n"
          ]
        },
        {
          "output_type": "stream",
          "name": "stderr",
          "text": [
            " 59%|█████▊    | 17.550335570468782/30 [09:07<06:48, 32.84s/it]"
          ]
        },
        {
          "output_type": "stream",
          "name": "stdout",
          "text": [
            "Train Epoch: 18 [20480/30441 (67%)]\tLoss: 0.310347\tAccuracy: 19790/30441 (65%)\n"
          ]
        },
        {
          "output_type": "stream",
          "name": "stderr",
          "text": [
            " 59%|█████▉    | 17.68456375838823/30 [09:12<06:50, 33.30s/it] "
          ]
        },
        {
          "output_type": "stream",
          "name": "stdout",
          "text": [
            "Train Epoch: 18 [25600/30441 (84%)]\tLoss: 0.255684\tAccuracy: 24655/30441 (81%)\n"
          ]
        },
        {
          "output_type": "stream",
          "name": "stderr",
          "text": [
            " 60%|█████▉    | 17.99999999999893/30 [09:20<03:29, 17.45s/it]"
          ]
        },
        {
          "output_type": "stream",
          "name": "stdout",
          "text": [
            "\n",
            "Test Epoch: 18 \tLoss: 5.475697\tAccuracy: 820/7611 (11%)\n",
            "\n"
          ]
        },
        {
          "output_type": "stream",
          "name": "stderr",
          "text": [
            " 60%|██████    | 18.013422818790875/30 [09:20<04:21, 21.80s/it]"
          ]
        },
        {
          "output_type": "stream",
          "name": "stdout",
          "text": [
            "Train Epoch: 19 [0/30441 (0%)]\tLoss: 0.238342\tAccuracy: 244/30441 (1%)\n"
          ]
        },
        {
          "output_type": "stream",
          "name": "stderr",
          "text": [
            " 60%|██████    | 18.147651006710323/30 [09:25<06:26, 32.63s/it]"
          ]
        },
        {
          "output_type": "stream",
          "name": "stdout",
          "text": [
            "Train Epoch: 19 [5120/30441 (17%)]\tLoss: 0.327336\tAccuracy: 5120/30441 (17%)\n"
          ]
        },
        {
          "output_type": "stream",
          "name": "stderr",
          "text": [
            " 61%|██████    | 18.28187919462977/30 [09:29<07:01, 35.99s/it] "
          ]
        },
        {
          "output_type": "stream",
          "name": "stdout",
          "text": [
            "Train Epoch: 19 [10240/30441 (34%)]\tLoss: 0.259172\tAccuracy: 9994/30441 (33%)\n"
          ]
        },
        {
          "output_type": "stream",
          "name": "stderr",
          "text": [
            " 61%|██████▏   | 18.416107382549217/30 [09:34<06:12, 32.16s/it]"
          ]
        },
        {
          "output_type": "stream",
          "name": "stdout",
          "text": [
            "Train Epoch: 19 [15360/30441 (50%)]\tLoss: 0.255781\tAccuracy: 14888/30441 (49%)\n"
          ]
        },
        {
          "output_type": "stream",
          "name": "stderr",
          "text": [
            " 62%|██████▏   | 18.550335570468665/30 [09:38<06:10, 32.37s/it]"
          ]
        },
        {
          "output_type": "stream",
          "name": "stdout",
          "text": [
            "Train Epoch: 19 [20480/30441 (67%)]\tLoss: 0.206175\tAccuracy: 19783/30441 (65%)\n"
          ]
        },
        {
          "output_type": "stream",
          "name": "stderr",
          "text": [
            " 62%|██████▏   | 18.684563758388112/30 [09:43<06:19, 33.53s/it]"
          ]
        },
        {
          "output_type": "stream",
          "name": "stdout",
          "text": [
            "Train Epoch: 19 [25600/30441 (84%)]\tLoss: 0.230229\tAccuracy: 24664/30441 (81%)\n"
          ]
        },
        {
          "output_type": "stream",
          "name": "stderr",
          "text": [
            " 63%|██████▎   | 18.999999999998813/30 [09:51<03:07, 17.02s/it]"
          ]
        },
        {
          "output_type": "stream",
          "name": "stdout",
          "text": [
            "\n",
            "Test Epoch: 19 \tLoss: 2.065192\tAccuracy: 3147/7611 (41%)\n",
            "\n"
          ]
        },
        {
          "output_type": "stream",
          "name": "stderr",
          "text": [
            " 63%|██████▎   | 19.013422818790758/30 [09:51<04:02, 22.04s/it]"
          ]
        },
        {
          "output_type": "stream",
          "name": "stdout",
          "text": [
            "Train Epoch: 20 [0/30441 (0%)]\tLoss: 0.160909\tAccuracy: 248/30441 (1%)\n"
          ]
        },
        {
          "output_type": "stream",
          "name": "stderr",
          "text": [
            " 64%|██████▍   | 19.147651006710205/30 [09:56<06:04, 33.63s/it]"
          ]
        },
        {
          "output_type": "stream",
          "name": "stdout",
          "text": [
            "Train Epoch: 20 [5120/30441 (17%)]\tLoss: 0.367624\tAccuracy: 5129/30441 (17%)\n"
          ]
        },
        {
          "output_type": "stream",
          "name": "stderr",
          "text": [
            " 64%|██████▍   | 19.281879194629653/30 [10:00<05:47, 32.38s/it]"
          ]
        },
        {
          "output_type": "stream",
          "name": "stdout",
          "text": [
            "Train Epoch: 20 [10240/30441 (34%)]\tLoss: 0.205372\tAccuracy: 10002/30441 (33%)\n"
          ]
        },
        {
          "output_type": "stream",
          "name": "stderr",
          "text": [
            " 65%|██████▍   | 19.4161073825491/30 [10:05<06:13, 35.30s/it]  "
          ]
        },
        {
          "output_type": "stream",
          "name": "stdout",
          "text": [
            "Train Epoch: 20 [15360/30441 (50%)]\tLoss: 0.212465\tAccuracy: 14880/30441 (49%)\n"
          ]
        },
        {
          "output_type": "stream",
          "name": "stderr",
          "text": [
            " 65%|██████▌   | 19.550335570468548/30 [10:10<05:44, 32.96s/it]"
          ]
        },
        {
          "output_type": "stream",
          "name": "stdout",
          "text": [
            "Train Epoch: 20 [20480/30441 (67%)]\tLoss: 0.236692\tAccuracy: 19790/30441 (65%)\n"
          ]
        },
        {
          "output_type": "stream",
          "name": "stderr",
          "text": [
            " 66%|██████▌   | 19.684563758387995/30 [10:14<05:37, 32.74s/it]"
          ]
        },
        {
          "output_type": "stream",
          "name": "stdout",
          "text": [
            "Train Epoch: 20 [25600/30441 (84%)]\tLoss: 0.256486\tAccuracy: 24687/30441 (81%)\n"
          ]
        },
        {
          "output_type": "stream",
          "name": "stderr",
          "text": [
            " 67%|██████▋   | 19.999999999998696/30 [10:22<02:52, 17.23s/it]"
          ]
        },
        {
          "output_type": "stream",
          "name": "stdout",
          "text": [
            "\n",
            "Test Epoch: 20 \tLoss: 2.838824\tAccuracy: 1910/7611 (25%)\n",
            "\n"
          ]
        },
        {
          "output_type": "stream",
          "name": "stderr",
          "text": [
            " 67%|██████▋   | 20.01342281879064/30 [10:22<03:36, 21.66s/it]"
          ]
        },
        {
          "output_type": "stream",
          "name": "stdout",
          "text": [
            "Train Epoch: 21 [0/30441 (0%)]\tLoss: 0.194910\tAccuracy: 250/30441 (1%)\n"
          ]
        },
        {
          "output_type": "stream",
          "name": "stderr",
          "text": [
            " 67%|██████▋   | 20.14765100671009/30 [10:27<05:31, 33.65s/it] "
          ]
        },
        {
          "output_type": "stream",
          "name": "stdout",
          "text": [
            "Train Epoch: 21 [5120/30441 (17%)]\tLoss: 0.278612\tAccuracy: 5159/30441 (17%)\n"
          ]
        },
        {
          "output_type": "stream",
          "name": "stderr",
          "text": [
            " 68%|██████▊   | 20.281879194629536/30 [10:31<05:26, 33.57s/it]"
          ]
        },
        {
          "output_type": "stream",
          "name": "stdout",
          "text": [
            "Train Epoch: 21 [10240/30441 (34%)]\tLoss: 0.183100\tAccuracy: 10096/30441 (33%)\n"
          ]
        },
        {
          "output_type": "stream",
          "name": "stderr",
          "text": [
            " 68%|██████▊   | 20.416107382548983/30 [10:36<05:15, 32.93s/it]"
          ]
        },
        {
          "output_type": "stream",
          "name": "stdout",
          "text": [
            "Train Epoch: 21 [15360/30441 (50%)]\tLoss: 0.209689\tAccuracy: 15044/30441 (49%)\n"
          ]
        },
        {
          "output_type": "stream",
          "name": "stderr",
          "text": [
            " 69%|██████▊   | 20.55033557046843/30 [10:41<05:06, 32.43s/it] "
          ]
        },
        {
          "output_type": "stream",
          "name": "stdout",
          "text": [
            "Train Epoch: 21 [20480/30441 (67%)]\tLoss: 0.149895\tAccuracy: 19974/30441 (66%)\n"
          ]
        },
        {
          "output_type": "stream",
          "name": "stderr",
          "text": [
            " 69%|██████▉   | 20.684563758387878/30 [10:45<05:14, 33.74s/it]"
          ]
        },
        {
          "output_type": "stream",
          "name": "stdout",
          "text": [
            "Train Epoch: 21 [25600/30441 (84%)]\tLoss: 0.165417\tAccuracy: 24903/30441 (82%)\n"
          ]
        },
        {
          "output_type": "stream",
          "name": "stderr",
          "text": [
            " 70%|███████   | 21.00671140939455/30 [10:53<03:13, 21.53s/it]"
          ]
        },
        {
          "output_type": "stream",
          "name": "stdout",
          "text": [
            "\n",
            "Test Epoch: 21 \tLoss: 1.738915\tAccuracy: 3595/7611 (47%)\n",
            "\n",
            "Train Epoch: 22 [0/30441 (0%)]\tLoss: 0.185066\tAccuracy: 247/30441 (1%)\n"
          ]
        },
        {
          "output_type": "stream",
          "name": "stderr",
          "text": [
            " 70%|███████   | 21.14765100670997/30 [10:58<04:57, 33.63s/it]"
          ]
        },
        {
          "output_type": "stream",
          "name": "stdout",
          "text": [
            "Train Epoch: 22 [5120/30441 (17%)]\tLoss: 0.226365\tAccuracy: 5180/30441 (17%)\n"
          ]
        },
        {
          "output_type": "stream",
          "name": "stderr",
          "text": [
            " 71%|███████   | 21.28187919462942/30 [11:03<04:47, 33.00s/it] "
          ]
        },
        {
          "output_type": "stream",
          "name": "stdout",
          "text": [
            "Train Epoch: 22 [10240/30441 (34%)]\tLoss: 0.239267\tAccuracy: 10127/30441 (33%)\n"
          ]
        },
        {
          "output_type": "stream",
          "name": "stderr",
          "text": [
            " 71%|███████▏  | 21.416107382548866/30 [11:07<05:10, 36.22s/it]"
          ]
        },
        {
          "output_type": "stream",
          "name": "stdout",
          "text": [
            "Train Epoch: 22 [15360/30441 (50%)]\tLoss: 0.268178\tAccuracy: 15051/30441 (49%)\n"
          ]
        },
        {
          "output_type": "stream",
          "name": "stderr",
          "text": [
            " 72%|███████▏  | 21.550335570468313/30 [11:12<04:29, 31.87s/it]"
          ]
        },
        {
          "output_type": "stream",
          "name": "stdout",
          "text": [
            "Train Epoch: 22 [20480/30441 (67%)]\tLoss: 0.168054\tAccuracy: 20017/30441 (66%)\n"
          ]
        },
        {
          "output_type": "stream",
          "name": "stderr",
          "text": [
            " 72%|███████▏  | 21.68456375838776/30 [11:16<04:41, 33.82s/it] "
          ]
        },
        {
          "output_type": "stream",
          "name": "stdout",
          "text": [
            "Train Epoch: 22 [25600/30441 (84%)]\tLoss: 0.158994\tAccuracy: 24955/30441 (82%)\n"
          ]
        },
        {
          "output_type": "stream",
          "name": "stderr",
          "text": [
            " 73%|███████▎  | 21.99999999999846/30 [11:24<02:19, 17.41s/it]"
          ]
        },
        {
          "output_type": "stream",
          "name": "stdout",
          "text": [
            "\n",
            "Test Epoch: 22 \tLoss: 0.943391\tAccuracy: 5138/7611 (68%)\n",
            "\n"
          ]
        },
        {
          "output_type": "stream",
          "name": "stderr",
          "text": [
            " 73%|███████▎  | 22.013422818790406/30 [11:24<02:59, 22.52s/it]"
          ]
        },
        {
          "output_type": "stream",
          "name": "stdout",
          "text": [
            "Train Epoch: 23 [0/30441 (0%)]\tLoss: 0.234260\tAccuracy: 246/30441 (1%)\n"
          ]
        },
        {
          "output_type": "stream",
          "name": "stderr",
          "text": [
            " 74%|███████▍  | 22.147651006709854/30 [11:29<04:16, 32.60s/it]"
          ]
        },
        {
          "output_type": "stream",
          "name": "stdout",
          "text": [
            "Train Epoch: 23 [5120/30441 (17%)]\tLoss: 0.156717\tAccuracy: 5206/30441 (17%)\n"
          ]
        },
        {
          "output_type": "stream",
          "name": "stderr",
          "text": [
            " 74%|███████▍  | 22.2818791946293/30 [11:34<04:09, 32.29s/it] "
          ]
        },
        {
          "output_type": "stream",
          "name": "stdout",
          "text": [
            "Train Epoch: 23 [10240/30441 (34%)]\tLoss: 0.226045\tAccuracy: 10151/30441 (33%)\n"
          ]
        },
        {
          "output_type": "stream",
          "name": "stderr",
          "text": [
            " 75%|███████▍  | 22.41610738254875/30 [11:38<04:08, 32.81s/it] "
          ]
        },
        {
          "output_type": "stream",
          "name": "stdout",
          "text": [
            "Train Epoch: 23 [15360/30441 (50%)]\tLoss: 0.237892\tAccuracy: 15111/30441 (50%)\n"
          ]
        },
        {
          "output_type": "stream",
          "name": "stderr",
          "text": [
            " 75%|███████▌  | 22.550335570468196/30 [11:43<04:20, 35.01s/it]"
          ]
        },
        {
          "output_type": "stream",
          "name": "stdout",
          "text": [
            "Train Epoch: 23 [20480/30441 (67%)]\tLoss: 0.387635\tAccuracy: 20035/30441 (66%)\n"
          ]
        },
        {
          "output_type": "stream",
          "name": "stderr",
          "text": [
            " 76%|███████▌  | 22.684563758387643/30 [11:48<03:55, 32.23s/it]"
          ]
        },
        {
          "output_type": "stream",
          "name": "stdout",
          "text": [
            "Train Epoch: 23 [25600/30441 (84%)]\tLoss: 0.160454\tAccuracy: 24976/30441 (82%)\n"
          ]
        },
        {
          "output_type": "stream",
          "name": "stderr",
          "text": [
            " 77%|███████▋  | 22.999999999998344/30 [11:55<02:17, 19.71s/it]"
          ]
        },
        {
          "output_type": "stream",
          "name": "stdout",
          "text": [
            "\n",
            "Test Epoch: 23 \tLoss: 0.812441\tAccuracy: 5402/7611 (71%)\n",
            "\n"
          ]
        },
        {
          "output_type": "stream",
          "name": "stderr",
          "text": [
            " 77%|███████▋  | 23.01342281879029/30 [11:56<02:53, 24.79s/it] "
          ]
        },
        {
          "output_type": "stream",
          "name": "stdout",
          "text": [
            "Train Epoch: 24 [0/30441 (0%)]\tLoss: 0.167793\tAccuracy: 249/30441 (1%)\n"
          ]
        },
        {
          "output_type": "stream",
          "name": "stderr",
          "text": [
            " 77%|███████▋  | 23.147651006709737/30 [12:00<03:45, 32.91s/it]"
          ]
        },
        {
          "output_type": "stream",
          "name": "stdout",
          "text": [
            "Train Epoch: 24 [5120/30441 (17%)]\tLoss: 0.168680\tAccuracy: 5210/30441 (17%)\n"
          ]
        },
        {
          "output_type": "stream",
          "name": "stderr",
          "text": [
            " 78%|███████▊  | 23.281879194629184/30 [12:05<03:42, 33.18s/it]"
          ]
        },
        {
          "output_type": "stream",
          "name": "stdout",
          "text": [
            "Train Epoch: 24 [10240/30441 (34%)]\tLoss: 0.171229\tAccuracy: 10128/30441 (33%)\n"
          ]
        },
        {
          "output_type": "stream",
          "name": "stderr",
          "text": [
            " 78%|███████▊  | 23.41610738254863/30 [12:10<03:49, 34.93s/it]"
          ]
        },
        {
          "output_type": "stream",
          "name": "stdout",
          "text": [
            "Train Epoch: 24 [15360/30441 (50%)]\tLoss: 0.281472\tAccuracy: 15081/30441 (50%)\n"
          ]
        },
        {
          "output_type": "stream",
          "name": "stderr",
          "text": [
            " 79%|███████▊  | 23.55033557046808/30 [12:14<03:26, 31.96s/it] "
          ]
        },
        {
          "output_type": "stream",
          "name": "stdout",
          "text": [
            "Train Epoch: 24 [20480/30441 (67%)]\tLoss: 0.267255\tAccuracy: 20015/30441 (66%)\n"
          ]
        },
        {
          "output_type": "stream",
          "name": "stderr",
          "text": [
            " 79%|███████▉  | 23.684563758387526/30 [12:19<03:27, 32.88s/it]"
          ]
        },
        {
          "output_type": "stream",
          "name": "stdout",
          "text": [
            "Train Epoch: 24 [25600/30441 (84%)]\tLoss: 0.135360\tAccuracy: 24971/30441 (82%)\n"
          ]
        },
        {
          "output_type": "stream",
          "name": "stderr",
          "text": [
            " 80%|███████▉  | 23.999999999998227/30 [12:26<01:43, 17.22s/it]"
          ]
        },
        {
          "output_type": "stream",
          "name": "stdout",
          "text": [
            "\n",
            "Test Epoch: 24 \tLoss: 1.293167\tAccuracy: 4284/7611 (56%)\n",
            "\n"
          ]
        },
        {
          "output_type": "stream",
          "name": "stderr",
          "text": [
            " 80%|████████  | 24.013422818790172/30 [12:27<02:10, 21.72s/it]"
          ]
        },
        {
          "output_type": "stream",
          "name": "stdout",
          "text": [
            "Train Epoch: 25 [0/30441 (0%)]\tLoss: 0.252726\tAccuracy: 247/30441 (1%)\n"
          ]
        },
        {
          "output_type": "stream",
          "name": "stderr",
          "text": [
            " 80%|████████  | 24.14765100670962/30 [12:31<03:17, 33.68s/it] "
          ]
        },
        {
          "output_type": "stream",
          "name": "stdout",
          "text": [
            "Train Epoch: 25 [5120/30441 (17%)]\tLoss: 0.230092\tAccuracy: 5191/30441 (17%)\n"
          ]
        },
        {
          "output_type": "stream",
          "name": "stderr",
          "text": [
            " 81%|████████  | 24.281879194629067/30 [12:36<03:05, 32.41s/it]"
          ]
        },
        {
          "output_type": "stream",
          "name": "stdout",
          "text": [
            "Train Epoch: 25 [10240/30441 (34%)]\tLoss: 0.139584\tAccuracy: 10145/30441 (33%)\n"
          ]
        },
        {
          "output_type": "stream",
          "name": "stderr",
          "text": [
            " 81%|████████▏ | 24.416107382548514/30 [12:41<03:01, 32.43s/it]"
          ]
        },
        {
          "output_type": "stream",
          "name": "stdout",
          "text": [
            "Train Epoch: 25 [15360/30441 (50%)]\tLoss: 0.244126\tAccuracy: 15090/30441 (50%)\n"
          ]
        },
        {
          "output_type": "stream",
          "name": "stderr",
          "text": [
            " 82%|████████▏ | 24.55033557046796/30 [12:45<03:18, 36.37s/it]"
          ]
        },
        {
          "output_type": "stream",
          "name": "stdout",
          "text": [
            "Train Epoch: 25 [20480/30441 (67%)]\tLoss: 0.317736\tAccuracy: 20032/30441 (66%)\n"
          ]
        },
        {
          "output_type": "stream",
          "name": "stderr",
          "text": [
            " 82%|████████▏ | 24.68456375838741/30 [12:50<02:58, 33.50s/it] "
          ]
        },
        {
          "output_type": "stream",
          "name": "stdout",
          "text": [
            "Train Epoch: 25 [25600/30441 (84%)]\tLoss: 0.244979\tAccuracy: 24970/30441 (82%)\n"
          ]
        },
        {
          "output_type": "stream",
          "name": "stderr",
          "text": [
            " 83%|████████▎ | 24.99999999999811/30 [12:58<01:38, 19.79s/it] "
          ]
        },
        {
          "output_type": "stream",
          "name": "stdout",
          "text": [
            "\n",
            "Test Epoch: 25 \tLoss: 2.150555\tAccuracy: 2871/7611 (38%)\n",
            "\n"
          ]
        },
        {
          "output_type": "stream",
          "name": "stderr",
          "text": [
            " 83%|████████▎ | 25.013422818790055/30 [12:58<01:55, 23.16s/it]"
          ]
        },
        {
          "output_type": "stream",
          "name": "stdout",
          "text": [
            "Train Epoch: 26 [0/30441 (0%)]\tLoss: 0.241369\tAccuracy: 247/30441 (1%)\n"
          ]
        },
        {
          "output_type": "stream",
          "name": "stderr",
          "text": [
            " 84%|████████▍ | 25.147651006709502/30 [13:03<02:43, 33.62s/it]"
          ]
        },
        {
          "output_type": "stream",
          "name": "stdout",
          "text": [
            "Train Epoch: 26 [5120/30441 (17%)]\tLoss: 0.214487\tAccuracy: 5200/30441 (17%)\n"
          ]
        },
        {
          "output_type": "stream",
          "name": "stderr",
          "text": [
            " 84%|████████▍ | 25.28187919462895/30 [13:07<02:37, 33.36s/it] "
          ]
        },
        {
          "output_type": "stream",
          "name": "stdout",
          "text": [
            "Train Epoch: 26 [10240/30441 (34%)]\tLoss: 0.182279\tAccuracy: 10150/30441 (33%)\n"
          ]
        },
        {
          "output_type": "stream",
          "name": "stderr",
          "text": [
            " 85%|████████▍ | 25.416107382548397/30 [13:12<02:30, 32.84s/it]"
          ]
        },
        {
          "output_type": "stream",
          "name": "stdout",
          "text": [
            "Train Epoch: 26 [15360/30441 (50%)]\tLoss: 0.198265\tAccuracy: 15086/30441 (50%)\n"
          ]
        },
        {
          "output_type": "stream",
          "name": "stderr",
          "text": [
            " 85%|████████▌ | 25.550335570467844/30 [13:16<02:28, 33.27s/it]"
          ]
        },
        {
          "output_type": "stream",
          "name": "stdout",
          "text": [
            "Train Epoch: 26 [20480/30441 (67%)]\tLoss: 0.161791\tAccuracy: 20028/30441 (66%)\n"
          ]
        },
        {
          "output_type": "stream",
          "name": "stderr",
          "text": [
            " 86%|████████▌ | 25.68456375838729/30 [13:21<02:29, 34.60s/it]"
          ]
        },
        {
          "output_type": "stream",
          "name": "stdout",
          "text": [
            "Train Epoch: 26 [25600/30441 (84%)]\tLoss: 0.255144\tAccuracy: 24984/30441 (82%)\n"
          ]
        },
        {
          "output_type": "stream",
          "name": "stderr",
          "text": [
            " 87%|████████▋ | 25.999999999997993/30 [13:29<01:10, 17.58s/it]"
          ]
        },
        {
          "output_type": "stream",
          "name": "stdout",
          "text": [
            "\n",
            "Test Epoch: 26 \tLoss: 1.012753\tAccuracy: 4897/7611 (64%)\n",
            "\n"
          ]
        },
        {
          "output_type": "stream",
          "name": "stderr",
          "text": [
            " 87%|████████▋ | 26.013422818789937/30 [13:29<01:26, 21.78s/it]"
          ]
        },
        {
          "output_type": "stream",
          "name": "stdout",
          "text": [
            "Train Epoch: 27 [0/30441 (0%)]\tLoss: 0.145438\tAccuracy: 251/30441 (1%)\n"
          ]
        },
        {
          "output_type": "stream",
          "name": "stderr",
          "text": [
            " 87%|████████▋ | 26.147651006709385/30 [13:34<02:22, 36.90s/it]"
          ]
        },
        {
          "output_type": "stream",
          "name": "stdout",
          "text": [
            "Train Epoch: 27 [5120/30441 (17%)]\tLoss: 0.295181\tAccuracy: 5177/30441 (17%)\n"
          ]
        },
        {
          "output_type": "stream",
          "name": "stderr",
          "text": [
            " 88%|████████▊ | 26.281879194628832/30 [13:38<02:04, 33.50s/it]"
          ]
        },
        {
          "output_type": "stream",
          "name": "stdout",
          "text": [
            "Train Epoch: 27 [10240/30441 (34%)]\tLoss: 0.143663\tAccuracy: 10135/30441 (33%)\n"
          ]
        },
        {
          "output_type": "stream",
          "name": "stderr",
          "text": [
            " 88%|████████▊ | 26.41610738254828/30 [13:43<01:57, 32.90s/it] "
          ]
        },
        {
          "output_type": "stream",
          "name": "stdout",
          "text": [
            "Train Epoch: 27 [15360/30441 (50%)]\tLoss: 0.137958\tAccuracy: 15086/30441 (50%)\n"
          ]
        },
        {
          "output_type": "stream",
          "name": "stderr",
          "text": [
            " 89%|████████▊ | 26.550335570467727/30 [13:48<01:56, 33.85s/it]"
          ]
        },
        {
          "output_type": "stream",
          "name": "stdout",
          "text": [
            "Train Epoch: 27 [20480/30441 (67%)]\tLoss: 0.082662\tAccuracy: 20025/30441 (66%)\n"
          ]
        },
        {
          "output_type": "stream",
          "name": "stderr",
          "text": [
            " 89%|████████▉ | 26.684563758387174/30 [13:52<01:46, 32.20s/it]"
          ]
        },
        {
          "output_type": "stream",
          "name": "stdout",
          "text": [
            "Train Epoch: 27 [25600/30441 (84%)]\tLoss: 0.144838\tAccuracy: 24987/30441 (82%)\n"
          ]
        },
        {
          "output_type": "stream",
          "name": "stderr",
          "text": [
            " 90%|████████▉ | 26.999999999997875/30 [14:00<00:50, 16.97s/it]"
          ]
        },
        {
          "output_type": "stream",
          "name": "stdout",
          "text": [
            "\n",
            "Test Epoch: 27 \tLoss: 0.584491\tAccuracy: 6068/7611 (80%)\n",
            "\n"
          ]
        },
        {
          "output_type": "stream",
          "name": "stderr",
          "text": [
            " 90%|█████████ | 27.01342281878982/30 [14:01<01:06, 22.12s/it] "
          ]
        },
        {
          "output_type": "stream",
          "name": "stdout",
          "text": [
            "Train Epoch: 28 [0/30441 (0%)]\tLoss: 0.207407\tAccuracy: 247/30441 (1%)\n"
          ]
        },
        {
          "output_type": "stream",
          "name": "stderr",
          "text": [
            " 90%|█████████ | 27.147651006709268/30 [14:05<01:35, 33.32s/it]"
          ]
        },
        {
          "output_type": "stream",
          "name": "stdout",
          "text": [
            "Train Epoch: 28 [5120/30441 (17%)]\tLoss: 0.195412\tAccuracy: 5191/30441 (17%)\n"
          ]
        },
        {
          "output_type": "stream",
          "name": "stderr",
          "text": [
            " 91%|█████████ | 27.281879194628715/30 [14:10<01:33, 34.57s/it]"
          ]
        },
        {
          "output_type": "stream",
          "name": "stdout",
          "text": [
            "Train Epoch: 28 [10240/30441 (34%)]\tLoss: 0.336200\tAccuracy: 10117/30441 (33%)\n"
          ]
        },
        {
          "output_type": "stream",
          "name": "stderr",
          "text": [
            " 91%|█████████▏| 27.416107382548162/30 [14:14<01:23, 32.38s/it]"
          ]
        },
        {
          "output_type": "stream",
          "name": "stdout",
          "text": [
            "Train Epoch: 28 [15360/30441 (50%)]\tLoss: 0.325304\tAccuracy: 15054/30441 (49%)\n"
          ]
        },
        {
          "output_type": "stream",
          "name": "stderr",
          "text": [
            " 92%|█████████▏| 27.55033557046761/30 [14:19<01:21, 33.40s/it] "
          ]
        },
        {
          "output_type": "stream",
          "name": "stdout",
          "text": [
            "Train Epoch: 28 [20480/30441 (67%)]\tLoss: 0.266969\tAccuracy: 19988/30441 (66%)\n"
          ]
        },
        {
          "output_type": "stream",
          "name": "stderr",
          "text": [
            " 92%|█████████▏| 27.684563758387057/30 [14:24<01:20, 34.92s/it]"
          ]
        },
        {
          "output_type": "stream",
          "name": "stdout",
          "text": [
            "Train Epoch: 28 [25600/30441 (84%)]\tLoss: 0.212783\tAccuracy: 24952/30441 (82%)\n"
          ]
        },
        {
          "output_type": "stream",
          "name": "stderr",
          "text": [
            " 93%|█████████▎| 27.99999999999776/30 [14:31<00:34, 17.29s/it] "
          ]
        },
        {
          "output_type": "stream",
          "name": "stdout",
          "text": [
            "\n",
            "Test Epoch: 28 \tLoss: 1.043712\tAccuracy: 4877/7611 (64%)\n",
            "\n"
          ]
        },
        {
          "output_type": "stream",
          "name": "stderr",
          "text": [
            " 93%|█████████▎| 28.013422818789703/30 [14:32<00:41, 21.13s/it]"
          ]
        },
        {
          "output_type": "stream",
          "name": "stdout",
          "text": [
            "Train Epoch: 29 [0/30441 (0%)]\tLoss: 0.325837\tAccuracy: 242/30441 (1%)\n"
          ]
        },
        {
          "output_type": "stream",
          "name": "stderr",
          "text": [
            " 94%|█████████▍| 28.14765100670915/30 [14:36<01:02, 33.87s/it] "
          ]
        },
        {
          "output_type": "stream",
          "name": "stdout",
          "text": [
            "Train Epoch: 29 [5120/30441 (17%)]\tLoss: 0.132204\tAccuracy: 5201/30441 (17%)\n"
          ]
        },
        {
          "output_type": "stream",
          "name": "stderr",
          "text": [
            " 94%|█████████▍| 28.281879194628598/30 [14:41<00:56, 33.09s/it]"
          ]
        },
        {
          "output_type": "stream",
          "name": "stdout",
          "text": [
            "Train Epoch: 29 [10240/30441 (34%)]\tLoss: 0.338287\tAccuracy: 10156/30441 (33%)\n"
          ]
        },
        {
          "output_type": "stream",
          "name": "stderr",
          "text": [
            " 95%|█████████▍| 28.416107382548045/30 [14:46<00:49, 31.45s/it]"
          ]
        },
        {
          "output_type": "stream",
          "name": "stdout",
          "text": [
            "Train Epoch: 29 [15360/30441 (50%)]\tLoss: 0.179077\tAccuracy: 15116/30441 (50%)\n"
          ]
        },
        {
          "output_type": "stream",
          "name": "stderr",
          "text": [
            " 95%|█████████▌| 28.550335570467492/30 [14:50<00:48, 33.29s/it]"
          ]
        },
        {
          "output_type": "stream",
          "name": "stdout",
          "text": [
            "Train Epoch: 29 [20480/30441 (67%)]\tLoss: 0.169788\tAccuracy: 20043/30441 (66%)\n"
          ]
        },
        {
          "output_type": "stream",
          "name": "stderr",
          "text": [
            " 96%|█████████▌| 28.68456375838694/30 [14:55<00:43, 33.09s/it] "
          ]
        },
        {
          "output_type": "stream",
          "name": "stdout",
          "text": [
            "Train Epoch: 29 [25600/30441 (84%)]\tLoss: 0.183507\tAccuracy: 24973/30441 (82%)\n"
          ]
        },
        {
          "output_type": "stream",
          "name": "stderr",
          "text": [
            " 97%|█████████▋| 28.99999999999764/30 [15:03<00:17, 17.06s/it]"
          ]
        },
        {
          "output_type": "stream",
          "name": "stdout",
          "text": [
            "\n",
            "Test Epoch: 29 \tLoss: 0.829706\tAccuracy: 5770/7611 (76%)\n",
            "\n"
          ]
        },
        {
          "output_type": "stream",
          "name": "stderr",
          "text": [
            " 97%|█████████▋| 29.013422818789586/30 [15:03<00:21, 21.35s/it]"
          ]
        },
        {
          "output_type": "stream",
          "name": "stdout",
          "text": [
            "Train Epoch: 30 [0/30441 (0%)]\tLoss: 0.198567\tAccuracy: 248/30441 (1%)\n"
          ]
        },
        {
          "output_type": "stream",
          "name": "stderr",
          "text": [
            " 97%|█████████▋| 29.147651006709033/30 [15:07<00:27, 32.47s/it]"
          ]
        },
        {
          "output_type": "stream",
          "name": "stdout",
          "text": [
            "Train Epoch: 30 [5120/30441 (17%)]\tLoss: 0.151180\tAccuracy: 5169/30441 (17%)\n"
          ]
        },
        {
          "output_type": "stream",
          "name": "stderr",
          "text": [
            " 98%|█████████▊| 29.28187919462848/30 [15:12<00:25, 35.27s/it] "
          ]
        },
        {
          "output_type": "stream",
          "name": "stdout",
          "text": [
            "Train Epoch: 30 [10240/30441 (34%)]\tLoss: 0.284014\tAccuracy: 10131/30441 (33%)\n"
          ]
        },
        {
          "output_type": "stream",
          "name": "stderr",
          "text": [
            " 98%|█████████▊| 29.416107382547928/30 [15:17<00:19, 34.13s/it]"
          ]
        },
        {
          "output_type": "stream",
          "name": "stdout",
          "text": [
            "Train Epoch: 30 [15360/30441 (50%)]\tLoss: 0.207973\tAccuracy: 15096/30441 (50%)\n"
          ]
        },
        {
          "output_type": "stream",
          "name": "stderr",
          "text": [
            " 99%|█████████▊| 29.550335570467375/30 [15:21<00:14, 32.38s/it]"
          ]
        },
        {
          "output_type": "stream",
          "name": "stdout",
          "text": [
            "Train Epoch: 30 [20480/30441 (67%)]\tLoss: 0.230326\tAccuracy: 20039/30441 (66%)\n"
          ]
        },
        {
          "output_type": "stream",
          "name": "stderr",
          "text": [
            " 99%|█████████▉| 29.684563758386822/30 [15:26<00:10, 33.54s/it]"
          ]
        },
        {
          "output_type": "stream",
          "name": "stdout",
          "text": [
            "Train Epoch: 30 [25600/30441 (84%)]\tLoss: 0.157987\tAccuracy: 24981/30441 (82%)\n"
          ]
        },
        {
          "output_type": "stream",
          "name": "stderr",
          "text": [
            "100%|█████████▉| 29.999999999997524/30 [15:34<00:00, 31.14s/it]"
          ]
        },
        {
          "output_type": "stream",
          "name": "stdout",
          "text": [
            "\n",
            "Test Epoch: 30 \tLoss: 1.291511\tAccuracy: 4455/7611 (59%)\n",
            "\n"
          ]
        },
        {
          "output_type": "stream",
          "name": "stderr",
          "text": [
            "\n"
          ]
        }
      ]
    },
    {
      "cell_type": "code",
      "source": [
        "torch.save(model_m18.state_dict(), 'm18.model')"
      ],
      "metadata": {
        "id": "t4et81-pIqN4"
      },
      "execution_count": 80,
      "outputs": []
    },
    {
      "cell_type": "markdown",
      "source": [
        "Вывод: из моделей m5, m11, m18 на 30 эпохах лучше всего показала себя модель m11"
      ],
      "metadata": {
        "id": "0tZbGZRFIK60"
      }
    },
    {
      "cell_type": "markdown",
      "source": [
        "Я попробовал потренировать m11 на lr=0.001 модель показала accuracy лучше."
      ],
      "metadata": {
        "id": "s2qovbNCRTDI"
      }
    },
    {
      "cell_type": "code",
      "source": [
        "def predict(model, tensor):\n",
        "    model.eval()\n",
        "\n",
        "    tensor = tensor.to(device)\n",
        "    tensor = transform(tensor)\n",
        "    tensor = torch.unsqueeze(tensor, dim=0)\n",
        "    tensor = model(tensor)\n",
        "    tensor = get_likely_index(tensor)\n",
        "    tensor = index_to_label(tensor.squeeze())\n",
        "\n",
        "    return tensor\n",
        "\n",
        "\n",
        "waveform, sample_rate, label = train_dataset[2]\n",
        "display.Audio(waveform.numpy(), rate=sample_rate)\n",
        "\n",
        "print(f\"Expected: {label}. Predicted: {predict(model_m11, waveform)}.\")"
      ],
      "metadata": {
        "colab": {
          "base_uri": "https://localhost:8080/"
        },
        "id": "i98tYO8ELh5R",
        "outputId": "ab8dbabf-dbd1-48fe-e3b6-32f92afbfc26"
      },
      "execution_count": 72,
      "outputs": [
        {
          "output_type": "stream",
          "name": "stdout",
          "text": [
            "Expected: 8. Predicted: 8.\n"
          ]
        }
      ]
    },
    {
      "cell_type": "markdown",
      "source": [
        "Резы для kaggle"
      ],
      "metadata": {
        "id": "afgIk-dlJjgG"
      }
    },
    {
      "cell_type": "code",
      "source": [
        "class TolokaTestDataset(Dataset):\n",
        "    def __init__(self, path_to_data: str):\n",
        "        filenames = pathlib.Path(path_to_data)\n",
        "        self.paths = list(filenames.rglob('*.mp3'))\n",
        "\n",
        "    def __getitem__(self, index: int):\n",
        "        path_to_wav = self.paths[index].as_posix()\n",
        "\n",
        "        row_id = int(path_to_wav.split('/')[2].replace(\"file\", \"\").replace(\".mp3\", \"\"))\n",
        "\n",
        "        # Load mp3\n",
        "        wav, sr = torchaudio.load(path_to_wav, format=\"mp3\")\n",
        "\n",
        "        return wav, sr, row_id\n",
        "\n",
        "    def __len__(self):\n",
        "        return len(self.paths)"
      ],
      "metadata": {
        "id": "D14UpmZNhfbp"
      },
      "execution_count": 83,
      "outputs": []
    },
    {
      "cell_type": "code",
      "source": [
        "kaggle_test_path = './test/test/'"
      ],
      "metadata": {
        "id": "fZdJ5cfeiVz1"
      },
      "execution_count": 84,
      "outputs": []
    },
    {
      "cell_type": "code",
      "source": [
        "dataset_kaggle = TolokaTestDataset(kaggle_test_path)"
      ],
      "metadata": {
        "id": "GtrMysuRiOy3"
      },
      "execution_count": 85,
      "outputs": []
    },
    {
      "cell_type": "code",
      "source": [
        "row_ids = []\n",
        "answers = []\n",
        "\n",
        "for _, (waveform, sample_rate, row_id) in enumerate(dataset_kaggle):\n",
        "  row_ids.append(row_id)\n",
        "  answers.append(predict(model_m11, waveform))"
      ],
      "metadata": {
        "id": "1l_qkOEHj9vP"
      },
      "execution_count": 86,
      "outputs": []
    },
    {
      "cell_type": "code",
      "source": [
        "import pandas as pd\n",
        "\n",
        "df = pd.DataFrame({'row ID': row_ids, 'answer': answers}).sort_values(by=['row ID'])"
      ],
      "metadata": {
        "id": "r5c7KqLlj4PT"
      },
      "execution_count": 87,
      "outputs": []
    },
    {
      "cell_type": "code",
      "source": [
        "with open('csv_data.csv', 'w') as csv_file:\n",
        "  df.to_csv(path_or_buf=csv_file, index=False, header=['row ID', 'answer'], columns=['row ID', 'answer'])"
      ],
      "metadata": {
        "id": "OoDwt1S8lMgT"
      },
      "execution_count": 89,
      "outputs": []
    }
  ]
}