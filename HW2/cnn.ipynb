{
  "cells": [
    {
      "cell_type": "markdown",
      "metadata": {
        "id": "w35Q6hOIy4sk"
      },
      "source": [
        "# Глубинное обучение 1 / Введение в глубинное обучение, ФКН ВШЭ\n",
        "\n",
        "## Домашнее задание 2: сверточный классификатор.\n",
        "\n",
        "### Общая информация\n",
        "\n",
        "Оценка после штрафа после мягкого дедлайна вычисляется по формуле $M_{\\text{penalty}} = M_{\\text{full}} \\cdot 0.85^{t/1440}$, где $M_{\\text{full}}$ — полная оценка за работу без учета штрафа, а $t$ — время в минутах, прошедшее после мягкого дедлайна (округление до двух цифр после запятой). Таким образом, спустя первые сутки после мягкого дедлайна вы не можете получить оценку выше 8.5, а если сдать через четыре дня после мягкого дедлайна, то ваш максимум — 5.22 балла.\n",
        "\n",
        "### Оценивание и штрафы\n",
        "\n",
        "Максимально допустимая оценка за работу — 10 баллов. Сдавать задание после указанного срока сдачи нельзя.\n",
        "\n",
        "Задание выполняется самостоятельно. «Похожие» решения считаются плагиатом и все задействованные студенты (в том числе те, у кого списали) не могут получить за него больше 0 баллов. Если вы нашли решение какого-то из заданий (или его часть) в открытом источнике, необходимо указать ссылку на этот источник в отдельном блоке в конце вашей работы (скорее всего вы будете не единственным, кто это нашел, поэтому чтобы исключить подозрение в плагиате, необходима ссылка на источник).\n",
        "\n",
        "Неэффективная реализация кода может негативно отразиться на оценке. Также оценка может быть снижена за плохо читаемый код и плохо оформленные графики. Все ответы должны сопровождаться кодом или комментариями о том, как они были получены.\n",
        "\n",
        "### О задании\n",
        "\n",
        "В этом задании вам предстоит познакомиться со сверточными сетями и их обучением для классификации изображений с использованием библиотеки PyTorch.\n"
      ]
    },
    {
      "cell_type": "code",
      "execution_count": 1,
      "metadata": {
        "id": "SaACifdX2QOo"
      },
      "outputs": [],
      "source": [
        "import torch\n",
        "import torch.nn as nn\n",
        "import torch.nn.functional as F\n",
        "import torch.optim as optim\n",
        "import torchvision\n",
        "import torchvision.transforms as transforms\n",
        "\n",
        "import matplotlib.pyplot as plt\n",
        "import numpy as np\n",
        "\n",
        "from sklearn.model_selection import train_test_split"
      ]
    },
    {
      "cell_type": "markdown",
      "metadata": {
        "id": "TIXaUYM-0JFl"
      },
      "source": [
        "## 0. Загрузка данных\n",
        "\n",
        "Работать мы будем с набором данных [CIFAR10](https://www.cs.toronto.edu/~kriz/cifar.html). CIFAR10 представляет собой набор изображений 32х32 пикселя, разделенных на 10 классов.\n",
        "\n",
        "![title](https://pytorch.org/tutorials/_images/cifar10.png)\n",
        "\n",
        "\n"
      ]
    },
    {
      "cell_type": "markdown",
      "metadata": {
        "id": "g-0EEjl_10vB"
      },
      "source": [
        "Набор данных уже определен в <code>torchvision.datasets</code>, так что возьмем его оттуда. \n",
        "\n"
      ]
    },
    {
      "cell_type": "code",
      "execution_count": 2,
      "metadata": {
        "id": "Cbwe92dT3aPZ"
      },
      "outputs": [],
      "source": [
        "def get_cifar10_data(batch_size, transform_train):\n",
        "    torch.manual_seed(0)\n",
        "    np.random.seed(0)\n",
        "\n",
        "    transform_test = transforms.Compose(\n",
        "        [transforms.ToTensor(),\n",
        "         # Переводим цвета пикселей в отрезок [-1, 1]\n",
        "         transforms.Normalize((0.5, 0.5, 0.5), (0.5, 0.5, 0.5))]\n",
        "    )\n",
        "    \n",
        "    # Загружаем данные\n",
        "    trainvalset = torchvision.datasets.CIFAR10(root='./data', train=True,\n",
        "                                               download=True, transform=transform_train)\n",
        "    testset = torchvision.datasets.CIFAR10(root='./data', train=False,\n",
        "                                           download=True, transform=transform_test)\n",
        "    \n",
        "    # В датасете определено разбиение только на train и test,\n",
        "    # так что валидацию дополнительно выделяем из обучающей выборки\n",
        "    train_idx, valid_idx = train_test_split(np.arange(len(trainvalset)), test_size=0.3, \n",
        "                                            shuffle=True, random_state=0)\n",
        "    trainset = torch.utils.data.Subset(trainvalset, train_idx)\n",
        "    valset = torch.utils.data.Subset(trainvalset, valid_idx)\n",
        "\n",
        "    train_loader = torch.utils.data.DataLoader(trainset, batch_size=batch_size,\n",
        "                                               shuffle=True, num_workers=2)\n",
        "    val_loader = torch.utils.data.DataLoader(valset, batch_size=batch_size,\n",
        "                                             shuffle=False, num_workers=2)\n",
        "    test_loader = torch.utils.data.DataLoader(testset, batch_size=batch_size,\n",
        "                                              shuffle=False, num_workers=2)\n",
        "    \n",
        "    return train_loader, val_loader, test_loader\n",
        "    "
      ]
    },
    {
      "cell_type": "code",
      "execution_count": 3,
      "metadata": {
        "colab": {
          "base_uri": "https://localhost:8080/"
        },
        "id": "2G2rLnN5y6Jj",
        "outputId": "19c7fe74-17ad-4e15-bdaa-1500e1142785"
      },
      "outputs": [
        {
          "output_type": "stream",
          "name": "stdout",
          "text": [
            "Downloading https://www.cs.toronto.edu/~kriz/cifar-10-python.tar.gz to ./data/cifar-10-python.tar.gz\n"
          ]
        },
        {
          "output_type": "stream",
          "name": "stderr",
          "text": [
            "100%|██████████| 170498071/170498071 [00:12<00:00, 13232545.52it/s]\n"
          ]
        },
        {
          "output_type": "stream",
          "name": "stdout",
          "text": [
            "Extracting ./data/cifar-10-python.tar.gz to ./data\n",
            "Files already downloaded and verified\n"
          ]
        }
      ],
      "source": [
        "transform = transforms.Compose(\n",
        "        [transforms.ToTensor(),\n",
        "         transforms.Normalize((0.5, 0.5, 0.5), (0.5, 0.5, 0.5))]\n",
        ")\n",
        "\n",
        "train_loader, val_loader, test_loader = get_cifar10_data(batch_size=64, \n",
        "                                                         transform_train=transform)"
      ]
    },
    {
      "cell_type": "markdown",
      "metadata": {
        "id": "-82HWgXs77W1"
      },
      "source": [
        "Посмотрим на изображения:"
      ]
    },
    {
      "cell_type": "code",
      "execution_count": 4,
      "metadata": {
        "colab": {
          "base_uri": "https://localhost:8080/",
          "height": 211
        },
        "id": "ACnwaC5iy6L2",
        "outputId": "a0ae4178-cf38-4973-eea8-03520c0b3232"
      },
      "outputs": [
        {
          "output_type": "display_data",
          "data": {
            "text/plain": [
              "<Figure size 640x480 with 1 Axes>"
            ],
            "image/png": "[encoded data removed]"
          },
          "metadata": {}
        },
        {
          "output_type": "stream",
          "name": "stdout",
          "text": [
            "ship frog horse horse\n"
          ]
        }
      ],
      "source": [
        "def imshow(img):\n",
        "    img = img / 2 + 0.5    \n",
        "    npimg = img.numpy()\n",
        "    plt.imshow(np.transpose(npimg, (1, 2, 0)))\n",
        "    plt.show()\n",
        "\n",
        "\n",
        "dataiter = iter(train_loader)\n",
        "images, labels = next(dataiter)\n",
        "\n",
        "imshow(torchvision.utils.make_grid(images[:4]))\n",
        "\n",
        "classes = ('plane', 'car', 'bird', 'cat',\n",
        "           'deer', 'dog', 'frog', 'horse', 'ship', 'truck')\n",
        "print(*[classes[labels[i]] for i in range(4)])"
      ]
    },
    {
      "cell_type": "markdown",
      "metadata": {
        "id": "KFDilng29YZ_"
      },
      "source": [
        "## 1. Задание сверточной сети (3 балла)"
      ]
    },
    {
      "cell_type": "markdown",
      "metadata": {
        "id": "OX7Ul8YbYdQR"
      },
      "source": [
        "Теперь нам нужно задать сверточную нейронную сеть, которую мы будем обучать классифицировать изображения.\n",
        "\n",
        "Используем сеть, основанную на одном блоке архитектуры ResNet.\n",
        "\n",
        "<img src=\"https://i.ibb.co/2hg962h/basic-block.png\" width=\"500\"/>\n",
        "\n",
        "__Указания:__\n",
        "\n",
        "- Все сверточные слои должны иметь 32 выходных канала, а также не должны изменять ширину и высоту изображения.\n",
        "- Выход блока сократите до размерности 32х4х4, применив average pooling.\n",
        "- Для получения итоговых логитов, распрямите выход пулинга в вектор из 512 элементов, а затем пропустите его через линейный слой."
      ]
    },
    {
      "cell_type": "markdown",
      "metadata": {
        "id": "sbyIylT9O9Dr"
      },
      "source": [
        "**Задание 1.1 (3 балла).**\n",
        "\n",
        "Определите архитектуру сети соответственно схеме и указаниям выше.\n",
        "\n",
        "Ключевые слова: <code>Conv2d</code>, <code>BatchNorm2d</code>, <code>AvgPool2d</code>."
      ]
    },
    {
      "cell_type": "code",
      "execution_count": 5,
      "metadata": {
        "id": "s9ml1QGKy6N9"
      },
      "outputs": [],
      "source": [
        "n_classes = 10\n",
        "\n",
        "class BasicBlockNet(nn.Module):\n",
        "    def __init__(self):\n",
        "        super().__init__()\n",
        "        \n",
        "        self.input_block = nn.Sequential(\n",
        "            nn.Conv2d(in_channels=3, out_channels=32, kernel_size=3, padding='same'),\n",
        "            nn.BatchNorm2d(32),\n",
        "            nn.ReLU(),\n",
        "            nn.Conv2d(in_channels=32, out_channels=32, kernel_size=3, padding='same'),\n",
        "            nn.BatchNorm2d(32)\n",
        "        )\n",
        "\n",
        "        self.conv1x1 = nn.Conv2d(in_channels=3, out_channels=32, kernel_size=1)\n",
        "\n",
        "        self.out_block = nn.Sequential(\n",
        "            nn.ReLU(),\n",
        "            nn.AvgPool2d(8),\n",
        "            nn.Flatten(1),\n",
        "            nn.Linear(512, n_classes)\n",
        "        )\n",
        "\n",
        "    def forward(self, x):\n",
        "        out = self.input_block(x) + self.conv1x1(x)\n",
        "        out = self.out_block(out)\n",
        "\n",
        "        return out"
      ]
    },
    {
      "cell_type": "code",
      "execution_count": 6,
      "metadata": {
        "id": "FI4BQg7Ky6Pw",
        "outputId": "562933e7-0668-4e87-ec29-e8f80a8ca6bd",
        "colab": {
          "base_uri": "https://localhost:8080/"
        }
      },
      "outputs": [
        {
          "output_type": "execute_result",
          "data": {
            "text/plain": [
              "BasicBlockNet(\n",
              "  (input_block): Sequential(\n",
              "    (0): Conv2d(3, 32, kernel_size=(3, 3), stride=(1, 1), padding=same)\n",
              "    (1): BatchNorm2d(32, eps=1e-05, momentum=0.1, affine=True, track_running_stats=True)\n",
              "    (2): ReLU()\n",
              "    (3): Conv2d(32, 32, kernel_size=(3, 3), stride=(1, 1), padding=same)\n",
              "    (4): BatchNorm2d(32, eps=1e-05, momentum=0.1, affine=True, track_running_stats=True)\n",
              "  )\n",
              "  (conv1x1): Conv2d(3, 32, kernel_size=(1, 1), stride=(1, 1))\n",
              "  (out_block): Sequential(\n",
              "    (0): ReLU()\n",
              "    (1): AvgPool2d(kernel_size=8, stride=8, padding=0)\n",
              "    (2): Flatten(start_dim=1, end_dim=-1)\n",
              "    (3): Linear(in_features=512, out_features=10, bias=True)\n",
              "  )\n",
              ")"
            ]
          },
          "metadata": {},
          "execution_count": 6
        }
      ],
      "source": [
        "net = BasicBlockNet()\n",
        "net"
      ]
    },
    {
      "cell_type": "markdown",
      "metadata": {
        "id": "igPoGZEub8d3"
      },
      "source": [
        "Проверим, что выход сети имеет корректную размерность:"
      ]
    },
    {
      "cell_type": "code",
      "execution_count": 7,
      "metadata": {
        "id": "cCIzFUpJ_Agw"
      },
      "outputs": [],
      "source": [
        "assert net(torch.zeros((10, 3, 32, 32))).shape == (10, 10)"
      ]
    },
    {
      "cell_type": "markdown",
      "metadata": {
        "id": "08osX622cDGz"
      },
      "source": [
        "Чтобы проводить вычисления на GPU, в PyTorch необходимо руками перекладывать объекты, с которыми вы хотите проводить вычисления, на графический ускоритель. Это делается следующим образрм:"
      ]
    },
    {
      "cell_type": "code",
      "execution_count": 8,
      "metadata": {
        "id": "56hDOMCFcDZX",
        "outputId": "1edfe077-55d2-4355-8d4c-a480f415b54a",
        "colab": {
          "base_uri": "https://localhost:8080/"
        }
      },
      "outputs": [
        {
          "output_type": "stream",
          "name": "stdout",
          "text": [
            "cuda:0\n"
          ]
        }
      ],
      "source": [
        "device = torch.device('cuda:0' if torch.cuda.is_available() else 'cpu')\n",
        "print(device)"
      ]
    },
    {
      "cell_type": "code",
      "execution_count": 9,
      "metadata": {
        "id": "ohnDWbp0qbtC"
      },
      "outputs": [],
      "source": [
        "net = net.to(device)"
      ]
    },
    {
      "cell_type": "markdown",
      "metadata": {
        "id": "H_bOlTVUp5QF"
      },
      "source": [
        "Подключение GPU в google.colab:\n",
        "\n",
        "**Среда выполнения** -> **Сменить среду выполнения** -> **Аппаратный ускоритель** -> **GPU**"
      ]
    },
    {
      "cell_type": "markdown",
      "metadata": {
        "id": "AGi6XX_7_Bgg"
      },
      "source": [
        "## 2. Обучение и тестирование модели (3 балла)"
      ]
    },
    {
      "cell_type": "markdown",
      "metadata": {
        "id": "0agj_MQoO9Ds"
      },
      "source": [
        "**Задание 2.1 (2 балла).** Переходим к обучению модели. Заполните пропуски в функциях <code>test</code> и <code>train_epoch</code>. В качестве функции потерь будем использовать [кросс-энтропию](https://pytorch.org/docs/stable/generated/torch.nn.functional.cross_entropy.html), а в качестве метрики качества accuracy."
      ]
    },
    {
      "cell_type": "code",
      "execution_count": 14,
      "metadata": {
        "id": "g8gsPPRIevDS"
      },
      "outputs": [],
      "source": [
        "def test(model, criterion, test_loader):\n",
        "    loss_log = []\n",
        "    acc_log = []\n",
        "    model.eval()\n",
        "    \n",
        "    for data, target in test_loader:\n",
        "        data = data.to(device)\n",
        "        target = target.to(device)\n",
        "\n",
        "        with torch.no_grad():\n",
        "            logits = model(data)\n",
        "            loss = criterion(logits, target)\n",
        "\n",
        "        loss_log.append(loss.item() * data.shape[0])\n",
        "        \n",
        "        acc = (logits.argmax(dim=1) == target).sum()\n",
        "        acc_log.append(acc.item() / data.shape[0])  \n",
        "        \n",
        "    return np.mean(loss_log), np.mean(acc_log)\n",
        "\n",
        "def train_epoch(model, optimizer, criterion, train_loader):\n",
        "    loss_log = []\n",
        "    acc_log = []\n",
        "    model.train()\n",
        "    \n",
        "    for data, target in train_loader:\n",
        "        data = data.to(device)\n",
        "        target = target.to(device)\n",
        "        \n",
        "        optimizer.zero_grad()\n",
        "        logits = model(data)\n",
        "        loss = criterion(logits, target)\n",
        "        loss.backward()\n",
        "        optimizer.step()\n",
        "        \n",
        "        loss_log.append(loss.item() * data.shape[0])\n",
        "        \n",
        "        acc = (logits.argmax(dim=1) == target).sum()\n",
        "        acc_log.append(acc.item() / data.shape[0])  \n",
        "\n",
        "    return loss_log, acc_log\n",
        "\n",
        "def train(model, optimizer, criterion, n_epochs, train_loader, val_loader, scheduler=None):\n",
        "    train_loss_log, train_acc_log, val_loss_log, val_acc_log = [], [], [], []\n",
        "\n",
        "    for epoch in range(n_epochs):\n",
        "        train_loss, train_acc = train_epoch(model, optimizer, criterion, train_loader)\n",
        "        val_loss, val_acc = test(model, criterion, val_loader)\n",
        "        \n",
        "        train_loss_log.extend(train_loss)\n",
        "        train_acc_log.extend(train_acc)\n",
        "        \n",
        "        val_loss_log.append(val_loss)\n",
        "        val_acc_log.append(val_acc)\n",
        "\n",
        "        print(f\"Epoch {epoch}\")\n",
        "        print(f\" train loss: {np.mean(train_loss)}, train acc: {np.mean(train_acc)}\")\n",
        "        print(f\" val loss: {val_loss}, val acc: {val_acc}\\n\")\n",
        "        \n",
        "        if scheduler is not None:\n",
        "            scheduler.step()\n",
        "\n",
        "    return train_loss_log, train_acc_log, val_loss_log, val_acc_log"
      ]
    },
    {
      "cell_type": "markdown",
      "metadata": {
        "id": "iSOqk_CAO9Dt"
      },
      "source": [
        "Запустим обучение модели. В качестве оптимизатора будем использовать стохастический градиентный спуск, который является де-факто стандартом в задачах компьютерного зрения (наравне с <code>Adam</code>).\n",
        "\n",
        "__Замечание:__ Для достижения наилучшего качества в нашем случае потребуется обучать модель несколько сотен эпох. Однако в целях экономии вашего времени и сил, во всех экспериментах мы ограничимся 20 эпохами."
      ]
    },
    {
      "cell_type": "code",
      "execution_count": 15,
      "metadata": {
        "id": "MKZBGhuAgMDu",
        "scrolled": true,
        "outputId": "f5ee94b8-032e-4c47-8a1c-31105fe638d4",
        "colab": {
          "base_uri": "https://localhost:8080/"
        }
      },
      "outputs": [
        {
          "output_type": "stream",
          "name": "stdout",
          "text": [
            "Epoch 0\n",
            " train loss: 92.82704878637952, train acc: 0.4834935688169234\n",
            " val loss: 75.5393921101347, val acc: 0.5826462765957446\n",
            "\n",
            "Epoch 1\n",
            " train loss: 72.53310208433943, train acc: 0.6031600940193262\n",
            " val loss: 71.39202705951448, val acc: 0.6189716312056737\n",
            "\n",
            "Epoch 2\n",
            " train loss: 65.90655193206815, train acc: 0.6417023047793158\n",
            " val loss: 67.12285046475999, val acc: 0.638142730496454\n",
            "\n",
            "Epoch 3\n",
            " train loss: 62.444924511464905, train acc: 0.6615589905980674\n",
            " val loss: 63.99171820092708, val acc: 0.6536347517730497\n",
            "\n",
            "Epoch 4\n",
            " train loss: 60.50354692748521, train acc: 0.6712873792112823\n",
            " val loss: 63.89027692713636, val acc: 0.6537898936170212\n",
            "\n",
            "Epoch 5\n",
            " train loss: 59.013831169993175, train acc: 0.6793753264559937\n",
            " val loss: 60.893363828861965, val acc: 0.6732491134751774\n",
            "\n",
            "Epoch 6\n",
            " train loss: 57.271184576930686, train acc: 0.6891975711674067\n",
            " val loss: 66.37835934415777, val acc: 0.6511303191489362\n",
            "\n",
            "Epoch 7\n",
            " train loss: 56.22707645897456, train acc: 0.6936536954818491\n",
            " val loss: 61.78600924065773, val acc: 0.6735593971631205\n",
            "\n",
            "Epoch 8\n",
            " train loss: 54.86179278668364, train acc: 0.703871768085662\n",
            " val loss: 60.66667869243216, val acc: 0.6673537234042554\n",
            "\n",
            "Epoch 9\n",
            " train loss: 54.3214224112753, train acc: 0.7051041394620005\n",
            " val loss: 58.522077895225365, val acc: 0.6903590425531915\n",
            "\n",
            "Epoch 10\n",
            " train loss: 53.45351534656894, train acc: 0.7095969900757377\n",
            " val loss: 57.46829393468005, val acc: 0.6900265957446808\n",
            "\n",
            "Epoch 11\n",
            " train loss: 52.77886989478437, train acc: 0.7145019913815618\n",
            " val loss: 56.87291209444086, val acc: 0.6970744680851064\n",
            "\n",
            "Epoch 12\n",
            " train loss: 51.988512217889536, train acc: 0.7182276704100288\n",
            " val loss: 58.5162990712105, val acc: 0.6911125886524822\n",
            "\n",
            "Epoch 13\n",
            " train loss: 51.39926492230766, train acc: 0.7210719182554192\n",
            " val loss: 56.991181083435706, val acc: 0.6949024822695035\n",
            "\n",
            "Epoch 14\n",
            " train loss: 50.64473647565685, train acc: 0.7260952598589709\n",
            " val loss: 55.88251788362544, val acc: 0.7074024822695034\n",
            "\n",
            "Epoch 15\n",
            " train loss: 50.190297304603256, train acc: 0.7287558762078872\n",
            " val loss: 56.53193295864349, val acc: 0.6985593971631204\n",
            "\n",
            "Epoch 16\n",
            " train loss: 50.05649859290672, train acc: 0.7289109428049099\n",
            " val loss: 55.30672860247024, val acc: 0.7082890070921987\n",
            "\n",
            "Epoch 17\n",
            " train loss: 48.97900366390863, train acc: 0.7331915970227213\n",
            " val loss: 60.38397903442383, val acc: 0.6800088652482269\n",
            "\n",
            "Epoch 18\n",
            " train loss: 48.73350732635972, train acc: 0.7335425372159834\n",
            " val loss: 60.27873117162826, val acc: 0.6889627659574468\n",
            "\n",
            "Epoch 19\n",
            " train loss: 48.29700356384082, train acc: 0.7370723426482111\n",
            " val loss: 56.02521815198533, val acc: 0.6991578014184396\n",
            "\n"
          ]
        }
      ],
      "source": [
        "n_epochs = 20\n",
        "\n",
        "optimizer = optim.SGD(net.parameters(), lr=0.1, momentum=0.9)\n",
        "criterion = nn.CrossEntropyLoss()\n",
        "train_loss_log, train_acc_log, val_loss_log, val_acc_log = train(net,\n",
        "                                                                 optimizer, \n",
        "                                                                 criterion, \n",
        "                                                                 n_epochs, \n",
        "                                                                 train_loader, \n",
        "                                                                 val_loader)"
      ]
    },
    {
      "cell_type": "markdown",
      "metadata": {
        "id": "gUb1jQW8O9Dt"
      },
      "source": [
        "Посчитайте точность на тестовой выборке:"
      ]
    },
    {
      "cell_type": "code",
      "execution_count": 21,
      "metadata": {
        "id": "Jyuc55B9_Amc",
        "outputId": "340d6c81-0947-4941-abde-a66fbdad0485",
        "colab": {
          "base_uri": "https://localhost:8080/"
        }
      },
      "outputs": [
        {
          "output_type": "execute_result",
          "data": {
            "text/plain": [
              "(57.0634166085796, 0.6904856687898089)"
            ]
          },
          "metadata": {},
          "execution_count": 21
        }
      ],
      "source": [
        "test(net, criterion, test_loader)"
      ]
    },
    {
      "cell_type": "markdown",
      "metadata": {
        "id": "zM38Q9fwO9Dt"
      },
      "source": [
        "Если вы все сделали правильно, у вас должна была получиться точность $\\ge 67\\%$."
      ]
    },
    {
      "cell_type": "markdown",
      "metadata": {
        "id": "DHFNSKcoO9Dt"
      },
      "source": [
        "**Задание 2.2 (1 балл).** Постройте графики зависимости функции потерь и точности классификации от номера шага оптимизатора. На каждом графике расположите данные и для обучающей и для валидационной выборки, итого у вас должно получиться два графика. Обратите внимание, что на обучающей выборке эти данные считаются по каждому батчу, на валидационной же они считаются по всей выборке раз в эпоху."
      ]
    },
    {
      "cell_type": "code",
      "source": [
        "def plot_losses(n_epochs, train_losses, val_losses, train_accuracies, val_accuracies):\n",
        "    fig, axs = plt.subplots(1, 2, figsize=(13, 4))\n",
        "\n",
        "    val_step = len(train_acc_log) // n_epochs\n",
        "\n",
        "    axs[0].plot(range(1, len(train_losses) + 1), train_losses, label='train')\n",
        "    axs[0].plot(range(val_step, len(train_losses) + val_step, val_step), val_losses, label='val')\n",
        "    axs[0].set_ylabel('loss')\n",
        "\n",
        "    axs[1].plot(range(1, len(train_accuracies) + 1), train_accuracies, label='train')\n",
        "    axs[1].plot(range(val_step,  len(train_accuracies) + val_step, val_step), val_accuracies, label='val')\n",
        "    axs[1].set_ylabel('accuracy')\n",
        "\n",
        "\n",
        "    for ax in axs:\n",
        "        ax.set_xlabel('optimizer_step')\n",
        "        ax.legend()\n",
        "\n",
        "    plt.show()"
      ],
      "metadata": {
        "id": "yHLtlF5gc7qf"
      },
      "execution_count": 50,
      "outputs": []
    },
    {
      "cell_type": "code",
      "source": [
        "plot_losses(n_epochs, train_loss_log, val_loss_log, train_acc_log, val_acc_log)"
      ],
      "metadata": {
        "id": "u-9PDeBzeuzi",
        "outputId": "9a5553c2-6573-4703-867e-1cf977779771",
        "colab": {
          "base_uri": "https://localhost:8080/",
          "height": 365
        }
      },
      "execution_count": 51,
      "outputs": [
        {
          "output_type": "display_data",
          "data": {
            "text/plain": [
              "<Figure size 1300x400 with 2 Axes>"
            ],
            "image/png": "[encoded data removed]"
          },
          "metadata": {}
        }
      ]
    },
    {
      "cell_type": "markdown",
      "metadata": {
        "id": "_ttOJPj-O9Dt"
      },
      "source": [
        "## 3. Расписание длины шага (2 балла)"
      ]
    },
    {
      "cell_type": "markdown",
      "metadata": {
        "id": "qiz3JstuO9Dt"
      },
      "source": [
        "С курса \"Машинное обучение 1\" вы уже должны знать, что сходимость стохастического градиентного спуска мы можем теоретически гарантировать только если будем определенным образом со временем уменьшать длину шага. На практике при обучении нейронных сетей такая техника оказывается очень полезной, однако теоретически обоснованными способами уменьшения длины шага фантазия не ограничивается.\n",
        "\n",
        "Одним из простейших способов является кусочно постоянная функция: на нескольких фиксированных эпохах уменьшаем длину шага в константу раз."
      ]
    },
    {
      "cell_type": "code",
      "execution_count": 52,
      "metadata": {
        "id": "V2Z0OT3nO9Du",
        "outputId": "842b4ec1-7b4e-4c56-b85f-7c0717668e52",
        "colab": {
          "base_uri": "https://localhost:8080/"
        }
      },
      "outputs": [
        {
          "output_type": "stream",
          "name": "stdout",
          "text": [
            "Epoch 0\n",
            " train loss: 93.66474737589276, train acc: 0.4792904478976234\n",
            " val loss: 80.82333084674592, val acc: 0.5555629432624114\n",
            "\n",
            "Epoch 1\n",
            " train loss: 73.2175393043532, train acc: 0.6006667863671976\n",
            " val loss: 73.96090319613192, val acc: 0.5969193262411349\n",
            "\n",
            "Epoch 2\n",
            " train loss: 66.99446499107961, train acc: 0.6350711674066336\n",
            " val loss: 77.33126831866325, val acc: 0.586325354609929\n",
            "\n",
            "Epoch 3\n",
            " train loss: 63.17124056249475, train acc: 0.6562418386001567\n",
            " val loss: 63.13795751612237, val acc: 0.6609929078014184\n",
            "\n",
            "Epoch 4\n",
            " train loss: 60.528148572667206, train acc: 0.6710262144162966\n",
            " val loss: 64.14800746187251, val acc: 0.6513741134751774\n",
            "\n",
            "Epoch 5\n",
            " train loss: 58.57574325069867, train acc: 0.6818808762078872\n",
            " val loss: 61.49465620568458, val acc: 0.6657801418439715\n",
            "\n",
            "Epoch 6\n",
            " train loss: 57.421176767436414, train acc: 0.6858309937320449\n",
            " val loss: 59.35741451344592, val acc: 0.6829343971631204\n",
            "\n",
            "Epoch 7\n",
            " train loss: 56.26333085013046, train acc: 0.6937271480804388\n",
            " val loss: 57.642351674019025, val acc: 0.6888297872340425\n",
            "\n",
            "Epoch 8\n",
            " train loss: 55.10620146128988, train acc: 0.6986158265865761\n",
            " val loss: 59.094106755358105, val acc: 0.683843085106383\n",
            "\n",
            "Epoch 9\n",
            " train loss: 54.60120113414646, train acc: 0.703871768085662\n",
            " val loss: 57.19570634314354, val acc: 0.6914671985815604\n",
            "\n",
            "Epoch 10\n",
            " train loss: 47.51591423268292, train acc: 0.7451562091930009\n",
            " val loss: 53.40154916479232, val acc: 0.7144725177304966\n",
            "\n",
            "Epoch 11\n",
            " train loss: 46.358428462549796, train acc: 0.7495756072081483\n",
            " val loss: 53.01580667292818, val acc: 0.7194370567375886\n",
            "\n",
            "Epoch 12\n",
            " train loss: 46.04767489128182, train acc: 0.7511956450770437\n",
            " val loss: 52.872338538474224, val acc: 0.7163120567375886\n",
            "\n",
            "Epoch 13\n",
            " train loss: 45.79387071232909, train acc: 0.7527463110472707\n",
            " val loss: 52.891738396502554, val acc: 0.7171542553191489\n",
            "\n",
            "Epoch 14\n",
            " train loss: 45.41947858120013, train acc: 0.7541174262209454\n",
            " val loss: 52.37707260213, val acc: 0.7219414893617021\n",
            "\n",
            "Epoch 15\n",
            " train loss: 44.572466853767686, train acc: 0.7600711674066336\n",
            " val loss: 52.16285855313565, val acc: 0.7230053191489362\n",
            "\n",
            "Epoch 16\n",
            " train loss: 44.48328082522265, train acc: 0.7613117001828154\n",
            " val loss: 52.0738527176228, val acc: 0.7222739361702127\n",
            "\n",
            "Epoch 17\n",
            " train loss: 44.34248190518925, train acc: 0.7613198615826586\n",
            " val loss: 52.07300048990452, val acc: 0.7229609929078014\n",
            "\n",
            "Epoch 18\n",
            " train loss: 44.37873330107555, train acc: 0.7605608513972316\n",
            " val loss: 52.13786352035847, val acc: 0.7221631205673759\n",
            "\n",
            "Epoch 19\n",
            " train loss: 44.319990379500865, train acc: 0.7614463632802299\n",
            " val loss: 52.05349097556256, val acc: 0.720877659574468\n",
            "\n"
          ]
        }
      ],
      "source": [
        "net = BasicBlockNet().to(device)\n",
        "optimizer = optim.SGD(net.parameters(), lr=0.1, momentum=0.9)\n",
        "criterion = nn.CrossEntropyLoss()\n",
        "scheduler = optim.lr_scheduler.MultiStepLR(optimizer, milestones=[10, 15], gamma=0.1)\n",
        "tr_loss_log, tr_acc_log, val_loss_log, val_acc_log = train(net,\n",
        "                                                           optimizer,\n",
        "                                                           criterion,\n",
        "                                                           n_epochs,\n",
        "                                                           train_loader,\n",
        "                                                           val_loader,\n",
        "                                                           scheduler)"
      ]
    },
    {
      "cell_type": "markdown",
      "metadata": {
        "id": "5Xc76KvzO9Du"
      },
      "source": [
        "Посчитайте точность на тестовой выборке:"
      ]
    },
    {
      "cell_type": "code",
      "execution_count": 53,
      "metadata": {
        "id": "1AjiYhKqO9Du",
        "outputId": "7461e850-387f-4a5a-be8a-5b707b335586",
        "colab": {
          "base_uri": "https://localhost:8080/"
        }
      },
      "outputs": [
        {
          "output_type": "execute_result",
          "data": {
            "text/plain": [
              "(53.079603419941705, 0.7174562101910829)"
            ]
          },
          "metadata": {},
          "execution_count": 53
        }
      ],
      "source": [
        "test(net, criterion, test_loader)"
      ]
    },
    {
      "cell_type": "markdown",
      "source": [
        "Качество на тестовой выборке повысилось"
      ],
      "metadata": {
        "id": "tNjGeoOdjygv"
      }
    },
    {
      "cell_type": "markdown",
      "metadata": {
        "id": "yE0dgLYrO9Du"
      },
      "source": [
        "**Задание 3.0 (0.5 баллов).** Здесь может возникнуть вопрос: а что будет, если мы не будем уменьшать длину шага в процессе обучения, а сразу возьмем констатную, равную значению нашей кусочно-постоянной функции на последних эпохах, то есть $0.001$ в нашем случае. Запустите обучение и проверьте, что в таком случае мы получим худшее качество на тестовой выборке."
      ]
    },
    {
      "cell_type": "code",
      "execution_count": 54,
      "metadata": {
        "id": "qZ2iB-LBO9Du",
        "outputId": "302f23fe-6a5a-4c2d-94e6-389623cf7801",
        "colab": {
          "base_uri": "https://localhost:8080/"
        }
      },
      "outputs": [
        {
          "output_type": "stream",
          "name": "stdout",
          "text": [
            "Epoch 0\n",
            " train loss: 118.9342514365857, train acc: 0.34674931444241314\n",
            " val loss: 104.55992768064458, val acc: 0.4318484042553192\n",
            "\n",
            "Epoch 1\n",
            " train loss: 100.62431122572374, train acc: 0.44763645860538\n",
            " val loss: 94.97898217059196, val acc: 0.4780806737588653\n",
            "\n",
            "Epoch 2\n",
            " train loss: 92.45652637098128, train acc: 0.49229563854792374\n",
            " val loss: 89.84138829657373, val acc: 0.5048315602836879\n",
            "\n",
            "Epoch 3\n",
            " train loss: 87.06943841303071, train acc: 0.5224887372682162\n",
            " val loss: 83.8732255935669, val acc: 0.5406693262411347\n",
            "\n",
            "Epoch 4\n",
            " train loss: 83.1540149343515, train acc: 0.5456263058239749\n",
            " val loss: 80.24779410260788, val acc: 0.5645833333333332\n",
            "\n",
            "Epoch 5\n",
            " train loss: 79.70304286370984, train acc: 0.5636752415774353\n",
            " val loss: 77.52017570252114, val acc: 0.578302304964539\n",
            "\n",
            "Epoch 6\n",
            " train loss: 77.08152416724391, train acc: 0.581499738835205\n",
            " val loss: 76.71660875361016, val acc: 0.5807624113475178\n",
            "\n",
            "Epoch 7\n",
            " train loss: 74.24530564714394, train acc: 0.5959862235570645\n",
            " val loss: 74.08481391338591, val acc: 0.591799645390071\n",
            "\n",
            "Epoch 8\n",
            " train loss: 72.0097463091723, train acc: 0.6109827957691303\n",
            " val loss: 71.39360597894547, val acc: 0.6111258865248226\n",
            "\n",
            "Epoch 9\n",
            " train loss: 69.75798159151235, train acc: 0.6218374575607208\n",
            " val loss: 68.37686966023547, val acc: 0.623049645390071\n",
            "\n",
            "Epoch 10\n",
            " train loss: 68.1432060323642, train acc: 0.6313006006790285\n",
            " val loss: 67.44172448097392, val acc: 0.6305186170212767\n",
            "\n",
            "Epoch 11\n",
            " train loss: 66.42166038492262, train acc: 0.6366708017759206\n",
            " val loss: 66.28831108580245, val acc: 0.6357491134751774\n",
            "\n",
            "Epoch 12\n",
            " train loss: 65.33999539293363, train acc: 0.6461257834943849\n",
            " val loss: 64.07297536971721, val acc: 0.6508200354609929\n",
            "\n",
            "Epoch 13\n",
            " train loss: 63.97153968218257, train acc: 0.6537607730477932\n",
            " val loss: 66.05809335708618, val acc: 0.6374113475177305\n",
            "\n",
            "Epoch 14\n",
            " train loss: 63.0973922216914, train acc: 0.6575354204753199\n",
            " val loss: 62.803657499272774, val acc: 0.6570921985815603\n",
            "\n",
            "Epoch 15\n",
            " train loss: 62.06065126659665, train acc: 0.6636727931574824\n",
            " val loss: 63.125448005757434, val acc: 0.6565602836879434\n",
            "\n",
            "Epoch 16\n",
            " train loss: 61.40927984335305, train acc: 0.6684512927657351\n",
            " val loss: 62.41423801462701, val acc: 0.6613918439716311\n",
            "\n",
            "Epoch 17\n",
            " train loss: 61.01524658656425, train acc: 0.6696714220423088\n",
            " val loss: 61.13034869457813, val acc: 0.6686613475177305\n",
            "\n",
            "Epoch 18\n",
            " train loss: 59.93252140686761, train acc: 0.6777348850874901\n",
            " val loss: 61.29503386274297, val acc: 0.6656471631205673\n",
            "\n",
            "Epoch 19\n",
            " train loss: 59.61813697082687, train acc: 0.6778736288848263\n",
            " val loss: 59.69695895783445, val acc: 0.6762189716312056\n",
            "\n"
          ]
        }
      ],
      "source": [
        "net = BasicBlockNet().to(device)\n",
        "optimizer = optim.SGD(net.parameters(), lr=0.001, momentum=0.9)\n",
        "criterion = nn.CrossEntropyLoss()\n",
        "tr_loss_log, tr_acc_log, val_loss_log, val_acc_log = train(net,\n",
        "                                                           optimizer,\n",
        "                                                           criterion,\n",
        "                                                           n_epochs,\n",
        "                                                           train_loader,\n",
        "                                                           val_loader)"
      ]
    },
    {
      "cell_type": "code",
      "source": [
        "test(net, criterion, test_loader)"
      ],
      "metadata": {
        "id": "YUVocPBflcSm",
        "outputId": "f511a3f4-0e8d-4694-d2c7-5bd7be2d42d1",
        "colab": {
          "base_uri": "https://localhost:8080/"
        }
      },
      "execution_count": 55,
      "outputs": [
        {
          "output_type": "execute_result",
          "data": {
            "text/plain": [
              "(59.73864242529414, 0.6754578025477707)"
            ]
          },
          "metadata": {},
          "execution_count": 55
        }
      ]
    },
    {
      "cell_type": "markdown",
      "source": [
        "Качество на тестовый выборке при константном lr=0.001 стало хуже"
      ],
      "metadata": {
        "id": "lWbh6eyjlgcl"
      }
    },
    {
      "cell_type": "markdown",
      "metadata": {
        "id": "xVotU378O9Du"
      },
      "source": [
        "**Задание 3.1 (1.5 балла).** Изучите, какие еще способы уменьшения длины шага представлены в <code>torch.optim.lr_scheduler</code>. Выберите несколько из них, объясните, как они устроены, и обучите модель с ними. Удалось ли добиться улучшения качества на тестовой выборке?"
      ]
    },
    {
      "cell_type": "markdown",
      "source": [
        "[torch.optim.lr_scheduler.LambdaLR](https://pytorch.org/docs/stable/generated/torch.optim.lr_scheduler.LambdaLR.html#torch.optim.lr_scheduler.LambdaLR) Устанавливает скорость обучения каждой группы параметров на начальное значение lr, умноженное на заданную функцию. Когда last_epoch=-1, устанавливает начальный lr как lr."
      ],
      "metadata": {
        "id": "TrUf3NHclslI"
      }
    },
    {
      "cell_type": "markdown",
      "source": [
        "lr_epoch = lr_initial * Lambda(epoch)"
      ],
      "metadata": {
        "id": "vJhoa8gym1q1"
      }
    },
    {
      "cell_type": "code",
      "execution_count": 57,
      "metadata": {
        "id": "nkGlzocOO9Du",
        "outputId": "4bdd53d0-fb99-401c-94bc-f72255346fc5",
        "colab": {
          "base_uri": "https://localhost:8080/"
        }
      },
      "outputs": [
        {
          "output_type": "stream",
          "name": "stdout",
          "text": [
            "Epoch 0\n",
            " train loss: 93.80461333133621, train acc: 0.4800943457821885\n",
            " val loss: 80.7732825948837, val acc: 0.5541445035460992\n",
            "\n",
            "Epoch 1\n",
            " train loss: 71.70632679414487, train acc: 0.609901410289893\n",
            " val loss: 70.34756507061897, val acc: 0.6186613475177306\n",
            "\n",
            "Epoch 2\n",
            " train loss: 64.02680393721111, train acc: 0.6518999738835205\n",
            " val loss: 63.495970792973296, val acc: 0.6542331560283688\n",
            "\n",
            "Epoch 3\n",
            " train loss: 59.61662524709754, train acc: 0.6773186536954818\n",
            " val loss: 60.319222007913794, val acc: 0.6737810283687944\n",
            "\n",
            "Epoch 4\n",
            " train loss: 57.050546833540444, train acc: 0.6908135283363802\n",
            " val loss: 59.307894311052685, val acc: 0.680895390070922\n",
            "\n",
            "Epoch 5\n",
            " train loss: 55.18272170724119, train acc: 0.7022068425176287\n",
            " val loss: 57.95562492532933, val acc: 0.6865469858156029\n",
            "\n",
            "Epoch 6\n",
            " train loss: 53.91192682046559, train acc: 0.7105722773570123\n",
            " val loss: 56.686201541981795, val acc: 0.6907801418439715\n",
            "\n",
            "Epoch 7\n",
            " train loss: 52.88881366823883, train acc: 0.7164648080438757\n",
            " val loss: 56.17839050292969, val acc: 0.6934840425531915\n",
            "\n",
            "Epoch 8\n",
            " train loss: 52.360958190025315, train acc: 0.7189132279968661\n",
            " val loss: 55.6269467637894, val acc: 0.696764184397163\n",
            "\n",
            "Epoch 9\n",
            " train loss: 51.96443405186236, train acc: 0.7206638482632541\n",
            " val loss: 55.39081708826917, val acc: 0.6997340425531915\n",
            "\n",
            "Epoch 10\n",
            " train loss: 51.71791646598244, train acc: 0.7236509206059023\n",
            " val loss: 55.1934177987119, val acc: 0.7002659574468085\n",
            "\n",
            "Epoch 11\n",
            " train loss: 51.387218199002895, train acc: 0.7262870527552886\n",
            " val loss: 55.102283970853115, val acc: 0.7000664893617021\n",
            "\n",
            "Epoch 12\n",
            " train loss: 51.26695374378993, train acc: 0.7257606424653957\n",
            " val loss: 54.996523940309565, val acc: 0.7\n",
            "\n",
            "Epoch 13\n",
            " train loss: 51.20791541767295, train acc: 0.7256708670671194\n",
            " val loss: 55.0057268913756, val acc: 0.700531914893617\n",
            "\n",
            "Epoch 14\n",
            " train loss: 51.14102039999674, train acc: 0.7261156633585794\n",
            " val loss: 55.007008578929494, val acc: 0.7009308510638298\n",
            "\n",
            "Epoch 15\n",
            " train loss: 51.09938503401371, train acc: 0.7263809088534865\n",
            " val loss: 54.991364821981875, val acc: 0.7\n",
            "\n",
            "Epoch 16\n",
            " train loss: 51.089365989678086, train acc: 0.726960368242361\n",
            " val loss: 54.98382310867309, val acc: 0.7005984042553192\n",
            "\n",
            "Epoch 17\n",
            " train loss: 51.037931241762486, train acc: 0.7262707299556019\n",
            " val loss: 54.96776018548519, val acc: 0.7001329787234043\n",
            "\n",
            "Epoch 18\n",
            " train loss: 50.9622679837661, train acc: 0.7271399190389136\n",
            " val loss: 54.973062744546446, val acc: 0.7019946808510639\n",
            "\n",
            "Epoch 19\n",
            " train loss: 50.90473173218192, train acc: 0.7284906307129799\n",
            " val loss: 54.95085618851033, val acc: 0.7005984042553192\n",
            "\n"
          ]
        }
      ],
      "source": [
        "net = BasicBlockNet().to(device)\n",
        "optimizer = optim.SGD(net.parameters(), lr=0.1, momentum=0.9)\n",
        "criterion = nn.CrossEntropyLoss()\n",
        "scheduler = optim.lr_scheduler.LambdaLR(optimizer, lr_lambda=lambda epoch: 0.65 ** epoch)\n",
        "tr_loss_log, tr_acc_log, val_loss_log, val_acc_log = train(net,\n",
        "                                                           optimizer,\n",
        "                                                           criterion,\n",
        "                                                           n_epochs,\n",
        "                                                           train_loader,\n",
        "                                                           val_loader,\n",
        "                                                           scheduler)"
      ]
    },
    {
      "cell_type": "code",
      "source": [
        "test(net, criterion, test_loader)"
      ],
      "metadata": {
        "id": "66u5ifiJo4YN",
        "outputId": "0a5e8bcc-2448-4baa-f846-e3464ae68080",
        "colab": {
          "base_uri": "https://localhost:8080/"
        }
      },
      "execution_count": 58,
      "outputs": [
        {
          "output_type": "execute_result",
          "data": {
            "text/plain": [
              "(55.32412949337321, 0.7007364649681529)"
            ]
          },
          "metadata": {},
          "execution_count": 58
        }
      ]
    },
    {
      "cell_type": "markdown",
      "source": [
        "Качество на валидационной выборке хуже чем при MultiStepLR, но лучше чем вообще без scheduler"
      ],
      "metadata": {
        "id": "gR6TRiGSo_qb"
      }
    },
    {
      "cell_type": "markdown",
      "source": [
        "[torch.optim.lr_scheduler.ExponentialLR](https://pytorch.org/docs/stable/generated/torch.optim.lr_scheduler.ExponentialLR.html#torch.optim.lr_scheduler.ExponentialLR)  Снижает скорость обучения каждой группы параметров по гамме каждую эпоху. Когда last_epoch=-1, устанавливает начальный lr как lr."
      ],
      "metadata": {
        "id": "wYG-nMNqpg_0"
      }
    },
    {
      "cell_type": "markdown",
      "source": [
        "$$lr_{epoch} = 𝐺𝑎𝑚𝑚𝑎 * lr_{epoch - 1}$$\n",
        " \n"
      ],
      "metadata": {
        "id": "kY4qxS24ptoI"
      }
    },
    {
      "cell_type": "code",
      "source": [
        "net = BasicBlockNet().to(device)\n",
        "optimizer = optim.SGD(net.parameters(), lr=0.1, momentum=0.9)\n",
        "criterion = nn.CrossEntropyLoss()\n",
        "scheduler = optim.lr_scheduler.ExponentialLR(optimizer, gamma=0.1)\n",
        "tr_loss_log, tr_acc_log, val_loss_log, val_acc_log = train(net,\n",
        "                                                           optimizer,\n",
        "                                                           criterion,\n",
        "                                                           n_epochs,\n",
        "                                                           train_loader,\n",
        "                                                           val_loader,\n",
        "                                                           scheduler)"
      ],
      "metadata": {
        "id": "rTD63QmKpTaA",
        "outputId": "7402e93b-be70-4d95-dee2-fb3cdb3aa367",
        "colab": {
          "base_uri": "https://localhost:8080/"
        }
      },
      "execution_count": 59,
      "outputs": [
        {
          "output_type": "stream",
          "name": "stdout",
          "text": [
            "Epoch 0\n",
            " train loss: 95.37372497056477, train acc: 0.4675461935231131\n",
            " val loss: 78.13455966381316, val acc: 0.5728723404255319\n",
            "\n",
            "Epoch 1\n",
            " train loss: 70.48611872985114, train acc: 0.6124028793418648\n",
            " val loss: 68.63219982309545, val acc: 0.625531914893617\n",
            "\n",
            "Epoch 2\n",
            " train loss: 66.60392153982271, train acc: 0.6341530099242623\n",
            " val loss: 67.22338562417538, val acc: 0.6335992907801418\n",
            "\n",
            "Epoch 3\n",
            " train loss: 66.10481765457655, train acc: 0.6390620919300078\n",
            " val loss: 67.15891683862564, val acc: 0.6332890070921987\n",
            "\n",
            "Epoch 4\n",
            " train loss: 66.09559684348935, train acc: 0.6388662183337687\n",
            " val loss: 67.16369164243658, val acc: 0.6333998226950354\n",
            "\n",
            "Epoch 5\n",
            " train loss: 66.07607232412865, train acc: 0.6405107404021938\n",
            " val loss: 67.1437810938409, val acc: 0.6327570921985817\n",
            "\n",
            "Epoch 6\n",
            " train loss: 66.06753369877063, train acc: 0.6392538848263254\n",
            " val loss: 67.12697061579279, val acc: 0.6343971631205673\n",
            "\n",
            "Epoch 7\n",
            " train loss: 66.1441609279765, train acc: 0.6367156894750587\n",
            " val loss: 67.13109709962886, val acc: 0.6341533687943263\n",
            "\n",
            "Epoch 8\n",
            " train loss: 66.05483904181277, train acc: 0.6399843301123008\n",
            " val loss: 67.15583880404209, val acc: 0.6329343971631205\n",
            "\n",
            "Epoch 9\n",
            " train loss: 66.05570003188724, train acc: 0.6400741055105772\n",
            " val loss: 67.20679934481358, val acc: 0.6320921985815604\n",
            "\n",
            "Epoch 10\n",
            " train loss: 66.07579929867872, train acc: 0.6379888678506137\n",
            " val loss: 67.12962349424971, val acc: 0.63395390070922\n",
            "\n",
            "Epoch 11\n",
            " train loss: 66.04503573883169, train acc: 0.6395599373204492\n",
            " val loss: 67.18863506722957, val acc: 0.6326241134751774\n",
            "\n",
            "Epoch 12\n",
            " train loss: 66.04020460955185, train acc: 0.6402577370070514\n",
            " val loss: 67.1161517691105, val acc: 0.6331560283687944\n",
            "\n",
            "Epoch 13\n",
            " train loss: 66.00759814469862, train acc: 0.6389111060329068\n",
            " val loss: 67.1402879633802, val acc: 0.6333998226950354\n",
            "\n",
            "Epoch 14\n",
            " train loss: 65.97720288097095, train acc: 0.6388702990336902\n",
            " val loss: 67.13969942052313, val acc: 0.6341533687943263\n",
            "\n",
            "Epoch 15\n",
            " train loss: 66.08149415352662, train acc: 0.6384785518412118\n",
            " val loss: 67.15925466253402, val acc: 0.6330895390070923\n",
            "\n",
            "Epoch 16\n",
            " train loss: 66.0936954121703, train acc: 0.6387070710368243\n",
            " val loss: 67.190976459422, val acc: 0.6341533687943263\n",
            "\n",
            "Epoch 17\n",
            " train loss: 66.07135433252812, train acc: 0.6397966179159049\n",
            " val loss: 67.19228229116887, val acc: 0.6336214539007093\n",
            "\n",
            "Epoch 18\n",
            " train loss: 66.01838772039744, train acc: 0.6395844215199791\n",
            " val loss: 67.19358012016784, val acc: 0.6338652482269502\n",
            "\n",
            "Epoch 19\n",
            " train loss: 66.06718037202546, train acc: 0.6383969378427788\n",
            " val loss: 67.17881864182492, val acc: 0.6329343971631205\n",
            "\n"
          ]
        }
      ]
    },
    {
      "cell_type": "code",
      "source": [
        "test(net, criterion, test_loader)"
      ],
      "metadata": {
        "id": "yzYQul-brrsI",
        "outputId": "6e031527-c92e-44df-a491-e5c0937656ec",
        "colab": {
          "base_uri": "https://localhost:8080/"
        }
      },
      "execution_count": 60,
      "outputs": [
        {
          "output_type": "execute_result",
          "data": {
            "text/plain": [
              "(67.23277204355617, 0.6299761146496815)"
            ]
          },
          "metadata": {},
          "execution_count": 60
        }
      ]
    },
    {
      "cell_type": "markdown",
      "source": [
        "Качество на валидационной выборке хуже чем при MultiStepLR и хуже чем вообще без scheduler"
      ],
      "metadata": {
        "id": "mm_3Eg7Xryh-"
      }
    },
    {
      "cell_type": "markdown",
      "source": [
        "[torch.optim.lr_scheduler.CosineAnnealingLR](https://pytorch.org/docs/stable/generated/torch.optim.lr_scheduler.CosineAnnealingLR.html#torch.optim.lr_scheduler.CosineAnnealingLR) Установливает скорость обучения каждой группы параметров, используя график косинусного отжига. Когда last_epoch=-1, устанавливает начальный lr как lr. Стоит отметить, что поскольку расписание определяется рекурсивно, скорость обучения может быть одновременно изменена вне этого планировщика другими операторами. Если скорость обучения устанавливается исключительно этим планировщиком, скорость обучения на каждом шаге становится:\n",
        "\n",
        "$$ η_t=η_{min} + \\frac{1}{2} * (η_{max} - η_{min})*(1 + cos(\\frac{T_{cur}}{T_{max}} * π)) $$\n",
        "\n",
        "Это было предложено в SGDR: Stochastic Gradient Descent with Warm Restarts. https://arxiv.org/abs/1608.03983"
      ],
      "metadata": {
        "id": "PVUvg11lr5El"
      }
    },
    {
      "cell_type": "code",
      "source": [
        "net = BasicBlockNet().to(device)\n",
        "optimizer = optim.SGD(net.parameters(), lr=0.1, momentum=0.9)\n",
        "criterion = nn.CrossEntropyLoss()\n",
        "scheduler = optim.lr_scheduler.CosineAnnealingLR(optimizer, T_max=20)\n",
        "tr_loss_log, tr_acc_log, val_loss_log, val_acc_log = train(net,\n",
        "                                                           optimizer,\n",
        "                                                           criterion,\n",
        "                                                           n_epochs,\n",
        "                                                           train_loader,\n",
        "                                                           val_loader,\n",
        "                                                           scheduler)"
      ],
      "metadata": {
        "id": "9yiHEOVWr2YZ",
        "outputId": "75ddc930-c882-44a7-e752-1eec1e7d41ac",
        "colab": {
          "base_uri": "https://localhost:8080/"
        }
      },
      "execution_count": 61,
      "outputs": [
        {
          "output_type": "stream",
          "name": "stdout",
          "text": [
            "Epoch 0\n",
            " train loss: 97.05061498987173, train acc: 0.4580748890049621\n",
            " val loss: 85.11959074710278, val acc: 0.5260859929078014\n",
            "\n",
            "Epoch 1\n",
            " train loss: 78.12049071923906, train acc: 0.5704002350483155\n",
            " val loss: 80.74711550042984, val acc: 0.5615913120567375\n",
            "\n",
            "Epoch 2\n",
            " train loss: 70.13162809752023, train acc: 0.6166304844606947\n",
            " val loss: 71.29494339963223, val acc: 0.6125886524822695\n",
            "\n",
            "Epoch 3\n",
            " train loss: 65.71597546153792, train acc: 0.6434692478453904\n",
            " val loss: 65.71671716000172, val acc: 0.6445921985815604\n",
            "\n",
            "Epoch 4\n",
            " train loss: 62.60936758505143, train acc: 0.6585596761556542\n",
            " val loss: 65.55097671265298, val acc: 0.6440381205673759\n",
            "\n",
            "Epoch 5\n",
            " train loss: 60.37624875893323, train acc: 0.6719770174980413\n",
            " val loss: 61.32879755547706, val acc: 0.6679742907801418\n",
            "\n",
            "Epoch 6\n",
            " train loss: 58.97411367444277, train acc: 0.6775471728910942\n",
            " val loss: 61.01193413227163, val acc: 0.6734042553191489\n",
            "\n",
            "Epoch 7\n",
            " train loss: 56.790971858845765, train acc: 0.6934170148863933\n",
            " val loss: 60.32532905213376, val acc: 0.6773492907801417\n",
            "\n",
            "Epoch 8\n",
            " train loss: 55.24337816761442, train acc: 0.7014029446330635\n",
            " val loss: 59.057642043905055, val acc: 0.68125\n",
            "\n",
            "Epoch 9\n",
            " train loss: 54.206779901026806, train acc: 0.705414272656046\n",
            " val loss: 59.64266272605734, val acc: 0.6821143617021277\n",
            "\n",
            "Epoch 10\n",
            " train loss: 52.6660826350043, train acc: 0.7142857142857143\n",
            " val loss: 55.361081863971464, val acc: 0.7015292553191489\n",
            "\n",
            "Epoch 11\n",
            " train loss: 51.212837551368004, train acc: 0.723748857404022\n",
            " val loss: 55.72290343832462, val acc: 0.7001773049645391\n",
            "\n",
            "Epoch 12\n",
            " train loss: 50.34393212128383, train acc: 0.7272786628362496\n",
            " val loss: 55.21013047035704, val acc: 0.7030585106382978\n",
            "\n",
            "Epoch 13\n",
            " train loss: 49.00185734175241, train acc: 0.7363214938626272\n",
            " val loss: 54.342912844394114, val acc: 0.7087322695035461\n",
            "\n",
            "Epoch 14\n",
            " train loss: 48.092860583631385, train acc: 0.7392595978062158\n",
            " val loss: 54.73366354272721, val acc: 0.7047650709219859\n",
            "\n",
            "Epoch 15\n",
            " train loss: 47.074380463176496, train acc: 0.7440625816139984\n",
            " val loss: 53.81854755117538, val acc: 0.7136303191489362\n",
            "\n",
            "Epoch 16\n",
            " train loss: 46.08693920236619, train acc: 0.7521505288587098\n",
            " val loss: 52.57856458095794, val acc: 0.7178191489361702\n",
            "\n",
            "Epoch 17\n",
            " train loss: 45.38608130937956, train acc: 0.7554232501958736\n",
            " val loss: 52.591253680371224, val acc: 0.7171542553191489\n",
            "\n",
            "Epoch 18\n",
            " train loss: 44.94985101166329, train acc: 0.7576880386523897\n",
            " val loss: 52.2972184668196, val acc: 0.7209441489361702\n",
            "\n",
            "Epoch 19\n",
            " train loss: 44.642178944303524, train acc: 0.7596467746147819\n",
            " val loss: 52.25814825017402, val acc: 0.7206781914893617\n",
            "\n"
          ]
        }
      ]
    },
    {
      "cell_type": "code",
      "source": [
        "test(net, criterion, test_loader)"
      ],
      "metadata": {
        "id": "RFnDlXdtuUfm",
        "outputId": "83d879a9-e9d2-4416-c9e7-ff438debbbb1",
        "colab": {
          "base_uri": "https://localhost:8080/"
        }
      },
      "execution_count": 62,
      "outputs": [
        {
          "output_type": "execute_result",
          "data": {
            "text/plain": [
              "(52.80525198407993, 0.714171974522293)"
            ]
          },
          "metadata": {},
          "execution_count": 62
        }
      ]
    },
    {
      "cell_type": "markdown",
      "source": [
        "Качество на валидационной выборке хуже чем при MultiStepLR всего  на 0.03"
      ],
      "metadata": {
        "id": "CFSdvBQOuYkb"
      }
    },
    {
      "cell_type": "markdown",
      "metadata": {
        "id": "5a_zMNNVO9Du"
      },
      "source": [
        "Таким образом, к сожалению не удалось подобрать другие scheduler, чтобы добиться улучшения качества на тестовой выборке."
      ]
    },
    {
      "cell_type": "markdown",
      "metadata": {
        "id": "7xFXgl_3_E--"
      },
      "source": [
        "## 4. Аугментации данных (2 балла)"
      ]
    },
    {
      "cell_type": "markdown",
      "metadata": {
        "id": "5G0Easo9O9Du"
      },
      "source": [
        "Еще одной стандартной техникой, применяющейся в глубинном обучении, а особенно часто в компьютерном зрении, являются аугментации данных. Суть аугментаций состоит в том, что мы можем некоторым синтетическим образом видоизменять объекты обучающей выборки, тем самым расширяя ее, а также делая итоговую модель более устойчивой к таким изменениям.\n",
        "\n",
        "Простейшая аугментация, которую можно применить к картинкам — разворот картинки по горизонтальной оси. То есть при обучении модели с вероятностью $0.5$ мы будем разворачивать картинку из обучающей выборки."
      ]
    },
    {
      "cell_type": "code",
      "execution_count": null,
      "metadata": {
        "id": "SzeFpgtfO9Du"
      },
      "outputs": [],
      "source": [
        "dataiter = iter(train_loader)\n",
        "images, labels = dataiter.next()\n",
        "\n",
        "imshow(torchvision.utils.make_grid(images[:4]))\n",
        "\n",
        "imshow(torchvision.utils.make_grid(transforms.functional.hflip(images[:4])))"
      ]
    },
    {
      "cell_type": "markdown",
      "metadata": {
        "id": "BR4a-XJQO9Du"
      },
      "source": [
        "Наиболее удобным способом работы с аугментациями в PyTorch является их задание в списке <code>transforms</code>, который затем передается в загрузчик данных. Обучим нашу сеть, применяя горизонтальные повороты:"
      ]
    },
    {
      "cell_type": "code",
      "execution_count": null,
      "metadata": {
        "id": "na0ScBf-_AqX",
        "scrolled": true
      },
      "outputs": [],
      "source": [
        "transform = transforms.Compose(\n",
        "        [transforms.RandomHorizontalFlip(),\n",
        "         transforms.ToTensor(),\n",
        "         transforms.Normalize((0.5, 0.5, 0.5), (0.5, 0.5, 0.5))]\n",
        ")\n",
        "\n",
        "train_loader, val_loader, test_loader = get_cifar10_data(batch_size=64, transform_train=transform)\n",
        "\n",
        "net = BasicBlockNet().to(device)\n",
        "optimizer = optim.SGD(net.parameters(), lr=0.1, momentum=0.9)\n",
        "scheduler = optim.lr_scheduler.MultiStepLR(optimizer, milestones=[10, 15], gamma=0.1)\n",
        "tr_loss_log, tr_acc_log, val_loss_log, val_acc_log = train(net, optimizer, 20, train_loader, val_loader, scheduler)"
      ]
    },
    {
      "cell_type": "markdown",
      "metadata": {
        "id": "v3ZIqDQqO9Dv"
      },
      "source": [
        "Посчитайте точность на тестовой выборке:"
      ]
    },
    {
      "cell_type": "code",
      "execution_count": null,
      "metadata": {
        "id": "nNJizMkM_Auh"
      },
      "outputs": [],
      "source": [
        "# <your code here>"
      ]
    },
    {
      "cell_type": "markdown",
      "metadata": {
        "id": "KndehSCHO9Dv"
      },
      "source": [
        "**Задание 4.1 (2 балла).** Изучите, какие еще способы аугментаций изображений представлены в <code>torchvision.transforms</code>. Выберите несколько из них, объясните, как они устроены, и обучите модель с ними (по отдельности и вместе). Удалось ли добиться улучшения качества на тестовой выборке?"
      ]
    },
    {
      "cell_type": "code",
      "execution_count": null,
      "metadata": {
        "id": "Np4rgvdZ_QRF"
      },
      "outputs": [],
      "source": [
        "# <your code here>"
      ]
    },
    {
      "cell_type": "markdown",
      "metadata": {
        "id": "4K-MptLiO9Dv"
      },
      "source": [
        "Your answers here:"
      ]
    },
    {
      "cell_type": "markdown",
      "metadata": {
        "id": "HCENjLw5O9Dv"
      },
      "source": [
        "## Бонус. Логирование в wandb (2 балла)"
      ]
    },
    {
      "cell_type": "markdown",
      "metadata": {
        "id": "xOyzc1mnO9Dv"
      },
      "source": [
        "На практике специалиста по глубинному обучению часто встречаются ситуации, когда нейросеть учится на каком-то удаленном сервере. И обычно вам хочется отслеживать прогресс обучения, особенно когда время обучения модели исчисляется днями или неделями. Для таких целей существует несколько инструментов. Вероятно, самый популярный из них — [wandb](https://wandb.ai/site).\n",
        "\n",
        "Ваша задача состоит в том, чтобы разобраться как им пользоваться, и повторить задания 2.1 и 2.2 с его использованием. Обучение вы можете запускать в этом же ноутбуке, но теперь вам необходимо через wandb логировать значения функции потерь и точности на обучающей выборке и на валидационной. Результатом работы должны быть ваш код и публичная ссылка на страничку с графиками, идентичными графикам в задании 2.2."
      ]
    },
    {
      "cell_type": "code",
      "execution_count": null,
      "metadata": {
        "id": "m5gSTLAr_QS4"
      },
      "outputs": [],
      "source": [
        "# <your code here>"
      ]
    }
  ],
  "metadata": {
    "accelerator": "GPU",
    "colab": {
      "provenance": [],
      "gpuType": "T4"
    },
    "kernelspec": {
      "display_name": "Python 3 (ipykernel)",
      "language": "python",
      "name": "python3"
    },
    "language_info": {
      "codemirror_mode": {
        "name": "ipython",
        "version": 3
      },
      "file_extension": ".py",
      "mimetype": "text/x-python",
      "name": "python",
      "nbconvert_exporter": "python",
      "pygments_lexer": "ipython3",
      "version": "3.10.4"
    },
    "gpuClass": "standard"
  },
  "nbformat": 4,
  "nbformat_minor": 0
}