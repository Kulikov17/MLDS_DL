{
  "cells": [
    {
      "cell_type": "markdown",
      "metadata": {
        "id": "w35Q6hOIy4sk"
      },
      "source": [
        "# Глубинное обучение 1 / Введение в глубинное обучение, ФКН ВШЭ\n",
        "\n",
        "## Домашнее задание 2: сверточный классификатор.\n",
        "\n",
        "### Общая информация\n",
        "\n",
        "Оценка после штрафа после мягкого дедлайна вычисляется по формуле $M_{\\text{penalty}} = M_{\\text{full}} \\cdot 0.85^{t/1440}$, где $M_{\\text{full}}$ — полная оценка за работу без учета штрафа, а $t$ — время в минутах, прошедшее после мягкого дедлайна (округление до двух цифр после запятой). Таким образом, спустя первые сутки после мягкого дедлайна вы не можете получить оценку выше 8.5, а если сдать через четыре дня после мягкого дедлайна, то ваш максимум — 5.22 балла.\n",
        "\n",
        "### Оценивание и штрафы\n",
        "\n",
        "Максимально допустимая оценка за работу — 10 баллов. Сдавать задание после указанного срока сдачи нельзя.\n",
        "\n",
        "Задание выполняется самостоятельно. «Похожие» решения считаются плагиатом и все задействованные студенты (в том числе те, у кого списали) не могут получить за него больше 0 баллов. Если вы нашли решение какого-то из заданий (или его часть) в открытом источнике, необходимо указать ссылку на этот источник в отдельном блоке в конце вашей работы (скорее всего вы будете не единственным, кто это нашел, поэтому чтобы исключить подозрение в плагиате, необходима ссылка на источник).\n",
        "\n",
        "Неэффективная реализация кода может негативно отразиться на оценке. Также оценка может быть снижена за плохо читаемый код и плохо оформленные графики. Все ответы должны сопровождаться кодом или комментариями о том, как они были получены.\n",
        "\n",
        "### О задании\n",
        "\n",
        "В этом задании вам предстоит познакомиться со сверточными сетями и их обучением для классификации изображений с использованием библиотеки PyTorch.\n"
      ]
    },
    {
      "cell_type": "code",
      "execution_count": 1,
      "metadata": {
        "id": "SaACifdX2QOo"
      },
      "outputs": [],
      "source": [
        "import torch\n",
        "import torch.nn as nn\n",
        "import torch.nn.functional as F\n",
        "import torch.optim as optim\n",
        "import torchvision\n",
        "import torchvision.transforms as transforms\n",
        "\n",
        "import matplotlib.pyplot as plt\n",
        "import numpy as np\n",
        "\n",
        "from sklearn.model_selection import train_test_split"
      ]
    },
    {
      "cell_type": "markdown",
      "metadata": {
        "id": "TIXaUYM-0JFl"
      },
      "source": [
        "## 0. Загрузка данных\n",
        "\n",
        "Работать мы будем с набором данных [CIFAR10](https://www.cs.toronto.edu/~kriz/cifar.html). CIFAR10 представляет собой набор изображений 32х32 пикселя, разделенных на 10 классов.\n",
        "\n",
        "![title](https://pytorch.org/tutorials/_images/cifar10.png)\n",
        "\n",
        "\n"
      ]
    },
    {
      "cell_type": "markdown",
      "metadata": {
        "id": "g-0EEjl_10vB"
      },
      "source": [
        "Набор данных уже определен в <code>torchvision.datasets</code>, так что возьмем его оттуда. \n",
        "\n"
      ]
    },
    {
      "cell_type": "code",
      "execution_count": 2,
      "metadata": {
        "id": "Cbwe92dT3aPZ"
      },
      "outputs": [],
      "source": [
        "def get_cifar10_data(batch_size, transform_train):\n",
        "    torch.manual_seed(0)\n",
        "    np.random.seed(0)\n",
        "\n",
        "    transform_test = transforms.Compose(\n",
        "        [transforms.ToTensor(),\n",
        "         # Переводим цвета пикселей в отрезок [-1, 1]\n",
        "         transforms.Normalize((0.5, 0.5, 0.5), (0.5, 0.5, 0.5))]\n",
        "    )\n",
        "    \n",
        "    # Загружаем данные\n",
        "    trainvalset = torchvision.datasets.CIFAR10(root='./data', train=True,\n",
        "                                               download=True, transform=transform_train)\n",
        "    testset = torchvision.datasets.CIFAR10(root='./data', train=False,\n",
        "                                           download=True, transform=transform_test)\n",
        "    \n",
        "    # В датасете определено разбиение только на train и test,\n",
        "    # так что валидацию дополнительно выделяем из обучающей выборки\n",
        "    train_idx, valid_idx = train_test_split(np.arange(len(trainvalset)), test_size=0.3, \n",
        "                                            shuffle=True, random_state=0)\n",
        "    trainset = torch.utils.data.Subset(trainvalset, train_idx)\n",
        "    valset = torch.utils.data.Subset(trainvalset, valid_idx)\n",
        "\n",
        "    train_loader = torch.utils.data.DataLoader(trainset, batch_size=batch_size,\n",
        "                                               shuffle=True, num_workers=2)\n",
        "    val_loader = torch.utils.data.DataLoader(valset, batch_size=batch_size,\n",
        "                                             shuffle=False, num_workers=2)\n",
        "    test_loader = torch.utils.data.DataLoader(testset, batch_size=batch_size,\n",
        "                                              shuffle=False, num_workers=2)\n",
        "    \n",
        "    return train_loader, val_loader, test_loader\n",
        "    "
      ]
    },
    {
      "cell_type": "code",
      "execution_count": 3,
      "metadata": {
        "colab": {
          "base_uri": "https://localhost:8080/"
        },
        "id": "2G2rLnN5y6Jj",
        "outputId": "19c7fe74-17ad-4e15-bdaa-1500e1142785"
      },
      "outputs": [
        {
          "output_type": "stream",
          "name": "stdout",
          "text": [
            "Downloading https://www.cs.toronto.edu/~kriz/cifar-10-python.tar.gz to ./data/cifar-10-python.tar.gz\n"
          ]
        },
        {
          "output_type": "stream",
          "name": "stderr",
          "text": [
            "100%|██████████| 170498071/170498071 [00:12<00:00, 13232545.52it/s]\n"
          ]
        },
        {
          "output_type": "stream",
          "name": "stdout",
          "text": [
            "Extracting ./data/cifar-10-python.tar.gz to ./data\n",
            "Files already downloaded and verified\n"
          ]
        }
      ],
      "source": [
        "transform = transforms.Compose(\n",
        "        [transforms.ToTensor(),\n",
        "         transforms.Normalize((0.5, 0.5, 0.5), (0.5, 0.5, 0.5))]\n",
        ")\n",
        "\n",
        "train_loader, val_loader, test_loader = get_cifar10_data(batch_size=64, \n",
        "                                                         transform_train=transform)"
      ]
    },
    {
      "cell_type": "markdown",
      "metadata": {
        "id": "-82HWgXs77W1"
      },
      "source": [
        "Посмотрим на изображения:"
      ]
    },
    {
      "cell_type": "code",
      "execution_count": 4,
      "metadata": {
        "colab": {
          "base_uri": "https://localhost:8080/",
          "height": 211
        },
        "id": "ACnwaC5iy6L2",
        "outputId": "a0ae4178-cf38-4973-eea8-03520c0b3232"
      },
      "outputs": [
        {
          "output_type": "display_data",
          "data": {
            "text/plain": [
              "<Figure size 640x480 with 1 Axes>"
            ],
            "image/png": "[encoded data removed]"
          },
          "metadata": {}
        },
        {
          "output_type": "stream",
          "name": "stdout",
          "text": [
            "ship frog horse horse\n"
          ]
        }
      ],
      "source": [
        "def imshow(img):\n",
        "    img = img / 2 + 0.5    \n",
        "    npimg = img.numpy()\n",
        "    plt.imshow(np.transpose(npimg, (1, 2, 0)))\n",
        "    plt.show()\n",
        "\n",
        "\n",
        "dataiter = iter(train_loader)\n",
        "images, labels = next(dataiter)\n",
        "\n",
        "imshow(torchvision.utils.make_grid(images[:4]))\n",
        "\n",
        "classes = ('plane', 'car', 'bird', 'cat',\n",
        "           'deer', 'dog', 'frog', 'horse', 'ship', 'truck')\n",
        "print(*[classes[labels[i]] for i in range(4)])"
      ]
    },
    {
      "cell_type": "markdown",
      "metadata": {
        "id": "KFDilng29YZ_"
      },
      "source": [
        "## 1. Задание сверточной сети (3 балла)"
      ]
    },
    {
      "cell_type": "markdown",
      "metadata": {
        "id": "OX7Ul8YbYdQR"
      },
      "source": [
        "Теперь нам нужно задать сверточную нейронную сеть, которую мы будем обучать классифицировать изображения.\n",
        "\n",
        "Используем сеть, основанную на одном блоке архитектуры ResNet.\n",
        "\n",
        "<img src=\"https://i.ibb.co/2hg962h/basic-block.png\" width=\"500\"/>\n",
        "\n",
        "__Указания:__\n",
        "\n",
        "- Все сверточные слои должны иметь 32 выходных канала, а также не должны изменять ширину и высоту изображения.\n",
        "- Выход блока сократите до размерности 32х4х4, применив average pooling.\n",
        "- Для получения итоговых логитов, распрямите выход пулинга в вектор из 512 элементов, а затем пропустите его через линейный слой."
      ]
    },
    {
      "cell_type": "markdown",
      "metadata": {
        "id": "sbyIylT9O9Dr"
      },
      "source": [
        "**Задание 1.1 (3 балла).**\n",
        "\n",
        "Определите архитектуру сети соответственно схеме и указаниям выше.\n",
        "\n",
        "Ключевые слова: <code>Conv2d</code>, <code>BatchNorm2d</code>, <code>AvgPool2d</code>."
      ]
    },
    {
      "cell_type": "code",
      "execution_count": 5,
      "metadata": {
        "id": "s9ml1QGKy6N9"
      },
      "outputs": [],
      "source": [
        "n_classes = 10\n",
        "\n",
        "class BasicBlockNet(nn.Module):\n",
        "    def __init__(self):\n",
        "        super().__init__()\n",
        "        \n",
        "        self.input_block = nn.Sequential(\n",
        "            nn.Conv2d(in_channels=3, out_channels=32, kernel_size=3, padding='same'),\n",
        "            nn.BatchNorm2d(32),\n",
        "            nn.ReLU(),\n",
        "            nn.Conv2d(in_channels=32, out_channels=32, kernel_size=3, padding='same'),\n",
        "            nn.BatchNorm2d(32)\n",
        "        )\n",
        "\n",
        "        self.conv1x1 = nn.Conv2d(in_channels=3, out_channels=32, kernel_size=1)\n",
        "\n",
        "        self.out_block = nn.Sequential(\n",
        "            nn.ReLU(),\n",
        "            nn.AvgPool2d(8),\n",
        "            nn.Flatten(1),\n",
        "            nn.Linear(512, n_classes)\n",
        "        )\n",
        "\n",
        "    def forward(self, x):\n",
        "        out = self.input_block(x) + self.conv1x1(x)\n",
        "        out = self.out_block(out)\n",
        "\n",
        "        return out"
      ]
    },
    {
      "cell_type": "code",
      "execution_count": 6,
      "metadata": {
        "id": "FI4BQg7Ky6Pw",
        "colab": {
          "base_uri": "https://localhost:8080/"
        },
        "outputId": "562933e7-0668-4e87-ec29-e8f80a8ca6bd"
      },
      "outputs": [
        {
          "output_type": "execute_result",
          "data": {
            "text/plain": [
              "BasicBlockNet(\n",
              "  (input_block): Sequential(\n",
              "    (0): Conv2d(3, 32, kernel_size=(3, 3), stride=(1, 1), padding=same)\n",
              "    (1): BatchNorm2d(32, eps=1e-05, momentum=0.1, affine=True, track_running_stats=True)\n",
              "    (2): ReLU()\n",
              "    (3): Conv2d(32, 32, kernel_size=(3, 3), stride=(1, 1), padding=same)\n",
              "    (4): BatchNorm2d(32, eps=1e-05, momentum=0.1, affine=True, track_running_stats=True)\n",
              "  )\n",
              "  (conv1x1): Conv2d(3, 32, kernel_size=(1, 1), stride=(1, 1))\n",
              "  (out_block): Sequential(\n",
              "    (0): ReLU()\n",
              "    (1): AvgPool2d(kernel_size=8, stride=8, padding=0)\n",
              "    (2): Flatten(start_dim=1, end_dim=-1)\n",
              "    (3): Linear(in_features=512, out_features=10, bias=True)\n",
              "  )\n",
              ")"
            ]
          },
          "metadata": {},
          "execution_count": 6
        }
      ],
      "source": [
        "net = BasicBlockNet()\n",
        "net"
      ]
    },
    {
      "cell_type": "markdown",
      "metadata": {
        "id": "igPoGZEub8d3"
      },
      "source": [
        "Проверим, что выход сети имеет корректную размерность:"
      ]
    },
    {
      "cell_type": "code",
      "execution_count": 7,
      "metadata": {
        "id": "cCIzFUpJ_Agw"
      },
      "outputs": [],
      "source": [
        "assert net(torch.zeros((10, 3, 32, 32))).shape == (10, 10)"
      ]
    },
    {
      "cell_type": "markdown",
      "metadata": {
        "id": "08osX622cDGz"
      },
      "source": [
        "Чтобы проводить вычисления на GPU, в PyTorch необходимо руками перекладывать объекты, с которыми вы хотите проводить вычисления, на графический ускоритель. Это делается следующим образрм:"
      ]
    },
    {
      "cell_type": "code",
      "execution_count": 8,
      "metadata": {
        "id": "56hDOMCFcDZX",
        "colab": {
          "base_uri": "https://localhost:8080/"
        },
        "outputId": "1edfe077-55d2-4355-8d4c-a480f415b54a"
      },
      "outputs": [
        {
          "output_type": "stream",
          "name": "stdout",
          "text": [
            "cuda:0\n"
          ]
        }
      ],
      "source": [
        "device = torch.device('cuda:0' if torch.cuda.is_available() else 'cpu')\n",
        "print(device)"
      ]
    },
    {
      "cell_type": "code",
      "execution_count": 9,
      "metadata": {
        "id": "ohnDWbp0qbtC"
      },
      "outputs": [],
      "source": [
        "net = net.to(device)"
      ]
    },
    {
      "cell_type": "markdown",
      "metadata": {
        "id": "H_bOlTVUp5QF"
      },
      "source": [
        "Подключение GPU в google.colab:\n",
        "\n",
        "**Среда выполнения** -> **Сменить среду выполнения** -> **Аппаратный ускоритель** -> **GPU**"
      ]
    },
    {
      "cell_type": "markdown",
      "metadata": {
        "id": "AGi6XX_7_Bgg"
      },
      "source": [
        "## 2. Обучение и тестирование модели (3 балла)"
      ]
    },
    {
      "cell_type": "markdown",
      "metadata": {
        "id": "0agj_MQoO9Ds"
      },
      "source": [
        "**Задание 2.1 (2 балла).** Переходим к обучению модели. Заполните пропуски в функциях <code>test</code> и <code>train_epoch</code>. В качестве функции потерь будем использовать [кросс-энтропию](https://pytorch.org/docs/stable/generated/torch.nn.functional.cross_entropy.html), а в качестве метрики качества accuracy."
      ]
    },
    {
      "cell_type": "code",
      "execution_count": 14,
      "metadata": {
        "id": "g8gsPPRIevDS"
      },
      "outputs": [],
      "source": [
        "def test(model, criterion, test_loader):\n",
        "    loss_log = []\n",
        "    acc_log = []\n",
        "    model.eval()\n",
        "    \n",
        "    for data, target in test_loader:\n",
        "        data = data.to(device)\n",
        "        target = target.to(device)\n",
        "\n",
        "        with torch.no_grad():\n",
        "            logits = model(data)\n",
        "            loss = criterion(logits, target)\n",
        "\n",
        "        loss_log.append(loss.item() * data.shape[0])\n",
        "        \n",
        "        acc = (logits.argmax(dim=1) == target).sum()\n",
        "        acc_log.append(acc.item() / data.shape[0])  \n",
        "        \n",
        "    return np.mean(loss_log), np.mean(acc_log)\n",
        "\n",
        "def train_epoch(model, optimizer, criterion, train_loader):\n",
        "    loss_log = []\n",
        "    acc_log = []\n",
        "    model.train()\n",
        "    \n",
        "    for data, target in train_loader:\n",
        "        data = data.to(device)\n",
        "        target = target.to(device)\n",
        "        \n",
        "        optimizer.zero_grad()\n",
        "        logits = model(data)\n",
        "        loss = criterion(logits, target)\n",
        "        loss.backward()\n",
        "        optimizer.step()\n",
        "        \n",
        "        loss_log.append(loss.item() * data.shape[0])\n",
        "        \n",
        "        acc = (logits.argmax(dim=1) == target).sum()\n",
        "        acc_log.append(acc.item() / data.shape[0])  \n",
        "\n",
        "    return loss_log, acc_log\n",
        "\n",
        "def train(model, optimizer, criterion, n_epochs, train_loader, val_loader, scheduler=None):\n",
        "    train_loss_log, train_acc_log, val_loss_log, val_acc_log = [], [], [], []\n",
        "\n",
        "    for epoch in range(n_epochs):\n",
        "        train_loss, train_acc = train_epoch(model, optimizer, criterion, train_loader)\n",
        "        val_loss, val_acc = test(model, criterion, val_loader)\n",
        "        \n",
        "        train_loss_log.extend(train_loss)\n",
        "        train_acc_log.extend(train_acc)\n",
        "        \n",
        "        val_loss_log.append(val_loss)\n",
        "        val_acc_log.append(val_acc)\n",
        "\n",
        "        print(f\"Epoch {epoch}\")\n",
        "        print(f\" train loss: {np.mean(train_loss)}, train acc: {np.mean(train_acc)}\")\n",
        "        print(f\" val loss: {val_loss}, val acc: {val_acc}\\n\")\n",
        "        \n",
        "        if scheduler is not None:\n",
        "            scheduler.step()\n",
        "\n",
        "    return train_loss_log, train_acc_log, val_loss_log, val_acc_log"
      ]
    },
    {
      "cell_type": "markdown",
      "metadata": {
        "id": "iSOqk_CAO9Dt"
      },
      "source": [
        "Запустим обучение модели. В качестве оптимизатора будем использовать стохастический градиентный спуск, который является де-факто стандартом в задачах компьютерного зрения (наравне с <code>Adam</code>).\n",
        "\n",
        "__Замечание:__ Для достижения наилучшего качества в нашем случае потребуется обучать модель несколько сотен эпох. Однако в целях экономии вашего времени и сил, во всех экспериментах мы ограничимся 20 эпохами."
      ]
    },
    {
      "cell_type": "code",
      "execution_count": 15,
      "metadata": {
        "id": "MKZBGhuAgMDu",
        "scrolled": true,
        "colab": {
          "base_uri": "https://localhost:8080/"
        },
        "outputId": "f5ee94b8-032e-4c47-8a1c-31105fe638d4"
      },
      "outputs": [
        {
          "output_type": "stream",
          "name": "stdout",
          "text": [
            "Epoch 0\n",
            " train loss: 92.82704878637952, train acc: 0.4834935688169234\n",
            " val loss: 75.5393921101347, val acc: 0.5826462765957446\n",
            "\n",
            "Epoch 1\n",
            " train loss: 72.53310208433943, train acc: 0.6031600940193262\n",
            " val loss: 71.39202705951448, val acc: 0.6189716312056737\n",
            "\n",
            "Epoch 2\n",
            " train loss: 65.90655193206815, train acc: 0.6417023047793158\n",
            " val loss: 67.12285046475999, val acc: 0.638142730496454\n",
            "\n",
            "Epoch 3\n",
            " train loss: 62.444924511464905, train acc: 0.6615589905980674\n",
            " val loss: 63.99171820092708, val acc: 0.6536347517730497\n",
            "\n",
            "Epoch 4\n",
            " train loss: 60.50354692748521, train acc: 0.6712873792112823\n",
            " val loss: 63.89027692713636, val acc: 0.6537898936170212\n",
            "\n",
            "Epoch 5\n",
            " train loss: 59.013831169993175, train acc: 0.6793753264559937\n",
            " val loss: 60.893363828861965, val acc: 0.6732491134751774\n",
            "\n",
            "Epoch 6\n",
            " train loss: 57.271184576930686, train acc: 0.6891975711674067\n",
            " val loss: 66.37835934415777, val acc: 0.6511303191489362\n",
            "\n",
            "Epoch 7\n",
            " train loss: 56.22707645897456, train acc: 0.6936536954818491\n",
            " val loss: 61.78600924065773, val acc: 0.6735593971631205\n",
            "\n",
            "Epoch 8\n",
            " train loss: 54.86179278668364, train acc: 0.703871768085662\n",
            " val loss: 60.66667869243216, val acc: 0.6673537234042554\n",
            "\n",
            "Epoch 9\n",
            " train loss: 54.3214224112753, train acc: 0.7051041394620005\n",
            " val loss: 58.522077895225365, val acc: 0.6903590425531915\n",
            "\n",
            "Epoch 10\n",
            " train loss: 53.45351534656894, train acc: 0.7095969900757377\n",
            " val loss: 57.46829393468005, val acc: 0.6900265957446808\n",
            "\n",
            "Epoch 11\n",
            " train loss: 52.77886989478437, train acc: 0.7145019913815618\n",
            " val loss: 56.87291209444086, val acc: 0.6970744680851064\n",
            "\n",
            "Epoch 12\n",
            " train loss: 51.988512217889536, train acc: 0.7182276704100288\n",
            " val loss: 58.5162990712105, val acc: 0.6911125886524822\n",
            "\n",
            "Epoch 13\n",
            " train loss: 51.39926492230766, train acc: 0.7210719182554192\n",
            " val loss: 56.991181083435706, val acc: 0.6949024822695035\n",
            "\n",
            "Epoch 14\n",
            " train loss: 50.64473647565685, train acc: 0.7260952598589709\n",
            " val loss: 55.88251788362544, val acc: 0.7074024822695034\n",
            "\n",
            "Epoch 15\n",
            " train loss: 50.190297304603256, train acc: 0.7287558762078872\n",
            " val loss: 56.53193295864349, val acc: 0.6985593971631204\n",
            "\n",
            "Epoch 16\n",
            " train loss: 50.05649859290672, train acc: 0.7289109428049099\n",
            " val loss: 55.30672860247024, val acc: 0.7082890070921987\n",
            "\n",
            "Epoch 17\n",
            " train loss: 48.97900366390863, train acc: 0.7331915970227213\n",
            " val loss: 60.38397903442383, val acc: 0.6800088652482269\n",
            "\n",
            "Epoch 18\n",
            " train loss: 48.73350732635972, train acc: 0.7335425372159834\n",
            " val loss: 60.27873117162826, val acc: 0.6889627659574468\n",
            "\n",
            "Epoch 19\n",
            " train loss: 48.29700356384082, train acc: 0.7370723426482111\n",
            " val loss: 56.02521815198533, val acc: 0.6991578014184396\n",
            "\n"
          ]
        }
      ],
      "source": [
        "n_epochs = 20\n",
        "\n",
        "optimizer = optim.SGD(net.parameters(), lr=0.1, momentum=0.9)\n",
        "criterion = nn.CrossEntropyLoss()\n",
        "train_loss_log, train_acc_log, val_loss_log, val_acc_log = train(net,\n",
        "                                                                 optimizer, \n",
        "                                                                 criterion, \n",
        "                                                                 n_epochs, \n",
        "                                                                 train_loader, \n",
        "                                                                 val_loader)"
      ]
    },
    {
      "cell_type": "markdown",
      "metadata": {
        "id": "gUb1jQW8O9Dt"
      },
      "source": [
        "Посчитайте точность на тестовой выборке:"
      ]
    },
    {
      "cell_type": "code",
      "execution_count": 21,
      "metadata": {
        "id": "Jyuc55B9_Amc",
        "colab": {
          "base_uri": "https://localhost:8080/"
        },
        "outputId": "340d6c81-0947-4941-abde-a66fbdad0485"
      },
      "outputs": [
        {
          "output_type": "execute_result",
          "data": {
            "text/plain": [
              "(57.0634166085796, 0.6904856687898089)"
            ]
          },
          "metadata": {},
          "execution_count": 21
        }
      ],
      "source": [
        "test(net, criterion, test_loader)"
      ]
    },
    {
      "cell_type": "markdown",
      "metadata": {
        "id": "zM38Q9fwO9Dt"
      },
      "source": [
        "Если вы все сделали правильно, у вас должна была получиться точность $\\ge 67\\%$."
      ]
    },
    {
      "cell_type": "markdown",
      "metadata": {
        "id": "DHFNSKcoO9Dt"
      },
      "source": [
        "**Задание 2.2 (1 балл).** Постройте графики зависимости функции потерь и точности классификации от номера шага оптимизатора. На каждом графике расположите данные и для обучающей и для валидационной выборки, итого у вас должно получиться два графика. Обратите внимание, что на обучающей выборке эти данные считаются по каждому батчу, на валидационной же они считаются по всей выборке раз в эпоху."
      ]
    },
    {
      "cell_type": "code",
      "source": [
        "def plot_losses(n_epochs, train_losses, val_losses, train_accuracies, val_accuracies):\n",
        "    fig, axs = plt.subplots(1, 2, figsize=(13, 4))\n",
        "\n",
        "    val_step = len(train_acc_log) // n_epochs\n",
        "\n",
        "    axs[0].plot(range(1, len(train_losses) + 1), train_losses, label='train')\n",
        "    axs[0].plot(range(val_step, len(train_losses) + val_step, val_step), val_losses, label='val')\n",
        "    axs[0].set_ylabel('loss')\n",
        "\n",
        "    axs[1].plot(range(1, len(train_accuracies) + 1), train_accuracies, label='train')\n",
        "    axs[1].plot(range(val_step,  len(train_accuracies) + val_step, val_step), val_accuracies, label='val')\n",
        "    axs[1].set_ylabel('accuracy')\n",
        "\n",
        "\n",
        "    for ax in axs:\n",
        "        ax.set_xlabel('optimizer_step')\n",
        "        ax.legend()\n",
        "\n",
        "    plt.show()"
      ],
      "metadata": {
        "id": "yHLtlF5gc7qf"
      },
      "execution_count": 50,
      "outputs": []
    },
    {
      "cell_type": "code",
      "source": [
        "plot_losses(n_epochs, train_loss_log, val_loss_log, train_acc_log, val_acc_log)"
      ],
      "metadata": {
        "colab": {
          "base_uri": "https://localhost:8080/",
          "height": 365
        },
        "id": "u-9PDeBzeuzi",
        "outputId": "9a5553c2-6573-4703-867e-1cf977779771"
      },
      "execution_count": 51,
      "outputs": [
        {
          "output_type": "display_data",
          "data": {
            "text/plain": [
              "<Figure size 1300x400 with 2 Axes>"
            ],
            "image/png": "[encoded data removed]"
          },
          "metadata": {}
        }
      ]
    },
    {
      "cell_type": "markdown",
      "metadata": {
        "id": "_ttOJPj-O9Dt"
      },
      "source": [
        "## 3. Расписание длины шага (2 балла)"
      ]
    },
    {
      "cell_type": "markdown",
      "metadata": {
        "id": "qiz3JstuO9Dt"
      },
      "source": [
        "С курса \"Машинное обучение 1\" вы уже должны знать, что сходимость стохастического градиентного спуска мы можем теоретически гарантировать только если будем определенным образом со временем уменьшать длину шага. На практике при обучении нейронных сетей такая техника оказывается очень полезной, однако теоретически обоснованными способами уменьшения длины шага фантазия не ограничивается.\n",
        "\n",
        "Одним из простейших способов является кусочно постоянная функция: на нескольких фиксированных эпохах уменьшаем длину шага в константу раз."
      ]
    },
    {
      "cell_type": "code",
      "execution_count": 52,
      "metadata": {
        "id": "V2Z0OT3nO9Du",
        "colab": {
          "base_uri": "https://localhost:8080/"
        },
        "outputId": "842b4ec1-7b4e-4c56-b85f-7c0717668e52"
      },
      "outputs": [
        {
          "output_type": "stream",
          "name": "stdout",
          "text": [
            "Epoch 0\n",
            " train loss: 93.66474737589276, train acc: 0.4792904478976234\n",
            " val loss: 80.82333084674592, val acc: 0.5555629432624114\n",
            "\n",
            "Epoch 1\n",
            " train loss: 73.2175393043532, train acc: 0.6006667863671976\n",
            " val loss: 73.96090319613192, val acc: 0.5969193262411349\n",
            "\n",
            "Epoch 2\n",
            " train loss: 66.99446499107961, train acc: 0.6350711674066336\n",
            " val loss: 77.33126831866325, val acc: 0.586325354609929\n",
            "\n",
            "Epoch 3\n",
            " train loss: 63.17124056249475, train acc: 0.6562418386001567\n",
            " val loss: 63.13795751612237, val acc: 0.6609929078014184\n",
            "\n",
            "Epoch 4\n",
            " train loss: 60.528148572667206, train acc: 0.6710262144162966\n",
            " val loss: 64.14800746187251, val acc: 0.6513741134751774\n",
            "\n",
            "Epoch 5\n",
            " train loss: 58.57574325069867, train acc: 0.6818808762078872\n",
            " val loss: 61.49465620568458, val acc: 0.6657801418439715\n",
            "\n",
            "Epoch 6\n",
            " train loss: 57.421176767436414, train acc: 0.6858309937320449\n",
            " val loss: 59.35741451344592, val acc: 0.6829343971631204\n",
            "\n",
            "Epoch 7\n",
            " train loss: 56.26333085013046, train acc: 0.6937271480804388\n",
            " val loss: 57.642351674019025, val acc: 0.6888297872340425\n",
            "\n",
            "Epoch 8\n",
            " train loss: 55.10620146128988, train acc: 0.6986158265865761\n",
            " val loss: 59.094106755358105, val acc: 0.683843085106383\n",
            "\n",
            "Epoch 9\n",
            " train loss: 54.60120113414646, train acc: 0.703871768085662\n",
            " val loss: 57.19570634314354, val acc: 0.6914671985815604\n",
            "\n",
            "Epoch 10\n",
            " train loss: 47.51591423268292, train acc: 0.7451562091930009\n",
            " val loss: 53.40154916479232, val acc: 0.7144725177304966\n",
            "\n",
            "Epoch 11\n",
            " train loss: 46.358428462549796, train acc: 0.7495756072081483\n",
            " val loss: 53.01580667292818, val acc: 0.7194370567375886\n",
            "\n",
            "Epoch 12\n",
            " train loss: 46.04767489128182, train acc: 0.7511956450770437\n",
            " val loss: 52.872338538474224, val acc: 0.7163120567375886\n",
            "\n",
            "Epoch 13\n",
            " train loss: 45.79387071232909, train acc: 0.7527463110472707\n",
            " val loss: 52.891738396502554, val acc: 0.7171542553191489\n",
            "\n",
            "Epoch 14\n",
            " train loss: 45.41947858120013, train acc: 0.7541174262209454\n",
            " val loss: 52.37707260213, val acc: 0.7219414893617021\n",
            "\n",
            "Epoch 15\n",
            " train loss: 44.572466853767686, train acc: 0.7600711674066336\n",
            " val loss: 52.16285855313565, val acc: 0.7230053191489362\n",
            "\n",
            "Epoch 16\n",
            " train loss: 44.48328082522265, train acc: 0.7613117001828154\n",
            " val loss: 52.0738527176228, val acc: 0.7222739361702127\n",
            "\n",
            "Epoch 17\n",
            " train loss: 44.34248190518925, train acc: 0.7613198615826586\n",
            " val loss: 52.07300048990452, val acc: 0.7229609929078014\n",
            "\n",
            "Epoch 18\n",
            " train loss: 44.37873330107555, train acc: 0.7605608513972316\n",
            " val loss: 52.13786352035847, val acc: 0.7221631205673759\n",
            "\n",
            "Epoch 19\n",
            " train loss: 44.319990379500865, train acc: 0.7614463632802299\n",
            " val loss: 52.05349097556256, val acc: 0.720877659574468\n",
            "\n"
          ]
        }
      ],
      "source": [
        "net = BasicBlockNet().to(device)\n",
        "optimizer = optim.SGD(net.parameters(), lr=0.1, momentum=0.9)\n",
        "criterion = nn.CrossEntropyLoss()\n",
        "scheduler = optim.lr_scheduler.MultiStepLR(optimizer, milestones=[10, 15], gamma=0.1)\n",
        "tr_loss_log, tr_acc_log, val_loss_log, val_acc_log = train(net,\n",
        "                                                           optimizer,\n",
        "                                                           criterion,\n",
        "                                                           n_epochs,\n",
        "                                                           train_loader,\n",
        "                                                           val_loader,\n",
        "                                                           scheduler)"
      ]
    },
    {
      "cell_type": "markdown",
      "metadata": {
        "id": "5Xc76KvzO9Du"
      },
      "source": [
        "Посчитайте точность на тестовой выборке:"
      ]
    },
    {
      "cell_type": "code",
      "execution_count": 53,
      "metadata": {
        "id": "1AjiYhKqO9Du",
        "colab": {
          "base_uri": "https://localhost:8080/"
        },
        "outputId": "7461e850-387f-4a5a-be8a-5b707b335586"
      },
      "outputs": [
        {
          "output_type": "execute_result",
          "data": {
            "text/plain": [
              "(53.079603419941705, 0.7174562101910829)"
            ]
          },
          "metadata": {},
          "execution_count": 53
        }
      ],
      "source": [
        "test(net, criterion, test_loader)"
      ]
    },
    {
      "cell_type": "markdown",
      "source": [
        "Качество на тестовой выборке повысилось"
      ],
      "metadata": {
        "id": "tNjGeoOdjygv"
      }
    },
    {
      "cell_type": "markdown",
      "metadata": {
        "id": "yE0dgLYrO9Du"
      },
      "source": [
        "**Задание 3.0 (0.5 баллов).** Здесь может возникнуть вопрос: а что будет, если мы не будем уменьшать длину шага в процессе обучения, а сразу возьмем констатную, равную значению нашей кусочно-постоянной функции на последних эпохах, то есть $0.001$ в нашем случае. Запустите обучение и проверьте, что в таком случае мы получим худшее качество на тестовой выборке."
      ]
    },
    {
      "cell_type": "code",
      "execution_count": 54,
      "metadata": {
        "id": "qZ2iB-LBO9Du",
        "colab": {
          "base_uri": "https://localhost:8080/"
        },
        "outputId": "302f23fe-6a5a-4c2d-94e6-389623cf7801"
      },
      "outputs": [
        {
          "output_type": "stream",
          "name": "stdout",
          "text": [
            "Epoch 0\n",
            " train loss: 118.9342514365857, train acc: 0.34674931444241314\n",
            " val loss: 104.55992768064458, val acc: 0.4318484042553192\n",
            "\n",
            "Epoch 1\n",
            " train loss: 100.62431122572374, train acc: 0.44763645860538\n",
            " val loss: 94.97898217059196, val acc: 0.4780806737588653\n",
            "\n",
            "Epoch 2\n",
            " train loss: 92.45652637098128, train acc: 0.49229563854792374\n",
            " val loss: 89.84138829657373, val acc: 0.5048315602836879\n",
            "\n",
            "Epoch 3\n",
            " train loss: 87.06943841303071, train acc: 0.5224887372682162\n",
            " val loss: 83.8732255935669, val acc: 0.5406693262411347\n",
            "\n",
            "Epoch 4\n",
            " train loss: 83.1540149343515, train acc: 0.5456263058239749\n",
            " val loss: 80.24779410260788, val acc: 0.5645833333333332\n",
            "\n",
            "Epoch 5\n",
            " train loss: 79.70304286370984, train acc: 0.5636752415774353\n",
            " val loss: 77.52017570252114, val acc: 0.578302304964539\n",
            "\n",
            "Epoch 6\n",
            " train loss: 77.08152416724391, train acc: 0.581499738835205\n",
            " val loss: 76.71660875361016, val acc: 0.5807624113475178\n",
            "\n",
            "Epoch 7\n",
            " train loss: 74.24530564714394, train acc: 0.5959862235570645\n",
            " val loss: 74.08481391338591, val acc: 0.591799645390071\n",
            "\n",
            "Epoch 8\n",
            " train loss: 72.0097463091723, train acc: 0.6109827957691303\n",
            " val loss: 71.39360597894547, val acc: 0.6111258865248226\n",
            "\n",
            "Epoch 9\n",
            " train loss: 69.75798159151235, train acc: 0.6218374575607208\n",
            " val loss: 68.37686966023547, val acc: 0.623049645390071\n",
            "\n",
            "Epoch 10\n",
            " train loss: 68.1432060323642, train acc: 0.6313006006790285\n",
            " val loss: 67.44172448097392, val acc: 0.6305186170212767\n",
            "\n",
            "Epoch 11\n",
            " train loss: 66.42166038492262, train acc: 0.6366708017759206\n",
            " val loss: 66.28831108580245, val acc: 0.6357491134751774\n",
            "\n",
            "Epoch 12\n",
            " train loss: 65.33999539293363, train acc: 0.6461257834943849\n",
            " val loss: 64.07297536971721, val acc: 0.6508200354609929\n",
            "\n",
            "Epoch 13\n",
            " train loss: 63.97153968218257, train acc: 0.6537607730477932\n",
            " val loss: 66.05809335708618, val acc: 0.6374113475177305\n",
            "\n",
            "Epoch 14\n",
            " train loss: 63.0973922216914, train acc: 0.6575354204753199\n",
            " val loss: 62.803657499272774, val acc: 0.6570921985815603\n",
            "\n",
            "Epoch 15\n",
            " train loss: 62.06065126659665, train acc: 0.6636727931574824\n",
            " val loss: 63.125448005757434, val acc: 0.6565602836879434\n",
            "\n",
            "Epoch 16\n",
            " train loss: 61.40927984335305, train acc: 0.6684512927657351\n",
            " val loss: 62.41423801462701, val acc: 0.6613918439716311\n",
            "\n",
            "Epoch 17\n",
            " train loss: 61.01524658656425, train acc: 0.6696714220423088\n",
            " val loss: 61.13034869457813, val acc: 0.6686613475177305\n",
            "\n",
            "Epoch 18\n",
            " train loss: 59.93252140686761, train acc: 0.6777348850874901\n",
            " val loss: 61.29503386274297, val acc: 0.6656471631205673\n",
            "\n",
            "Epoch 19\n",
            " train loss: 59.61813697082687, train acc: 0.6778736288848263\n",
            " val loss: 59.69695895783445, val acc: 0.6762189716312056\n",
            "\n"
          ]
        }
      ],
      "source": [
        "net = BasicBlockNet().to(device)\n",
        "optimizer = optim.SGD(net.parameters(), lr=0.001, momentum=0.9)\n",
        "criterion = nn.CrossEntropyLoss()\n",
        "tr_loss_log, tr_acc_log, val_loss_log, val_acc_log = train(net,\n",
        "                                                           optimizer,\n",
        "                                                           criterion,\n",
        "                                                           n_epochs,\n",
        "                                                           train_loader,\n",
        "                                                           val_loader)"
      ]
    },
    {
      "cell_type": "code",
      "source": [
        "test(net, criterion, test_loader)"
      ],
      "metadata": {
        "colab": {
          "base_uri": "https://localhost:8080/"
        },
        "id": "YUVocPBflcSm",
        "outputId": "f511a3f4-0e8d-4694-d2c7-5bd7be2d42d1"
      },
      "execution_count": 55,
      "outputs": [
        {
          "output_type": "execute_result",
          "data": {
            "text/plain": [
              "(59.73864242529414, 0.6754578025477707)"
            ]
          },
          "metadata": {},
          "execution_count": 55
        }
      ]
    },
    {
      "cell_type": "markdown",
      "source": [
        "Качество на тестовый выборке при константном lr=0.001 стало хуже"
      ],
      "metadata": {
        "id": "lWbh6eyjlgcl"
      }
    },
    {
      "cell_type": "markdown",
      "metadata": {
        "id": "xVotU378O9Du"
      },
      "source": [
        "**Задание 3.1 (1.5 балла).** Изучите, какие еще способы уменьшения длины шага представлены в <code>torch.optim.lr_scheduler</code>. Выберите несколько из них, объясните, как они устроены, и обучите модель с ними. Удалось ли добиться улучшения качества на тестовой выборке?"
      ]
    },
    {
      "cell_type": "markdown",
      "source": [
        "[torch.optim.lr_scheduler.LambdaLR](https://pytorch.org/docs/stable/generated/torch.optim.lr_scheduler.LambdaLR.html#torch.optim.lr_scheduler.LambdaLR) Устанавливает скорость обучения каждой группы параметров на начальное значение lr, умноженное на заданную функцию. Когда last_epoch=-1, устанавливает начальный lr как lr."
      ],
      "metadata": {
        "id": "TrUf3NHclslI"
      }
    },
    {
      "cell_type": "markdown",
      "source": [
        "lr_epoch = lr_initial * Lambda(epoch)"
      ],
      "metadata": {
        "id": "vJhoa8gym1q1"
      }
    },
    {
      "cell_type": "code",
      "execution_count": 57,
      "metadata": {
        "id": "nkGlzocOO9Du",
        "colab": {
          "base_uri": "https://localhost:8080/"
        },
        "outputId": "4bdd53d0-fb99-401c-94bc-f72255346fc5"
      },
      "outputs": [
        {
          "output_type": "stream",
          "name": "stdout",
          "text": [
            "Epoch 0\n",
            " train loss: 93.80461333133621, train acc: 0.4800943457821885\n",
            " val loss: 80.7732825948837, val acc: 0.5541445035460992\n",
            "\n",
            "Epoch 1\n",
            " train loss: 71.70632679414487, train acc: 0.609901410289893\n",
            " val loss: 70.34756507061897, val acc: 0.6186613475177306\n",
            "\n",
            "Epoch 2\n",
            " train loss: 64.02680393721111, train acc: 0.6518999738835205\n",
            " val loss: 63.495970792973296, val acc: 0.6542331560283688\n",
            "\n",
            "Epoch 3\n",
            " train loss: 59.61662524709754, train acc: 0.6773186536954818\n",
            " val loss: 60.319222007913794, val acc: 0.6737810283687944\n",
            "\n",
            "Epoch 4\n",
            " train loss: 57.050546833540444, train acc: 0.6908135283363802\n",
            " val loss: 59.307894311052685, val acc: 0.680895390070922\n",
            "\n",
            "Epoch 5\n",
            " train loss: 55.18272170724119, train acc: 0.7022068425176287\n",
            " val loss: 57.95562492532933, val acc: 0.6865469858156029\n",
            "\n",
            "Epoch 6\n",
            " train loss: 53.91192682046559, train acc: 0.7105722773570123\n",
            " val loss: 56.686201541981795, val acc: 0.6907801418439715\n",
            "\n",
            "Epoch 7\n",
            " train loss: 52.88881366823883, train acc: 0.7164648080438757\n",
            " val loss: 56.17839050292969, val acc: 0.6934840425531915\n",
            "\n",
            "Epoch 8\n",
            " train loss: 52.360958190025315, train acc: 0.7189132279968661\n",
            " val loss: 55.6269467637894, val acc: 0.696764184397163\n",
            "\n",
            "Epoch 9\n",
            " train loss: 51.96443405186236, train acc: 0.7206638482632541\n",
            " val loss: 55.39081708826917, val acc: 0.6997340425531915\n",
            "\n",
            "Epoch 10\n",
            " train loss: 51.71791646598244, train acc: 0.7236509206059023\n",
            " val loss: 55.1934177987119, val acc: 0.7002659574468085\n",
            "\n",
            "Epoch 11\n",
            " train loss: 51.387218199002895, train acc: 0.7262870527552886\n",
            " val loss: 55.102283970853115, val acc: 0.7000664893617021\n",
            "\n",
            "Epoch 12\n",
            " train loss: 51.26695374378993, train acc: 0.7257606424653957\n",
            " val loss: 54.996523940309565, val acc: 0.7\n",
            "\n",
            "Epoch 13\n",
            " train loss: 51.20791541767295, train acc: 0.7256708670671194\n",
            " val loss: 55.0057268913756, val acc: 0.700531914893617\n",
            "\n",
            "Epoch 14\n",
            " train loss: 51.14102039999674, train acc: 0.7261156633585794\n",
            " val loss: 55.007008578929494, val acc: 0.7009308510638298\n",
            "\n",
            "Epoch 15\n",
            " train loss: 51.09938503401371, train acc: 0.7263809088534865\n",
            " val loss: 54.991364821981875, val acc: 0.7\n",
            "\n",
            "Epoch 16\n",
            " train loss: 51.089365989678086, train acc: 0.726960368242361\n",
            " val loss: 54.98382310867309, val acc: 0.7005984042553192\n",
            "\n",
            "Epoch 17\n",
            " train loss: 51.037931241762486, train acc: 0.7262707299556019\n",
            " val loss: 54.96776018548519, val acc: 0.7001329787234043\n",
            "\n",
            "Epoch 18\n",
            " train loss: 50.9622679837661, train acc: 0.7271399190389136\n",
            " val loss: 54.973062744546446, val acc: 0.7019946808510639\n",
            "\n",
            "Epoch 19\n",
            " train loss: 50.90473173218192, train acc: 0.7284906307129799\n",
            " val loss: 54.95085618851033, val acc: 0.7005984042553192\n",
            "\n"
          ]
        }
      ],
      "source": [
        "net = BasicBlockNet().to(device)\n",
        "optimizer = optim.SGD(net.parameters(), lr=0.1, momentum=0.9)\n",
        "criterion = nn.CrossEntropyLoss()\n",
        "scheduler = optim.lr_scheduler.LambdaLR(optimizer, lr_lambda=lambda epoch: 0.65 ** epoch)\n",
        "tr_loss_log, tr_acc_log, val_loss_log, val_acc_log = train(net,\n",
        "                                                           optimizer,\n",
        "                                                           criterion,\n",
        "                                                           n_epochs,\n",
        "                                                           train_loader,\n",
        "                                                           val_loader,\n",
        "                                                           scheduler)"
      ]
    },
    {
      "cell_type": "code",
      "source": [
        "test(net, criterion, test_loader)"
      ],
      "metadata": {
        "colab": {
          "base_uri": "https://localhost:8080/"
        },
        "id": "66u5ifiJo4YN",
        "outputId": "0a5e8bcc-2448-4baa-f846-e3464ae68080"
      },
      "execution_count": 58,
      "outputs": [
        {
          "output_type": "execute_result",
          "data": {
            "text/plain": [
              "(55.32412949337321, 0.7007364649681529)"
            ]
          },
          "metadata": {},
          "execution_count": 58
        }
      ]
    },
    {
      "cell_type": "markdown",
      "source": [
        "Качество на валидационной выборке хуже чем при MultiStepLR, но лучше чем вообще без scheduler"
      ],
      "metadata": {
        "id": "gR6TRiGSo_qb"
      }
    },
    {
      "cell_type": "markdown",
      "source": [
        "[torch.optim.lr_scheduler.ExponentialLR](https://pytorch.org/docs/stable/generated/torch.optim.lr_scheduler.ExponentialLR.html#torch.optim.lr_scheduler.ExponentialLR)  Снижает скорость обучения каждой группы параметров по гамме каждую эпоху. Когда last_epoch=-1, устанавливает начальный lr как lr."
      ],
      "metadata": {
        "id": "wYG-nMNqpg_0"
      }
    },
    {
      "cell_type": "markdown",
      "source": [
        "$$lr_{epoch} = 𝐺𝑎𝑚𝑚𝑎 * lr_{epoch - 1}$$\n",
        " \n"
      ],
      "metadata": {
        "id": "kY4qxS24ptoI"
      }
    },
    {
      "cell_type": "code",
      "source": [
        "net = BasicBlockNet().to(device)\n",
        "optimizer = optim.SGD(net.parameters(), lr=0.1, momentum=0.9)\n",
        "criterion = nn.CrossEntropyLoss()\n",
        "scheduler = optim.lr_scheduler.ExponentialLR(optimizer, gamma=0.1)\n",
        "tr_loss_log, tr_acc_log, val_loss_log, val_acc_log = train(net,\n",
        "                                                           optimizer,\n",
        "                                                           criterion,\n",
        "                                                           n_epochs,\n",
        "                                                           train_loader,\n",
        "                                                           val_loader,\n",
        "                                                           scheduler)"
      ],
      "metadata": {
        "colab": {
          "base_uri": "https://localhost:8080/"
        },
        "id": "rTD63QmKpTaA",
        "outputId": "7402e93b-be70-4d95-dee2-fb3cdb3aa367"
      },
      "execution_count": 59,
      "outputs": [
        {
          "output_type": "stream",
          "name": "stdout",
          "text": [
            "Epoch 0\n",
            " train loss: 95.37372497056477, train acc: 0.4675461935231131\n",
            " val loss: 78.13455966381316, val acc: 0.5728723404255319\n",
            "\n",
            "Epoch 1\n",
            " train loss: 70.48611872985114, train acc: 0.6124028793418648\n",
            " val loss: 68.63219982309545, val acc: 0.625531914893617\n",
            "\n",
            "Epoch 2\n",
            " train loss: 66.60392153982271, train acc: 0.6341530099242623\n",
            " val loss: 67.22338562417538, val acc: 0.6335992907801418\n",
            "\n",
            "Epoch 3\n",
            " train loss: 66.10481765457655, train acc: 0.6390620919300078\n",
            " val loss: 67.15891683862564, val acc: 0.6332890070921987\n",
            "\n",
            "Epoch 4\n",
            " train loss: 66.09559684348935, train acc: 0.6388662183337687\n",
            " val loss: 67.16369164243658, val acc: 0.6333998226950354\n",
            "\n",
            "Epoch 5\n",
            " train loss: 66.07607232412865, train acc: 0.6405107404021938\n",
            " val loss: 67.1437810938409, val acc: 0.6327570921985817\n",
            "\n",
            "Epoch 6\n",
            " train loss: 66.06753369877063, train acc: 0.6392538848263254\n",
            " val loss: 67.12697061579279, val acc: 0.6343971631205673\n",
            "\n",
            "Epoch 7\n",
            " train loss: 66.1441609279765, train acc: 0.6367156894750587\n",
            " val loss: 67.13109709962886, val acc: 0.6341533687943263\n",
            "\n",
            "Epoch 8\n",
            " train loss: 66.05483904181277, train acc: 0.6399843301123008\n",
            " val loss: 67.15583880404209, val acc: 0.6329343971631205\n",
            "\n",
            "Epoch 9\n",
            " train loss: 66.05570003188724, train acc: 0.6400741055105772\n",
            " val loss: 67.20679934481358, val acc: 0.6320921985815604\n",
            "\n",
            "Epoch 10\n",
            " train loss: 66.07579929867872, train acc: 0.6379888678506137\n",
            " val loss: 67.12962349424971, val acc: 0.63395390070922\n",
            "\n",
            "Epoch 11\n",
            " train loss: 66.04503573883169, train acc: 0.6395599373204492\n",
            " val loss: 67.18863506722957, val acc: 0.6326241134751774\n",
            "\n",
            "Epoch 12\n",
            " train loss: 66.04020460955185, train acc: 0.6402577370070514\n",
            " val loss: 67.1161517691105, val acc: 0.6331560283687944\n",
            "\n",
            "Epoch 13\n",
            " train loss: 66.00759814469862, train acc: 0.6389111060329068\n",
            " val loss: 67.1402879633802, val acc: 0.6333998226950354\n",
            "\n",
            "Epoch 14\n",
            " train loss: 65.97720288097095, train acc: 0.6388702990336902\n",
            " val loss: 67.13969942052313, val acc: 0.6341533687943263\n",
            "\n",
            "Epoch 15\n",
            " train loss: 66.08149415352662, train acc: 0.6384785518412118\n",
            " val loss: 67.15925466253402, val acc: 0.6330895390070923\n",
            "\n",
            "Epoch 16\n",
            " train loss: 66.0936954121703, train acc: 0.6387070710368243\n",
            " val loss: 67.190976459422, val acc: 0.6341533687943263\n",
            "\n",
            "Epoch 17\n",
            " train loss: 66.07135433252812, train acc: 0.6397966179159049\n",
            " val loss: 67.19228229116887, val acc: 0.6336214539007093\n",
            "\n",
            "Epoch 18\n",
            " train loss: 66.01838772039744, train acc: 0.6395844215199791\n",
            " val loss: 67.19358012016784, val acc: 0.6338652482269502\n",
            "\n",
            "Epoch 19\n",
            " train loss: 66.06718037202546, train acc: 0.6383969378427788\n",
            " val loss: 67.17881864182492, val acc: 0.6329343971631205\n",
            "\n"
          ]
        }
      ]
    },
    {
      "cell_type": "code",
      "source": [
        "test(net, criterion, test_loader)"
      ],
      "metadata": {
        "colab": {
          "base_uri": "https://localhost:8080/"
        },
        "id": "yzYQul-brrsI",
        "outputId": "6e031527-c92e-44df-a491-e5c0937656ec"
      },
      "execution_count": 60,
      "outputs": [
        {
          "output_type": "execute_result",
          "data": {
            "text/plain": [
              "(67.23277204355617, 0.6299761146496815)"
            ]
          },
          "metadata": {},
          "execution_count": 60
        }
      ]
    },
    {
      "cell_type": "markdown",
      "source": [
        "Качество на валидационной выборке хуже чем при MultiStepLR и хуже чем вообще без scheduler"
      ],
      "metadata": {
        "id": "mm_3Eg7Xryh-"
      }
    },
    {
      "cell_type": "markdown",
      "source": [
        "[torch.optim.lr_scheduler.CosineAnnealingLR](https://pytorch.org/docs/stable/generated/torch.optim.lr_scheduler.CosineAnnealingLR.html#torch.optim.lr_scheduler.CosineAnnealingLR) Установливает скорость обучения каждой группы параметров, используя график косинусного отжига. Когда last_epoch=-1, устанавливает начальный lr как lr. Стоит отметить, что поскольку расписание определяется рекурсивно, скорость обучения может быть одновременно изменена вне этого планировщика другими операторами. Если скорость обучения устанавливается исключительно этим планировщиком, скорость обучения на каждом шаге становится:\n",
        "\n",
        "$$ η_t=η_{min} + \\frac{1}{2} * (η_{max} - η_{min})*(1 + cos(\\frac{T_{cur}}{T_{max}} * π)) $$\n",
        "\n",
        "Это было предложено в SGDR: Stochastic Gradient Descent with Warm Restarts. https://arxiv.org/abs/1608.03983"
      ],
      "metadata": {
        "id": "PVUvg11lr5El"
      }
    },
    {
      "cell_type": "code",
      "source": [
        "net = BasicBlockNet().to(device)\n",
        "optimizer = optim.SGD(net.parameters(), lr=0.1, momentum=0.9)\n",
        "criterion = nn.CrossEntropyLoss()\n",
        "scheduler = optim.lr_scheduler.CosineAnnealingLR(optimizer, T_max=20)\n",
        "tr_loss_log, tr_acc_log, val_loss_log, val_acc_log = train(net,\n",
        "                                                           optimizer,\n",
        "                                                           criterion,\n",
        "                                                           n_epochs,\n",
        "                                                           train_loader,\n",
        "                                                           val_loader,\n",
        "                                                           scheduler)"
      ],
      "metadata": {
        "colab": {
          "base_uri": "https://localhost:8080/"
        },
        "id": "9yiHEOVWr2YZ",
        "outputId": "75ddc930-c882-44a7-e752-1eec1e7d41ac"
      },
      "execution_count": 61,
      "outputs": [
        {
          "output_type": "stream",
          "name": "stdout",
          "text": [
            "Epoch 0\n",
            " train loss: 97.05061498987173, train acc: 0.4580748890049621\n",
            " val loss: 85.11959074710278, val acc: 0.5260859929078014\n",
            "\n",
            "Epoch 1\n",
            " train loss: 78.12049071923906, train acc: 0.5704002350483155\n",
            " val loss: 80.74711550042984, val acc: 0.5615913120567375\n",
            "\n",
            "Epoch 2\n",
            " train loss: 70.13162809752023, train acc: 0.6166304844606947\n",
            " val loss: 71.29494339963223, val acc: 0.6125886524822695\n",
            "\n",
            "Epoch 3\n",
            " train loss: 65.71597546153792, train acc: 0.6434692478453904\n",
            " val loss: 65.71671716000172, val acc: 0.6445921985815604\n",
            "\n",
            "Epoch 4\n",
            " train loss: 62.60936758505143, train acc: 0.6585596761556542\n",
            " val loss: 65.55097671265298, val acc: 0.6440381205673759\n",
            "\n",
            "Epoch 5\n",
            " train loss: 60.37624875893323, train acc: 0.6719770174980413\n",
            " val loss: 61.32879755547706, val acc: 0.6679742907801418\n",
            "\n",
            "Epoch 6\n",
            " train loss: 58.97411367444277, train acc: 0.6775471728910942\n",
            " val loss: 61.01193413227163, val acc: 0.6734042553191489\n",
            "\n",
            "Epoch 7\n",
            " train loss: 56.790971858845765, train acc: 0.6934170148863933\n",
            " val loss: 60.32532905213376, val acc: 0.6773492907801417\n",
            "\n",
            "Epoch 8\n",
            " train loss: 55.24337816761442, train acc: 0.7014029446330635\n",
            " val loss: 59.057642043905055, val acc: 0.68125\n",
            "\n",
            "Epoch 9\n",
            " train loss: 54.206779901026806, train acc: 0.705414272656046\n",
            " val loss: 59.64266272605734, val acc: 0.6821143617021277\n",
            "\n",
            "Epoch 10\n",
            " train loss: 52.6660826350043, train acc: 0.7142857142857143\n",
            " val loss: 55.361081863971464, val acc: 0.7015292553191489\n",
            "\n",
            "Epoch 11\n",
            " train loss: 51.212837551368004, train acc: 0.723748857404022\n",
            " val loss: 55.72290343832462, val acc: 0.7001773049645391\n",
            "\n",
            "Epoch 12\n",
            " train loss: 50.34393212128383, train acc: 0.7272786628362496\n",
            " val loss: 55.21013047035704, val acc: 0.7030585106382978\n",
            "\n",
            "Epoch 13\n",
            " train loss: 49.00185734175241, train acc: 0.7363214938626272\n",
            " val loss: 54.342912844394114, val acc: 0.7087322695035461\n",
            "\n",
            "Epoch 14\n",
            " train loss: 48.092860583631385, train acc: 0.7392595978062158\n",
            " val loss: 54.73366354272721, val acc: 0.7047650709219859\n",
            "\n",
            "Epoch 15\n",
            " train loss: 47.074380463176496, train acc: 0.7440625816139984\n",
            " val loss: 53.81854755117538, val acc: 0.7136303191489362\n",
            "\n",
            "Epoch 16\n",
            " train loss: 46.08693920236619, train acc: 0.7521505288587098\n",
            " val loss: 52.57856458095794, val acc: 0.7178191489361702\n",
            "\n",
            "Epoch 17\n",
            " train loss: 45.38608130937956, train acc: 0.7554232501958736\n",
            " val loss: 52.591253680371224, val acc: 0.7171542553191489\n",
            "\n",
            "Epoch 18\n",
            " train loss: 44.94985101166329, train acc: 0.7576880386523897\n",
            " val loss: 52.2972184668196, val acc: 0.7209441489361702\n",
            "\n",
            "Epoch 19\n",
            " train loss: 44.642178944303524, train acc: 0.7596467746147819\n",
            " val loss: 52.25814825017402, val acc: 0.7206781914893617\n",
            "\n"
          ]
        }
      ]
    },
    {
      "cell_type": "code",
      "source": [
        "test(net, criterion, test_loader)"
      ],
      "metadata": {
        "colab": {
          "base_uri": "https://localhost:8080/"
        },
        "id": "RFnDlXdtuUfm",
        "outputId": "83d879a9-e9d2-4416-c9e7-ff438debbbb1"
      },
      "execution_count": 62,
      "outputs": [
        {
          "output_type": "execute_result",
          "data": {
            "text/plain": [
              "(52.80525198407993, 0.714171974522293)"
            ]
          },
          "metadata": {},
          "execution_count": 62
        }
      ]
    },
    {
      "cell_type": "markdown",
      "source": [
        "Качество на валидационной выборке хуже чем при MultiStepLR всего  на 0.03"
      ],
      "metadata": {
        "id": "CFSdvBQOuYkb"
      }
    },
    {
      "cell_type": "markdown",
      "metadata": {
        "id": "5a_zMNNVO9Du"
      },
      "source": [
        "Таким образом, к сожалению не удалось подобрать другие scheduler, чтобы добиться улучшения качества на тестовой выборке."
      ]
    },
    {
      "cell_type": "markdown",
      "metadata": {
        "id": "7xFXgl_3_E--"
      },
      "source": [
        "## 4. Аугментации данных (2 балла)"
      ]
    },
    {
      "cell_type": "markdown",
      "metadata": {
        "id": "5G0Easo9O9Du"
      },
      "source": [
        "Еще одной стандартной техникой, применяющейся в глубинном обучении, а особенно часто в компьютерном зрении, являются аугментации данных. Суть аугментаций состоит в том, что мы можем некоторым синтетическим образом видоизменять объекты обучающей выборки, тем самым расширяя ее, а также делая итоговую модель более устойчивой к таким изменениям.\n",
        "\n",
        "Простейшая аугментация, которую можно применить к картинкам — разворот картинки по горизонтальной оси. То есть при обучении модели с вероятностью $0.5$ мы будем разворачивать картинку из обучающей выборки."
      ]
    },
    {
      "cell_type": "code",
      "execution_count": 63,
      "metadata": {
        "id": "SzeFpgtfO9Du",
        "colab": {
          "base_uri": "https://localhost:8080/",
          "height": 369
        },
        "outputId": "c26fd3be-16d8-4968-93c5-232905a36c54"
      },
      "outputs": [
        {
          "output_type": "display_data",
          "data": {
            "text/plain": [
              "<Figure size 640x480 with 1 Axes>"
            ],
            "image/png": "[encoded data removed]"
          },
          "metadata": {}
        },
        {
          "output_type": "display_data",
          "data": {
            "text/plain": [
              "<Figure size 640x480 with 1 Axes>"
            ],
            "image/png": "[encoded data removed]"
          },
          "metadata": {}
        }
      ],
      "source": [
        "dataiter = iter(train_loader)\n",
        "images, labels = next(dataiter)\n",
        "\n",
        "imshow(torchvision.utils.make_grid(images[:4]))\n",
        "\n",
        "imshow(torchvision.utils.make_grid(transforms.functional.hflip(images[:4])))"
      ]
    },
    {
      "cell_type": "markdown",
      "metadata": {
        "id": "BR4a-XJQO9Du"
      },
      "source": [
        "Наиболее удобным способом работы с аугментациями в PyTorch является их задание в списке <code>transforms</code>, который затем передается в загрузчик данных. Обучим нашу сеть, применяя горизонтальные повороты:"
      ]
    },
    {
      "cell_type": "code",
      "execution_count": 64,
      "metadata": {
        "id": "na0ScBf-_AqX",
        "scrolled": true,
        "colab": {
          "base_uri": "https://localhost:8080/"
        },
        "outputId": "81c91eb7-a00e-4370-94e9-0ab76f54c092"
      },
      "outputs": [
        {
          "output_type": "stream",
          "name": "stdout",
          "text": [
            "Files already downloaded and verified\n",
            "Files already downloaded and verified\n",
            "Epoch 0\n",
            " train loss: 94.68221169982576, train acc: 0.47224715983285454\n",
            " val loss: 82.51450711108268, val acc: 0.5370124113475178\n",
            "\n",
            "Epoch 1\n",
            " train loss: 75.65553007352504, train acc: 0.5847642987725254\n",
            " val loss: 70.81276799059928, val acc: 0.6127881205673759\n",
            "\n",
            "Epoch 2\n",
            " train loss: 67.82836755407358, train acc: 0.629064377121964\n",
            " val loss: 68.10474265078281, val acc: 0.6334219858156029\n",
            "\n",
            "Epoch 3\n",
            " train loss: 63.90953565210486, train acc: 0.6515123073909637\n",
            " val loss: 63.55047375699307, val acc: 0.6547650709219859\n",
            "\n",
            "Epoch 4\n",
            " train loss: 61.307217592731035, train acc: 0.6680717876730218\n",
            " val loss: 65.78750092932519, val acc: 0.6403590425531915\n",
            "\n",
            "Epoch 5\n",
            " train loss: 59.04101911018274, train acc: 0.6788448354661791\n",
            " val loss: 59.20357494354248, val acc: 0.6768838652482269\n",
            "\n",
            "Epoch 6\n",
            " train loss: 58.12074176136275, train acc: 0.6884875293810394\n",
            " val loss: 61.006942878885475, val acc: 0.6651374113475178\n",
            "\n",
            "Epoch 7\n",
            " train loss: 57.03196484428001, train acc: 0.6908624967354401\n",
            " val loss: 56.39274286513633, val acc: 0.6938164893617021\n",
            "\n",
            "Epoch 8\n",
            " train loss: 55.91684889313944, train acc: 0.6965958801253591\n",
            " val loss: 59.13034717275741, val acc: 0.6818040780141843\n",
            "\n",
            "Epoch 9\n",
            " train loss: 54.825472184901265, train acc: 0.7014927200313399\n",
            " val loss: 58.16686094568131, val acc: 0.6943705673758864\n",
            "\n",
            "Epoch 10\n",
            " train loss: 49.10322711759773, train acc: 0.7367132410551058\n",
            " val loss: 51.36935284594272, val acc: 0.7228280141843971\n",
            "\n",
            "Epoch 11\n",
            " train loss: 48.1441326516202, train acc: 0.7395656503003395\n",
            " val loss: 50.92056196496842, val acc: 0.726174645390071\n",
            "\n",
            "Epoch 12\n",
            " train loss: 47.747677036787515, train acc: 0.7416549686602246\n",
            " val loss: 50.64841783604723, val acc: 0.7300975177304966\n",
            "\n",
            "Epoch 13\n",
            " train loss: 47.4940601650496, train acc: 0.7444135218072604\n",
            " val loss: 50.09919019455605, val acc: 0.7282579787234043\n",
            "\n",
            "Epoch 14\n",
            " train loss: 47.235326743431024, train acc: 0.7460947701749804\n",
            " val loss: 50.401477257748866, val acc: 0.7263519503546099\n",
            "\n",
            "Epoch 15\n",
            " train loss: 46.42005911518494, train acc: 0.751599634369287\n",
            " val loss: 50.00821589003218, val acc: 0.7286347517730497\n",
            "\n",
            "Epoch 16\n",
            " train loss: 46.227940249922504, train acc: 0.751179322277357\n",
            " val loss: 49.68360921778577, val acc: 0.7317597517730497\n",
            "\n",
            "Epoch 17\n",
            " train loss: 46.29699852610419, train acc: 0.7501673086967877\n",
            " val loss: 49.86544375521071, val acc: 0.7300975177304966\n",
            "\n",
            "Epoch 18\n",
            " train loss: 46.11874976672464, train acc: 0.7530033951423347\n",
            " val loss: 49.82768017789151, val acc: 0.7304299645390072\n",
            "\n",
            "Epoch 19\n",
            " train loss: 46.20033034894758, train acc: 0.75084062418386\n",
            " val loss: 49.854091975029476, val acc: 0.7328457446808511\n",
            "\n"
          ]
        }
      ],
      "source": [
        "transform = transforms.Compose(\n",
        "        [transforms.RandomHorizontalFlip(),\n",
        "         transforms.ToTensor(),\n",
        "         transforms.Normalize((0.5, 0.5, 0.5), (0.5, 0.5, 0.5))]\n",
        ")\n",
        "\n",
        "train_loader, val_loader, test_loader = get_cifar10_data(batch_size=64, transform_train=transform)\n",
        "\n",
        "net = BasicBlockNet().to(device)\n",
        "optimizer = optim.SGD(net.parameters(), lr=0.1, momentum=0.9)\n",
        "criterion = nn.CrossEntropyLoss()\n",
        "scheduler = optim.lr_scheduler.MultiStepLR(optimizer, milestones=[10, 15], gamma=0.1)\n",
        "tr_loss_log, tr_acc_log, val_loss_log, val_acc_log = train(net, \n",
        "                                                           optimizer,\n",
        "                                                           criterion,\n",
        "                                                           n_epochs,\n",
        "                                                           train_loader,\n",
        "                                                           val_loader,\n",
        "                                                           scheduler)"
      ]
    },
    {
      "cell_type": "markdown",
      "metadata": {
        "id": "v3ZIqDQqO9Dv"
      },
      "source": [
        "Посчитайте точность на тестовой выборке:"
      ]
    },
    {
      "cell_type": "code",
      "execution_count": 65,
      "metadata": {
        "id": "nNJizMkM_Auh",
        "colab": {
          "base_uri": "https://localhost:8080/"
        },
        "outputId": "f1132172-5afa-474c-ad71-64fb10b04e2b"
      },
      "outputs": [
        {
          "output_type": "execute_result",
          "data": {
            "text/plain": [
              "(50.793824985528445, 0.7269108280254777)"
            ]
          },
          "metadata": {},
          "execution_count": 65
        }
      ],
      "source": [
        "test(net, criterion, test_loader)"
      ]
    },
    {
      "cell_type": "markdown",
      "source": [
        "Качество на валидационной выборке повысилось благодаря использованию RandomHorizontalFlip"
      ],
      "metadata": {
        "id": "ec8qjc79zEfO"
      }
    },
    {
      "cell_type": "markdown",
      "metadata": {
        "id": "KndehSCHO9Dv"
      },
      "source": [
        "**Задание 4.1 (2 балла).** Изучите, какие еще способы аугментаций изображений представлены в <code>torchvision.transforms</code>. Выберите несколько из них, объясните, как они устроены, и обучите модель с ними (по отдельности и вместе). Удалось ли добиться улучшения качества на тестовой выборке?"
      ]
    },
    {
      "cell_type": "markdown",
      "source": [
        "[torchvision.transforms.RandomRotation](https://pytorch.org/vision/stable/generated/torchvision.transforms.RandomRotation.html#torchvision.transforms.RandomRotation) Поворот изображения (угол задается в градусах)"
      ],
      "metadata": {
        "id": "jQXGGuqRzmzT"
      }
    },
    {
      "cell_type": "markdown",
      "source": [
        "Попробуем повернуть картинку на 30 градусов."
      ],
      "metadata": {
        "id": "N7L_0hWW0X8C"
      }
    },
    {
      "cell_type": "code",
      "execution_count": 66,
      "metadata": {
        "id": "Np4rgvdZ_QRF",
        "colab": {
          "base_uri": "https://localhost:8080/"
        },
        "outputId": "00a94def-bc9a-4e78-d890-93bf76b5c2a5"
      },
      "outputs": [
        {
          "output_type": "stream",
          "name": "stdout",
          "text": [
            "Files already downloaded and verified\n",
            "Files already downloaded and verified\n",
            "Epoch 0\n",
            " train loss: 103.11582364286322, train acc: 0.41980200443980153\n",
            " val loss: 91.98343328516535, val acc: 0.4790780141843972\n",
            "\n",
            "Epoch 1\n",
            " train loss: 89.25365529766466, train acc: 0.5024484199529904\n",
            " val loss: 81.90483200397897, val acc: 0.5481604609929077\n",
            "\n",
            "Epoch 2\n",
            " train loss: 82.8503573468224, train acc: 0.5414068621049882\n",
            " val loss: 80.49860621107385, val acc: 0.5533244680851064\n",
            "\n",
            "Epoch 3\n",
            " train loss: 79.35788750866432, train acc: 0.5606881692347871\n",
            " val loss: 77.37862399080966, val acc: 0.5724734042553191\n",
            "\n",
            "Epoch 4\n",
            " train loss: 76.61559300187301, train acc: 0.5762478780360407\n",
            " val loss: 75.03527481200847, val acc: 0.5863918439716311\n",
            "\n",
            "Epoch 5\n",
            " train loss: 74.34128340070819, train acc: 0.5912566923478715\n",
            " val loss: 76.46223370166535, val acc: 0.5778812056737588\n",
            "\n",
            "Epoch 6\n",
            " train loss: 72.6616757478313, train acc: 0.5967452337424916\n",
            " val loss: 72.80356183559337, val acc: 0.5960771276595744\n",
            "\n",
            "Epoch 7\n",
            " train loss: 71.97057936701522, train acc: 0.6030662379211281\n",
            " val loss: 70.08725789861477, val acc: 0.6138962765957446\n",
            "\n",
            "Epoch 8\n",
            " train loss: 70.54849037609763, train acc: 0.6139984330112301\n",
            " val loss: 70.63815095373924, val acc: 0.6086436170212766\n",
            "\n",
            "Epoch 9\n",
            " train loss: 69.38765717075773, train acc: 0.6170344737529381\n",
            " val loss: 70.04018396215235, val acc: 0.6191267730496455\n",
            "\n",
            "Epoch 10\n",
            " train loss: 63.09987786744587, train acc: 0.6532180399582137\n",
            " val loss: 63.9759822825168, val acc: 0.6502881205673758\n",
            "\n",
            "Epoch 11\n",
            " train loss: 62.571492099238924, train acc: 0.6561398211021153\n",
            " val loss: 63.837948042281134, val acc: 0.6518838652482268\n",
            "\n",
            "Epoch 12\n",
            " train loss: 61.86595743011949, train acc: 0.6626771023765996\n",
            " val loss: 63.847067222189395, val acc: 0.6502659574468085\n",
            "\n",
            "Epoch 13\n",
            " train loss: 61.80347173174731, train acc: 0.660465363019065\n",
            " val loss: 63.285885092552675, val acc: 0.6550531914893617\n",
            "\n",
            "Epoch 14\n",
            " train loss: 61.443189074395995, train acc: 0.6627872812744843\n",
            " val loss: 63.32977350721968, val acc: 0.6557402482269503\n",
            "\n",
            "Epoch 15\n",
            " train loss: 60.756668859687544, train acc: 0.6690185100548446\n",
            " val loss: 62.50172688707392, val acc: 0.6582890070921986\n",
            "\n",
            "Epoch 16\n",
            " train loss: 60.78041592638061, train acc: 0.6691123661530426\n",
            " val loss: 62.25131893766687, val acc: 0.6605053191489362\n",
            "\n",
            "Epoch 17\n",
            " train loss: 60.28578708551048, train acc: 0.6719198876991381\n",
            " val loss: 62.58850140875958, val acc: 0.6574024822695035\n",
            "\n",
            "Epoch 18\n",
            " train loss: 60.36300422678918, train acc: 0.6710955863149648\n",
            " val loss: 62.38051667111985, val acc: 0.6598625886524822\n",
            "\n",
            "Epoch 19\n",
            " train loss: 60.3218663911279, train acc: 0.6685206646644032\n",
            " val loss: 62.19587137749855, val acc: 0.658421985815603\n",
            "\n"
          ]
        }
      ],
      "source": [
        "transform = transforms.Compose(\n",
        "        [transforms.RandomRotation(30),\n",
        "         transforms.ToTensor(),\n",
        "         transforms.Normalize((0.5, 0.5, 0.5), (0.5, 0.5, 0.5))]\n",
        ")\n",
        "\n",
        "train_loader, val_loader, test_loader = get_cifar10_data(batch_size=64, transform_train=transform)\n",
        "\n",
        "net = BasicBlockNet().to(device)\n",
        "optimizer = optim.SGD(net.parameters(), lr=0.1, momentum=0.9)\n",
        "criterion = nn.CrossEntropyLoss()\n",
        "scheduler = optim.lr_scheduler.MultiStepLR(optimizer, milestones=[10, 15], gamma=0.1)\n",
        "tr_loss_log, tr_acc_log, val_loss_log, val_acc_log = train(net, \n",
        "                                                           optimizer,\n",
        "                                                           criterion,\n",
        "                                                           n_epochs,\n",
        "                                                           train_loader,\n",
        "                                                           val_loader,\n",
        "                                                           scheduler)"
      ]
    },
    {
      "cell_type": "code",
      "source": [
        "test(net, criterion, test_loader)"
      ],
      "metadata": {
        "colab": {
          "base_uri": "https://localhost:8080/"
        },
        "id": "tHQ2BSgg2Hm_",
        "outputId": "e9946798-92fc-4ebd-fe8b-312bd14c8586"
      },
      "execution_count": 67,
      "outputs": [
        {
          "output_type": "execute_result",
          "data": {
            "text/plain": [
              "(57.64678735793776, 0.6922770700636943)"
            ]
          },
          "metadata": {},
          "execution_count": 67
        }
      ]
    },
    {
      "cell_type": "markdown",
      "source": [
        "Качество на валидационной выборке хуже чем при использовании RandomHorizontalFlip и хуже чем без аугментации"
      ],
      "metadata": {
        "id": "ZAFsR_5R2PUx"
      }
    },
    {
      "cell_type": "markdown",
      "source": [
        "Но можно попробовать посмотреть их комбинацию"
      ],
      "metadata": {
        "id": "bsSL9yzd2eLQ"
      }
    },
    {
      "cell_type": "code",
      "source": [
        "transform = transforms.Compose(\n",
        "        [transforms.RandomHorizontalFlip(),\n",
        "         transforms.RandomRotation(30),\n",
        "         transforms.ToTensor(),\n",
        "         transforms.Normalize((0.5, 0.5, 0.5), (0.5, 0.5, 0.5))]\n",
        ")\n",
        "\n",
        "train_loader, val_loader, test_loader = get_cifar10_data(batch_size=64, transform_train=transform)\n",
        "\n",
        "net = BasicBlockNet().to(device)\n",
        "optimizer = optim.SGD(net.parameters(), lr=0.1, momentum=0.9)\n",
        "criterion = nn.CrossEntropyLoss()\n",
        "scheduler = optim.lr_scheduler.MultiStepLR(optimizer, milestones=[10, 15], gamma=0.1)\n",
        "tr_loss_log, tr_acc_log, val_loss_log, val_acc_log = train(net, \n",
        "                                                           optimizer,\n",
        "                                                           criterion,\n",
        "                                                           n_epochs,\n",
        "                                                           train_loader,\n",
        "                                                           val_loader,\n",
        "                                                           scheduler)"
      ],
      "metadata": {
        "colab": {
          "base_uri": "https://localhost:8080/"
        },
        "id": "AFK39wKT2jTK",
        "outputId": "c6bd68c7-2fce-4954-c78d-c6b72e9cad56"
      },
      "execution_count": 68,
      "outputs": [
        {
          "output_type": "stream",
          "name": "stdout",
          "text": [
            "Files already downloaded and verified\n",
            "Files already downloaded and verified\n",
            "Epoch 0\n",
            " train loss: 103.52379737344913, train acc: 0.41901442935492295\n",
            " val loss: 91.50511730681075, val acc: 0.4824689716312057\n",
            "\n",
            "Epoch 1\n",
            " train loss: 88.6675323681596, train acc: 0.5068596565682946\n",
            " val loss: 83.21020884818219, val acc: 0.528125\n",
            "\n",
            "Epoch 2\n",
            " train loss: 82.34295222789757, train acc: 0.5440103486550013\n",
            " val loss: 80.47319703609385, val acc: 0.5545877659574469\n",
            "\n",
            "Epoch 3\n",
            " train loss: 78.46429779847753, train acc: 0.5631488312875425\n",
            " val loss: 76.31401556704907, val acc: 0.5819370567375886\n",
            "\n",
            "Epoch 4\n",
            " train loss: 75.67133020439357, train acc: 0.5841930007834945\n",
            " val loss: 75.06058033476485, val acc: 0.58707890070922\n",
            "\n",
            "Epoch 5\n",
            " train loss: 73.61623712082886, train acc: 0.5941907155915382\n",
            " val loss: 73.51324126466791, val acc: 0.5892287234042554\n",
            "\n",
            "Epoch 6\n",
            " train loss: 72.46402033852921, train acc: 0.5996670148863933\n",
            " val loss: 72.14518024160508, val acc: 0.5994902482269503\n",
            "\n",
            "Epoch 7\n",
            " train loss: 71.41606509053511, train acc: 0.606000261164795\n",
            " val loss: 69.78881285647128, val acc: 0.6210992907801418\n",
            "\n",
            "Epoch 8\n",
            " train loss: 70.41715103616662, train acc: 0.613451619221729\n",
            " val loss: 69.44377707217602, val acc: 0.6185283687943263\n",
            "\n",
            "Epoch 9\n",
            " train loss: 68.62948900951545, train acc: 0.623926775920606\n",
            " val loss: 66.53400137069377, val acc: 0.6363918439716312\n",
            "\n",
            "Epoch 10\n",
            " train loss: 63.12394558577041, train acc: 0.652373335074432\n",
            " val loss: 62.92511908145661, val acc: 0.6542331560283688\n",
            "\n",
            "Epoch 11\n",
            " train loss: 62.169022653394904, train acc: 0.6594247845390441\n",
            " val loss: 62.831003000381145, val acc: 0.6587544326241136\n",
            "\n",
            "Epoch 12\n",
            " train loss: 61.82304585001804, train acc: 0.6640767824497258\n",
            " val loss: 62.605211274167324, val acc: 0.6587101063829788\n",
            "\n",
            "Epoch 13\n",
            " train loss: 61.72359413551456, train acc: 0.6635544528597546\n",
            " val loss: 61.777434162383386, val acc: 0.6630984042553192\n",
            "\n",
            "Epoch 14\n",
            " train loss: 61.73459340536616, train acc: 0.6615589905980674\n",
            " val loss: 61.665317332490964, val acc: 0.6646719858156029\n",
            "\n",
            "Epoch 15\n",
            " train loss: 60.60709880082655, train acc: 0.6678432684774093\n",
            " val loss: 61.54459243328013, val acc: 0.6676418439716312\n",
            "\n",
            "Epoch 16\n",
            " train loss: 60.38290606643426, train acc: 0.6703039305301646\n",
            " val loss: 60.920494256121046, val acc: 0.6667109929078013\n",
            "\n",
            "Epoch 17\n",
            " train loss: 60.45377017636622, train acc: 0.6695204361452076\n",
            " val loss: 61.01330089163273, val acc: 0.6675310283687944\n",
            "\n",
            "Epoch 18\n",
            " train loss: 60.68109288904305, train acc: 0.6702019130321233\n",
            " val loss: 60.91045663914782, val acc: 0.668218085106383\n",
            "\n",
            "Epoch 19\n",
            " train loss: 60.323983715482775, train acc: 0.6716872878036041\n",
            " val loss: 60.924462572057195, val acc: 0.6680186170212766\n",
            "\n"
          ]
        }
      ]
    },
    {
      "cell_type": "code",
      "source": [
        "test(net, criterion, test_loader)"
      ],
      "metadata": {
        "colab": {
          "base_uri": "https://localhost:8080/"
        },
        "id": "ztz_VjLr4kqM",
        "outputId": "21db8a83-f510-4366-9bbd-964e27022d22"
      },
      "execution_count": 69,
      "outputs": [
        {
          "output_type": "execute_result",
          "data": {
            "text/plain": [
              "(55.9643924615945, 0.6926751592356688)"
            ]
          },
          "metadata": {},
          "execution_count": 69
        }
      ]
    },
    {
      "cell_type": "markdown",
      "source": [
        "К сожалению комбинация не помогла, качество на валидационной выборке хуже чем без аугментации"
      ],
      "metadata": {
        "id": "GzhsCMyM4pxf"
      }
    },
    {
      "cell_type": "markdown",
      "source": [
        "[torchvision.transforms.RandomCrop](https://pytorch.org/vision/stable/generated/torchvision.transforms.v2.RandomCrop.html#torchvision.transforms.v2.RandomCrop) Обрезка входа в рандом месте."
      ],
      "metadata": {
        "id": "ec3KyJVm42zN"
      }
    },
    {
      "cell_type": "markdown",
      "source": [
        "  Попробую обрезать картинку до размера 28x28 и затем вернуть в исходный размер."
      ],
      "metadata": {
        "id": "YGgvGVLm5awG"
      }
    },
    {
      "cell_type": "code",
      "source": [
        "transform = transforms.Compose(\n",
        "        [transforms.RandomCrop(28),\n",
        "         transforms.Resize(32),\n",
        "         transforms.ToTensor(),\n",
        "         transforms.Normalize((0.5, 0.5, 0.5), (0.5, 0.5, 0.5))]\n",
        ")\n",
        "\n",
        "train_loader, val_loader, test_loader = get_cifar10_data(batch_size=64, transform_train=transform)\n",
        "\n",
        "net = BasicBlockNet().to(device)\n",
        "optimizer = optim.SGD(net.parameters(), lr=0.1, momentum=0.9)\n",
        "criterion = nn.CrossEntropyLoss()\n",
        "scheduler = optim.lr_scheduler.MultiStepLR(optimizer, milestones=[10, 15], gamma=0.1)\n",
        "tr_loss_log, tr_acc_log, val_loss_log, val_acc_log = train(net, \n",
        "                                                           optimizer,\n",
        "                                                           criterion,\n",
        "                                                           n_epochs,\n",
        "                                                           train_loader,\n",
        "                                                           val_loader,\n",
        "                                                           scheduler)"
      ],
      "metadata": {
        "colab": {
          "base_uri": "https://localhost:8080/"
        },
        "id": "mtO5PheJ42WP",
        "outputId": "eadcacdd-5c5c-485c-bc8b-5122ed6ea0cb"
      },
      "execution_count": 70,
      "outputs": [
        {
          "output_type": "stream",
          "name": "stdout",
          "text": [
            "Files already downloaded and verified\n",
            "Files already downloaded and verified\n",
            "Epoch 0\n",
            " train loss: 99.72417099689434, train acc: 0.4440821689736224\n",
            " val loss: 85.53946031205197, val acc: 0.5179964539007093\n",
            "\n",
            "Epoch 1\n",
            " train loss: 81.06538606779667, train acc: 0.5542814703577957\n",
            " val loss: 75.0888310493307, val acc: 0.5849955673758864\n",
            "\n",
            "Epoch 2\n",
            " train loss: 74.62246113764957, train acc: 0.5911709976495169\n",
            " val loss: 74.91063204014554, val acc: 0.5938164893617022\n",
            "\n",
            "Epoch 3\n",
            " train loss: 71.04975478086872, train acc: 0.611382704361452\n",
            " val loss: 69.4551401381797, val acc: 0.6259308510638298\n",
            "\n",
            "Epoch 4\n",
            " train loss: 68.77355110056875, train acc: 0.6243552494123792\n",
            " val loss: 73.13003751470687, val acc: 0.6064273049645391\n",
            "\n",
            "Epoch 5\n",
            " train loss: 66.90115723618642, train acc: 0.6342183011230086\n",
            " val loss: 70.60267759688357, val acc: 0.6128324468085107\n",
            "\n",
            "Epoch 6\n",
            " train loss: 65.23133556411297, train acc: 0.6465542569861582\n",
            " val loss: 66.05723382259937, val acc: 0.6401152482269503\n",
            "\n",
            "Epoch 7\n",
            " train loss: 65.17985611206, train acc: 0.644689377121964\n",
            " val loss: 64.94748429643347, val acc: 0.6453679078014184\n",
            "\n",
            "Epoch 8\n",
            " train loss: 64.20445908314566, train acc: 0.6545605902324367\n",
            " val loss: 64.3620331135202, val acc: 0.6531471631205673\n",
            "\n",
            "Epoch 9\n",
            " train loss: 62.75955621939037, train acc: 0.6568172172891095\n",
            " val loss: 67.29943913804723, val acc: 0.6456338652482269\n",
            "\n",
            "Epoch 10\n",
            " train loss: 56.68758268548104, train acc: 0.6916215069208671\n",
            " val loss: 58.65831783172932, val acc: 0.681360815602837\n",
            "\n",
            "Epoch 11\n",
            " train loss: 55.51707800563554, train acc: 0.6985301318882214\n",
            " val loss: 58.61104095945967, val acc: 0.6863918439716311\n",
            "\n",
            "Epoch 12\n",
            " train loss: 55.36020025866995, train acc: 0.7005174327500653\n",
            " val loss: 58.404514882919635, val acc: 0.6839317375886524\n",
            "\n",
            "Epoch 13\n",
            " train loss: 55.19386923247761, train acc: 0.7011254570383912\n",
            " val loss: 58.14823405691918, val acc: 0.684375\n",
            "\n",
            "Epoch 14\n",
            " train loss: 54.61646434288792, train acc: 0.7025537020109689\n",
            " val loss: 57.71893426205249, val acc: 0.6898714539007093\n",
            "\n",
            "Epoch 15\n",
            " train loss: 53.898863842979864, train acc: 0.7089195938887438\n",
            " val loss: 57.35229292524622, val acc: 0.6931294326241135\n",
            "\n",
            "Epoch 16\n",
            " train loss: 53.72376198480944, train acc: 0.7084462326978324\n",
            " val loss: 57.20795872262184, val acc: 0.6959219858156029\n",
            "\n",
            "Epoch 17\n",
            " train loss: 53.39699208104415, train acc: 0.712502448419953\n",
            " val loss: 56.9365607870386, val acc: 0.6945478723404256\n",
            "\n",
            "Epoch 18\n",
            " train loss: 53.40325441744036, train acc: 0.7095521023765996\n",
            " val loss: 56.8345528622891, val acc: 0.6980939716312056\n",
            "\n",
            "Epoch 19\n",
            " train loss: 53.5021775270075, train acc: 0.7103845651606163\n",
            " val loss: 56.64701219315224, val acc: 0.6945478723404256\n",
            "\n"
          ]
        }
      ]
    },
    {
      "cell_type": "code",
      "source": [
        "test(net, criterion, test_loader)"
      ],
      "metadata": {
        "colab": {
          "base_uri": "https://localhost:8080/"
        },
        "id": "BzDSUF3b7W1r",
        "outputId": "c725c332-ef38-4aa5-886f-d21a814069a5"
      },
      "execution_count": 71,
      "outputs": [
        {
          "output_type": "execute_result",
          "data": {
            "text/plain": [
              "(73.21557425237765, 0.6423168789808917)"
            ]
          },
          "metadata": {},
          "execution_count": 71
        }
      ]
    },
    {
      "cell_type": "markdown",
      "source": [
        "Качество на валидационной выборке сильно упало. Мне кажется комбинация с RandomHorizontalFlip тоже ничего не принесет."
      ],
      "metadata": {
        "id": "rEO-J8_K7ZoR"
      }
    },
    {
      "cell_type": "markdown",
      "source": [
        "Попробую использовать другие параметры при нормализации"
      ],
      "metadata": {
        "id": "j7dXzgq07w3Y"
      }
    },
    {
      "cell_type": "code",
      "source": [
        "transform = transforms.Compose(\n",
        "        [transforms.RandomHorizontalFlip(),\n",
        "         transforms.ToTensor(),\n",
        "         transforms.Normalize(mean=[0.485, 0.456, 0.406], std=[0.229, 0.224, 0.225])]\n",
        ")\n",
        "\n",
        "train_loader, val_loader, test_loader = get_cifar10_data(batch_size=64, transform_train=transform)\n",
        "\n",
        "net = BasicBlockNet().to(device)\n",
        "optimizer = optim.SGD(net.parameters(), lr=0.1, momentum=0.9)\n",
        "criterion = nn.CrossEntropyLoss()\n",
        "scheduler = optim.lr_scheduler.MultiStepLR(optimizer, milestones=[10, 15], gamma=0.1)\n",
        "tr_loss_log, tr_acc_log, val_loss_log, val_acc_log = train(net, \n",
        "                                                           optimizer,\n",
        "                                                           criterion,\n",
        "                                                           n_epochs,\n",
        "                                                           train_loader,\n",
        "                                                           val_loader,\n",
        "                                                           scheduler)"
      ],
      "metadata": {
        "colab": {
          "base_uri": "https://localhost:8080/"
        },
        "id": "dKblWJwt71h4",
        "outputId": "cc9ff6d7-d18a-465b-fa84-e9bfd6e76165"
      },
      "execution_count": 72,
      "outputs": [
        {
          "output_type": "stream",
          "name": "stdout",
          "text": [
            "Files already downloaded and verified\n",
            "Files already downloaded and verified\n",
            "Epoch 0\n",
            " train loss: 95.72763120103798, train acc: 0.4702476168712458\n",
            " val loss: 79.93660084744717, val acc: 0.5555407801418439\n",
            "\n",
            "Epoch 1\n",
            " train loss: 73.9203801477631, train acc: 0.5947212065813529\n",
            " val loss: 70.87122489848035, val acc: 0.6163342198581561\n",
            "\n",
            "Epoch 2\n",
            " train loss: 66.89057324181091, train acc: 0.637331875163228\n",
            " val loss: 66.52554568432747, val acc: 0.6447695035460992\n",
            "\n",
            "Epoch 3\n",
            " train loss: 63.50784494236139, train acc: 0.6573313854792374\n",
            " val loss: 63.086108268575465, val acc: 0.6580673758865248\n",
            "\n",
            "Epoch 4\n",
            " train loss: 60.979035312994306, train acc: 0.6711567968137896\n",
            " val loss: 62.25228255657439, val acc: 0.6598625886524822\n",
            "\n",
            "Epoch 5\n",
            " train loss: 58.93067446923125, train acc: 0.681905360407417\n",
            " val loss: 59.66004348511392, val acc: 0.6766622340425532\n",
            "\n",
            "Epoch 6\n",
            " train loss: 57.83309979761322, train acc: 0.6891649255680334\n",
            " val loss: 61.92031035321824, val acc: 0.6658244680851064\n",
            "\n",
            "Epoch 7\n",
            " train loss: 57.09484834862801, train acc: 0.6951594737529381\n",
            " val loss: 57.24680461883545, val acc: 0.7005097517730497\n",
            "\n",
            "Epoch 8\n",
            " train loss: 56.134352763348566, train acc: 0.6984117915904936\n",
            " val loss: 56.68317152591462, val acc: 0.6979609929078013\n",
            "\n",
            "Epoch 9\n",
            " train loss: 54.772947703680565, train acc: 0.7044389853747715\n",
            " val loss: 55.67454396917465, val acc: 0.7073581560283688\n",
            "\n",
            "Epoch 10\n",
            " train loss: 48.736351851789344, train acc: 0.7383822473230608\n",
            " val loss: 50.663081252321284, val acc: 0.7315381205673758\n",
            "\n",
            "Epoch 11\n",
            " train loss: 47.55963661465828, train acc: 0.7464701945677723\n",
            " val loss: 50.317920514370535, val acc: 0.7339982269503545\n",
            "\n",
            "Epoch 12\n",
            " train loss: 47.54302246173949, train acc: 0.7421324105510577\n",
            " val loss: 50.255214120986615, val acc: 0.7339760638297872\n",
            "\n",
            "Epoch 13\n",
            " train loss: 47.02006660301027, train acc: 0.7480657482371377\n",
            " val loss: 49.78493252003447, val acc: 0.7370345744680851\n",
            "\n",
            "Epoch 14\n",
            " train loss: 46.915288972244404, train acc: 0.7456622159832854\n",
            " val loss: 49.8455334703973, val acc: 0.7333776595744681\n",
            "\n",
            "Epoch 15\n",
            " train loss: 46.03273809457392, train acc: 0.7526932619482893\n",
            " val loss: 49.24239233909769, val acc: 0.7376551418439715\n",
            "\n",
            "Epoch 16\n",
            " train loss: 45.79707859377538, train acc: 0.7552559414990859\n",
            " val loss: 49.10627723247447, val acc: 0.738674645390071\n",
            "\n",
            "Epoch 17\n",
            " train loss: 45.78407326825576, train acc: 0.7540194894228258\n",
            " val loss: 49.21911611151188, val acc: 0.738386524822695\n",
            "\n",
            "Epoch 18\n",
            " train loss: 45.62433614242665, train acc: 0.7556313658918777\n",
            " val loss: 49.25396824491785, val acc: 0.7370345744680851\n",
            "\n",
            "Epoch 19\n",
            " train loss: 45.659931564679745, train acc: 0.7546519979106817\n",
            " val loss: 49.37342874242904, val acc: 0.736613475177305\n",
            "\n"
          ]
        }
      ]
    },
    {
      "cell_type": "code",
      "source": [
        "test(net, criterion, test_loader)"
      ],
      "metadata": {
        "colab": {
          "base_uri": "https://localhost:8080/"
        },
        "id": "nOn3yH9X7l0H",
        "outputId": "e705a058-7efe-4c15-fd3d-14096a6c9bd1"
      },
      "execution_count": 73,
      "outputs": [
        {
          "output_type": "execute_result",
          "data": {
            "text/plain": [
              "(106.87237688538376, 0.44546178343949044)"
            ]
          },
          "metadata": {},
          "execution_count": 73
        }
      ]
    },
    {
      "cell_type": "markdown",
      "source": [
        "Качество на валидационной выборке совсем упало..."
      ],
      "metadata": {
        "id": "ZgHrsJzu9wPo"
      }
    },
    {
      "cell_type": "markdown",
      "metadata": {
        "id": "4K-MptLiO9Dv"
      },
      "source": [
        "Таким образом, к сожалению не удалось подобрать другие варианты аугментации, чтобы добиться улучшения качества на тестовой выборке."
      ]
    },
    {
      "cell_type": "markdown",
      "metadata": {
        "id": "HCENjLw5O9Dv"
      },
      "source": [
        "## Бонус. Логирование в wandb (2 балла)"
      ]
    },
    {
      "cell_type": "markdown",
      "metadata": {
        "id": "xOyzc1mnO9Dv"
      },
      "source": [
        "На практике специалиста по глубинному обучению часто встречаются ситуации, когда нейросеть учится на каком-то удаленном сервере. И обычно вам хочется отслеживать прогресс обучения, особенно когда время обучения модели исчисляется днями или неделями. Для таких целей существует несколько инструментов. Вероятно, самый популярный из них — [wandb](https://wandb.ai/site).\n",
        "\n",
        "Ваша задача состоит в том, чтобы разобраться как им пользоваться, и повторить задания 2.1 и 2.2 с его использованием. Обучение вы можете запускать в этом же ноутбуке, но теперь вам необходимо через wandb логировать значения функции потерь и точности на обучающей выборке и на валидационной. Результатом работы должны быть ваш код и публичная ссылка на страничку с графиками, идентичными графикам в задании 2.2."
      ]
    },
    {
      "cell_type": "code",
      "execution_count": 74,
      "metadata": {
        "id": "m5gSTLAr_QS4",
        "colab": {
          "base_uri": "https://localhost:8080/"
        },
        "outputId": "8e53e673-d156-4003-ef20-1b32e6d67a40"
      },
      "outputs": [
        {
          "output_type": "stream",
          "name": "stdout",
          "text": [
            "Looking in indexes: https://pypi.org/simple, https://us-python.pkg.dev/colab-wheels/public/simple/\n",
            "Collecting wandb\n",
            "  Downloading wandb-0.15.3-py3-none-any.whl (2.0 MB)\n",
            "\u001b[2K     \u001b[90m━━━━━━━━━━━━━━━━━━━━━━━━━━━━━━━━━━━━━━━━\u001b[0m \u001b[32m2.0/2.0 MB\u001b[0m \u001b[31m75.1 MB/s\u001b[0m eta \u001b[36m0:00:00\u001b[0m\n",
            "\u001b[?25hRequirement already satisfied: Click!=8.0.0,>=7.0 in /usr/local/lib/python3.10/dist-packages (from wandb) (8.1.3)\n",
            "Collecting GitPython!=3.1.29,>=1.0.0 (from wandb)\n",
            "  Downloading GitPython-3.1.31-py3-none-any.whl (184 kB)\n",
            "\u001b[2K     \u001b[90m━━━━━━━━━━━━━━━━━━━━━━━━━━━━━━━━━━━━━━\u001b[0m \u001b[32m184.3/184.3 kB\u001b[0m \u001b[31m24.5 MB/s\u001b[0m eta \u001b[36m0:00:00\u001b[0m\n",
            "\u001b[?25hRequirement already satisfied: requests<3,>=2.0.0 in /usr/local/lib/python3.10/dist-packages (from wandb) (2.27.1)\n",
            "Requirement already satisfied: psutil>=5.0.0 in /usr/local/lib/python3.10/dist-packages (from wandb) (5.9.5)\n",
            "Collecting sentry-sdk>=1.0.0 (from wandb)\n",
            "  Downloading sentry_sdk-1.23.1-py2.py3-none-any.whl (205 kB)\n",
            "\u001b[2K     \u001b[90m━━━━━━━━━━━━━━━━━━━━━━━━━━━━━━━━━━━━━━\u001b[0m \u001b[32m205.1/205.1 kB\u001b[0m \u001b[31m32.9 MB/s\u001b[0m eta \u001b[36m0:00:00\u001b[0m\n",
            "\u001b[?25hCollecting docker-pycreds>=0.4.0 (from wandb)\n",
            "  Downloading docker_pycreds-0.4.0-py2.py3-none-any.whl (9.0 kB)\n",
            "Requirement already satisfied: PyYAML in /usr/local/lib/python3.10/dist-packages (from wandb) (6.0)\n",
            "Collecting pathtools (from wandb)\n",
            "  Downloading pathtools-0.1.2.tar.gz (11 kB)\n",
            "  Preparing metadata (setup.py) ... \u001b[?25l\u001b[?25hdone\n",
            "Collecting setproctitle (from wandb)\n",
            "  Downloading setproctitle-1.3.2-cp310-cp310-manylinux_2_5_x86_64.manylinux1_x86_64.manylinux_2_17_x86_64.manylinux2014_x86_64.whl (30 kB)\n",
            "Requirement already satisfied: setuptools in /usr/local/lib/python3.10/dist-packages (from wandb) (67.7.2)\n",
            "Requirement already satisfied: appdirs>=1.4.3 in /usr/local/lib/python3.10/dist-packages (from wandb) (1.4.4)\n",
            "Requirement already satisfied: protobuf!=4.21.0,<5,>=3.19.0 in /usr/local/lib/python3.10/dist-packages (from wandb) (3.20.3)\n",
            "Requirement already satisfied: six>=1.4.0 in /usr/local/lib/python3.10/dist-packages (from docker-pycreds>=0.4.0->wandb) (1.16.0)\n",
            "Collecting gitdb<5,>=4.0.1 (from GitPython!=3.1.29,>=1.0.0->wandb)\n",
            "  Downloading gitdb-4.0.10-py3-none-any.whl (62 kB)\n",
            "\u001b[2K     \u001b[90m━━━━━━━━━━━━━━━━━━━━━━━━━━━━━━━━━━━━━━━━\u001b[0m \u001b[32m62.7/62.7 kB\u001b[0m \u001b[31m9.6 MB/s\u001b[0m eta \u001b[36m0:00:00\u001b[0m\n",
            "\u001b[?25hRequirement already satisfied: urllib3<1.27,>=1.21.1 in /usr/local/lib/python3.10/dist-packages (from requests<3,>=2.0.0->wandb) (1.26.15)\n",
            "Requirement already satisfied: certifi>=2017.4.17 in /usr/local/lib/python3.10/dist-packages (from requests<3,>=2.0.0->wandb) (2022.12.7)\n",
            "Requirement already satisfied: charset-normalizer~=2.0.0 in /usr/local/lib/python3.10/dist-packages (from requests<3,>=2.0.0->wandb) (2.0.12)\n",
            "Requirement already satisfied: idna<4,>=2.5 in /usr/local/lib/python3.10/dist-packages (from requests<3,>=2.0.0->wandb) (3.4)\n",
            "Collecting smmap<6,>=3.0.1 (from gitdb<5,>=4.0.1->GitPython!=3.1.29,>=1.0.0->wandb)\n",
            "  Downloading smmap-5.0.0-py3-none-any.whl (24 kB)\n",
            "Building wheels for collected packages: pathtools\n",
            "  Building wheel for pathtools (setup.py) ... \u001b[?25l\u001b[?25hdone\n",
            "  Created wheel for pathtools: filename=pathtools-0.1.2-py3-none-any.whl size=8791 sha256=c7c5d97f546b537711da344fdc8b6d309240a3a3925044c6344c2805750fb10d\n",
            "  Stored in directory: /root/.cache/pip/wheels/e7/f3/22/152153d6eb222ee7a56ff8617d80ee5207207a8c00a7aab794\n",
            "Successfully built pathtools\n",
            "Installing collected packages: pathtools, smmap, setproctitle, sentry-sdk, docker-pycreds, gitdb, GitPython, wandb\n",
            "Successfully installed GitPython-3.1.31 docker-pycreds-0.4.0 gitdb-4.0.10 pathtools-0.1.2 sentry-sdk-1.23.1 setproctitle-1.3.2 smmap-5.0.0 wandb-0.15.3\n"
          ]
        }
      ],
      "source": [
        "!pip install wandb"
      ]
    },
    {
      "cell_type": "code",
      "source": [
        "!wandb login"
      ],
      "metadata": {
        "colab": {
          "base_uri": "https://localhost:8080/"
        },
        "id": "TmxnyKlHFE1D",
        "outputId": "1378a41a-7ae2-476b-f696-53da2387e9ad"
      },
      "execution_count": 76,
      "outputs": [
        {
          "output_type": "stream",
          "name": "stdout",
          "text": [
            "\u001b[34m\u001b[1mwandb\u001b[0m: Logging into wandb.ai. (Learn how to deploy a W&B server locally: https://wandb.me/wandb-server)\n",
            "\u001b[34m\u001b[1mwandb\u001b[0m: You can find your API key in your browser here: https://wandb.ai/authorize\n",
            "\u001b[34m\u001b[1mwandb\u001b[0m: Paste an API key from your profile and hit enter, or press ctrl+c to quit: \n",
            "\u001b[34m\u001b[1mwandb\u001b[0m: Appending key for api.wandb.ai to your netrc file: /root/.netrc\n"
          ]
        }
      ]
    },
    {
      "cell_type": "code",
      "source": [
        "import wandb\n",
        "\n",
        "# start a new wandb run to track this script\n",
        "wandb.init(\n",
        "    # set the wandb project where this run will be logged\n",
        "    project=\"hse-hw2-cnn\",\n",
        "    \n",
        "    # track hyperparameters and run metadata\n",
        "    config={\n",
        "    \"architecture\": \"CNN\",\n",
        "    \"dataset\": \"CIFAR-10\",\n",
        "    \"epochs\": 20,\n",
        "    }\n",
        ")"
      ],
      "metadata": {
        "colab": {
          "base_uri": "https://localhost:8080/",
          "height": 144
        },
        "id": "zFOSngfbFfT_",
        "outputId": "b8a22485-ddc4-4da1-9c6b-79afcf8258e9"
      },
      "execution_count": 77,
      "outputs": [
        {
          "output_type": "stream",
          "name": "stderr",
          "text": [
            "\u001b[34m\u001b[1mwandb\u001b[0m: Currently logged in as: \u001b[33mdakulikov2001\u001b[0m (\u001b[33mkulikov\u001b[0m). Use \u001b[1m`wandb login --relogin`\u001b[0m to force relogin\n"
          ]
        },
        {
          "output_type": "display_data",
          "data": {
            "text/plain": [
              "<IPython.core.display.HTML object>"
            ],
            "text/html": [
              "Tracking run with wandb version 0.15.3"
            ]
          },
          "metadata": {}
        },
        {
          "output_type": "display_data",
          "data": {
            "text/plain": [
              "<IPython.core.display.HTML object>"
            ],
            "text/html": [
              "Run data is saved locally in <code>/content/wandb/run-20230520_213546-bei8nf1v</code>"
            ]
          },
          "metadata": {}
        },
        {
          "output_type": "display_data",
          "data": {
            "text/plain": [
              "<IPython.core.display.HTML object>"
            ],
            "text/html": [
              "Syncing run <strong><a href='https://wandb.ai/kulikov/hse-hw2-cnn/runs/bei8nf1v' target=\"_blank\">worldly-plant-1</a></strong> to <a href='https://wandb.ai/kulikov/hse-hw2-cnn' target=\"_blank\">Weights & Biases</a> (<a href='https://wandb.me/run' target=\"_blank\">docs</a>)<br/>"
            ]
          },
          "metadata": {}
        },
        {
          "output_type": "display_data",
          "data": {
            "text/plain": [
              "<IPython.core.display.HTML object>"
            ],
            "text/html": [
              " View project at <a href='https://wandb.ai/kulikov/hse-hw2-cnn' target=\"_blank\">https://wandb.ai/kulikov/hse-hw2-cnn</a>"
            ]
          },
          "metadata": {}
        },
        {
          "output_type": "display_data",
          "data": {
            "text/plain": [
              "<IPython.core.display.HTML object>"
            ],
            "text/html": [
              " View run at <a href='https://wandb.ai/kulikov/hse-hw2-cnn/runs/bei8nf1v' target=\"_blank\">https://wandb.ai/kulikov/hse-hw2-cnn/runs/bei8nf1v</a>"
            ]
          },
          "metadata": {}
        },
        {
          "output_type": "execute_result",
          "data": {
            "text/html": [
              "<button onClick=\"this.nextSibling.style.display='block';this.style.display='none';\">Display W&B run</button><iframe src='https://wandb.ai/kulikov/hse-hw2-cnn/runs/bei8nf1v?jupyter=true' style='border:none;width:100%;height:420px;display:none;'></iframe>"
            ],
            "text/plain": [
              "<wandb.sdk.wandb_run.Run at 0x7ffa719a9780>"
            ]
          },
          "metadata": {},
          "execution_count": 77
        }
      ]
    },
    {
      "cell_type": "code",
      "source": [
        "def train_epoch(model, optimizer, criterion, train_loader):\n",
        "    loss_log = []\n",
        "    acc_log = []\n",
        "    model.train()\n",
        "    \n",
        "    for data, target in train_loader:\n",
        "        data = data.to(device)\n",
        "        target = target.to(device)\n",
        "        \n",
        "        optimizer.zero_grad()\n",
        "        logits = model(data)\n",
        "        loss = criterion(logits, target)\n",
        "        loss.backward()\n",
        "        optimizer.step()\n",
        "        \n",
        "        train_loss = loss.item() * data.shape[0]\n",
        "        loss_log.append(train_loss)\n",
        "        \n",
        "        acc = (logits.argmax(dim=1) == target).sum()\n",
        "\n",
        "        train_acc = acc.item() / data.shape[0]\n",
        "        acc_log.append(train_acc)  \n",
        "\n",
        "        wandb.log({'train loss': train_loss,\n",
        "                   'train accuracy': train_acc})\n",
        "\n",
        "    return loss_log, acc_log\n",
        "\n",
        "def train_with_wandb(model, optimizer, criterion, n_epochs, train_loader, val_loader, scheduler=None):\n",
        "    for epoch in range(n_epochs):\n",
        "        train_loss, train_acc = train_epoch(model, optimizer, criterion, train_loader)\n",
        "        val_loss, val_acc = test(model, criterion, val_loader)\n",
        "    \n",
        "        wandb.log({'val loss': val_loss,\n",
        "                   'val accuracy': val_acc})\n",
        "        \n",
        "\n",
        "        print(f\"Epoch {epoch}\")\n",
        "        print(f\" train loss: {np.mean(train_loss)}, train acc: {np.mean(train_acc)}\")\n",
        "        print(f\" val loss: {val_loss}, val acc: {val_acc}\\n\")\n",
        "        \n",
        "        if scheduler is not None:\n",
        "            scheduler.step()\n"
      ],
      "metadata": {
        "id": "CFWG0mSGF8zt"
      },
      "execution_count": 92,
      "outputs": []
    },
    {
      "cell_type": "code",
      "source": [
        "transform = transforms.Compose(\n",
        "        [transforms.ToTensor(),\n",
        "         transforms.Normalize((0.5, 0.5, 0.5), (0.5, 0.5, 0.5))]\n",
        ")\n",
        "\n",
        "train_loader, val_loader, test_loader = get_cifar10_data(batch_size=64, \n",
        "                                                         transform_train=transform)\n",
        "\n",
        "net = BasicBlockNet().to(device)\n",
        "optimizer = optim.SGD(net.parameters(), lr=0.1, momentum=0.9)\n",
        "criterion = nn.CrossEntropyLoss()"
      ],
      "metadata": {
        "id": "DhFscbPPHd3l",
        "outputId": "d44e68e6-fd15-4aaa-9638-0e987c50ac38",
        "colab": {
          "base_uri": "https://localhost:8080/"
        }
      },
      "execution_count": 93,
      "outputs": [
        {
          "output_type": "stream",
          "name": "stdout",
          "text": [
            "Files already downloaded and verified\n",
            "Files already downloaded and verified\n"
          ]
        }
      ]
    },
    {
      "cell_type": "code",
      "source": [
        "train_with_wandb(net, optimizer, criterion, n_epochs, train_loader, val_loader)"
      ],
      "metadata": {
        "id": "loIgQ8RSILi_",
        "outputId": "8f599413-7fc1-4590-e06e-64cc69f3b279",
        "colab": {
          "base_uri": "https://localhost:8080/"
        }
      },
      "execution_count": 94,
      "outputs": [
        {
          "output_type": "stream",
          "name": "stdout",
          "text": [
            "Epoch 0\n",
            " train loss: 95.97438312579335, train acc: 0.4660689801514756\n",
            " val loss: 81.32162064491435, val acc: 0.5443705673758865\n",
            "\n",
            "Epoch 1\n",
            " train loss: 75.985985208473, train acc: 0.5814752546356751\n",
            " val loss: 72.0755646523009, val acc: 0.6055629432624114\n",
            "\n",
            "Epoch 2\n",
            " train loss: 67.89104943040084, train acc: 0.6313618111778533\n",
            " val loss: 66.90734982794903, val acc: 0.6384751773049646\n",
            "\n",
            "Epoch 3\n",
            " train loss: 63.75552443656015, train acc: 0.6541974079394097\n",
            " val loss: 62.35751549741055, val acc: 0.6612367021276596\n",
            "\n",
            "Epoch 4\n",
            " train loss: 60.76678822986386, train acc: 0.668267661269261\n",
            " val loss: 66.20841221505023, val acc: 0.6385195035460992\n",
            "\n",
            "Epoch 5\n",
            " train loss: 58.88769071150087, train acc: 0.6774451553930531\n",
            " val loss: 62.54577148112845, val acc: 0.6565602836879434\n",
            "\n",
            "Epoch 6\n",
            " train loss: 57.47895459239618, train acc: 0.6861084813267171\n",
            " val loss: 61.94656634635113, val acc: 0.6621675531914893\n",
            "\n",
            "Epoch 7\n",
            " train loss: 56.41811821360475, train acc: 0.6937761164794986\n",
            " val loss: 58.015969751236284, val acc: 0.6857269503546098\n",
            "\n",
            "Epoch 8\n",
            " train loss: 55.50610465846506, train acc: 0.6976405393053017\n",
            " val loss: 59.157044461432925, val acc: 0.6846631205673758\n",
            "\n",
            "Epoch 9\n",
            " train loss: 53.78990303576538, train acc: 0.7064385283363802\n",
            " val loss: 58.19629218324702, val acc: 0.6868794326241136\n",
            "\n",
            "Epoch 10\n",
            " train loss: 52.78970285656247, train acc: 0.7143061177853226\n",
            " val loss: 60.269814757083324, val acc: 0.673825354609929\n",
            "\n",
            "Epoch 11\n",
            " train loss: 52.371573004469795, train acc: 0.714861092974667\n",
            " val loss: 56.95550059460579, val acc: 0.6903147163120567\n",
            "\n",
            "Epoch 12\n",
            " train loss: 51.56579912210078, train acc: 0.7179297793157482\n",
            " val loss: 55.02689492651757, val acc: 0.7036125886524822\n",
            "\n",
            "Epoch 13\n",
            " train loss: 50.75059148729174, train acc: 0.7260340493601463\n",
            " val loss: 55.725498818336646, val acc: 0.7020833333333333\n",
            "\n",
            "Epoch 14\n",
            " train loss: 50.14391244351319, train acc: 0.7281845782188561\n",
            " val loss: 55.344487050239074, val acc: 0.7015292553191489\n",
            "\n",
            "Epoch 15\n",
            " train loss: 49.664853015809, train acc: 0.7310043418647166\n",
            " val loss: 53.784007155641596, val acc: 0.7089317375886524\n",
            "\n",
            "Epoch 16\n",
            " train loss: 49.011976341442825, train acc: 0.7347585857926352\n",
            " val loss: 65.12290859425322, val acc: 0.6487367021276595\n",
            "\n",
            "Epoch 17\n",
            " train loss: 48.429208221121726, train acc: 0.7373539109428049\n",
            " val loss: 53.761929246212574, val acc: 0.7141179078014184\n",
            "\n",
            "Epoch 18\n",
            " train loss: 48.0917095240117, train acc: 0.7392473557064507\n",
            " val loss: 54.614495626409, val acc: 0.7081781914893617\n",
            "\n",
            "Epoch 19\n",
            " train loss: 47.57193790101046, train acc: 0.7428546944371899\n",
            " val loss: 53.19299269534172, val acc: 0.7125886524822694\n",
            "\n"
          ]
        }
      ]
    },
    {
      "cell_type": "markdown",
      "source": [
        "[график accuracy](https://api.wandb.ai/links/kulikov/ck1ru05q)\n"
      ],
      "metadata": {
        "id": "zYKqf4h1VzTj"
      }
    },
    {
      "cell_type": "markdown",
      "source": [
        "[график loss](https://api.wandb.ai/links/kulikov/hp5qh8a3)"
      ],
      "metadata": {
        "id": "sUh-MrTfWLD6"
      }
    }
  ],
  "metadata": {
    "accelerator": "GPU",
    "colab": {
      "provenance": [],
      "gpuType": "T4"
    },
    "kernelspec": {
      "display_name": "Python 3 (ipykernel)",
      "language": "python",
      "name": "python3"
    },
    "language_info": {
      "codemirror_mode": {
        "name": "ipython",
        "version": 3
      },
      "file_extension": ".py",
      "mimetype": "text/x-python",
      "name": "python",
      "nbconvert_exporter": "python",
      "pygments_lexer": "ipython3",
      "version": "3.10.4"
    },
    "gpuClass": "standard"
  },
  "nbformat": 4,
  "nbformat_minor": 0
}